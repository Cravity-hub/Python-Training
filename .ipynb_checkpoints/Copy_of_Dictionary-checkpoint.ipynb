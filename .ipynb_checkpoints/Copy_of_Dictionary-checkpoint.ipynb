{
 "cells": [
  {
   "cell_type": "markdown",
   "id": "67e9ecee",
   "metadata": {
    "id": "67e9ecee"
   },
   "source": [
    "## Dictionary\n",
    "\n",
    "Dictionaries are used to store data values in key:value pairs.\n",
    "\n",
    "A dictionary is a collection which is **ordered***, **changeable** and do not allow **duplicates**.\n",
    "\n",
    "A dictionary can be compared to a list, but nstead of being indexed numerically like a list, dictionaries have keys. \n",
    "\n",
    "Dictionaries use keys and are unordered, they do not support indexing or slicing.These keys are the keys that are used to access values within a dictionary.\n",
    "\n",
    "It represented by a curly bracket."
   ]
  },
  {
   "cell_type": "markdown",
   "id": "9X6XK9G4UCeC",
   "metadata": {
    "id": "9X6XK9G4UCeC"
   },
   "source": [
    "## Ordered or Unordered?\n",
    "When we say that dictionaries are ordered, it means that the items have a defined order, and that order will not change.\n",
    "\n",
    "Unordered means that the items does not have a defined order, you cannot refer to an item by using an index.\n",
    "\n"
   ]
  },
  {
   "cell_type": "markdown",
   "id": "O649bCe1WTr5",
   "metadata": {
    "id": "O649bCe1WTr5"
   },
   "source": [
    "## Creating a Dictionary\n",
    "\n",
    "The first way is by using a set of curly braces, {}, and the second way is by using the built-in dict() function."
   ]
  },
  {
   "cell_type": "markdown",
   "id": "huYEr8dQYAdC",
   "metadata": {
    "id": "huYEr8dQYAdC"
   },
   "source": [
    "### To Create An Empty Dictionary in Python\n",
    "To create an empty dictionary, first create a variable name which will be the name of the dictionary.\n",
    "\n",
    "Then, assign the variable to an empty set of curly braces, {}.\n",
    "\n",
    "Another way is to use the dict() constructor without any argument. "
   ]
  },
  {
   "cell_type": "code",
   "execution_count": 4,
   "id": "-v3vX83hYbnT",
   "metadata": {
    "id": "-v3vX83hYbnT"
   },
   "outputs": [],
   "source": [
    "#creating dictionary with empty curly brackets {}\n",
    "empty_dict_1 = {}\n",
    "\n",
    "#creating dictionary with dict() constructor without argument\n",
    "empty_dict_2 = dict()\n"
   ]
  },
  {
   "cell_type": "code",
   "execution_count": 5,
   "id": "1545518a",
   "metadata": {},
   "outputs": [
    {
     "data": {
      "text/plain": [
       "set"
      ]
     },
     "execution_count": 5,
     "metadata": {},
     "output_type": "execute_result"
    }
   ],
   "source": [
    "type(empty_dict_1)"
   ]
  },
  {
   "cell_type": "markdown",
   "id": "JqhGYGmUZRGJ",
   "metadata": {
    "id": "JqhGYGmUZRGJ"
   },
   "source": [
    "### To Create A Dictionary With Items in Python\n",
    "To create a dictionary with items, you need to include key-value pairs inside the curly braces.\n",
    "\n",
    "The general syntax for this is the following:\n",
    "\n",
    "dictionary_name = {key: value}"
   ]
  },
  {
   "cell_type": "code",
   "execution_count": 1,
   "id": "a7fdf179",
   "metadata": {
    "colab": {
     "base_uri": "https://localhost:8080/"
    },
    "id": "a7fdf179",
    "outputId": "fe2e0e5c-dca0-43f0-d620-a5bd20dd3ea5"
   },
   "outputs": [
    {
     "data": {
      "text/plain": [
       "{'key1': 'Value1',\n",
       " 'key2': 'Value2',\n",
       " 'key3': 'Value3',\n",
       " 'key4': 'Value4',\n",
       " 'key5': 'Value5',\n",
       " 6: 6,\n",
       " 1: 7}"
      ]
     },
     "execution_count": 1,
     "metadata": {},
     "output_type": "execute_result"
    }
   ],
   "source": [
    "dict_1 = {\"key1\":\"Value1\",\"key2\":\"Value2\",\"key3\":\"Value3\",\"key4\":\"Value4\",\"key5\":\"Value5\",6:6,1:7}\n",
    "dict_1"
   ]
  },
  {
   "cell_type": "code",
   "execution_count": 7,
   "id": "sd2sHLenmBJu",
   "metadata": {
    "id": "sd2sHLenmBJu"
   },
   "outputs": [],
   "source": [
    "#countries and thier capitals dict\n",
    "\n",
    "country_dict = {\"nigeria\":\"abuja\", \"ghana\":\"accra\", \n",
    "                \"kenya\":\"nairobi\", \"egypt\":\"cairo\", \n",
    "                \"cameroon\":\"kampala\", \"poland\":\"warsaw\"\n",
    "               \"rwanda\":\"kigali\"}"
   ]
  },
  {
   "cell_type": "markdown",
   "id": "18ad8212",
   "metadata": {
    "id": "18ad8212"
   },
   "source": [
    "Keys can be String, Integer ,float or tuple"
   ]
  },
  {
   "cell_type": "code",
   "execution_count": 9,
   "id": "gIpKny39oELA",
   "metadata": {
    "colab": {
     "base_uri": "https://localhost:8080/"
    },
    "id": "gIpKny39oELA",
    "outputId": "63173c28-8c9d-4260-ac93-0bc27845429d"
   },
   "outputs": [
    {
     "data": {
      "text/plain": [
       "{'john': 50,\n",
       " 200: ['sam', 'lan', 'kim'],\n",
       " ('jan', 2022): {'bonus', 'expenses', 'salary'}}"
      ]
     },
     "execution_count": 9,
     "metadata": {},
     "output_type": "execute_result"
    }
   ],
   "source": [
    "key_check   = {\n",
    "              \"john\":50, \n",
    "               200:[\"sam\", \"lan\", \"kim\"], \n",
    "               (\"jan\", 2022): {\"salary\", \"expenses\", \"bonus\"}\n",
    "               }\n",
    "\n",
    "key_check\n"
   ]
  },
  {
   "cell_type": "markdown",
   "id": "houTluCveNdF",
   "metadata": {
    "id": "houTluCveNdF"
   },
   "source": [
    "# Dictionary Methods"
   ]
  },
  {
   "cell_type": "markdown",
   "id": "Cgux-Acxc6X6",
   "metadata": {
    "id": "Cgux-Acxc6X6"
   },
   "source": [
    "## Accessing Items\n",
    "You can access the items of a dictionary by referring to its key name, inside square brackets:"
   ]
  },
  {
   "cell_type": "code",
   "execution_count": 10,
   "id": "6a0f9380",
   "metadata": {
    "colab": {
     "base_uri": "https://localhost:8080/",
     "height": 35
    },
    "id": "6a0f9380",
    "outputId": "4bf9309e-7384-4ec3-b0cf-64248a3ff135"
   },
   "outputs": [
    {
     "data": {
      "text/plain": [
       "'Value1'"
      ]
     },
     "execution_count": 10,
     "metadata": {},
     "output_type": "execute_result"
    }
   ],
   "source": [
    "#To access the value of a key:\n",
    "\n",
    "dict_1[\"key1\"]"
   ]
  },
  {
   "cell_type": "code",
   "execution_count": 11,
   "id": "YpUgG6L5qfnQ",
   "metadata": {
    "colab": {
     "base_uri": "https://localhost:8080/",
     "height": 35
    },
    "id": "YpUgG6L5qfnQ",
    "outputId": "49a6f951-ead3-47ff-af45-ebb3700a9041"
   },
   "outputs": [
    {
     "data": {
      "text/plain": [
       "'accra'"
      ]
     },
     "execution_count": 11,
     "metadata": {},
     "output_type": "execute_result"
    }
   ],
   "source": [
    "country_dict[\"ghana\"]"
   ]
  },
  {
   "cell_type": "code",
   "execution_count": 12,
   "id": "94528ac6",
   "metadata": {
    "colab": {
     "base_uri": "https://localhost:8080/"
    },
    "id": "94528ac6",
    "outputId": "51adec92-cce0-4128-dedc-0c2fea8625f6"
   },
   "outputs": [
    {
     "data": {
      "text/plain": [
       "{'key1': 'Value1',\n",
       " 'key2': 'chemistry',\n",
       " 'key3': 'Value3',\n",
       " 'key4': 'Value4',\n",
       " 'key5': 'Value5',\n",
       " 6: 6,\n",
       " 7.1: 7}"
      ]
     },
     "execution_count": 12,
     "metadata": {},
     "output_type": "execute_result"
    }
   ],
   "source": [
    "#We can re-assign the value of a key\n",
    "dict_1[\"key2\"]=\"chemistry\"\n",
    "dict_1"
   ]
  },
  {
   "cell_type": "code",
   "execution_count": 13,
   "id": "pG_O_Zu1rhR1",
   "metadata": {
    "colab": {
     "base_uri": "https://localhost:8080/"
    },
    "id": "pG_O_Zu1rhR1",
    "outputId": "9cd78b6c-a00e-4ee4-fc94-5a8ca9a5444e"
   },
   "outputs": [
    {
     "name": "stdout",
     "output_type": "stream",
     "text": [
      "{'nigeria': 'abuja', 'ghana': 'accra', 'kenya': 'nairobi', 'egypt': 'cairo', 'cameroon': 'yaounde', 'poland': 'warsaw'}\n"
     ]
    }
   ],
   "source": [
    "country_dict[\"cameroon\"] = \"yaounde\"\n",
    "print(country_dict)"
   ]
  },
  {
   "cell_type": "code",
   "execution_count": 20,
   "id": "c83a3d54",
   "metadata": {},
   "outputs": [
    {
     "data": {
      "text/plain": [
       "{'key1': 'Value1',\n",
       " 'key2': 'chemistry',\n",
       " 'key3': 'Value3',\n",
       " 'key4': 'Value4',\n",
       " 'key5': 'Value5',\n",
       " 6: 6,\n",
       " 7.1: 7,\n",
       " 'key6': 'Value6'}"
      ]
     },
     "execution_count": 20,
     "metadata": {},
     "output_type": "execute_result"
    }
   ],
   "source": [
    "dict_1['key6'] ='Value6'\n",
    "\n",
    "dict_1"
   ]
  },
  {
   "cell_type": "markdown",
   "id": "8b9faae6",
   "metadata": {
    "id": "8b9faae6"
   },
   "source": [
    "#### keys()\n",
    "The key method helps you to retrieve the keys in a dictionary."
   ]
  },
  {
   "cell_type": "code",
   "execution_count": 21,
   "id": "c4c56fdf",
   "metadata": {
    "colab": {
     "base_uri": "https://localhost:8080/"
    },
    "id": "c4c56fdf",
    "outputId": "110eeaec-14ba-4468-ff52-101fd90a9a01"
   },
   "outputs": [
    {
     "data": {
      "text/plain": [
       "dict_keys(['key1', 'key2', 'key3', 'key4', 'key5', 6, 7.1, 'key6'])"
      ]
     },
     "execution_count": 21,
     "metadata": {},
     "output_type": "execute_result"
    }
   ],
   "source": [
    "dict_1.keys()"
   ]
  },
  {
   "cell_type": "code",
   "execution_count": 25,
   "id": "f39bc8a9",
   "metadata": {},
   "outputs": [
    {
     "data": {
      "text/plain": [
       "dict_values(['abuja', 'accra', 'nairobi', 'cairo', 'yaounde', 'warsaw'])"
      ]
     },
     "execution_count": 25,
     "metadata": {},
     "output_type": "execute_result"
    }
   ],
   "source": []
  },
  {
   "cell_type": "code",
   "execution_count": 23,
   "id": "Qv7j4TdEtxct",
   "metadata": {
    "colab": {
     "base_uri": "https://localhost:8080/"
    },
    "id": "Qv7j4TdEtxct",
    "outputId": "48ae0b3e-88df-4e78-e839-29a6c2ac3958"
   },
   "outputs": [
    {
     "name": "stdout",
     "output_type": "stream",
     "text": [
      "I am from  Nigeria\n",
      "I am from  Ghana\n",
      "I am from  Kenya\n",
      "I am from  Egypt\n",
      "I am from  Cameroon\n",
      "I am from  Poland\n"
     ]
    }
   ],
   "source": [
    "for key in country_dict.keys():\n",
    "  print(\"I am from \", key.capitalize())"
   ]
  },
  {
   "cell_type": "markdown",
   "id": "hKBt7cZabks7",
   "metadata": {
    "id": "hKBt7cZabks7"
   },
   "source": [
    "#### Dictionary Length and Type \n",
    "\n",
    "To determine how many items a dictionary has, use the len() function:\n",
    "\n",
    "From Python's perspective, dictionaries are defined as objects with the data type 'dict':"
   ]
  },
  {
   "cell_type": "code",
   "execution_count": 26,
   "id": "syqT_0HBbjXM",
   "metadata": {
    "colab": {
     "base_uri": "https://localhost:8080/",
     "height": 201
    },
    "id": "syqT_0HBbjXM",
    "outputId": "23f58ee3-e1c2-4152-8b97-6a5b471197b2"
   },
   "outputs": [
    {
     "name": "stdout",
     "output_type": "stream",
     "text": [
      "8\n",
      "<class 'set'>\n"
     ]
    }
   ],
   "source": [
    "print(len(dict_1))\n",
    "print(type(empty_dict_1))"
   ]
  },
  {
   "cell_type": "markdown",
   "id": "7eda1863",
   "metadata": {
    "id": "7eda1863"
   },
   "source": [
    "#### values()\n",
    "To retrieve all the values in a dictionary, we use this method"
   ]
  },
  {
   "cell_type": "code",
   "execution_count": null,
   "id": "c9feb9f4",
   "metadata": {
    "colab": {
     "base_uri": "https://localhost:8080/"
    },
    "id": "c9feb9f4",
    "outputId": "943d535c-5fa0-4228-9d0d-f26083f364f1"
   },
   "outputs": [
    {
     "data": {
      "text/plain": [
       "dict_values(['Value1', 'Value2', 'Value3', 'Value4', 'Value5', 6, 7])"
      ]
     },
     "execution_count": 12,
     "metadata": {},
     "output_type": "execute_result"
    }
   ],
   "source": [
    "dict_1.values()"
   ]
  },
  {
   "cell_type": "code",
   "execution_count": 31,
   "id": "c07aaed6",
   "metadata": {},
   "outputs": [
    {
     "data": {
      "text/plain": [
       "{'nigeria': 'abuja',\n",
       " 'ghana': 'accra',\n",
       " 'kenya': 'nairobi',\n",
       " 'egypt': 'cairo',\n",
       " 'cameroon': 'yaounde',\n",
       " 'poland': 'warsaw'}"
      ]
     },
     "execution_count": 31,
     "metadata": {},
     "output_type": "execute_result"
    }
   ],
   "source": [
    "country_dict"
   ]
  },
  {
   "cell_type": "code",
   "execution_count": 32,
   "id": "af07b3hD6PyY",
   "metadata": {
    "colab": {
     "base_uri": "https://localhost:8080/"
    },
    "id": "af07b3hD6PyY",
    "outputId": "04bfa1c1-9441-49f0-f1d6-dd6ac8d0331d"
   },
   "outputs": [
    {
     "name": "stdout",
     "output_type": "stream",
     "text": [
      "The capital of Nigeria is Abuja \n",
      "The capital of Ghana is Accra \n",
      "The capital of Kenya is Nairobi \n",
      "The capital of Egypt is Cairo \n",
      "The capital of Cameroon is Yaounde \n",
      "The capital of Poland is Warsaw \n"
     ]
    }
   ],
   "source": [
    "for sip in country_dict:\n",
    "  print(\"The capital of {} is {} \".format(sip.capitalize(), country_dict[sip].capitalize()))"
   ]
  },
  {
   "cell_type": "code",
   "execution_count": 33,
   "id": "ea8891ad",
   "metadata": {},
   "outputs": [
    {
     "name": "stdout",
     "output_type": "stream",
     "text": [
      "nigeria\n",
      "ghana\n",
      "kenya\n",
      "egypt\n",
      "cameroon\n",
      "poland\n"
     ]
    }
   ],
   "source": [
    "for sip in country_dict:\n",
    "    print(sip)"
   ]
  },
  {
   "cell_type": "code",
   "execution_count": 40,
   "id": "399dfe77",
   "metadata": {},
   "outputs": [
    {
     "name": "stdout",
     "output_type": "stream",
     "text": [
      "abu\n",
      "acc\n",
      "nai\n",
      "cai\n",
      "yao\n",
      "war\n"
     ]
    }
   ],
   "source": [
    "for sip in country_dict:\n",
    "    print(sip[:3])"
   ]
  },
  {
   "cell_type": "code",
   "execution_count": null,
   "id": "FuZExWyepMpj",
   "metadata": {
    "colab": {
     "base_uri": "https://localhost:8080/"
    },
    "id": "FuZExWyepMpj",
    "outputId": "4c1d5403-38b3-457c-b58b-b36c60535e1a"
   },
   "outputs": [
    {
     "name": "stdout",
     "output_type": "stream",
     "text": [
      "nigeria abuja\n",
      "ghana accra\n",
      "kenya nairobi\n",
      "egypt cairo\n",
      "cameroon yaounde\n",
      "poland warsaw\n"
     ]
    }
   ],
   "source": [
    "for key,val in country_dict.items():\n",
    "  print(key, val)"
   ]
  },
  {
   "cell_type": "code",
   "execution_count": 42,
   "id": "5b7c5deb",
   "metadata": {},
   "outputs": [
    {
     "name": "stdout",
     "output_type": "stream",
     "text": [
      "The capital of Nigeria is Abuja \n",
      "The capital of Ghana is Accra \n",
      "The capital of Kenya is Nairobi \n",
      "The capital of Egypt is Cairo \n",
      "The capital of Cameroon is Yaounde \n",
      "The capital of Poland is Warsaw \n"
     ]
    }
   ],
   "source": [
    "for key,val in country_dict.items():\n",
    "    print(\"The capital of {} is {} \".format(key.capitalize(), val.capitalize()))"
   ]
  },
  {
   "cell_type": "markdown",
   "id": "df7b6cb0",
   "metadata": {
    "id": "df7b6cb0"
   },
   "source": [
    "#### items()\n",
    "Returns a list of the items in the dictionary, in form of a tuple containing the (key,value)"
   ]
  },
  {
   "cell_type": "code",
   "execution_count": null,
   "id": "1f737e77",
   "metadata": {
    "colab": {
     "base_uri": "https://localhost:8080/"
    },
    "id": "1f737e77",
    "outputId": "7b3e126c-e347-4fd7-dba2-35eee25cc148"
   },
   "outputs": [
    {
     "name": "stdout",
     "output_type": "stream",
     "text": [
      "dict_items([('key1', 'Value1'), ('key2', 'chemistry'), ('key3', 'Value3'), ('key4', 'Value4'), ('key5', 'Value5'), (6, 6), (7.1, 7), ('key9', 'value5')])\n",
      "dict_items([('nigeria', 'abuja'), ('ghana', 'accra'), ('kenya', 'nairobi'), ('egypt', 'cairo'), ('cameroon', 'yaounde'), ('poland', 'warsaw')])\n"
     ]
    }
   ],
   "source": [
    "print(dict_1.items())\n",
    "print(Country_dict.items())"
   ]
  },
  {
   "cell_type": "code",
   "execution_count": null,
   "id": "06f6b33d",
   "metadata": {
    "id": "06f6b33d",
    "outputId": "ef59f405-8981-43e7-d123-7736941ee8a5"
   },
   "outputs": [
    {
     "name": "stdout",
     "output_type": "stream",
     "text": [
      "{'key2': 'chemistry', 'key4': 'Value4', 'key5': 'Value5', 6: 6, 7.1: 7, 'key8': 'Value8'}\n"
     ]
    }
   ],
   "source": [
    "# To add entry to a dictionary\n",
    "Dict_1[\"key8\"]=\"Value8\"\n",
    "print(Dict_1)"
   ]
  },
  {
   "cell_type": "markdown",
   "id": "2d25657a",
   "metadata": {},
   "source": [
    "### To check for items in our dictionary"
   ]
  },
  {
   "cell_type": "code",
   "execution_count": 47,
   "id": "956f6452",
   "metadata": {},
   "outputs": [
    {
     "data": {
      "text/plain": [
       "True"
      ]
     },
     "execution_count": 47,
     "metadata": {},
     "output_type": "execute_result"
    }
   ],
   "source": [
    "\"nigeria\"  in country_dict"
   ]
  },
  {
   "cell_type": "code",
   "execution_count": 45,
   "id": "906e3bc2",
   "metadata": {
    "id": "906e3bc2",
    "outputId": "75d3cbbf-4c28-4520-e320-f629dce90213"
   },
   "outputs": [
    {
     "data": {
      "text/plain": [
       "True"
      ]
     },
     "execution_count": 45,
     "metadata": {},
     "output_type": "execute_result"
    }
   ],
   "source": [
    "# we can check if an element is in the dictionary\n",
    "\n",
    "\"accra\" in country_dict.values()"
   ]
  },
  {
   "cell_type": "markdown",
   "id": "j2cW6r8eeVwH",
   "metadata": {
    "id": "j2cW6r8eeVwH"
   },
   "source": [
    "## update()\n",
    "The update() method will update the dictionary with the items from the given argument.\n",
    "\n",
    "The argument must be a dictionary, or an iterable object with key:value pairs."
   ]
  },
  {
   "cell_type": "code",
   "execution_count": 51,
   "id": "0Wq_55L_ex5K",
   "metadata": {
    "colab": {
     "base_uri": "https://localhost:8080/"
    },
    "id": "0Wq_55L_ex5K",
    "outputId": "88806e89-3a13-4a02-9cec-f3467846a4c8"
   },
   "outputs": [
    {
     "data": {
      "text/plain": [
       "{'key1': 'Value1',\n",
       " 'key2': 'chemistry',\n",
       " 'key3': 'Value3',\n",
       " 'key4': 'Value4',\n",
       " 'key5': 'Value5',\n",
       " 6: 6,\n",
       " 7.1: 7,\n",
       " 'key6': 'Value6',\n",
       " 'key9': 'value9'}"
      ]
     },
     "execution_count": 51,
     "metadata": {},
     "output_type": "execute_result"
    }
   ],
   "source": [
    "dict_1.update({'key9':'value9'})\n",
    "dict_1"
   ]
  },
  {
   "cell_type": "code",
   "execution_count": 50,
   "id": "OKolqqgj3yaa",
   "metadata": {
    "colab": {
     "base_uri": "https://localhost:8080/"
    },
    "id": "OKolqqgj3yaa",
    "outputId": "6e568f9f-89f8-4ee2-d67a-bba8a1a16bc1"
   },
   "outputs": [
    {
     "data": {
      "text/plain": [
       "{'nigeria': 'abuja',\n",
       " 'ghana': 'accra',\n",
       " 'kenya': 'nairobi',\n",
       " 'egypt': 'cairo',\n",
       " 'cameroon': 'yaounde',\n",
       " 'poland': 'warsaw',\n",
       " 'rwanda': 'kigali',\n",
       " 'togo': 'lome'}"
      ]
     },
     "execution_count": 50,
     "metadata": {},
     "output_type": "execute_result"
    }
   ],
   "source": [
    "country_dict.update({\"rwanda\":\"kigali\", \"togo\":\"lome\"})\n",
    "country_dict"
   ]
  },
  {
   "cell_type": "markdown",
   "id": "814670ca",
   "metadata": {
    "id": "814670ca"
   },
   "source": [
    "#### del \n",
    "To delete a value associated with a key, we use the del operator."
   ]
  },
  {
   "cell_type": "code",
   "execution_count": 61,
   "id": "990c9cef",
   "metadata": {
    "id": "990c9cef",
    "outputId": "ac0e2cb4-3996-4328-8808-936c03735db4"
   },
   "outputs": [
    {
     "name": "stdout",
     "output_type": "stream",
     "text": [
      "{'key1': 'Value1', 'key2': 'chemistry', 'key3': 'Value3', 'key4': 'Value4', 'key5': 'Value5', 6: 6, 7.1: 7, 'key6': 'Value6'}\n"
     ]
    }
   ],
   "source": [
    "del dict_1[\"key9\"]\n",
    "\n",
    "print(dict_1)\n",
    "\n"
   ]
  },
  {
   "cell_type": "code",
   "execution_count": 56,
   "id": "atdxAy_25PFU",
   "metadata": {
    "colab": {
     "base_uri": "https://localhost:8080/"
    },
    "id": "atdxAy_25PFU",
    "outputId": "8cee969a-0a1d-4ab1-9ac9-9c3a34cd91a1"
   },
   "outputs": [
    {
     "name": "stdout",
     "output_type": "stream",
     "text": [
      "{'nigeria': 'abuja', 'ghana': 'accra', 'kenya': 'nairobi', 'egypt': 'cairo', 'cameroon': 'yaounde', 'rwanda': 'kigali', 'togo': 'lome'}\n"
     ]
    }
   ],
   "source": [
    "#del country_dict[\"poland\"]\n",
    "print(country_dict)"
   ]
  },
  {
   "cell_type": "markdown",
   "id": "a6b05221",
   "metadata": {
    "id": "a6b05221"
   },
   "source": [
    "#### Pop\n",
    "The dictionary also has a pop method like list. However, instead of taking in an index as a parameter, the pop method takes in a key. "
   ]
  },
  {
   "cell_type": "code",
   "execution_count": null,
   "id": "407f1253",
   "metadata": {
    "id": "407f1253",
    "outputId": "79ca333c-3dcd-4e67-968c-55b8e3ef8a1e"
   },
   "outputs": [
    {
     "name": "stdout",
     "output_type": "stream",
     "text": [
      "Value3\n"
     ]
    },
    {
     "data": {
      "text/plain": [
       "{'key2': 'chemistry', 'key4': 'Value4', 'key5': 'Value5', 6: 6, 7.1: 7}"
      ]
     },
     "execution_count": 71,
     "metadata": {},
     "output_type": "execute_result"
    }
   ],
   "source": [
    "print(dict_1.pop(\"key3\"))\n",
    "\n",
    "dict_1"
   ]
  },
  {
   "cell_type": "markdown",
   "id": "36c3e388",
   "metadata": {
    "id": "36c3e388"
   },
   "source": [
    "#### for loops and in operator\n",
    "We can access the keys or values using iteration"
   ]
  },
  {
   "cell_type": "code",
   "execution_count": null,
   "id": "7c0463a5",
   "metadata": {
    "colab": {
     "base_uri": "https://localhost:8080/"
    },
    "id": "7c0463a5",
    "outputId": "011eb931-1785-4943-e455-e234f195d984"
   },
   "outputs": [
    {
     "name": "stdout",
     "output_type": "stream",
     "text": [
      "key1\n",
      "key2\n",
      "key3\n",
      "key4\n",
      "key5\n",
      "6\n",
      "7.1\n",
      "key9\n"
     ]
    }
   ],
   "source": [
    "# To access the keys in the dictionary\n",
    "for key in dict_1:\n",
    "    print(key)"
   ]
  },
  {
   "cell_type": "code",
   "execution_count": null,
   "id": "59b16d32",
   "metadata": {
    "id": "59b16d32",
    "outputId": "8b2e5ea2-ac0f-4807-f349-393ebcdcd052"
   },
   "outputs": [
    {
     "name": "stdout",
     "output_type": "stream",
     "text": [
      "chemistry\n",
      "Value4\n",
      "Value5\n",
      "6\n",
      "7\n",
      "Value8\n"
     ]
    }
   ],
   "source": [
    "# To access the values in the dictionary\n",
    "for key in dict_1:\n",
    "    print(Dict_1[key])"
   ]
  },
  {
   "cell_type": "code",
   "execution_count": null,
   "id": "58273ef0",
   "metadata": {
    "colab": {
     "base_uri": "https://localhost:8080/"
    },
    "id": "58273ef0",
    "outputId": "d085305c-0bcf-455b-80a7-324adbfd1991"
   },
   "outputs": [
    {
     "name": "stdout",
     "output_type": "stream",
     "text": [
      "key1 referencing  Value1\n",
      "key2 referencing  chemistry\n",
      "key3 referencing  Value3\n",
      "key4 referencing  Value4\n",
      "key5 referencing  Value5\n",
      "6 referencing  6\n",
      "7.1 referencing  7\n",
      "key9 referencing  value9\n"
     ]
    }
   ],
   "source": [
    "# we combine display both the keys and values\n",
    "for farm in dict_1:\n",
    "    print(farm, \"referencing \", dict_1[farm])"
   ]
  },
  {
   "cell_type": "markdown",
   "id": "do8drgG1fSTl",
   "metadata": {
    "id": "do8drgG1fSTl"
   },
   "source": [
    "## Nested Dictionaries\n",
    "A dictionary can contain dictionaries, this is called nested dictionaries."
   ]
  },
  {
   "cell_type": "code",
   "execution_count": 63,
   "id": "8b7ec3c0",
   "metadata": {
    "id": "8b7ec3c0"
   },
   "outputs": [],
   "source": [
    "#Create a dictionary that contain three dictionaries:\n",
    "myfamily = {\n",
    "  \"child1\" : {\"name\" : \"Emil\",\"year\" : 2004},\n",
    "\n",
    "\n",
    "  \"child2\" : {\"name\" : \"Tobias\",\"year\" : 2007},\n",
    "\n",
    "\n",
    "  \"child3\" : {\"name\" : \"Linus\",\"year\" : 2011}\n",
    "}"
   ]
  },
  {
   "cell_type": "code",
   "execution_count": 64,
   "id": "m6_G9kGJ-VS7",
   "metadata": {
    "colab": {
     "base_uri": "https://localhost:8080/"
    },
    "id": "m6_G9kGJ-VS7",
    "outputId": "55ff3f21-6bc8-441e-fdd0-e6cc4c1b2723"
   },
   "outputs": [
    {
     "data": {
      "text/plain": [
       "{'child1': {'name': 'Emil', 'year': 2004},\n",
       " 'child2': {'name': 'Tobias', 'year': 2007},\n",
       " 'child3': {'name': 'Linus', 'year': 2011}}"
      ]
     },
     "execution_count": 64,
     "metadata": {},
     "output_type": "execute_result"
    }
   ],
   "source": [
    "myfamily"
   ]
  },
  {
   "cell_type": "code",
   "execution_count": 65,
   "id": "Z-bFkfUc-ZCc",
   "metadata": {
    "colab": {
     "base_uri": "https://localhost:8080/",
     "height": 35
    },
    "id": "Z-bFkfUc-ZCc",
    "outputId": "7271f131-5f5a-4cff-8c04-69298fdcbd17"
   },
   "outputs": [
    {
     "data": {
      "text/plain": [
       "'Tobias'"
      ]
     },
     "execution_count": 65,
     "metadata": {},
     "output_type": "execute_result"
    }
   ],
   "source": [
    "myfamily[\"child2\"][\"name\"]"
   ]
  },
  {
   "cell_type": "code",
   "execution_count": 67,
   "id": "dd311b8b",
   "metadata": {},
   "outputs": [],
   "source": [
    "myfamily['child1']['weight'] = 50.6\n",
    "myfamily['child2']['weight'] = 45\n",
    "myfamily['child3']['weight'] = 49"
   ]
  },
  {
   "cell_type": "code",
   "execution_count": 68,
   "id": "ybI-QZ5i-117",
   "metadata": {
    "id": "ybI-QZ5i-117"
   },
   "outputs": [
    {
     "data": {
      "text/plain": [
       "{'child1': {'name': 'Emil', 'year': 2004, 'weight': 50.6},\n",
       " 'child2': {'name': 'Tobias', 'year': 2007, 'weight': 45},\n",
       " 'child3': {'name': 'Linus', 'year': 2011, 'weight': 49}}"
      ]
     },
     "execution_count": 68,
     "metadata": {},
     "output_type": "execute_result"
    }
   ],
   "source": [
    "myfamily"
   ]
  },
  {
   "cell_type": "markdown",
   "id": "f286c110",
   "metadata": {},
   "source": [
    "### Class Activity 1\n",
    "1. Create a dictionary called salary for ten employees\n",
    "2. Apply a 10% bonus to all employees' salary\n",
    "3. Print the employees' name and salary"
   ]
  },
  {
   "cell_type": "markdown",
   "id": "33980ab6",
   "metadata": {},
   "source": [
    "### Class Activity 2\n",
    "1. Create two lists\n",
    "2. Convert both lists into a dictionary"
   ]
  },
  {
   "cell_type": "markdown",
   "id": "2f3c1c34",
   "metadata": {},
   "source": [
    "### Class Avtivity 3\n",
    "1. Calculate the total salaries for all employees in Activity 1"
   ]
  },
  {
   "cell_type": "markdown",
   "id": "f109121a",
   "metadata": {},
   "source": [
    "### Corrections"
   ]
  },
  {
   "cell_type": "markdown",
   "id": "5cc98c4a",
   "metadata": {},
   "source": [
    "#### Solution for Activity 2"
   ]
  },
  {
   "cell_type": "code",
   "execution_count": 72,
   "id": "29edf89e",
   "metadata": {},
   "outputs": [],
   "source": [
    "lst1 = ['soap', 'toothpaste', 'cornfalkes', 'lotion', 'deodorant']\n",
    "lst2 = [500, 700, 2500, 3500, 2000]\n",
    "\n",
    "new_dict = {}\n",
    "\n",
    "for item, price in zip(lst1, lst2):\n",
    "    new_dict[item] = price\n",
    "    \n",
    "print(new_dict)"
   ]
  },
  {
   "cell_type": "markdown",
   "id": "e892b305",
   "metadata": {},
   "source": [
    "### Or"
   ]
  },
  {
   "cell_type": "code",
   "execution_count": 73,
   "id": "26bd4c67",
   "metadata": {},
   "outputs": [
    {
     "name": "stdout",
     "output_type": "stream",
     "text": [
      "{'soap': 500, 'toothpaste': 700, 'cornfalkes': 2500, 'lotion': 3500, 'deodorant': 2000}\n"
     ]
    }
   ],
   "source": [
    "for item, price in zip(lst1, lst2):\n",
    "    new_dict.update({item:price})\n",
    "    \n",
    "print(new_dict)"
   ]
  },
  {
   "cell_type": "code",
   "execution_count": null,
   "id": "927896a9",
   "metadata": {},
   "outputs": [],
   "source": []
  }
 ],
 "metadata": {
  "colab": {
   "provenance": []
  },
  "kernelspec": {
   "display_name": "Python 3 (ipykernel)",
   "language": "python",
   "name": "python3"
  },
  "language_info": {
   "codemirror_mode": {
    "name": "ipython",
    "version": 3
   },
   "file_extension": ".py",
   "mimetype": "text/x-python",
   "name": "python",
   "nbconvert_exporter": "python",
   "pygments_lexer": "ipython3",
   "version": "3.9.13"
  }
 },
 "nbformat": 4,
 "nbformat_minor": 5
}
