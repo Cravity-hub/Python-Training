{
 "cells": [
  {
   "cell_type": "markdown",
   "id": "9661e151",
   "metadata": {
    "id": "9661e151"
   },
   "source": [
    "### Loop\n",
    "\n",
    "Its a function is python that helps you to perform a repeated function.\n",
    "\n",
    "There are 2 types of Loop:\n",
    "--------------------------------------------------------\n",
    "- for loop\n",
    "- while loop\n",
    "\n",
    "Before we discuss loops lets discuss the range object. \n",
    "\n",
    "#### Range\n",
    "\n",
    "The range is a collection of all the int values given a start, stop, and steps. By default, the start is 0 and the steps incremented is 1. The stop value is not included.\n",
    "    syntax:\n",
    "    range(start,stop,steps)\n",
    "    \n",
    "    \n",
    "### for loop\n",
    "\n",
    "The for loop enables you to execute a code block multiple times.\n",
    "\n",
    "To iterate through a range with a for loop, we start with the keyword for, followed by a variable, typically named i, the in keyword, and the range created using its constructor.\n",
    "\n",
    "Let’s try out the for loop and iterate through a range from 0 to 9 and print out all the values.\n"
   ]
  },
  {
   "cell_type": "code",
   "execution_count": null,
   "id": "115aca50",
   "metadata": {
    "id": "115aca50",
    "outputId": "17c913d6-a635-4d2b-be0a-253cd06f6e09"
   },
   "outputs": [
    {
     "name": "stdout",
     "output_type": "stream",
     "text": [
      "0\n",
      "1\n",
      "2\n",
      "3\n",
      "4\n",
      "5\n",
      "6\n",
      "7\n",
      "8\n",
      "9\n"
     ]
    }
   ],
   "source": [
    "for i in range(0,10,1):\n",
    "    print(i)"
   ]
  },
  {
   "cell_type": "markdown",
   "id": "565a5d82",
   "metadata": {
    "id": "565a5d82"
   },
   "source": [
    "since, by default, start is 0 and step is 1, we can simply do this:"
   ]
  },
  {
   "cell_type": "code",
   "execution_count": null,
   "id": "f133d322",
   "metadata": {
    "id": "f133d322",
    "outputId": "afe048d0-622e-45f7-d33d-2740192143a1"
   },
   "outputs": [
    {
     "name": "stdout",
     "output_type": "stream",
     "text": [
      "0\n",
      "1\n",
      "2\n",
      "3\n",
      "4\n",
      "5\n",
      "6\n",
      "7\n",
      "8\n",
      "9\n"
     ]
    }
   ],
   "source": [
    "for i in range(10):\n",
    "    print(i)"
   ]
  },
  {
   "cell_type": "code",
   "execution_count": null,
   "id": "5ad5a627",
   "metadata": {
    "id": "5ad5a627",
    "outputId": "00a3811b-6fe2-417d-eb0b-b0b737a79836"
   },
   "outputs": [
    {
     "name": "stdout",
     "output_type": "stream",
     "text": [
      "Mathematics\n",
      "English\n",
      "Commerce\n",
      "Chemisty\n"
     ]
    }
   ],
   "source": [
    "# we can iterate through a list\n",
    "subject = [\"Mathematics\",\"English\",\"Commerce\",\"Chemisty\"]\n",
    "\n",
    "for i in range(len(subject)):\n",
    "    print(subject[i])"
   ]
  },
  {
   "cell_type": "code",
   "execution_count": null,
   "id": "0b02a6fb",
   "metadata": {
    "id": "0b02a6fb",
    "outputId": "ead12a76-e742-486f-8afe-e58d0786f007"
   },
   "outputs": [
    {
     "name": "stdout",
     "output_type": "stream",
     "text": [
      "Mathematics\n",
      "English\n",
      "Commerce\n",
      "Chemisty\n"
     ]
    }
   ],
   "source": [
    "# we can also directly access the elements in the list:\n",
    "\n",
    "subjects = [\"Mathematics\",\"English\",\"Commerce\",\"Chemisty\"]\n",
    "for subject in subjects:\n",
    "    print(subject)"
   ]
  },
  {
   "cell_type": "markdown",
   "id": "92ad01c4",
   "metadata": {
    "id": "92ad01c4"
   },
   "source": [
    "We can print our output on a line,The print statement automatically prints to the next line because there is a parameter, end that has the default value '\\n', which is the new line character.To change the end value and have the output be printed in one line separated by space, we can pass in a value for end."
   ]
  },
  {
   "cell_type": "code",
   "execution_count": null,
   "id": "004c634c",
   "metadata": {
    "id": "004c634c",
    "outputId": "892ed84b-07d5-4109-f653-565b0fc9dfb0"
   },
   "outputs": [
    {
     "name": "stdout",
     "output_type": "stream",
     "text": [
      "Mathematics English Commerce Chemisty "
     ]
    }
   ],
   "source": [
    "subjects = [\"Mathematics\",\"English\",\"Commerce\",\"Chemisty\"]\n",
    "for subject in subjects:\n",
    "    print(subject, end = \" \")"
   ]
  },
  {
   "cell_type": "code",
   "execution_count": null,
   "id": "19ee3e72",
   "metadata": {
    "id": "19ee3e72",
    "outputId": "221ec5c2-f28e-4091-d156-a7ca7453a8d4"
   },
   "outputs": [
    {
     "name": "stdout",
     "output_type": "stream",
     "text": [
      "Before Change 0 is Mathematics\n",
      "After Change 0 is Further Mathematics\n",
      "Before Change 1 is English\n",
      "After Change 1 is Further Mathematics\n",
      "Before Change 2 is Commerce\n",
      "After Change 2 is Further Mathematics\n",
      "Before Change 3 is Chemisty\n",
      "After Change 3 is Further Mathematics\n"
     ]
    }
   ],
   "source": [
    "# Use for loop to change the elements in list\n",
    "\n",
    "subjects = [\"Mathematics\",\"English\",\"Commerce\",\"Chemisty\"]\n",
    "\n",
    "for i in range(4):\n",
    "    print(\"Before Change\", i, \"is\", subjects[i])\n",
    "    subjects[i] = \"Further Mathematics\"\n",
    "    print(\"After Change\", i, \"is\", subjects[i])"
   ]
  },
  {
   "cell_type": "code",
   "execution_count": null,
   "id": "007bf64e",
   "metadata": {
    "id": "007bf64e",
    "outputId": "e1e8e66c-347b-4b6a-a237-514fcac5c537"
   },
   "outputs": [
    {
     "name": "stdout",
     "output_type": "stream",
     "text": [
      "0 Mathematics\n",
      "1 English\n",
      "2 Commerce\n",
      "3 Chemisty\n"
     ]
    }
   ],
   "source": [
    "# Loop through the list and iterate on both index and element value\n",
    "subjects = [\"Mathematics\",\"English\",\"Commerce\",\"Chemisty\"]\n",
    "\n",
    "for i, subject in enumerate(subjects):\n",
    "    print(i, subject)"
   ]
  },
  {
   "cell_type": "markdown",
   "id": "e0ba7afd",
   "metadata": {
    "id": "e0ba7afd"
   },
   "source": [
    "Class Activity\n",
    "\n",
    "What happens when you run this program\n",
    "\n",
    "List =[]\n",
    "\n",
    "for i in range(15):\n",
    "    list.append(i)\n",
    "print(list)"
   ]
  },
  {
   "cell_type": "code",
   "execution_count": null,
   "id": "8361f2c1",
   "metadata": {
    "id": "8361f2c1",
    "outputId": "f9191dc5-26ad-4d85-d986-27b04a54c7a9"
   },
   "outputs": [
    {
     "name": "stdout",
     "output_type": "stream",
     "text": [
      "[0, 1, 2, 3, 4, 5, 6, 7, 8, 9, 10, 11, 12, 13, 14]\n"
     ]
    }
   ],
   "source": [
    "list =[]\n",
    "\n",
    "for i in range(15):\n",
    "    list.append(i)\n",
    "print(list)"
   ]
  },
  {
   "cell_type": "code",
   "execution_count": null,
   "id": "fb8b5df3",
   "metadata": {
    "id": "fb8b5df3",
    "outputId": "8ccf7ba2-42aa-4fe3-bd0b-e81d8e59a12a"
   },
   "outputs": [
    {
     "name": "stdout",
     "output_type": "stream",
     "text": [
      "[0, 1, 2, 3, 4, 5, 6, 7, 8, 9]\n"
     ]
    }
   ],
   "source": [
    "int_list = [0, 1, 2, 3, 4, 5, 6, 7, 8, 9]\n",
    "\n",
    "for num in int_list:\n",
    "    num *= 2\n",
    "print(int_list)"
   ]
  },
  {
   "cell_type": "code",
   "execution_count": null,
   "id": "513bcb22",
   "metadata": {
    "id": "513bcb22",
    "outputId": "63d252ba-20e6-4a0a-d9bb-e36d7ccd80cb"
   },
   "outputs": [
    {
     "name": "stdout",
     "output_type": "stream",
     "text": [
      "[0, 2, 4, 6, 8, 10, 12, 14, 16, 18]\n"
     ]
    }
   ],
   "source": [
    "int_list = [0, 1, 2, 3, 4, 5, 6, 7, 8, 9]\n",
    "\n",
    "for i in range(len(int_list)):\n",
    "    int_list[i] *= 2\n",
    "\t\n",
    "print(int_list)"
   ]
  },
  {
   "cell_type": "markdown",
   "id": "4c8e5b1d",
   "metadata": {
    "id": "4c8e5b1d"
   },
   "source": [
    "#### Nested for loops\n",
    "\n",
    "We can also use for loops to iterate through a nested list,to iterate through each value in a nested list, we will need to have nested for loops, which are for loops inside another for loop.\n"
   ]
  },
  {
   "cell_type": "code",
   "execution_count": null,
   "id": "fdacbd13",
   "metadata": {
    "id": "fdacbd13",
    "outputId": "3fe11fcd-26fd-4c2d-bd89-d109a94da978"
   },
   "outputs": [
    {
     "name": "stdout",
     "output_type": "stream",
     "text": [
      "['Government', 'Literature', 'Arts']\n",
      "['Commerce', 'Economics', 'Account']\n",
      "['Physics', 'Chemistry', 'Geography']\n"
     ]
    }
   ],
   "source": [
    "# print the individual lists inside a nested list:\n",
    "Dept_Subject = [[\"Government\", \"Literature\",\"Arts\"],[\"Commerce\",\"Economics\", \"Account\"],[\"Physics\",\"Chemistry\",\"Geography\"]]\n",
    "\n",
    "for Dept in Dept_Subject:\n",
    "    print(Dept)"
   ]
  },
  {
   "cell_type": "code",
   "execution_count": null,
   "id": "5fdde5df",
   "metadata": {
    "id": "5fdde5df",
    "outputId": "a5ffdfd3-4857-44e2-bc04-1e62ef4a9d46"
   },
   "outputs": [
    {
     "name": "stdout",
     "output_type": "stream",
     "text": [
      "Government\n",
      "Literature\n",
      "Arts\n",
      "Commerce\n",
      "Economics\n",
      "Account\n",
      "Physics\n",
      "Chemistry\n",
      "Geography\n"
     ]
    }
   ],
   "source": [
    "# print the individual subject inside each list:\n",
    "Dept_Subject = [[\"Government\", \"Literature\",\"Arts\"],[\"Commerce\",\"Economics\",\"Account\"],[\"Physics\",\"Chemistry\",\"Geography\"]]\n",
    "\n",
    "for Dept in Dept_Subject:\n",
    "    for subject in Dept:\n",
    "        print(subject)"
   ]
  },
  {
   "cell_type": "markdown",
   "id": "bff5e2c3",
   "metadata": {
    "id": "bff5e2c3"
   },
   "source": [
    "#### While loop\n",
    "The while loop allows code to be executed repeatedly while a condition holds True,The code block will keep being executed until the given logical condition returns a False boolean value.\n",
    "\n",
    "Lets print the integer from 1 to 10, we will need a variable that act as an increment value, say x and assign a value of 1 to it, the value will increase until it gets to 10.\n",
    "\n",
    "We now need to determine the condition that will allow the loop to execute a task repeatedly. In this case, the objective is to print integers from 1 to 10. So we'll set the condition to be x < 11"
   ]
  },
  {
   "cell_type": "code",
   "execution_count": null,
   "id": "2d6d3870",
   "metadata": {
    "id": "2d6d3870",
    "outputId": "b2c64c2b-bf22-412b-9e2a-42f8872e669a"
   },
   "outputs": [
    {
     "name": "stdout",
     "output_type": "stream",
     "text": [
      "1\n",
      "2\n",
      "3\n",
      "4\n",
      "5\n",
      "6\n",
      "7\n",
      "8\n",
      "9\n",
      "10\n"
     ]
    }
   ],
   "source": [
    "x = 1\n",
    "while x < 11:\n",
    "    print(x)\n",
    "    x+=1    "
   ]
  },
  {
   "cell_type": "code",
   "execution_count": null,
   "id": "06a01dc3",
   "metadata": {
    "id": "06a01dc3"
   },
   "outputs": [],
   "source": [
    "# Cases when the condition is not met, our loop function may not run\n",
    "\n",
    "x=12\n",
    "while x<11:\n",
    "    print(x)\n",
    "    x+=1"
   ]
  },
  {
   "cell_type": "markdown",
   "id": "cf016e64",
   "metadata": {
    "id": "cf016e64"
   },
   "source": [
    "#### cases when there is no exit condition, the loop \n",
    "\n",
    "x = 1\n",
    "while x < 11:\n",
    "    print(x)\n",
    "    x+=1\n",
    "\n",
    "The program will print 1 forever, this is called an infinite loop, which will eventually crash the program "
   ]
  },
  {
   "cell_type": "code",
   "execution_count": null,
   "id": "b2a6438b",
   "metadata": {
    "id": "b2a6438b",
    "outputId": "bbe5d9ea-0751-47ea-9174-45fa9643a674"
   },
   "outputs": [
    {
     "name": "stdout",
     "output_type": "stream",
     "text": [
      "Sade\n",
      "Kemi\n",
      "Bola\n",
      "Tosin\n",
      "Peace\n"
     ]
    }
   ],
   "source": [
    "# We can also use the while loop to print every element in a collection via index.\n",
    "\n",
    "Names = [\"Sade\", \"Kemi\", \"Bola\", \"Tosin\", \"Peace\"]\n",
    "\n",
    "index = 0\n",
    "while index < len(Names):\n",
    "    print(Names[index])\n",
    "    index +=1"
   ]
  },
  {
   "cell_type": "markdown",
   "id": "d008bd17",
   "metadata": {
    "id": "d008bd17"
   },
   "source": [
    "### Break Statement\n",
    "\n",
    "The break statement allows us to exit a loop irrespective of the break statement.\n",
    "We will use a conditional statement inside the while loop that will determine whether or not to call break."
   ]
  },
  {
   "cell_type": "code",
   "execution_count": null,
   "id": "bc7b1d2f",
   "metadata": {
    "id": "bc7b1d2f",
    "outputId": "cd996e84-1a5c-44fc-a074-4af70614c51d"
   },
   "outputs": [
    {
     "name": "stdout",
     "output_type": "stream",
     "text": [
      "Sade\n",
      "Kemi is in class\n"
     ]
    }
   ],
   "source": [
    "Names = [\"Sade\", \"Kemi\", \"Bola\", \"Tosin\", \"Peace\"]\n",
    "\n",
    "index = 0\n",
    "while index < len(Names):\n",
    "    print(Names[index])\n",
    "    index+=1\n",
    "    if Names[index] == \"Kemi\":\n",
    "        print(\"Kemi is in class\")\n",
    "        break"
   ]
  },
  {
   "cell_type": "markdown",
   "id": "fe15abcf",
   "metadata": {
    "id": "fe15abcf"
   },
   "source": [
    "#### Quiz on Loops\n",
    "1. Write a for loop the prints out all the element between -5 and 5 using the range function.\n",
    "\n",
    "2. Print the elements of the following list: Fruits = [\"Mango\", \"Pineapple\", \"Guava\", \"Pineapple\",\"Orange\"\n",
    "\n",
    "3. Write a for loop that prints out the following list: Subject=['Mathematics', 'Economics', 'English', 'Geography', 'Commerce']\n",
    "\n",
    "4. Write a while loop to display the scores of students in a particular course in the score list, if the score is less than 30 exit the loop.\n",
    "Scores=[70,45,67,33,80,30,25,67,45,44]"
   ]
  },
  {
   "cell_type": "code",
   "execution_count": null,
   "id": "120f060c",
   "metadata": {
    "id": "120f060c"
   },
   "outputs": [],
   "source": []
  }
 ],
 "metadata": {
  "colab": {
   "provenance": []
  },
  "kernelspec": {
   "display_name": "Python 3 (ipykernel)",
   "language": "python",
   "name": "python3"
  },
  "language_info": {
   "codemirror_mode": {
    "name": "ipython",
    "version": 3
   },
   "file_extension": ".py",
   "mimetype": "text/x-python",
   "name": "python",
   "nbconvert_exporter": "python",
   "pygments_lexer": "ipython3",
   "version": "3.9.13"
  }
 },
 "nbformat": 4,
 "nbformat_minor": 5
}
