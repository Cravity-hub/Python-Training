{
 "cells": [
  {
   "cell_type": "markdown",
   "id": "e2ac759a",
   "metadata": {
    "id": "e2ac759a"
   },
   "source": [
    "## String Objects\n",
    "\n",
    "Let's define the following terms:\n",
    "\n",
    "- Method: It is a specific function associated with an object, they are set of task that are performed by the object that provide us information about an object.\n",
    "- Function: A group of statement that performs a specific task\n",
    "- Object: An instance of a data Type. For example \n",
    "\n",
    "Value = 8\n",
    "\n",
    "An Integer object with the value of 8 has being assigned to the variable \"Value\"\n",
    "\n",
    "- string: Is a collection of single character strings.\n",
    "\n",
    "For example: Hello Python is a collection of the following individual strings.\n",
    "\n",
    "\"H\" + \"e\" + \"l\" +\"l\" + \"o\" + \"p\" + \"y\" + \"t\" + \"h\" + \"o\" + \"n\"\n",
    "\n",
    "\n",
    "To call a method for an object, simply type the variable name associated with the object, followed by a dot, and then the method name with parentheses included ( ).\n"
   ]
  },
  {
   "cell_type": "markdown",
   "id": "39ab1454",
   "metadata": {
    "id": "39ab1454"
   },
   "source": [
    "### capitalize()\n",
    "Returns the str with the first character of the str as an uppercase"
   ]
  },
  {
   "cell_type": "code",
   "execution_count": 2,
   "id": "cc681dee",
   "metadata": {
    "id": "cc681dee",
    "outputId": "c67656f8-b203-427b-ff68-a1a8dcb77dd4"
   },
   "outputs": [
    {
     "name": "stdout",
     "output_type": "stream",
     "text": [
      "Hello python\n"
     ]
    }
   ],
   "source": [
    "my_string=\"hello python\"\n",
    "print(my_string.capitalize())"
   ]
  },
  {
   "cell_type": "code",
   "execution_count": 3,
   "id": "d233f986",
   "metadata": {},
   "outputs": [
    {
     "name": "stdout",
     "output_type": "stream",
     "text": [
      "My dog's name is brian\n"
     ]
    }
   ],
   "source": [
    "str1 = \"my dog's name is brian\"\n",
    "\n",
    "print(str1.capitalize())"
   ]
  },
  {
   "cell_type": "markdown",
   "id": "9b430db5",
   "metadata": {
    "id": "9b430db5"
   },
   "source": [
    "### lower()\n",
    "\n",
    "Return the str with the all letter characters in lower cases."
   ]
  },
  {
   "cell_type": "code",
   "execution_count": null,
   "id": "2560b5ac",
   "metadata": {
    "id": "2560b5ac",
    "outputId": "1231c038-cb2f-45fa-d798-c5ed8f18114d"
   },
   "outputs": [
    {
     "name": "stdout",
     "output_type": "stream",
     "text": [
      "hello python\n"
     ]
    }
   ],
   "source": [
    "my_string =(\"HELLO Python\")\n",
    "print(my_string.lower())"
   ]
  },
  {
   "cell_type": "code",
   "execution_count": 4,
   "id": "1acc40b7",
   "metadata": {},
   "outputs": [
    {
     "name": "stdout",
     "output_type": "stream",
     "text": [
      "my dog's name is brian\n"
     ]
    }
   ],
   "source": [
    "print(str1.lower())"
   ]
  },
  {
   "cell_type": "markdown",
   "id": "d527c054",
   "metadata": {
    "id": "d527c054"
   },
   "source": [
    "### upper()\n",
    "Return the str with the all letter characters in upper cases."
   ]
  },
  {
   "cell_type": "code",
   "execution_count": null,
   "id": "c8c2e8de",
   "metadata": {
    "id": "c8c2e8de",
    "outputId": "9366dd3b-a377-470b-d9d6-c34d9a4ec751"
   },
   "outputs": [
    {
     "name": "stdout",
     "output_type": "stream",
     "text": [
      "HELLO PYTHON\n"
     ]
    }
   ],
   "source": [
    "my_string =(\"HELLO Python\")\n",
    "print(my_string.upper())"
   ]
  },
  {
   "cell_type": "code",
   "execution_count": 5,
   "id": "ee25d169",
   "metadata": {},
   "outputs": [
    {
     "name": "stdout",
     "output_type": "stream",
     "text": [
      "MY DOG'S NAME IS BRIAN\n"
     ]
    }
   ],
   "source": [
    "print(str1.upper())"
   ]
  },
  {
   "cell_type": "markdown",
   "id": "d07d0513",
   "metadata": {
    "id": "d07d0513"
   },
   "source": [
    "### isdigit( )\n",
    "Calling isdigit checks if the str value is only composed of digits."
   ]
  },
  {
   "cell_type": "code",
   "execution_count": 6,
   "id": "24b50e82",
   "metadata": {},
   "outputs": [
    {
     "data": {
      "text/plain": [
       "False"
      ]
     },
     "execution_count": 6,
     "metadata": {},
     "output_type": "execute_result"
    }
   ],
   "source": [
    "str1.isdigit()"
   ]
  },
  {
   "cell_type": "markdown",
   "id": "f38f2add",
   "metadata": {
    "id": "f38f2add"
   },
   "source": [
    "### isalpha( )\n",
    "Calling isalpha checks if the str value is only composed of only letters from the alphabet."
   ]
  },
  {
   "cell_type": "code",
   "execution_count": 7,
   "id": "658b7b0c",
   "metadata": {},
   "outputs": [
    {
     "data": {
      "text/plain": [
       "False"
      ]
     },
     "execution_count": 7,
     "metadata": {},
     "output_type": "execute_result"
    }
   ],
   "source": [
    "str1.isalpha()"
   ]
  },
  {
   "cell_type": "code",
   "execution_count": 8,
   "id": "240f2f9a",
   "metadata": {},
   "outputs": [
    {
     "data": {
      "text/plain": [
       "True"
      ]
     },
     "execution_count": 8,
     "metadata": {},
     "output_type": "execute_result"
    }
   ],
   "source": [
    "\"adayofpeace\".isalpha()"
   ]
  },
  {
   "cell_type": "markdown",
   "id": "d79a93b3",
   "metadata": {
    "id": "d79a93b3"
   },
   "source": [
    "### isspace( )\n",
    "Calling isspace checks if the str value is only composed of white spaces."
   ]
  },
  {
   "cell_type": "code",
   "execution_count": 11,
   "id": "0a43c3fa",
   "metadata": {},
   "outputs": [
    {
     "data": {
      "text/plain": [
       "True"
      ]
     },
     "execution_count": 11,
     "metadata": {},
     "output_type": "execute_result"
    }
   ],
   "source": [
    "\"     \".isspace()"
   ]
  },
  {
   "cell_type": "code",
   "execution_count": 10,
   "id": "df30ec3a",
   "metadata": {},
   "outputs": [
    {
     "data": {
      "text/plain": [
       "True"
      ]
     },
     "execution_count": 10,
     "metadata": {},
     "output_type": "execute_result"
    }
   ],
   "source": [
    "\"     \".isspace() and \"adayofpeace\".isalpha()"
   ]
  },
  {
   "cell_type": "markdown",
   "id": "0cdce7c5",
   "metadata": {
    "id": "0cdce7c5"
   },
   "source": [
    "### isalnum( )\n",
    "Calling isalnum checks if the str value is only composed of digits and/or letters."
   ]
  },
  {
   "cell_type": "code",
   "execution_count": 2,
   "id": "4d1537c5",
   "metadata": {},
   "outputs": [
    {
     "data": {
      "text/plain": [
       "True"
      ]
     },
     "execution_count": 2,
     "metadata": {},
     "output_type": "execute_result"
    }
   ],
   "source": [
    "\"233445455abdscfree\".isalnum()"
   ]
  },
  {
   "cell_type": "markdown",
   "id": "476a326e",
   "metadata": {
    "id": "476a326e"
   },
   "source": [
    "### Concatenate\n",
    "You can add two or more strings together by using the addition operator\n",
    "\n",
    "### Duplicate \n",
    "\n",
    "Youn can duplicate a string using the multiplication operator."
   ]
  },
  {
   "cell_type": "code",
   "execution_count": 7,
   "id": "5eaeacff",
   "metadata": {},
   "outputs": [
    {
     "name": "stdout",
     "output_type": "stream",
     "text": [
      "hello world\n"
     ]
    }
   ],
   "source": [
    "str1 = \"hello\"\n",
    "str2 = \"world\"\n",
    "new_str = str1 + \" \" + str2\n",
    "print(new_str)\n"
   ]
  },
  {
   "cell_type": "code",
   "execution_count": 11,
   "id": "b047cefb",
   "metadata": {},
   "outputs": [
    {
     "name": "stdout",
     "output_type": "stream",
     "text": [
      "hello worldhello worldhello worldhello worldhello world\n"
     ]
    }
   ],
   "source": [
    "print(new_str*5)"
   ]
  },
  {
   "cell_type": "markdown",
   "id": "952f36a4",
   "metadata": {
    "id": "952f36a4"
   },
   "source": [
    "### Indexing\n",
    "An Indexing is the address or position to access an item in a collection.\n",
    "\n",
    "Index positive value starts with 0 from left to right, while the negative value startw with -1 from rigth to left\n",
    "\n",
    "for example:\n",
    "\n",
    "       \"P\" \"y\" \"t\" \"h\" \"o\" \"n\"\n",
    "        0   1   2   3   4   5 --Positive Indexing\n",
    "       -6  -5  -4  -3  -2  -1 --Negative Indexing\n",
    "       \n",
    "       \n",
    "      Syntax:\n",
    "          Variable[index]"
   ]
  },
  {
   "cell_type": "code",
   "execution_count": null,
   "id": "d107e782",
   "metadata": {
    "id": "d107e782",
    "outputId": "7e57a8b1-5451-45d1-9d10-d499b4a1d8e5"
   },
   "outputs": [
    {
     "data": {
      "text/plain": [
       "'h'"
      ]
     },
     "execution_count": 16,
     "metadata": {},
     "output_type": "execute_result"
    }
   ],
   "source": [
    "x = \"python\"\n",
    "\n",
    "# to access the variable on index 3\n",
    "\n",
    "x[3]"
   ]
  },
  {
   "cell_type": "code",
   "execution_count": null,
   "id": "452f1803",
   "metadata": {
    "id": "452f1803",
    "outputId": "d9cae87d-b64c-4f7e-a1a9-adaf1f117bc5"
   },
   "outputs": [
    {
     "data": {
      "text/plain": [
       "'n'"
      ]
     },
     "execution_count": 17,
     "metadata": {},
     "output_type": "execute_result"
    }
   ],
   "source": [
    "# To access the last variable using negative\n",
    "\n",
    "x[-1]"
   ]
  },
  {
   "cell_type": "code",
   "execution_count": 27,
   "id": "e86bb7a6",
   "metadata": {},
   "outputs": [
    {
     "name": "stdout",
     "output_type": "stream",
     "text": [
      "lmt\n"
     ]
    }
   ],
   "source": [
    "wel_str = \"Welcome to Class\"\n",
    "\n",
    "wel_str[11]\n",
    "print(wel_str[2:10:3])"
   ]
  },
  {
   "cell_type": "markdown",
   "id": "5164aaa5",
   "metadata": {
    "id": "5164aaa5"
   },
   "source": [
    "### Length\n",
    "\n",
    "The len() function allows you to know the number of variable in an object.\n",
    "\n",
    "For example:\n"
   ]
  },
  {
   "cell_type": "code",
   "execution_count": 16,
   "id": "a1027e15",
   "metadata": {
    "id": "a1027e15",
    "outputId": "853a0148-3fe2-45de-9bc4-806bcee1e5c6"
   },
   "outputs": [
    {
     "data": {
      "text/plain": [
       "6"
      ]
     },
     "execution_count": 16,
     "metadata": {},
     "output_type": "execute_result"
    }
   ],
   "source": [
    "x=\"python\"\n",
    "len(x)"
   ]
  },
  {
   "cell_type": "code",
   "execution_count": 14,
   "id": "9db1405c",
   "metadata": {},
   "outputs": [
    {
     "data": {
      "text/plain": [
       "16"
      ]
     },
     "execution_count": 14,
     "metadata": {},
     "output_type": "execute_result"
    }
   ],
   "source": [
    "len(wel_str)"
   ]
  },
  {
   "cell_type": "markdown",
   "id": "bf39d965",
   "metadata": {
    "id": "bf39d965"
   },
   "source": [
    "### Slicing\n",
    "\n",
    "This is a way of copying a part of a collection\n",
    "        Syntax:\n",
    "            variable[start:end]\n",
    "        Where:\n",
    "            Start can be 0\n",
    "            End can be the length of the collection"
   ]
  },
  {
   "cell_type": "code",
   "execution_count": 21,
   "id": "cd2bd142",
   "metadata": {
    "id": "cd2bd142",
    "outputId": "37970911-7484-4283-d475-f2c1a43d449d"
   },
   "outputs": [
    {
     "data": {
      "text/plain": [
       "'ytho'"
      ]
     },
     "execution_count": 21,
     "metadata": {},
     "output_type": "execute_result"
    }
   ],
   "source": [
    "# Slice from index 2 to the end\n",
    "\n",
    "x[1:5]"
   ]
  },
  {
   "cell_type": "code",
   "execution_count": null,
   "id": "bc49b3f0",
   "metadata": {
    "id": "bc49b3f0",
    "outputId": "b9af2442-b783-49a6-f155-c98ed08d6349"
   },
   "outputs": [
    {
     "data": {
      "text/plain": [
       "'pyth'"
      ]
     },
     "execution_count": 20,
     "metadata": {},
     "output_type": "execute_result"
    }
   ],
   "source": [
    "#slice of index 0 to 3\n",
    "x[0:4] # to print out the 3rd index we added one to the last index"
   ]
  },
  {
   "cell_type": "code",
   "execution_count": null,
   "id": "c0b5f659",
   "metadata": {
    "id": "c0b5f659",
    "outputId": "0d961aa6-5a60-44c2-fa3d-5c6a97a3e9f0"
   },
   "outputs": [
    {
     "data": {
      "text/plain": [
       "'python'"
      ]
     },
     "execution_count": 21,
     "metadata": {},
     "output_type": "execute_result"
    }
   ],
   "source": [
    "# we can clone using slicimg\n",
    "x_clone = x[:]\n",
    "x_clone"
   ]
  },
  {
   "cell_type": "code",
   "execution_count": 25,
   "id": "985f85da",
   "metadata": {
    "id": "985f85da"
   },
   "outputs": [
    {
     "data": {
      "text/plain": [
       "'loet'"
      ]
     },
     "execution_count": 25,
     "metadata": {},
     "output_type": "execute_result"
    }
   ],
   "source": [
    "wel_str[2:10:2]"
   ]
  },
  {
   "cell_type": "code",
   "execution_count": 29,
   "id": "6986128e",
   "metadata": {},
   "outputs": [],
   "source": [
    "num = \"0123456789\""
   ]
  },
  {
   "cell_type": "code",
   "execution_count": 32,
   "id": "5e6f3fdf",
   "metadata": {},
   "outputs": [
    {
     "data": {
      "text/plain": [
       "'246'"
      ]
     },
     "execution_count": 32,
     "metadata": {},
     "output_type": "execute_result"
    }
   ],
   "source": [
    "num[2:7:2]"
   ]
  },
  {
   "cell_type": "markdown",
   "id": "a01fca04",
   "metadata": {},
   "source": [
    "### Split "
   ]
  },
  {
   "cell_type": "code",
   "execution_count": 39,
   "id": "17ef6275",
   "metadata": {},
   "outputs": [
    {
     "name": "stdout",
     "output_type": "stream",
     "text": [
      "Welcome to Class\n",
      "['Welcome', 'to', 'Class']\n",
      "<class 'list'>\n"
     ]
    }
   ],
   "source": [
    "print(wel_str)\n",
    "\n",
    "split_str = wel_str.split(\" \")\n",
    "\n",
    "print(split_str)\n",
    "\n",
    "print(type(split_str))"
   ]
  },
  {
   "cell_type": "markdown",
   "id": "91084bb3",
   "metadata": {},
   "source": [
    "### join"
   ]
  },
  {
   "cell_type": "code",
   "execution_count": 44,
   "id": "c8fc54ef",
   "metadata": {},
   "outputs": [
    {
     "data": {
      "text/plain": [
       "'Welcome la to la Class'"
      ]
     },
     "execution_count": 44,
     "metadata": {},
     "output_type": "execute_result"
    }
   ],
   "source": [
    "\" la \".join(split_str)"
   ]
  },
  {
   "cell_type": "markdown",
   "id": "e0d58662",
   "metadata": {},
   "source": [
    "### index"
   ]
  },
  {
   "cell_type": "code",
   "execution_count": 48,
   "id": "1e1a42a5",
   "metadata": {},
   "outputs": [
    {
     "data": {
      "text/plain": [
       "9"
      ]
     },
     "execution_count": 48,
     "metadata": {},
     "output_type": "execute_result"
    }
   ],
   "source": [
    "wel_str[3:].index(\"l\")"
   ]
  },
  {
   "cell_type": "markdown",
   "id": "4b7a8e62",
   "metadata": {},
   "source": [
    "### count"
   ]
  },
  {
   "cell_type": "code",
   "execution_count": 49,
   "id": "366d2334",
   "metadata": {},
   "outputs": [
    {
     "data": {
      "text/plain": [
       "2"
      ]
     },
     "execution_count": 49,
     "metadata": {},
     "output_type": "execute_result"
    }
   ],
   "source": [
    "wel_str.count('l')"
   ]
  },
  {
   "cell_type": "markdown",
   "id": "c2799d09",
   "metadata": {},
   "source": [
    "### Activity\n",
    "\n",
    "\n",
    "Once the model is selected, the next step is to train it using the pre-processed data.\n",
    "\n",
    "#### Tasks\n",
    "\n",
    "1. find the length of the string\n",
    "2. split the string by whitespcae\n",
    "3. join the resulting list of strings using \"_\"\n",
    "4. find the index of the third letter \"t\""
   ]
  },
  {
   "cell_type": "code",
   "execution_count": 2,
   "id": "222d3226",
   "metadata": {},
   "outputs": [
    {
     "name": "stdout",
     "output_type": "stream",
     "text": [
      "[5, 23, 28, 35, 38, 45, 48, 55, 63, 83]\n"
     ]
    }
   ],
   "source": [
    "act_str = \"Once the model is selected, the next step is to train it using the pre-processed data.\"\n",
    "\n",
    "\n",
    "t_list = []\n",
    "\n",
    "def index_list()\n",
    "for char in range(len(act_str)):\n",
    "    if act_str[char] == \"t\":\n",
    "        t_list.append(char)\n",
    "        \n",
    "print(t_list)"
   ]
  },
  {
   "cell_type": "code",
   "execution_count": null,
   "id": "6a34f8ab",
   "metadata": {},
   "outputs": [],
   "source": []
  }
 ],
 "metadata": {
  "colab": {
   "provenance": []
  },
  "kernelspec": {
   "display_name": "Python 3 (ipykernel)",
   "language": "python",
   "name": "python3"
  },
  "language_info": {
   "codemirror_mode": {
    "name": "ipython",
    "version": 3
   },
   "file_extension": ".py",
   "mimetype": "text/x-python",
   "name": "python",
   "nbconvert_exporter": "python",
   "pygments_lexer": "ipython3",
   "version": "3.9.13"
  }
 },
 "nbformat": 4,
 "nbformat_minor": 5
}
