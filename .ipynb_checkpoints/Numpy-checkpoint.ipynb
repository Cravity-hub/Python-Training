{
 "cells": [
  {
   "cell_type": "markdown",
   "id": "c14631c3",
   "metadata": {
    "id": "c14631c3"
   },
   "source": [
    "## Numpy\n",
    "\n",
    "Numpy is the short pronunciation for Numerical Python\n",
    "\n",
    "Travis Oliphant designed NumPy in 2005. It is an open source project.\n",
    "\n",
    "NumPy is a Python library used for working with arrays.\n",
    "\n",
    "It also provides functions for working with linear algebra, fourier transforms, and matrices.\n",
    "\n",
    "### Importance of Numpy\n",
    "\n",
    "We have lists in Python that act as arrays, however they are slow to process.\n",
    "\n",
    "NumPy intends to deliver a 50-fold quicker array object than ordinary Python lists.\n",
    "\n",
    "The array object in NumPy is named ndarray, and it comes with a slew of helper functions to make working with it a breeze.\n",
    "\n",
    "Arrays are very frequently used in data science, where speed and resources are very important\n",
    "\n",
    "### Installing Numpy\n",
    "install using conda install numpy for anaconda Navigator\n",
    "\n",
    "pip install numpy for python IDE"
   ]
  },
  {
   "cell_type": "code",
   "execution_count": null,
   "id": "5300b084",
   "metadata": {},
   "outputs": [],
   "source": [
    "!pip install"
   ]
  },
  {
   "cell_type": "code",
   "execution_count": 2,
   "id": "813c1a8e",
   "metadata": {
    "id": "813c1a8e"
   },
   "outputs": [],
   "source": [
    "# import numpy\n",
    "\n",
    "import numpy as np"
   ]
  },
  {
   "cell_type": "markdown",
   "id": "d44b9200",
   "metadata": {
    "id": "d44b9200"
   },
   "source": [
    "#### Let's create a numpy array"
   ]
  },
  {
   "cell_type": "code",
   "execution_count": 1,
   "id": "7821e4a9",
   "metadata": {
    "id": "7821e4a9",
    "outputId": "80a0df9c-bd06-4738-81de-d65c24c75d4e"
   },
   "outputs": [
    {
     "ename": "NameError",
     "evalue": "name 'np' is not defined",
     "output_type": "error",
     "traceback": [
      "\u001b[1;31m---------------------------------------------------------------------------\u001b[0m",
      "\u001b[1;31mNameError\u001b[0m                                 Traceback (most recent call last)",
      "\u001b[1;32m~\\AppData\\Local\\Temp\\ipykernel_12828\\3104888829.py\u001b[0m in \u001b[0;36m<module>\u001b[1;34m\u001b[0m\n\u001b[1;32m----> 1\u001b[1;33m \u001b[0mx\u001b[0m \u001b[1;33m=\u001b[0m \u001b[0mnp\u001b[0m\u001b[1;33m.\u001b[0m\u001b[0marray\u001b[0m\u001b[1;33m(\u001b[0m\u001b[1;33m[\u001b[0m\u001b[1;36m0\u001b[0m\u001b[1;33m,\u001b[0m\u001b[1;36m1\u001b[0m\u001b[1;33m,\u001b[0m\u001b[1;36m2\u001b[0m\u001b[1;33m,\u001b[0m\u001b[1;36m3\u001b[0m\u001b[1;33m,\u001b[0m\u001b[1;36m4\u001b[0m\u001b[1;33m,\u001b[0m\u001b[1;36m5\u001b[0m\u001b[1;33m]\u001b[0m\u001b[1;33m)\u001b[0m\u001b[1;33m\u001b[0m\u001b[1;33m\u001b[0m\u001b[0m\n\u001b[0m\u001b[0;32m      2\u001b[0m \u001b[0mx\u001b[0m\u001b[1;33m\u001b[0m\u001b[1;33m\u001b[0m\u001b[0m\n\u001b[0;32m      3\u001b[0m \u001b[0mprint\u001b[0m\u001b[1;33m(\u001b[0m\u001b[0mtype\u001b[0m\u001b[1;33m(\u001b[0m\u001b[0mx\u001b[0m\u001b[1;33m)\u001b[0m\u001b[1;33m)\u001b[0m\u001b[1;33m\u001b[0m\u001b[1;33m\u001b[0m\u001b[0m\n\u001b[0;32m      4\u001b[0m \u001b[0mprint\u001b[0m\u001b[1;33m(\u001b[0m\u001b[0mx\u001b[0m\u001b[1;33m.\u001b[0m\u001b[0mdtype\u001b[0m\u001b[1;33m)\u001b[0m\u001b[1;33m\u001b[0m\u001b[1;33m\u001b[0m\u001b[0m\n",
      "\u001b[1;31mNameError\u001b[0m: name 'np' is not defined"
     ]
    }
   ],
   "source": [
    "x = np.array([0,1,2,3,4,5])\n",
    "x\n",
    "print(type(x))\n",
    "print(x.dtype)"
   ]
  },
  {
   "cell_type": "markdown",
   "id": "48a6fd64",
   "metadata": {
    "id": "48a6fd64"
   },
   "source": [
    "### We access each element of the array"
   ]
  },
  {
   "cell_type": "code",
   "execution_count": 4,
   "id": "d82c9e25",
   "metadata": {
    "id": "d82c9e25",
    "outputId": "4f488662-0ce3-4b71-ae7f-5aaaa2c0040b"
   },
   "outputs": [
    {
     "name": "stdout",
     "output_type": "stream",
     "text": [
      "2\n"
     ]
    }
   ],
   "source": [
    "print(x[2])"
   ]
  },
  {
   "cell_type": "markdown",
   "id": "942f0f3a",
   "metadata": {
    "id": "942f0f3a"
   },
   "source": [
    "### We can also check the numpy version"
   ]
  },
  {
   "cell_type": "code",
   "execution_count": 5,
   "id": "70ae27f6",
   "metadata": {
    "id": "70ae27f6",
    "outputId": "4bffcd52-5ce8-4a01-ed94-54cc97fe837b"
   },
   "outputs": [
    {
     "name": "stdout",
     "output_type": "stream",
     "text": [
      "1.21.5\n"
     ]
    }
   ],
   "source": [
    "print(np.__version__)"
   ]
  },
  {
   "cell_type": "code",
   "execution_count": 11,
   "id": "7ede8bd2",
   "metadata": {},
   "outputs": [],
   "source": [
    "?np.array"
   ]
  },
  {
   "cell_type": "markdown",
   "id": "658324bd",
   "metadata": {
    "id": "658324bd"
   },
   "source": [
    "## Data Types in NumPy\n",
    "NumPy has some extra data types, and refer to data types with one character, like i for integers, u for unsigned integers etc.\n",
    "\n",
    "Below is a list of all data types in NumPy and the characters used to represent them.\n",
    "\n",
    "i - integer\n",
    "\n",
    "b - boolean\n",
    "\n",
    "u - unsigned integer\n",
    "\n",
    "f - float\n",
    "\n",
    "c - complex float\n",
    "\n",
    "m - timedelta\n",
    "\n",
    "M - datetime\n",
    "\n",
    "O - object\n",
    "\n",
    "S - string\n",
    "\n",
    "U - unicode string\n",
    "\n",
    "V - fixed chunk of memory for other type ( void )"
   ]
  },
  {
   "cell_type": "markdown",
   "id": "261c6b00",
   "metadata": {
    "id": "261c6b00"
   },
   "source": [
    "### Type\n",
    "\n",
    "We can check the type of the array and also check the data type of the aaray elements, note, a numpy array contains data of the same type"
   ]
  },
  {
   "cell_type": "code",
   "execution_count": 19,
   "id": "5b31625b",
   "metadata": {
    "id": "5b31625b",
    "outputId": "6c41d523-48a2-4a82-af6f-ef31f8e12b0f"
   },
   "outputs": [
    {
     "name": "stdout",
     "output_type": "stream",
     "text": [
      "['0' '1' '2' '3' '4' '5' 'np' 'False' '4.59']\n"
     ]
    }
   ],
   "source": [
    "# check the type of the array\n",
    "type(x)\n",
    "print(x)"
   ]
  },
  {
   "cell_type": "code",
   "execution_count": null,
   "id": "3238134d",
   "metadata": {},
   "outputs": [],
   "source": [
    "#to inspect what happens when we use heterogeneous data\n",
    "\n",
    "x = np.array([0,1,2,3,4,5,'np',False,4.59])"
   ]
  },
  {
   "cell_type": "code",
   "execution_count": 20,
   "id": "0a646c47",
   "metadata": {
    "id": "0a646c47",
    "outputId": "c03436eb-63a7-4cf4-e70a-1278e5c3f57e"
   },
   "outputs": [
    {
     "data": {
      "text/plain": [
       "dtype('<U32')"
      ]
     },
     "execution_count": 20,
     "metadata": {},
     "output_type": "execute_result"
    }
   ],
   "source": [
    "# check the data type stored in your array\n",
    "\n",
    "x.dtype"
   ]
  },
  {
   "cell_type": "markdown",
   "id": "96338709",
   "metadata": {
    "id": "96338709"
   },
   "source": [
    "## Specify data type\n",
    "\n",
    "While creating your arrange you can specify the data type"
   ]
  },
  {
   "cell_type": "code",
   "execution_count": 28,
   "id": "73a83ac8",
   "metadata": {
    "id": "73a83ac8",
    "outputId": "02a598e3-a60d-4644-a663-3a1e4244ba26"
   },
   "outputs": [
    {
     "data": {
      "text/plain": [
       "array([1., 2., 3., 4., 5.], dtype=float32)"
      ]
     },
     "execution_count": 28,
     "metadata": {},
     "output_type": "execute_result"
    }
   ],
   "source": [
    "p= np.array([1,2,3,4,5], dtype=\"f\")\n",
    "p"
   ]
  },
  {
   "cell_type": "code",
   "execution_count": 40,
   "id": "9814b574",
   "metadata": {},
   "outputs": [
    {
     "data": {
      "text/plain": [
       "dtype('float32')"
      ]
     },
     "execution_count": 40,
     "metadata": {},
     "output_type": "execute_result"
    }
   ],
   "source": [
    "q = np.array(['1','2'], dtype=\"f\")\n",
    "\n",
    "q.dtype"
   ]
  },
  {
   "cell_type": "code",
   "execution_count": null,
   "id": "a0ac0159",
   "metadata": {
    "id": "a0ac0159",
    "outputId": "6ca11b5f-a659-4634-c629-37a61c381986"
   },
   "outputs": [
    {
     "data": {
      "text/plain": [
       "(1+0j)"
      ]
     },
     "execution_count": 115,
     "metadata": {},
     "output_type": "execute_result"
    }
   ],
   "source": [
    "p[0]"
   ]
  },
  {
   "cell_type": "markdown",
   "id": "11285bd1",
   "metadata": {
    "id": "11285bd1"
   },
   "source": [
    "### you can convert from int32 to int64"
   ]
  },
  {
   "cell_type": "code",
   "execution_count": 50,
   "id": "4e6e9cb6",
   "metadata": {
    "id": "4e6e9cb6"
   },
   "outputs": [],
   "source": [
    "y = x.astype(np.int64)"
   ]
  },
  {
   "cell_type": "code",
   "execution_count": 51,
   "id": "10b09a22",
   "metadata": {
    "id": "10b09a22",
    "outputId": "feb75dbd-3ddd-4c12-9cb1-1c2b8a1439f8"
   },
   "outputs": [
    {
     "data": {
      "text/plain": [
       "dtype('int64')"
      ]
     },
     "execution_count": 51,
     "metadata": {},
     "output_type": "execute_result"
    }
   ],
   "source": [
    "y.dtype"
   ]
  },
  {
   "cell_type": "code",
   "execution_count": 52,
   "id": "13bf503c",
   "metadata": {
    "id": "13bf503c",
    "outputId": "e8297ce2-680d-4737-b438-ba7427058970"
   },
   "outputs": [
    {
     "data": {
      "text/plain": [
       "array([0, 1, 2, 3, 4, 5])"
      ]
     },
     "execution_count": 52,
     "metadata": {},
     "output_type": "execute_result"
    }
   ],
   "source": [
    "y.astype(np.int32)"
   ]
  },
  {
   "cell_type": "code",
   "execution_count": null,
   "id": "b8f8686f",
   "metadata": {
    "id": "b8f8686f",
    "outputId": "6c6ac9e7-058d-4123-f3dc-3e6da7664810"
   },
   "outputs": [
    {
     "data": {
      "text/plain": [
       "array([0, 1, 2, 3, 4, 5], dtype=int64)"
      ]
     },
     "execution_count": 16,
     "metadata": {},
     "output_type": "execute_result"
    }
   ],
   "source": [
    "y"
   ]
  },
  {
   "cell_type": "code",
   "execution_count": null,
   "id": "a141f593",
   "metadata": {
    "id": "a141f593"
   },
   "outputs": [],
   "source": [
    "z = np.array([3.1,33.4,5.6,77.5])"
   ]
  },
  {
   "cell_type": "code",
   "execution_count": null,
   "id": "edcbc842",
   "metadata": {
    "id": "edcbc842",
    "outputId": "490ab4ab-23ba-444d-ade8-018c22fe8c94"
   },
   "outputs": [
    {
     "data": {
      "text/plain": [
       "numpy.ndarray"
      ]
     },
     "execution_count": 18,
     "metadata": {},
     "output_type": "execute_result"
    }
   ],
   "source": [
    "type(z)"
   ]
  },
  {
   "cell_type": "code",
   "execution_count": null,
   "id": "d6786e66",
   "metadata": {
    "id": "d6786e66",
    "outputId": "18cb2101-201b-4e0d-d79f-237a5de3a24a"
   },
   "outputs": [
    {
     "data": {
      "text/plain": [
       "dtype('float64')"
      ]
     },
     "execution_count": 19,
     "metadata": {},
     "output_type": "execute_result"
    }
   ],
   "source": [
    "z.dtype"
   ]
  },
  {
   "cell_type": "code",
   "execution_count": null,
   "id": "aa27f9af",
   "metadata": {},
   "outputs": [],
   "source": []
  },
  {
   "cell_type": "markdown",
   "id": "6e25c170",
   "metadata": {
    "id": "6e25c170"
   },
   "source": [
    "#### We can convert from other data type to array"
   ]
  },
  {
   "cell_type": "code",
   "execution_count": null,
   "id": "32d2d05b",
   "metadata": {
    "id": "32d2d05b"
   },
   "outputs": [],
   "source": [
    "list_1 = [1,2,3,4,5,6]\n",
    "a= np.array(list_1)"
   ]
  },
  {
   "cell_type": "code",
   "execution_count": null,
   "id": "9d39d682",
   "metadata": {
    "id": "9d39d682",
    "outputId": "6528acea-b6da-49d0-ca1e-0325c8282e95"
   },
   "outputs": [
    {
     "data": {
      "text/plain": [
       "array([1, 2, 3, 4, 5, 6])"
      ]
     },
     "execution_count": 21,
     "metadata": {},
     "output_type": "execute_result"
    }
   ],
   "source": [
    "a"
   ]
  },
  {
   "cell_type": "code",
   "execution_count": null,
   "id": "9140d877",
   "metadata": {
    "id": "9140d877",
    "outputId": "d1db61cb-c3bc-4a89-f266-a6bf378d42d0"
   },
   "outputs": [
    {
     "data": {
      "text/plain": [
       "numpy.ndarray"
      ]
     },
     "execution_count": 22,
     "metadata": {},
     "output_type": "execute_result"
    }
   ],
   "source": [
    "type(a)"
   ]
  },
  {
   "cell_type": "code",
   "execution_count": null,
   "id": "00aa3006",
   "metadata": {
    "id": "00aa3006",
    "outputId": "923ae20a-5512-430a-a9b8-c1fa75a39077"
   },
   "outputs": [
    {
     "data": {
      "text/plain": [
       "dtype('int32')"
      ]
     },
     "execution_count": 23,
     "metadata": {},
     "output_type": "execute_result"
    }
   ],
   "source": [
    "a.dtype"
   ]
  },
  {
   "cell_type": "code",
   "execution_count": null,
   "id": "6241b9e7",
   "metadata": {
    "id": "6241b9e7"
   },
   "outputs": [],
   "source": [
    "tuple_1 = (1,2,3,4,5)"
   ]
  },
  {
   "cell_type": "code",
   "execution_count": null,
   "id": "06186cf8",
   "metadata": {
    "id": "06186cf8"
   },
   "outputs": [],
   "source": [
    "b = np.array(tuple_1)"
   ]
  },
  {
   "cell_type": "code",
   "execution_count": null,
   "id": "fd5a39e8",
   "metadata": {
    "id": "fd5a39e8",
    "outputId": "3c419d1d-1634-4f83-e528-9b45f58dd0ab"
   },
   "outputs": [
    {
     "data": {
      "text/plain": [
       "array([1, 2, 3, 4, 5])"
      ]
     },
     "execution_count": 32,
     "metadata": {},
     "output_type": "execute_result"
    }
   ],
   "source": [
    "b"
   ]
  },
  {
   "cell_type": "code",
   "execution_count": null,
   "id": "dd58ab12",
   "metadata": {
    "id": "dd58ab12",
    "outputId": "4ba377e3-7ac7-4da5-fb24-8698b7b39d8a"
   },
   "outputs": [
    {
     "data": {
      "text/plain": [
       "dtype('int32')"
      ]
     },
     "execution_count": 33,
     "metadata": {},
     "output_type": "execute_result"
    }
   ],
   "source": [
    "b.dtype"
   ]
  },
  {
   "cell_type": "markdown",
   "id": "3b91b98c",
   "metadata": {
    "id": "3b91b98c"
   },
   "source": [
    "### You can re-assign the value of an array"
   ]
  },
  {
   "cell_type": "code",
   "execution_count": 53,
   "id": "5a14a3db",
   "metadata": {
    "id": "5a14a3db",
    "outputId": "9a84293b-b38a-4de1-bece-ed49715396cd"
   },
   "outputs": [
    {
     "data": {
      "text/plain": [
       "array([ 0, 50,  2,  3,  4,  5])"
      ]
     },
     "execution_count": 53,
     "metadata": {},
     "output_type": "execute_result"
    }
   ],
   "source": [
    "x[1]=50\n",
    "x"
   ]
  },
  {
   "cell_type": "markdown",
   "id": "bba8cd94",
   "metadata": {
    "id": "bba8cd94"
   },
   "source": [
    "### Slicing\n",
    "\n",
    "Slicing can also pe perform in numpy, it is like coping a part of a variable"
   ]
  },
  {
   "cell_type": "code",
   "execution_count": 61,
   "id": "df16262f",
   "metadata": {},
   "outputs": [
    {
     "data": {
      "text/plain": [
       "array([21, 22, 23])"
      ]
     },
     "execution_count": 61,
     "metadata": {},
     "output_type": "execute_result"
    }
   ],
   "source": [
    "np_new = np.array([20,21,22,23,24,25])\n",
    "\n",
    "np_new[1:4]"
   ]
  },
  {
   "cell_type": "markdown",
   "id": "201ebfa9",
   "metadata": {
    "id": "201ebfa9"
   },
   "source": [
    "### You can also re-assign as follow"
   ]
  },
  {
   "cell_type": "code",
   "execution_count": 54,
   "id": "e8047c30",
   "metadata": {
    "id": "e8047c30",
    "outputId": "d4dea650-6b57-4d5e-ef2e-5352ba85c941"
   },
   "outputs": [
    {
     "data": {
      "text/plain": [
       "array([  0,  50, 350, 230, 678,   5])"
      ]
     },
     "execution_count": 54,
     "metadata": {},
     "output_type": "execute_result"
    }
   ],
   "source": [
    "x[2:5] = 350,230,678\n",
    "x"
   ]
  },
  {
   "cell_type": "code",
   "execution_count": null,
   "id": "0e57c927",
   "metadata": {
    "id": "0e57c927",
    "outputId": "47ab2c52-6f1e-405e-e7b1-5b0101f3e9d4"
   },
   "outputs": [
    {
     "data": {
      "text/plain": [
       "1"
      ]
     },
     "execution_count": 41,
     "metadata": {},
     "output_type": "execute_result"
    }
   ],
   "source": [
    "a[0]"
   ]
  },
  {
   "cell_type": "markdown",
   "id": "da93417f",
   "metadata": {
    "id": "da93417f"
   },
   "source": [
    "### We can also slice by step"
   ]
  },
  {
   "cell_type": "code",
   "execution_count": 62,
   "id": "0065df86",
   "metadata": {
    "id": "0065df86",
    "outputId": "5495cc76-5f87-4fd4-85dc-6f8f56ae922c"
   },
   "outputs": [
    {
     "name": "stdout",
     "output_type": "stream",
     "text": [
      "[  0 350 678]\n"
     ]
    }
   ],
   "source": [
    "print(x[0:5:2])"
   ]
  },
  {
   "cell_type": "markdown",
   "id": "ebf6dc86",
   "metadata": {
    "id": "ebf6dc86"
   },
   "source": [
    "## print out the odd numbers in the given array\n",
    "\n",
    "d =([1,2,3,4,5,6,7,8,9,10])"
   ]
  },
  {
   "cell_type": "markdown",
   "id": "6d88185e",
   "metadata": {
    "id": "6d88185e"
   },
   "source": [
    "#### We can Slice values using the list of index\n"
   ]
  },
  {
   "cell_type": "code",
   "execution_count": 66,
   "id": "978f4ce1",
   "metadata": {},
   "outputs": [
    {
     "data": {
      "text/plain": [
       "array([  0,  50, 350, 230, 678,   5])"
      ]
     },
     "execution_count": 66,
     "metadata": {},
     "output_type": "execute_result"
    }
   ],
   "source": [
    "x"
   ]
  },
  {
   "cell_type": "code",
   "execution_count": 63,
   "id": "5546aef4",
   "metadata": {
    "id": "5546aef4",
    "outputId": "2bfabdbd-b5ec-4cc2-d585-5de725d44a84"
   },
   "outputs": [
    {
     "data": {
      "text/plain": [
       "[0, 1, 2, 3, 4]"
      ]
     },
     "execution_count": 63,
     "metadata": {},
     "output_type": "execute_result"
    }
   ],
   "source": [
    "list_index = [0,1,2,3,4]\n",
    "list_index"
   ]
  },
  {
   "cell_type": "code",
   "execution_count": 65,
   "id": "13e61b82",
   "metadata": {
    "id": "13e61b82",
    "outputId": "e27ff4cb-6e87-4933-a68e-ed7ab02f91a4"
   },
   "outputs": [
    {
     "data": {
      "text/plain": [
       "array([  0,  50, 350, 230, 678])"
      ]
     },
     "execution_count": 65,
     "metadata": {},
     "output_type": "execute_result"
    }
   ],
   "source": [
    "# let's call out the values on the list_index\n",
    "\n",
    "f = x[list_index]\n",
    "f"
   ]
  },
  {
   "cell_type": "markdown",
   "id": "b13c5274",
   "metadata": {
    "id": "b13c5274"
   },
   "source": [
    "## We re_assign based on the index"
   ]
  },
  {
   "cell_type": "code",
   "execution_count": 67,
   "id": "0c8d856d",
   "metadata": {
    "id": "0c8d856d",
    "outputId": "a362f003-e2f3-4d7b-9d61-3b0f433e927c"
   },
   "outputs": [
    {
     "data": {
      "text/plain": [
       "array([800, 800, 800, 800, 800,   5])"
      ]
     },
     "execution_count": 67,
     "metadata": {},
     "output_type": "execute_result"
    }
   ],
   "source": [
    "x[list_index] = 800\n",
    "x"
   ]
  },
  {
   "cell_type": "markdown",
   "id": "da8f8c0d",
   "metadata": {},
   "source": [
    "### Activity 1"
   ]
  },
  {
   "cell_type": "code",
   "execution_count": 68,
   "id": "f1d65593",
   "metadata": {},
   "outputs": [],
   "source": [
    "np_soft = np.array(['7up', 'coca-cola', 'pepsi', 'maltina', 'sprite', 'kunu', 'zobo', 'mirinda', 'chivita', '5Alive'],\n",
    "                   []\n",
    "                  )"
   ]
  },
  {
   "cell_type": "code",
   "execution_count": 71,
   "id": "691519db",
   "metadata": {},
   "outputs": [
    {
     "data": {
      "text/plain": [
       "array(['7up', 'coca-cola', 'pepsi', 'maltina', 'sprite', 'mirinda'],\n",
       "      dtype='<U9')"
      ]
     },
     "execution_count": 71,
     "metadata": {},
     "output_type": "execute_result"
    }
   ],
   "source": [
    "carbonated = [0,1,2,3,4,7]\n",
    "\n",
    "carb_soft = np_soft[carbonated]\n",
    "\n",
    "carb_soft"
   ]
  },
  {
   "cell_type": "markdown",
   "id": "d0c561c3",
   "metadata": {
    "id": "d0c561c3"
   },
   "source": [
    "#### Checking the size\n",
    "\n",
    "Size is the number of elements in an array"
   ]
  },
  {
   "cell_type": "code",
   "execution_count": 72,
   "id": "d62878bf",
   "metadata": {
    "id": "d62878bf",
    "outputId": "40644544-8db2-42ad-f4ed-f46d08c426c4"
   },
   "outputs": [
    {
     "data": {
      "text/plain": [
       "10"
      ]
     },
     "execution_count": 72,
     "metadata": {},
     "output_type": "execute_result"
    }
   ],
   "source": [
    "np_soft.size"
   ]
  },
  {
   "cell_type": "code",
   "execution_count": 73,
   "id": "1f32750a",
   "metadata": {},
   "outputs": [
    {
     "data": {
      "text/plain": [
       "10"
      ]
     },
     "execution_count": 73,
     "metadata": {},
     "output_type": "execute_result"
    }
   ],
   "source": [
    "len(np_soft)"
   ]
  },
  {
   "cell_type": "markdown",
   "id": "82f578d6",
   "metadata": {
    "id": "82f578d6"
   },
   "source": [
    "#### checking the array dimension or rank"
   ]
  },
  {
   "cell_type": "code",
   "execution_count": 74,
   "id": "473bd596",
   "metadata": {
    "id": "473bd596",
    "outputId": "b77cef11-1b0d-4271-b13f-8496b5c68e68"
   },
   "outputs": [
    {
     "data": {
      "text/plain": [
       "1"
      ]
     },
     "execution_count": 74,
     "metadata": {},
     "output_type": "execute_result"
    }
   ],
   "source": [
    "np_soft.ndim # it is a 1 dimensional array (1d array)"
   ]
  },
  {
   "cell_type": "markdown",
   "id": "ae5311af",
   "metadata": {
    "id": "ae5311af"
   },
   "source": [
    "### checking the shape of the array"
   ]
  },
  {
   "cell_type": "code",
   "execution_count": 75,
   "id": "aab64c3e",
   "metadata": {
    "id": "aab64c3e",
    "outputId": "59fc6ab3-0bb4-41e4-be46-564c8fdec4e2"
   },
   "outputs": [
    {
     "data": {
      "text/plain": [
       "(10,)"
      ]
     },
     "execution_count": 75,
     "metadata": {},
     "output_type": "execute_result"
    }
   ],
   "source": [
    "np_soft.shape"
   ]
  },
  {
   "cell_type": "code",
   "execution_count": 81,
   "id": "315cb2bd",
   "metadata": {},
   "outputs": [
    {
     "data": {
      "text/plain": [
       "array([['bob', 'sam', 'dan'],\n",
       "       ['20', '18', '15']], dtype='<U11')"
      ]
     },
     "execution_count": 81,
     "metadata": {},
     "output_type": "execute_result"
    }
   ],
   "source": [
    "two_d_array = np.array([['bob', 'sam', 'dan'], [20,18,15]])\n",
    "\n",
    "two_d_array"
   ]
  },
  {
   "cell_type": "code",
   "execution_count": 82,
   "id": "86aad955",
   "metadata": {},
   "outputs": [
    {
     "name": "stdout",
     "output_type": "stream",
     "text": [
      "6\n",
      "(2, 3)\n"
     ]
    }
   ],
   "source": [
    "print(two_d_array.size)\n",
    "print(two_d_array.shape)"
   ]
  },
  {
   "cell_type": "code",
   "execution_count": 92,
   "id": "21fc5593",
   "metadata": {},
   "outputs": [
    {
     "data": {
      "text/plain": [
       "17.666666666666668"
      ]
     },
     "execution_count": 92,
     "metadata": {},
     "output_type": "execute_result"
    }
   ],
   "source": [
    "one_np = two_d_array[1].astype(np.int64).mean()\n",
    "one_np"
   ]
  },
  {
   "cell_type": "code",
   "execution_count": 108,
   "id": "bb541544",
   "metadata": {},
   "outputs": [],
   "source": [
    "np_soft_2 = np.array([['7up', 'coca-cola', 'pepsi', 'maltina', 'sprite', 'kunu', 'zobo', 'mirinda', 'chivita', '5Alive'],\n",
    "                     [100,120,120,120,80,150,120,600,750]], dtype=object)\n",
    "\n",
    "\n",
    "non_carb = np_soft_2[1]"
   ]
  },
  {
   "cell_type": "code",
   "execution_count": 110,
   "id": "680fffaa",
   "metadata": {},
   "outputs": [
    {
     "ename": "AttributeError",
     "evalue": "'list' object has no attribute 'dtype'",
     "output_type": "error",
     "traceback": [
      "\u001b[1;31m---------------------------------------------------------------------------\u001b[0m",
      "\u001b[1;31mAttributeError\u001b[0m                            Traceback (most recent call last)",
      "\u001b[1;32m~\\AppData\\Local\\Temp\\ipykernel_5408\\2956542669.py\u001b[0m in \u001b[0;36m<module>\u001b[1;34m\u001b[0m\n\u001b[1;32m----> 1\u001b[1;33m \u001b[0mnon_carb\u001b[0m\u001b[1;33m.\u001b[0m\u001b[0mdtype\u001b[0m\u001b[1;33m\u001b[0m\u001b[1;33m\u001b[0m\u001b[0m\n\u001b[0m",
      "\u001b[1;31mAttributeError\u001b[0m: 'list' object has no attribute 'dtype'"
     ]
    }
   ],
   "source": []
  },
  {
   "cell_type": "markdown",
   "id": "30a89f2d",
   "metadata": {
    "id": "30a89f2d"
   },
   "source": [
    "#### Find the size of the array below\n",
    "\n",
    "g = np.array([33,23,55,66,12,55,89])"
   ]
  },
  {
   "cell_type": "markdown",
   "id": "2dfa5f0c",
   "metadata": {
    "id": "2dfa5f0c"
   },
   "source": [
    "### Statistical Function"
   ]
  },
  {
   "cell_type": "code",
   "execution_count": 83,
   "id": "dac2c920",
   "metadata": {
    "id": "dac2c920"
   },
   "outputs": [],
   "source": [
    "y = np.array([3,4,5,6,7])"
   ]
  },
  {
   "cell_type": "markdown",
   "id": "6efa32dc",
   "metadata": {
    "id": "6efa32dc"
   },
   "source": [
    "#### mean"
   ]
  },
  {
   "cell_type": "code",
   "execution_count": 84,
   "id": "4061813e",
   "metadata": {
    "id": "4061813e",
    "outputId": "32cebe60-28c4-430c-ec2f-3234615ca427"
   },
   "outputs": [
    {
     "data": {
      "text/plain": [
       "5.0"
      ]
     },
     "execution_count": 84,
     "metadata": {},
     "output_type": "execute_result"
    }
   ],
   "source": [
    "y_mean = y.mean()\n",
    "y_mean"
   ]
  },
  {
   "cell_type": "markdown",
   "id": "948448d6",
   "metadata": {
    "id": "948448d6"
   },
   "source": [
    "#### standard deviation"
   ]
  },
  {
   "cell_type": "code",
   "execution_count": null,
   "id": "e7d2caa2",
   "metadata": {
    "id": "e7d2caa2",
    "outputId": "2d335790-2e91-4411-acc9-f91218d52c73"
   },
   "outputs": [
    {
     "data": {
      "text/plain": [
       "1.4142135623730951"
      ]
     },
     "execution_count": 54,
     "metadata": {},
     "output_type": "execute_result"
    }
   ],
   "source": [
    "y_std = y.std()\n",
    "y_std"
   ]
  },
  {
   "cell_type": "markdown",
   "id": "7be6810d",
   "metadata": {
    "id": "7be6810d"
   },
   "source": [
    "#### max and min"
   ]
  },
  {
   "cell_type": "code",
   "execution_count": null,
   "id": "653ac4d4",
   "metadata": {
    "id": "653ac4d4",
    "outputId": "31b2345a-4238-4f49-99f3-7062a44d67e3"
   },
   "outputs": [
    {
     "name": "stdout",
     "output_type": "stream",
     "text": [
      "7\n",
      "3\n"
     ]
    }
   ],
   "source": [
    "y_max = y.max()\n",
    "print(y_max)\n",
    "\n",
    "y_min = y.min()\n",
    "print(y_min)"
   ]
  },
  {
   "cell_type": "code",
   "execution_count": null,
   "id": "74372477",
   "metadata": {
    "id": "74372477"
   },
   "outputs": [],
   "source": [
    "import numpy as np"
   ]
  },
  {
   "cell_type": "code",
   "execution_count": null,
   "id": "69f1e179",
   "metadata": {
    "id": "69f1e179",
    "outputId": "4ebc3ea5-1b81-4347-9577-990edeac3e74"
   },
   "outputs": [
    {
     "data": {
      "text/plain": [
       "5.0"
      ]
     },
     "execution_count": 6,
     "metadata": {},
     "output_type": "execute_result"
    }
   ],
   "source": [
    "z=np.median(y)\n",
    "z"
   ]
  },
  {
   "cell_type": "markdown",
   "id": "b2a1fd12",
   "metadata": {
    "id": "b2a1fd12"
   },
   "source": [
    "### Calculate the mean, median, min and max value of the data below"
   ]
  },
  {
   "cell_type": "markdown",
   "id": "1b5e313b",
   "metadata": {
    "id": "1b5e313b"
   },
   "source": [
    "### Operation"
   ]
  },
  {
   "cell_type": "markdown",
   "id": "2ea45898",
   "metadata": {
    "id": "2ea45898"
   },
   "source": [
    "#### Addition"
   ]
  },
  {
   "cell_type": "code",
   "execution_count": null,
   "id": "e3b9bfa7",
   "metadata": {
    "id": "e3b9bfa7"
   },
   "outputs": [],
   "source": [
    "import numpy as np"
   ]
  },
  {
   "cell_type": "code",
   "execution_count": 122,
   "id": "c2b7f965",
   "metadata": {
    "id": "c2b7f965"
   },
   "outputs": [],
   "source": [
    "x = np.array([34,55,66,77,88])\n",
    "y = np.array([23,44,55,66,98])\n",
    "\n",
    "\n",
    "s_x = np.array(['joy', 'sam', 'fam'], dtype = 'U')\n",
    "s_y = np.array(['wood', 'rice', 'boy'], dtype = 'U')"
   ]
  },
  {
   "cell_type": "code",
   "execution_count": 119,
   "id": "8e0c36b7",
   "metadata": {
    "id": "8e0c36b7",
    "outputId": "1551f41f-f074-4259-fa44-142a24453130"
   },
   "outputs": [],
   "source": [
    "z = np.add(x, y)\n",
    "\n",
    "#s_z = np.add(s_x, s_y)\n"
   ]
  },
  {
   "cell_type": "markdown",
   "id": "f78446bb",
   "metadata": {
    "id": "f78446bb"
   },
   "source": [
    "#### Subtraction\n"
   ]
  },
  {
   "cell_type": "code",
   "execution_count": null,
   "id": "571af996",
   "metadata": {
    "id": "571af996",
    "outputId": "967d163e-e76c-4a2e-e226-f684359d607f"
   },
   "outputs": [
    {
     "data": {
      "text/plain": [
       "array([ 11,  11,  11,  11, -10])"
      ]
     },
     "execution_count": 13,
     "metadata": {},
     "output_type": "execute_result"
    }
   ],
   "source": [
    "p = np.subtract(x ,y)\n",
    "p"
   ]
  },
  {
   "cell_type": "markdown",
   "id": "ab748686",
   "metadata": {
    "id": "ab748686"
   },
   "source": [
    "#### Multiplication"
   ]
  },
  {
   "cell_type": "code",
   "execution_count": 127,
   "id": "f9a24b1c",
   "metadata": {
    "id": "f9a24b1c",
    "outputId": "2c27e117-101c-4cce-ae77-329aec7a0734"
   },
   "outputs": [
    {
     "data": {
      "text/plain": [
       "array([ 782, 2420, 3630, 5082, 8624])"
      ]
     },
     "execution_count": 127,
     "metadata": {},
     "output_type": "execute_result"
    }
   ],
   "source": [
    "r = np.multiply(x,y)\n",
    "r\n",
    "\n",
    "#s_r = np.multiply(s_x,s_y)"
   ]
  },
  {
   "cell_type": "code",
   "execution_count": null,
   "id": "bac90be4",
   "metadata": {
    "id": "bac90be4",
    "outputId": "74b2aca8-477a-4b71-a00a-63430f7f8f9b"
   },
   "outputs": [
    {
     "data": {
      "text/plain": [
       "array([ 68, 110, 132, 154, 176])"
      ]
     },
     "execution_count": 16,
     "metadata": {},
     "output_type": "execute_result"
    }
   ],
   "source": [
    "## we can also multiply a vector by a scalar\n",
    "\n",
    "q = np.multiply(x,2)\n",
    "q"
   ]
  },
  {
   "cell_type": "markdown",
   "id": "d9d0b49e",
   "metadata": {
    "id": "d9d0b49e"
   },
   "source": [
    "#### Division\n",
    "\n"
   ]
  },
  {
   "cell_type": "code",
   "execution_count": null,
   "id": "d06b3a44",
   "metadata": {
    "id": "d06b3a44",
    "outputId": "734d9032-25e7-4ea8-cd5b-f53bfe1629c0"
   },
   "outputs": [
    {
     "data": {
      "text/plain": [
       "array([ 50, 100, 150])"
      ]
     },
     "execution_count": 20,
     "metadata": {},
     "output_type": "execute_result"
    }
   ],
   "source": [
    "t = np.array([50,100,150])\n",
    "t"
   ]
  },
  {
   "cell_type": "code",
   "execution_count": null,
   "id": "0731606f",
   "metadata": {
    "id": "0731606f",
    "outputId": "4ed0f06e-93e6-4ccb-e4fc-9fac6bdbbd54"
   },
   "outputs": [
    {
     "data": {
      "text/plain": [
       "array([ 5, 10, 15])"
      ]
     },
     "execution_count": 21,
     "metadata": {},
     "output_type": "execute_result"
    }
   ],
   "source": [
    "k = np.array([5,10,15])\n",
    "k"
   ]
  },
  {
   "cell_type": "code",
   "execution_count": null,
   "id": "8d7564d9",
   "metadata": {
    "id": "8d7564d9",
    "outputId": "284cd4ad-fb73-425f-ccba-6f36414625f3"
   },
   "outputs": [
    {
     "data": {
      "text/plain": [
       "array([10., 10., 10.])"
      ]
     },
     "execution_count": 27,
     "metadata": {},
     "output_type": "execute_result"
    }
   ],
   "source": [
    "n = np.divide(t,k)\n",
    "n"
   ]
  },
  {
   "cell_type": "markdown",
   "id": "86a4cec8",
   "metadata": {
    "id": "86a4cec8"
   },
   "source": [
    "### Dot Product"
   ]
  },
  {
   "cell_type": "code",
   "execution_count": null,
   "id": "aa471325",
   "metadata": {
    "id": "aa471325"
   },
   "outputs": [],
   "source": [
    "x=np.array([5,5])\n",
    "y = np.array([2,2])"
   ]
  },
  {
   "cell_type": "code",
   "execution_count": null,
   "id": "fd47b46f",
   "metadata": {
    "id": "fd47b46f",
    "outputId": "99a65b5b-b097-47d3-bbba-77a92f593ff3"
   },
   "outputs": [
    {
     "data": {
      "text/plain": [
       "array([2, 2])"
      ]
     },
     "execution_count": 31,
     "metadata": {},
     "output_type": "execute_result"
    }
   ],
   "source": [
    "y"
   ]
  },
  {
   "cell_type": "code",
   "execution_count": null,
   "id": "0b4c7376",
   "metadata": {
    "id": "0b4c7376",
    "outputId": "1de4fe6e-4c52-410a-d5ef-4cae732ec324"
   },
   "outputs": [
    {
     "data": {
      "text/plain": [
       "20"
      ]
     },
     "execution_count": 32,
     "metadata": {},
     "output_type": "execute_result"
    }
   ],
   "source": [
    "np.dot(x,y)\n"
   ]
  },
  {
   "cell_type": "code",
   "execution_count": null,
   "id": "84a80022",
   "metadata": {
    "id": "84a80022",
    "outputId": "dee7f56a-447d-4ecc-ce87-6065105a7177"
   },
   "outputs": [
    {
     "name": "stdout",
     "output_type": "stream",
     "text": [
      "5\n",
      "5\n"
     ]
    }
   ],
   "source": [
    "print(x[0])\n",
    "print(x[1])"
   ]
  },
  {
   "cell_type": "markdown",
   "id": "3d59b80a",
   "metadata": {
    "id": "3d59b80a"
   },
   "source": [
    "### Adding constant to Numpy Array\n"
   ]
  },
  {
   "cell_type": "code",
   "execution_count": null,
   "id": "c05e7f1f",
   "metadata": {
    "id": "c05e7f1f",
    "outputId": "f0f1e21e-f5f2-4132-e1d4-67385d49fec7"
   },
   "outputs": [
    {
     "data": {
      "text/plain": [
       "array([1, 2, 3, 4, 5, 6])"
      ]
     },
     "execution_count": 35,
     "metadata": {},
     "output_type": "execute_result"
    }
   ],
   "source": [
    "p = np.array([1,2,3,4,5,6])\n",
    "p"
   ]
  },
  {
   "cell_type": "code",
   "execution_count": null,
   "id": "7ebd6716",
   "metadata": {
    "id": "7ebd6716",
    "outputId": "959882ef-96cd-4e7e-c277-4742fac32dc6"
   },
   "outputs": [
    {
     "data": {
      "text/plain": [
       "array([ 6,  7,  8,  9, 10, 11])"
      ]
     },
     "execution_count": 37,
     "metadata": {},
     "output_type": "execute_result"
    }
   ],
   "source": [
    "p + 5"
   ]
  },
  {
   "cell_type": "code",
   "execution_count": 129,
   "id": "08036eee",
   "metadata": {},
   "outputs": [
    {
     "data": {
      "text/plain": [
       "array([20538])"
      ]
     },
     "execution_count": 129,
     "metadata": {},
     "output_type": "execute_result"
    }
   ],
   "source": [
    "np.correlate(x,y)"
   ]
  },
  {
   "cell_type": "markdown",
   "id": "a45d12da",
   "metadata": {
    "id": "a45d12da"
   },
   "source": [
    "### Mathematical Function"
   ]
  },
  {
   "cell_type": "code",
   "execution_count": null,
   "id": "ce06de9d",
   "metadata": {
    "id": "ce06de9d",
    "outputId": "3ecac825-0203-4347-b16d-62098e3d77ef"
   },
   "outputs": [
    {
     "data": {
      "text/plain": [
       "3.141592653589793"
      ]
     },
     "execution_count": 38,
     "metadata": {},
     "output_type": "execute_result"
    }
   ],
   "source": [
    "# pi\n",
    "\n",
    "np.pi"
   ]
  },
  {
   "cell_type": "code",
   "execution_count": null,
   "id": "b5394f5c",
   "metadata": {
    "id": "b5394f5c"
   },
   "outputs": [],
   "source": [
    "# create the numpy array in radians\n",
    "\n",
    "x = np.array([0,np.pi/2,np.pi])"
   ]
  },
  {
   "cell_type": "code",
   "execution_count": null,
   "id": "94735cda",
   "metadata": {
    "id": "94735cda",
    "outputId": "92755867-6e64-41e0-9503-b7ec7e91a049"
   },
   "outputs": [
    {
     "data": {
      "text/plain": [
       "array([0.        , 1.57079633, 3.14159265])"
      ]
     },
     "execution_count": 43,
     "metadata": {},
     "output_type": "execute_result"
    }
   ],
   "source": [
    "x"
   ]
  },
  {
   "cell_type": "markdown",
   "id": "1e912297",
   "metadata": {
    "id": "1e912297"
   },
   "source": [
    "#### We can apply the sin to the array x"
   ]
  },
  {
   "cell_type": "code",
   "execution_count": null,
   "id": "c683c3bd",
   "metadata": {
    "id": "c683c3bd",
    "outputId": "e6af0080-17b7-4bd1-ad9f-5d499f5e42f2"
   },
   "outputs": [
    {
     "data": {
      "text/plain": [
       "array([0.0000000e+00, 1.0000000e+00, 1.2246468e-16])"
      ]
     },
     "execution_count": 45,
     "metadata": {},
     "output_type": "execute_result"
    }
   ],
   "source": [
    "d = np.sin(x)\n",
    "d"
   ]
  },
  {
   "cell_type": "markdown",
   "id": "ecff9b1c",
   "metadata": {
    "id": "ecff9b1c"
   },
   "source": [
    "#### Linespace\n",
    "\n",
    "Linespace returns an evenly spaces numbers over a specified interval.\n",
    "\n",
    "Syntax:\n",
    "numpy.linspace(start, stop, num = int value)\n",
    "\n",
    "start : start of interval range\n",
    "\n",
    "stop : end of interval range\n",
    "\n",
    "num : Number of samples to generate."
   ]
  },
  {
   "cell_type": "code",
   "execution_count": 131,
   "id": "be3548d7",
   "metadata": {
    "id": "be3548d7",
    "outputId": "2d6a641e-e9b7-41c7-f9b3-b1060debb113"
   },
   "outputs": [
    {
     "data": {
      "text/plain": [
       "array([-5. , -2.5,  0. ,  2.5,  5. ])"
      ]
     },
     "execution_count": 131,
     "metadata": {},
     "output_type": "execute_result"
    }
   ],
   "source": [
    "# numpy array within -5,5 with 9 elements\n",
    "\n",
    "np.linspace(-5,5, num = 5)"
   ]
  },
  {
   "cell_type": "code",
   "execution_count": 147,
   "id": "928d7d22",
   "metadata": {},
   "outputs": [
    {
     "data": {
      "text/plain": [
       "array([ 0.        ,  3.33333333,  6.66666667, 10.        , 13.33333333,\n",
       "       16.66666667, 20.        , 23.33333333, 26.66666667, 30.        ])"
      ]
     },
     "execution_count": 147,
     "metadata": {},
     "output_type": "execute_result"
    }
   ],
   "source": [
    "np.linspace(0,30,10)"
   ]
  },
  {
   "cell_type": "code",
   "execution_count": 149,
   "id": "cc6c53bb",
   "metadata": {},
   "outputs": [
    {
     "data": {
      "text/plain": [
       "array([10, 15, 20, 25, 30, 35, 40, 45, 50, 55, 60, 65, 70, 75, 80, 85, 90,\n",
       "       95])"
      ]
     },
     "execution_count": 149,
     "metadata": {},
     "output_type": "execute_result"
    }
   ],
   "source": [
    "np.arange(10,100,5)"
   ]
  },
  {
   "cell_type": "markdown",
   "id": "48787ba2",
   "metadata": {
    "id": "48787ba2"
   },
   "source": [
    "###### We can use the function linspace to generate 100 evenly spaced samples from the interval 0 to 2π:"
   ]
  },
  {
   "cell_type": "code",
   "execution_count": 150,
   "id": "4b36a789",
   "metadata": {
    "id": "4b36a789",
    "outputId": "6155df12-ae50-4b22-fd44-d6fe7b087304"
   },
   "outputs": [
    {
     "data": {
      "text/plain": [
       "array([0.        , 0.06346652, 0.12693304, 0.19039955, 0.25386607,\n",
       "       0.31733259, 0.38079911, 0.44426563, 0.50773215, 0.57119866,\n",
       "       0.63466518, 0.6981317 , 0.76159822, 0.82506474, 0.88853126,\n",
       "       0.95199777, 1.01546429, 1.07893081, 1.14239733, 1.20586385,\n",
       "       1.26933037, 1.33279688, 1.3962634 , 1.45972992, 1.52319644,\n",
       "       1.58666296, 1.65012947, 1.71359599, 1.77706251, 1.84052903,\n",
       "       1.90399555, 1.96746207, 2.03092858, 2.0943951 , 2.15786162,\n",
       "       2.22132814, 2.28479466, 2.34826118, 2.41172769, 2.47519421,\n",
       "       2.53866073, 2.60212725, 2.66559377, 2.72906028, 2.7925268 ,\n",
       "       2.85599332, 2.91945984, 2.98292636, 3.04639288, 3.10985939,\n",
       "       3.17332591, 3.23679243, 3.30025895, 3.36372547, 3.42719199,\n",
       "       3.4906585 , 3.55412502, 3.61759154, 3.68105806, 3.74452458,\n",
       "       3.8079911 , 3.87145761, 3.93492413, 3.99839065, 4.06185717,\n",
       "       4.12532369, 4.1887902 , 4.25225672, 4.31572324, 4.37918976,\n",
       "       4.44265628, 4.5061228 , 4.56958931, 4.63305583, 4.69652235,\n",
       "       4.75998887, 4.82345539, 4.88692191, 4.95038842, 5.01385494,\n",
       "       5.07732146, 5.14078798, 5.2042545 , 5.26772102, 5.33118753,\n",
       "       5.39465405, 5.45812057, 5.52158709, 5.58505361, 5.64852012,\n",
       "       5.71198664, 5.77545316, 5.83891968, 5.9023862 , 5.96585272,\n",
       "       6.02931923, 6.09278575, 6.15625227, 6.21971879, 6.28318531])"
      ]
     },
     "execution_count": 150,
     "metadata": {},
     "output_type": "execute_result"
    }
   ],
   "source": [
    "r = np.linspace(0, 2*np.pi, num = 100)\n",
    "r"
   ]
  },
  {
   "cell_type": "code",
   "execution_count": 151,
   "id": "8ad58330",
   "metadata": {
    "id": "8ad58330"
   },
   "outputs": [],
   "source": [
    "# let's apply the sine function\n",
    "\n",
    "p = np.sin(r)"
   ]
  },
  {
   "cell_type": "code",
   "execution_count": 152,
   "id": "3acb8b8c",
   "metadata": {
    "id": "3acb8b8c",
    "outputId": "a39fe716-e845-4576-fe71-0ee72da9d4a4"
   },
   "outputs": [
    {
     "data": {
      "text/plain": [
       "array([ 0.00000000e+00,  6.34239197e-02,  1.26592454e-01,  1.89251244e-01,\n",
       "        2.51147987e-01,  3.12033446e-01,  3.71662456e-01,  4.29794912e-01,\n",
       "        4.86196736e-01,  5.40640817e-01,  5.92907929e-01,  6.42787610e-01,\n",
       "        6.90079011e-01,  7.34591709e-01,  7.76146464e-01,  8.14575952e-01,\n",
       "        8.49725430e-01,  8.81453363e-01,  9.09631995e-01,  9.34147860e-01,\n",
       "        9.54902241e-01,  9.71811568e-01,  9.84807753e-01,  9.93838464e-01,\n",
       "        9.98867339e-01,  9.99874128e-01,  9.96854776e-01,  9.89821442e-01,\n",
       "        9.78802446e-01,  9.63842159e-01,  9.45000819e-01,  9.22354294e-01,\n",
       "        8.95993774e-01,  8.66025404e-01,  8.32569855e-01,  7.95761841e-01,\n",
       "        7.55749574e-01,  7.12694171e-01,  6.66769001e-01,  6.18158986e-01,\n",
       "        5.67059864e-01,  5.13677392e-01,  4.58226522e-01,  4.00930535e-01,\n",
       "        3.42020143e-01,  2.81732557e-01,  2.20310533e-01,  1.58001396e-01,\n",
       "        9.50560433e-02,  3.17279335e-02, -3.17279335e-02, -9.50560433e-02,\n",
       "       -1.58001396e-01, -2.20310533e-01, -2.81732557e-01, -3.42020143e-01,\n",
       "       -4.00930535e-01, -4.58226522e-01, -5.13677392e-01, -5.67059864e-01,\n",
       "       -6.18158986e-01, -6.66769001e-01, -7.12694171e-01, -7.55749574e-01,\n",
       "       -7.95761841e-01, -8.32569855e-01, -8.66025404e-01, -8.95993774e-01,\n",
       "       -9.22354294e-01, -9.45000819e-01, -9.63842159e-01, -9.78802446e-01,\n",
       "       -9.89821442e-01, -9.96854776e-01, -9.99874128e-01, -9.98867339e-01,\n",
       "       -9.93838464e-01, -9.84807753e-01, -9.71811568e-01, -9.54902241e-01,\n",
       "       -9.34147860e-01, -9.09631995e-01, -8.81453363e-01, -8.49725430e-01,\n",
       "       -8.14575952e-01, -7.76146464e-01, -7.34591709e-01, -6.90079011e-01,\n",
       "       -6.42787610e-01, -5.92907929e-01, -5.40640817e-01, -4.86196736e-01,\n",
       "       -4.29794912e-01, -3.71662456e-01, -3.12033446e-01, -2.51147987e-01,\n",
       "       -1.89251244e-01, -1.26592454e-01, -6.34239197e-02, -2.44929360e-16])"
      ]
     },
     "execution_count": 152,
     "metadata": {},
     "output_type": "execute_result"
    }
   ],
   "source": [
    "p"
   ]
  },
  {
   "cell_type": "code",
   "execution_count": 173,
   "id": "56b3c60a",
   "metadata": {
    "id": "56b3c60a"
   },
   "outputs": [],
   "source": [
    "import matplotlib.pyplot as plt\n",
    "%matplotlib inline"
   ]
  },
  {
   "cell_type": "code",
   "execution_count": 174,
   "id": "55e39c96",
   "metadata": {
    "id": "55e39c96",
    "outputId": "1011b5fd-baab-470d-8cd4-51c104a609de"
   },
   "outputs": [
    {
     "ename": "TypeError",
     "evalue": "'str' object is not callable",
     "output_type": "error",
     "traceback": [
      "\u001b[1;31m---------------------------------------------------------------------------\u001b[0m",
      "\u001b[1;31mTypeError\u001b[0m                                 Traceback (most recent call last)",
      "\u001b[1;32m~\\AppData\\Local\\Temp\\ipykernel_5408\\449956649.py\u001b[0m in \u001b[0;36m<module>\u001b[1;34m\u001b[0m\n\u001b[0;32m      1\u001b[0m \u001b[0mplt\u001b[0m\u001b[1;33m.\u001b[0m\u001b[0mplot\u001b[0m\u001b[1;33m(\u001b[0m\u001b[0mr\u001b[0m\u001b[1;33m,\u001b[0m\u001b[0mp\u001b[0m\u001b[1;33m)\u001b[0m\u001b[1;33m\u001b[0m\u001b[1;33m\u001b[0m\u001b[0m\n\u001b[1;32m----> 2\u001b[1;33m \u001b[0mplt\u001b[0m\u001b[1;33m.\u001b[0m\u001b[0mxlabel\u001b[0m\u001b[1;33m(\u001b[0m\u001b[1;34m\"0 to 2pi\"\u001b[0m\u001b[1;33m)\u001b[0m\u001b[1;33m\u001b[0m\u001b[1;33m\u001b[0m\u001b[0m\n\u001b[0m\u001b[0;32m      3\u001b[0m \u001b[0mplt\u001b[0m\u001b[1;33m.\u001b[0m\u001b[0mshow\u001b[0m\u001b[1;33m(\u001b[0m\u001b[1;33m)\u001b[0m\u001b[1;33m\u001b[0m\u001b[1;33m\u001b[0m\u001b[0m\n",
      "\u001b[1;31mTypeError\u001b[0m: 'str' object is not callable"
     ]
    },
    {
     "data": {
      "image/png": "[encoded data removed]",
      "text/plain": [
       "<Figure size 640x480 with 1 Axes>"
      ]
     },
     "metadata": {},
     "output_type": "display_data"
    }
   ],
   "source": [
    "plt.plot(r,p)\n",
    "#plt.xlabel(\"0 to 2pi\")\n",
    "plt.show()"
   ]
  },
  {
   "cell_type": "code",
   "execution_count": 171,
   "id": "0c1058ba",
   "metadata": {},
   "outputs": [],
   "source": [
    "x_lab = np.arange(100,200,10)\n",
    "\n"
   ]
  },
  {
   "cell_type": "markdown",
   "id": "096228e7",
   "metadata": {
    "id": "096228e7"
   },
   "source": [
    "### Iterating \n",
    "When we iterate over a 1-D array, each element is examined one by one.\n",
    "\n",
    "We obtain **the array format** if we run the numpy array"
   ]
  },
  {
   "cell_type": "code",
   "execution_count": null,
   "id": "bbb12d9e",
   "metadata": {
    "id": "bbb12d9e",
    "outputId": "66f8ca89-0cc3-46d6-ff0e-d5878b4a2f43"
   },
   "outputs": [
    {
     "name": "stdout",
     "output_type": "stream",
     "text": [
      "[4 5 6 7]\n"
     ]
    }
   ],
   "source": [
    "array_1 = np.array([4,5,6,7])\n",
    "print(array_1)"
   ]
  },
  {
   "cell_type": "markdown",
   "id": "59406566",
   "metadata": {
    "id": "59406566"
   },
   "source": [
    "However, if you want the result to be in the form of a list, you can use the for loop:"
   ]
  },
  {
   "cell_type": "code",
   "execution_count": null,
   "id": "f24d3f04",
   "metadata": {
    "id": "f24d3f04",
    "outputId": "7cc2eb9b-62fa-4feb-b6f3-0695f133d7ea"
   },
   "outputs": [
    {
     "name": "stdout",
     "output_type": "stream",
     "text": [
      "4\n",
      "5\n",
      "6\n",
      "7\n"
     ]
    }
   ],
   "source": [
    "for x in array_1:\n",
    "    print(x)"
   ]
  },
  {
   "cell_type": "markdown",
   "id": "76791587",
   "metadata": {
    "id": "76791587"
   },
   "source": [
    "### Class Activity\n",
    "\n",
    "h = [1,2,3]\n",
    "g = [4,5,6]\n",
    "Do the following:\n",
    " 1. Create a numpy  array\n",
    " 2. perform the following operations:\n",
    " Addition\n",
    " Subtraction\n",
    " multiplication\n",
    " dot operation\n",
    " "
   ]
  },
  {
   "cell_type": "markdown",
   "id": "2454a606",
   "metadata": {
    "id": "2454a606"
   },
   "source": [
    "## Dimension of Array\n",
    "\n",
    "so far we have being working on a 1-D array, there are other dimension or ranks of array.\n",
    "\n",
    "## Scalar\n",
    "Refers to a single element"
   ]
  },
  {
   "cell_type": "code",
   "execution_count": null,
   "id": "47d58fcf",
   "metadata": {
    "id": "47d58fcf",
    "outputId": "16dc00ae-1bc6-4619-e208-ed7a68327b84"
   },
   "outputs": [
    {
     "name": "stdout",
     "output_type": "stream",
     "text": [
      "65\n"
     ]
    },
    {
     "data": {
      "text/plain": [
       "0"
      ]
     },
     "execution_count": 7,
     "metadata": {},
     "output_type": "execute_result"
    }
   ],
   "source": [
    "scalar = np.array(65)\n",
    "\n",
    "print(scalar)\n",
    "\n",
    "scalar.ndim"
   ]
  },
  {
   "cell_type": "markdown",
   "id": "dafa5cb2",
   "metadata": {
    "id": "dafa5cb2"
   },
   "source": [
    "## 1-D Array\n",
    "\n",
    "Also known as a uni-dimensional array"
   ]
  },
  {
   "cell_type": "code",
   "execution_count": null,
   "id": "7a2d4a0a",
   "metadata": {
    "id": "7a2d4a0a",
    "outputId": "acbd3604-e812-44d7-b140-d595301f1879"
   },
   "outputs": [
    {
     "name": "stdout",
     "output_type": "stream",
     "text": [
      "[1 2 3 4 5 6]\n"
     ]
    }
   ],
   "source": [
    "one_d_array =np.array([1,2,3,4,5,6])\n",
    "print(one_d_array)"
   ]
  },
  {
   "cell_type": "markdown",
   "id": "ee5b1bc9",
   "metadata": {
    "id": "ee5b1bc9"
   },
   "source": [
    " ## 2-D Array"
   ]
  },
  {
   "cell_type": "code",
   "execution_count": null,
   "id": "5d0407d4",
   "metadata": {
    "id": "5d0407d4",
    "outputId": "b96bc80a-5336-4cc8-ff11-9c55235239ab"
   },
   "outputs": [
    {
     "data": {
      "text/plain": [
       "[[11, 12, 13], [21, 22, 23], [31, 32, 33]]"
      ]
     },
     "execution_count": 60,
     "metadata": {},
     "output_type": "execute_result"
    }
   ],
   "source": [
    "# Create a list\n",
    "\n",
    "b = [[11,12,13],[21,22,23],[31,32,33]]\n",
    "b"
   ]
  },
  {
   "cell_type": "code",
   "execution_count": null,
   "id": "93dc7ae4",
   "metadata": {
    "id": "93dc7ae4",
    "outputId": "a2a1a4da-cb0e-4022-f55b-20bc15c2ad79"
   },
   "outputs": [
    {
     "data": {
      "text/plain": [
       "array([[11, 12, 13],\n",
       "       [21, 22, 23],\n",
       "       [31, 32, 33]])"
      ]
     },
     "execution_count": 61,
     "metadata": {},
     "output_type": "execute_result"
    }
   ],
   "source": [
    "# Convert to Numpy\n",
    "\n",
    "B = np.array(b)\n",
    "B"
   ]
  },
  {
   "cell_type": "markdown",
   "id": "60917643",
   "metadata": {
    "id": "60917643"
   },
   "source": [
    "The attribute ndim can be used to get the number of axes or dimensions, often known as the rank."
   ]
  },
  {
   "cell_type": "code",
   "execution_count": null,
   "id": "0cc5f1d1",
   "metadata": {
    "id": "0cc5f1d1",
    "outputId": "9c604d14-2527-45d5-8b0b-bba58258f07e"
   },
   "outputs": [
    {
     "data": {
      "text/plain": [
       "2"
      ]
     },
     "execution_count": 62,
     "metadata": {},
     "output_type": "execute_result"
    }
   ],
   "source": [
    "# Numpy dimension or rank\n",
    "\n",
    "B.ndim"
   ]
  },
  {
   "cell_type": "markdown",
   "id": "e9e11adb",
   "metadata": {
    "id": "e9e11adb"
   },
   "source": [
    "The size or number of each dimension is returned by attribute shape as a tuple."
   ]
  },
  {
   "cell_type": "code",
   "execution_count": null,
   "id": "0aca10f9",
   "metadata": {
    "id": "0aca10f9"
   },
   "outputs": [],
   "source": [
    "# shape of numpy\n",
    "B.shape"
   ]
  },
  {
   "cell_type": "markdown",
   "id": "de80fbcc",
   "metadata": {
    "id": "de80fbcc"
   },
   "source": [
    "The attribute size specifies the total number of elements in the array."
   ]
  },
  {
   "cell_type": "code",
   "execution_count": null,
   "id": "1ff20f81",
   "metadata": {
    "id": "1ff20f81",
    "outputId": "1d9354f2-dc97-4cba-aa98-2972e8bea423"
   },
   "outputs": [
    {
     "data": {
      "text/plain": [
       "9"
      ]
     },
     "execution_count": 64,
     "metadata": {},
     "output_type": "execute_result"
    }
   ],
   "source": [
    "# Size\n",
    "B.size"
   ]
  },
  {
   "cell_type": "markdown",
   "id": "755809a6",
   "metadata": {
    "id": "755809a6"
   },
   "source": [
    "## Access to Numpy Elements\n",
    "Rectangular brackets can be used to access the array's various elements."
   ]
  },
  {
   "cell_type": "code",
   "execution_count": null,
   "id": "9effd0c5",
   "metadata": {
    "id": "9effd0c5",
    "outputId": "2edc1c68-f3d6-418b-bc24-1b4056014a8a"
   },
   "outputs": [
    {
     "data": {
      "text/plain": [
       "23"
      ]
     },
     "execution_count": 66,
     "metadata": {},
     "output_type": "execute_result"
    }
   ],
   "source": [
    "# Access the element on the second row and third column\n",
    "\n",
    "B[1, 2]"
   ]
  },
  {
   "cell_type": "code",
   "execution_count": null,
   "id": "b8a63a3b",
   "metadata": {
    "id": "b8a63a3b",
    "outputId": "28320de4-b8cf-4149-83a5-640cc932ec0d"
   },
   "outputs": [
    {
     "data": {
      "text/plain": [
       "23"
      ]
     },
     "execution_count": 68,
     "metadata": {},
     "output_type": "execute_result"
    }
   ],
   "source": [
    "# Access the element on the second row and third column\n",
    "\n",
    "B[1][2]"
   ]
  },
  {
   "cell_type": "code",
   "execution_count": null,
   "id": "c1e1d0e0",
   "metadata": {
    "id": "c1e1d0e0",
    "outputId": "ffe3b366-2ad2-4ff9-be3b-237c80aaed07"
   },
   "outputs": [
    {
     "data": {
      "text/plain": [
       "11"
      ]
     },
     "execution_count": 70,
     "metadata": {},
     "output_type": "execute_result"
    }
   ],
   "source": [
    "# Access the element on the first row and first column\n",
    "\n",
    "B[0][0]"
   ]
  },
  {
   "cell_type": "markdown",
   "id": "26ac54fd",
   "metadata": {
    "id": "26ac54fd"
   },
   "source": [
    "### Slicing"
   ]
  },
  {
   "cell_type": "code",
   "execution_count": null,
   "id": "fc088aed",
   "metadata": {
    "id": "fc088aed",
    "outputId": "e174210d-a843-4670-c599-c0d0a6a480e6"
   },
   "outputs": [
    {
     "data": {
      "text/plain": [
       "array([11, 12])"
      ]
     },
     "execution_count": 71,
     "metadata": {},
     "output_type": "execute_result"
    }
   ],
   "source": [
    "# Access the element on the first row and first and second columns\n",
    "\n",
    "B[0][0:2]"
   ]
  },
  {
   "cell_type": "code",
   "execution_count": null,
   "id": "ea0ceddf",
   "metadata": {
    "id": "ea0ceddf",
    "outputId": "5cac3398-cc53-41a0-f8cf-f768250b8b31"
   },
   "outputs": [
    {
     "data": {
      "text/plain": [
       "array([21, 22, 23])"
      ]
     },
     "execution_count": 72,
     "metadata": {},
     "output_type": "execute_result"
    }
   ],
   "source": [
    "# Access the element on the second row and first to third columns\n",
    "B[1][0:3]"
   ]
  },
  {
   "cell_type": "code",
   "execution_count": null,
   "id": "f72bda18",
   "metadata": {
    "id": "f72bda18",
    "outputId": "d6489dc3-f0ad-412c-cdd4-71eb1837d738"
   },
   "outputs": [
    {
     "data": {
      "text/plain": [
       "array([13, 23])"
      ]
     },
     "execution_count": 73,
     "metadata": {},
     "output_type": "execute_result"
    }
   ],
   "source": [
    "# Access the element on the first and second rows and third column\n",
    "\n",
    "B[0:2, 2]"
   ]
  },
  {
   "cell_type": "markdown",
   "id": "3849b6c2",
   "metadata": {
    "id": "3849b6c2"
   },
   "source": [
    "## Arithmetic Operations\n",
    "\n",
    "### Addition"
   ]
  },
  {
   "cell_type": "code",
   "execution_count": null,
   "id": "f2a92274",
   "metadata": {
    "id": "f2a92274"
   },
   "outputs": [],
   "source": [
    "# Create a numpy array X and Y\n",
    "X = np.array([[1,0],[0,1]])\n",
    "Y = np.array([[2,1],[1,2]])"
   ]
  },
  {
   "cell_type": "code",
   "execution_count": null,
   "id": "1c6d6cbd",
   "metadata": {
    "id": "1c6d6cbd",
    "outputId": "2435a236-3679-46de-a65e-6e684a78cfd8"
   },
   "outputs": [
    {
     "data": {
      "text/plain": [
       "array([[3, 1],\n",
       "       [1, 3]])"
      ]
     },
     "execution_count": 78,
     "metadata": {},
     "output_type": "execute_result"
    }
   ],
   "source": [
    "# Add the two arrays\n",
    "\n",
    "p = X + Y\n",
    "p"
   ]
  },
  {
   "cell_type": "markdown",
   "id": "6100c8f1",
   "metadata": {
    "id": "6100c8f1"
   },
   "source": [
    "### Multiplication\n",
    "\n",
    "A numpy array multiplied by a scaler is the same as a matrix multiplied by a scaler. When we multiply the matrix Y by the scaler 2, every element in the matrix is multiplied by two, as illustrated below."
   ]
  },
  {
   "cell_type": "code",
   "execution_count": null,
   "id": "bf80dc1b",
   "metadata": {
    "id": "bf80dc1b",
    "outputId": "4c1ffb47-0ba4-4ade-fa6b-29ada074d5c5"
   },
   "outputs": [
    {
     "data": {
      "text/plain": [
       "array([[4, 2],\n",
       "       [2, 4]])"
      ]
     },
     "execution_count": 81,
     "metadata": {},
     "output_type": "execute_result"
    }
   ],
   "source": [
    "Z = 2 *Y\n",
    "Z"
   ]
  },
  {
   "cell_type": "markdown",
   "id": "74bf3833",
   "metadata": {
    "id": "74bf3833"
   },
   "source": [
    "## Multiplication of 2 array\n",
    "An element-wise product, also known as a Hadamard product, is the result of multiplying two arrays. For example,matrices X and Y. Multiplying elements in the same location will produce a new matrix of the same size as matrix Y or X."
   ]
  },
  {
   "cell_type": "code",
   "execution_count": null,
   "id": "80e325dc",
   "metadata": {
    "id": "80e325dc",
    "outputId": "e4d3ff66-ee77-4492-f062-0994bbc8e542"
   },
   "outputs": [
    {
     "name": "stdout",
     "output_type": "stream",
     "text": [
      "[[1 0]\n",
      " [0 1]]\n"
     ]
    }
   ],
   "source": [
    "print(X)"
   ]
  },
  {
   "cell_type": "code",
   "execution_count": null,
   "id": "684041e2",
   "metadata": {
    "id": "684041e2",
    "outputId": "cb5085c9-f3bd-49e6-d0f1-aa0e34706826"
   },
   "outputs": [
    {
     "name": "stdout",
     "output_type": "stream",
     "text": [
      "[[2 1]\n",
      " [1 2]]\n"
     ]
    }
   ],
   "source": [
    "print(Y)"
   ]
  },
  {
   "cell_type": "code",
   "execution_count": null,
   "id": "f53742b3",
   "metadata": {
    "id": "f53742b3",
    "outputId": "f6920a4c-af00-46e1-f8f9-689583e12564"
   },
   "outputs": [
    {
     "data": {
      "text/plain": [
       "array([[2, 0],\n",
       "       [0, 2]])"
      ]
     },
     "execution_count": 82,
     "metadata": {},
     "output_type": "execute_result"
    }
   ],
   "source": [
    "# Multiplying X by Y\n",
    "Z = X * Y\n",
    "Z"
   ]
  },
  {
   "cell_type": "markdown",
   "id": "de7070b7",
   "metadata": {
    "id": "de7070b7"
   },
   "source": [
    "## Numpy dot\n",
    "Matrix multiplication can also be done with the numpy arrays A and B, as seen below."
   ]
  },
  {
   "cell_type": "code",
   "execution_count": null,
   "id": "8457f303",
   "metadata": {
    "id": "8457f303",
    "outputId": "5915abb3-8c1c-4248-bc93-17e0e4085334"
   },
   "outputs": [
    {
     "data": {
      "text/plain": [
       "array([[0, 1, 1],\n",
       "       [1, 0, 1]])"
      ]
     },
     "execution_count": 89,
     "metadata": {},
     "output_type": "execute_result"
    }
   ],
   "source": [
    "A = np.array([[0,1,1],[1,0,1]])\n",
    "A"
   ]
  },
  {
   "cell_type": "code",
   "execution_count": null,
   "id": "dbda786d",
   "metadata": {
    "id": "dbda786d",
    "outputId": "699dd935-7b64-410f-93f2-466695719e0c"
   },
   "outputs": [
    {
     "data": {
      "text/plain": [
       "array([[ 1,  1],\n",
       "       [ 1,  1],\n",
       "       [-1,  1]])"
      ]
     },
     "execution_count": 91,
     "metadata": {},
     "output_type": "execute_result"
    }
   ],
   "source": [
    "B = np.array([[1,1],[1,1],[-1,1]])\n",
    "B"
   ]
  },
  {
   "cell_type": "markdown",
   "id": "725f6707",
   "metadata": {
    "id": "725f6707"
   },
   "source": [
    "To multiply the arrays together, we use the numpy function dot."
   ]
  },
  {
   "cell_type": "code",
   "execution_count": null,
   "id": "f25c7064",
   "metadata": {
    "id": "f25c7064",
    "outputId": "881d8231-ead3-434d-943f-224c67bb1f36"
   },
   "outputs": [
    {
     "data": {
      "text/plain": [
       "array([[0, 2],\n",
       "       [0, 2]])"
      ]
     },
     "execution_count": 92,
     "metadata": {},
     "output_type": "execute_result"
    }
   ],
   "source": [
    "C = np.dot(A,B)\n",
    "C"
   ]
  },
  {
   "cell_type": "code",
   "execution_count": null,
   "id": "02150e5e",
   "metadata": {
    "id": "02150e5e",
    "outputId": "a4550337-786a-4402-ac02-259f08f1ee7f"
   },
   "outputs": [
    {
     "data": {
      "text/plain": [
       "array([[0.        , 0.90929743],\n",
       "       [0.        , 0.90929743]])"
      ]
     },
     "execution_count": 94,
     "metadata": {},
     "output_type": "execute_result"
    }
   ],
   "source": [
    "np.sin(C)"
   ]
  },
  {
   "cell_type": "markdown",
   "id": "fe2f46dd",
   "metadata": {
    "id": "fe2f46dd"
   },
   "source": [
    "## Transpose\n",
    "\n",
    "The numpy attribute T can be used to calculate the transposed matrix"
   ]
  },
  {
   "cell_type": "code",
   "execution_count": null,
   "id": "9445f869",
   "metadata": {
    "id": "9445f869",
    "outputId": "9ac26590-9926-4620-dcf9-24322872dcf4"
   },
   "outputs": [
    {
     "data": {
      "text/plain": [
       "array([[1, 1],\n",
       "       [2, 2],\n",
       "       [3, 3]])"
      ]
     },
     "execution_count": 95,
     "metadata": {},
     "output_type": "execute_result"
    }
   ],
   "source": [
    "# Create a matrix D\n",
    "\n",
    "D = np.array([[1,1],[2,2],[3,3]])\n",
    "D"
   ]
  },
  {
   "cell_type": "code",
   "execution_count": null,
   "id": "870c28c6",
   "metadata": {
    "id": "870c28c6",
    "outputId": "c1564bd2-3629-4543-bb87-5b705a3202ca"
   },
   "outputs": [
    {
     "data": {
      "text/plain": [
       "array([[1, 2, 3],\n",
       "       [1, 2, 3]])"
      ]
     },
     "execution_count": 96,
     "metadata": {},
     "output_type": "execute_result"
    }
   ],
   "source": [
    "# Get the transposed of C\n",
    "\n",
    "D.T"
   ]
  },
  {
   "cell_type": "markdown",
   "id": "a953e89a",
   "metadata": {
    "id": "a953e89a"
   },
   "source": [
    "## Class Activity\n",
    "X = [[1, 2, 3, 4], [5, 6, 7, 8], [9, 10, 11, 12]]\n",
    "\n",
    "Do the following:\n",
    "1. Convert to a numpy array\n",
    "\n",
    "2. size\n",
    "\n",
    "3. Access the element on the second row and first and second columns.\n",
    "\n",
    "4. Perform matrix multiplication with the numpy arrays X and Y\n",
    "\n",
    "Given Y as [[0, 1], [1, 0], [1, 1], [-1, 0]]\n"
   ]
  },
  {
   "cell_type": "markdown",
   "id": "667fc430",
   "metadata": {
    "id": "667fc430"
   },
   "source": [
    "# Copy and View"
   ]
  },
  {
   "cell_type": "markdown",
   "id": "81530b6c",
   "metadata": {
    "id": "81530b6c"
   },
   "source": [
    "The primary distinction between a copy and a view of an array is that the copy creates a new array, whereas the view simply displays the original array.\n",
    "\n",
    "Any modifications made to the copy will have no effect on the original array, and any changes made to the original array will have no effect on the copy.\n",
    "\n",
    "\n",
    "\n",
    "The view does not own the data, therefore any changes to the view will have an impact on the original array, and any changes to the original array will have an impact on the view."
   ]
  },
  {
   "cell_type": "code",
   "execution_count": null,
   "id": "96040f39",
   "metadata": {
    "id": "96040f39",
    "outputId": "c5fe5f9e-92c4-4374-c265-1c16a7663008"
   },
   "outputs": [
    {
     "name": "stdout",
     "output_type": "stream",
     "text": [
      "[1 6 3 4 5]\n",
      "[1 2 3 4 5]\n"
     ]
    }
   ],
   "source": [
    "# Copy\n",
    "\n",
    "g = np.array([1,2,3,4,5])\n",
    "h = g.copy()\n",
    "g[1]=6\n",
    "\n",
    "print(g)\n",
    "print(h)"
   ]
  },
  {
   "cell_type": "code",
   "execution_count": null,
   "id": "aa4c20ba",
   "metadata": {
    "id": "aa4c20ba",
    "outputId": "cc580bd9-c3f4-425a-ff41-643764f5edbd"
   },
   "outputs": [
    {
     "name": "stdout",
     "output_type": "stream",
     "text": [
      "[1 6 3 4 5]\n",
      "[1 6 3 4 5]\n"
     ]
    }
   ],
   "source": [
    "# View\n",
    "g = np.array([1,2,3,4,5])\n",
    "k = g.view()\n",
    "g[1]=6\n",
    "\n",
    "print(g)\n",
    "print(k)"
   ]
  },
  {
   "cell_type": "code",
   "execution_count": null,
   "id": "a15352ac",
   "metadata": {
    "id": "a15352ac",
    "outputId": "c209c292-d6a3-4337-8b91-4df7ba213d2b"
   },
   "outputs": [
    {
     "name": "stdout",
     "output_type": "stream",
     "text": [
      "[ 1  6  3 15  5]\n",
      "[ 1  6  3 15  5]\n"
     ]
    }
   ],
   "source": [
    "k[3] = 15\n",
    "\n",
    "print(g)\n",
    "print(k)"
   ]
  },
  {
   "cell_type": "markdown",
   "id": "3a7972c8",
   "metadata": {
    "id": "3a7972c8"
   },
   "source": [
    "## Check the data owner\n",
    "\n",
    "As previously stated, copies own the data, whereas views do not, but how can we verify this?\n",
    "\n",
    "The base attribute in NumPy arrays returns None if the array owns the data.\n",
    "\n",
    "The base attribute otherwise refers to the original object."
   ]
  },
  {
   "cell_type": "code",
   "execution_count": null,
   "id": "5b090fe9",
   "metadata": {
    "id": "5b090fe9",
    "outputId": "2412cd92-2740-4285-c1da-7adb8bac1d01"
   },
   "outputs": [
    {
     "name": "stdout",
     "output_type": "stream",
     "text": [
      "None\n",
      "[1 2 3 4 5]\n"
     ]
    }
   ],
   "source": [
    "array_1 = np.array([1,2,3,4,5])\n",
    "x= array_1.copy()\n",
    "y=array_1.view()\n",
    "\n",
    "print(x.base)\n",
    "print(y.base)"
   ]
  },
  {
   "cell_type": "markdown",
   "id": "b059d1dc",
   "metadata": {
    "id": "b059d1dc"
   },
   "source": [
    "### Subsetting using boolean "
   ]
  },
  {
   "cell_type": "code",
   "execution_count": null,
   "id": "f134b259",
   "metadata": {
    "id": "f134b259"
   },
   "outputs": [],
   "source": [
    "y=np.array([1,2,3,4,5])\n",
    "z = y>2"
   ]
  },
  {
   "cell_type": "code",
   "execution_count": null,
   "id": "c54b7734",
   "metadata": {
    "id": "c54b7734",
    "outputId": "79b3c1b4-1e62-4f6e-de9c-abde407c95b6"
   },
   "outputs": [
    {
     "name": "stdout",
     "output_type": "stream",
     "text": [
      "[False False  True  True  True]\n"
     ]
    }
   ],
   "source": [
    "print(z)"
   ]
  },
  {
   "cell_type": "code",
   "execution_count": null,
   "id": "346ce90c",
   "metadata": {
    "id": "346ce90c",
    "outputId": "d99f97e8-99fd-448a-dc0a-b7f8d4da2396"
   },
   "outputs": [
    {
     "name": "stdout",
     "output_type": "stream",
     "text": [
      "[3 4 5]\n"
     ]
    }
   ],
   "source": [
    "print(y[z])"
   ]
  },
  {
   "cell_type": "markdown",
   "id": "bae9e26f",
   "metadata": {
    "id": "bae9e26f"
   },
   "source": [
    "## Generating Data in Numpy\n",
    "\n",
    "### Random Numbers"
   ]
  },
  {
   "cell_type": "code",
   "execution_count": null,
   "id": "9b47bc9e",
   "metadata": {
    "id": "9b47bc9e"
   },
   "outputs": [],
   "source": [
    "import numpy as np"
   ]
  },
  {
   "cell_type": "code",
   "execution_count": null,
   "id": "0cb1aa9e",
   "metadata": {
    "id": "0cb1aa9e"
   },
   "outputs": [],
   "source": [
    "height = np.round(np.random.normal(1.91, 0.19,6000),2)\n",
    "weight = np.round(np.random.normal(65.55,15,6000),2)\n",
    "np_team = np.column_stack((height,weight))"
   ]
  },
  {
   "cell_type": "code",
   "execution_count": null,
   "id": "cec529d6",
   "metadata": {
    "id": "cec529d6",
    "outputId": "f7f004be-e65e-4f90-a1c2-e591300f5058"
   },
   "outputs": [
    {
     "data": {
      "text/plain": [
       "(6000, 2)"
      ]
     },
     "execution_count": 15,
     "metadata": {},
     "output_type": "execute_result"
    }
   ],
   "source": [
    "np_team.shape"
   ]
  },
  {
   "cell_type": "markdown",
   "id": "3cc26ed9",
   "metadata": {
    "id": "3cc26ed9"
   },
   "source": [
    "## Mean"
   ]
  },
  {
   "cell_type": "code",
   "execution_count": null,
   "id": "cef91ccc",
   "metadata": {
    "id": "cef91ccc",
    "outputId": "55c30290-162a-4b28-d111-2e651cfe8149"
   },
   "outputs": [
    {
     "data": {
      "text/plain": [
       "1.91"
      ]
     },
     "execution_count": 29,
     "metadata": {},
     "output_type": "execute_result"
    }
   ],
   "source": [
    "height_mean = np.round(np.mean(np_team[:,0]),2)\n",
    "height_mean"
   ]
  },
  {
   "cell_type": "code",
   "execution_count": null,
   "id": "57df4833",
   "metadata": {
    "id": "57df4833",
    "outputId": "c36257f8-b309-416e-ad41-b6544fc033bb"
   },
   "outputs": [
    {
     "data": {
      "text/plain": [
       "1.92"
      ]
     },
     "execution_count": 33,
     "metadata": {},
     "output_type": "execute_result"
    }
   ],
   "source": [
    "height_median = np.round(np.median(np_team[:,0]),2)\n",
    "height_median"
   ]
  },
  {
   "cell_type": "code",
   "execution_count": null,
   "id": "72748e1a",
   "metadata": {
    "id": "72748e1a",
    "outputId": "370cc572-9b61-423b-90ef-1d4ef9e55f0d"
   },
   "outputs": [
    {
     "data": {
      "text/plain": [
       "array([[1.       , 0.0199107],\n",
       "       [0.0199107, 1.       ]])"
      ]
     },
     "execution_count": 34,
     "metadata": {},
     "output_type": "execute_result"
    }
   ],
   "source": [
    "np_team_corr = np.corrcoef(np_team[:,0],np_team[:,1])\n",
    "np_team_corr"
   ]
  },
  {
   "cell_type": "code",
   "execution_count": null,
   "id": "51374b01",
   "metadata": {
    "id": "51374b01",
    "outputId": "09771bd6-0dc0-45db-e9df-45c6328d2f1c"
   },
   "outputs": [
    {
     "data": {
      "text/plain": [
       "0.18625132077085757"
      ]
     },
     "execution_count": 35,
     "metadata": {},
     "output_type": "execute_result"
    }
   ],
   "source": [
    "np.std(np_team[:,0])"
   ]
  },
  {
   "cell_type": "code",
   "execution_count": null,
   "id": "08e71e91",
   "metadata": {
    "id": "08e71e91"
   },
   "outputs": [],
   "source": []
  }
 ],
 "metadata": {
  "colab": {
   "provenance": []
  },
  "kernelspec": {
   "display_name": "Python 3 (ipykernel)",
   "language": "python",
   "name": "python3"
  },
  "language_info": {
   "codemirror_mode": {
    "name": "ipython",
    "version": 3
   },
   "file_extension": ".py",
   "mimetype": "text/x-python",
   "name": "python",
   "nbconvert_exporter": "python",
   "pygments_lexer": "ipython3",
   "version": "3.9.13"
  }
 },
 "nbformat": 4,
 "nbformat_minor": 5
}
