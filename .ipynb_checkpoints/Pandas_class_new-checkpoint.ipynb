{
 "cells": [
  {
   "cell_type": "markdown",
   "metadata": {
    "id": "zwBOOHmYf3C7"
   },
   "source": [
    "## Pandas for Data Manipulation\n",
    "\n",
    "Pandas is an abbreviation of Panel Data. It is used for data wrangling, manipulation, analysis and visualization.\n",
    "\n",
    "Pandas is built on the NumPy package. So it's underlying functions are array-like.\n",
    "\n",
    "Pandas has two major ways of presenting data.\n",
    "\n",
    "* **Pandas Series** - a one dimensional array-like datatype\n",
    "* **Pandas DataFrame** - a two dimensional datatype for manipulating tabular data.\n",
    "\n",
    "The last but less frequently used datatype in pandas is the PANEL dATA which is a framework for working with 3D data.\n",
    "\n",
    "##bolu.oludupin@gmail.com"
   ]
  },
  {
   "cell_type": "markdown",
   "metadata": {
    "id": "Wpt8Wtppjmq8"
   },
   "source": [
    "## Preparing your Pandas Environment\n",
    "\n",
    "If you do not have pandas intalled, you can use\n",
    "\n",
    "      pip install pandas\n",
    "\n",
    "to intall pandas into your evironment.\n",
    "\n",
    "\n",
    "Next, we have to import pandas into our working environment.\n"
   ]
  },
  {
   "cell_type": "code",
   "execution_count": null,
   "metadata": {
    "id": "HXsDv__-e-pJ"
   },
   "outputs": [],
   "source": [
    "import pandas as pd\n",
    "import numpy as np\n",
    "import matplotlib.pyplot as plt\n",
    "import seaborn as sns"
   ]
  },
  {
   "cell_type": "markdown",
   "metadata": {
    "id": "vzQ7MyWlkwwU"
   },
   "source": [
    "## Pandas Series Object\n",
    "\n",
    "This is like a NumPy 1-D array. It also has homogeneous data types.\n",
    "\n",
    "\n",
    "### Creating a Pandas Series Object"
   ]
  },
  {
   "cell_type": "markdown",
   "metadata": {
    "id": "5dZejwuclkhH"
   },
   "source": [
    "### 1. Creating Series Objects from Dictionaries"
   ]
  },
  {
   "cell_type": "code",
   "execution_count": null,
   "metadata": {
    "colab": {
     "base_uri": "https://localhost:8080/"
    },
    "id": "4JmSJwjvkfZC",
    "outputId": "0a7bf43a-5bb2-4137-bbda-3b2e0858ae89"
   },
   "outputs": [
    {
     "data": {
      "text/plain": [
       "coke          200\n",
       "malt          250\n",
       "nutri-milk    300\n",
       "zobo          100\n",
       "fearless      300\n",
       "dtype: int64"
      ]
     },
     "execution_count": 2,
     "metadata": {},
     "output_type": "execute_result"
    }
   ],
   "source": [
    "dict1 = {'coke':200, 'malt': 250, 'nutri-milk': 300, 'zobo':100, 'fearless': 300}\n",
    "\n",
    "#create pandas series using pd.series\n",
    "\n",
    "drinks = pd.Series(dict1)\n",
    "\n",
    "drinks\n"
   ]
  },
  {
   "cell_type": "code",
   "execution_count": null,
   "metadata": {
    "colab": {
     "base_uri": "https://localhost:8080/"
    },
    "id": "glZARxreoA8d",
    "outputId": "4a3c42a6-355e-4897-f315-3dce7b06de48"
   },
   "outputs": [
    {
     "data": {
      "text/plain": [
       "Index(['coke', 'malt', 'nutri-milk', 'zobo', 'fearless'], dtype='object')"
      ]
     },
     "execution_count": 3,
     "metadata": {},
     "output_type": "execute_result"
    }
   ],
   "source": [
    "drinks.index"
   ]
  },
  {
   "cell_type": "code",
   "execution_count": null,
   "metadata": {
    "colab": {
     "base_uri": "https://localhost:8080/"
    },
    "id": "F-ol1jZMoUMh",
    "outputId": "838f6e84-eddf-4120-927d-159f4cd49754"
   },
   "outputs": [
    {
     "data": {
      "text/plain": [
       "array([200, 250, 300, 100, 300])"
      ]
     },
     "execution_count": 4,
     "metadata": {},
     "output_type": "execute_result"
    }
   ],
   "source": [
    "drinks.values"
   ]
  },
  {
   "cell_type": "code",
   "execution_count": null,
   "metadata": {
    "colab": {
     "base_uri": "https://localhost:8080/"
    },
    "id": "DUvzsciponqe",
    "outputId": "9e5b9b5b-5085-42db-ad0f-7e91cf23d7e4"
   },
   "outputs": [
    {
     "data": {
      "text/plain": [
       "200"
      ]
     },
     "execution_count": 5,
     "metadata": {},
     "output_type": "execute_result"
    }
   ],
   "source": [
    "drinks['coke']"
   ]
  },
  {
   "cell_type": "code",
   "execution_count": null,
   "metadata": {
    "colab": {
     "base_uri": "https://localhost:8080/"
    },
    "id": "cwCTsXruo1t-",
    "outputId": "67e51260-614a-42a7-811f-a8c0ca9b654b"
   },
   "outputs": [
    {
     "data": {
      "text/plain": [
       "chi exotic   NaN\n",
       "eva wine     NaN\n",
       "vita milk    NaN\n",
       "chivita      NaN\n",
       "dtype: float64"
      ]
     },
     "execution_count": 16,
     "metadata": {},
     "output_type": "execute_result"
    }
   ],
   "source": [
    "dict2 = {0: 950, 1: 1350, 2: 2500, 3: 700}\n",
    "\n",
    "more_drinks = pd.Series(dict2, index = ['chi exotic', 'eva wine', 'vita milk', 'chivita'])\n",
    "\n",
    "more_drinks"
   ]
  },
  {
   "cell_type": "markdown",
   "metadata": {
    "id": "ucoCp4w8spGR"
   },
   "source": [
    "### 2. Create a Pandas Series using lists"
   ]
  },
  {
   "cell_type": "code",
   "execution_count": null,
   "metadata": {
    "colab": {
     "base_uri": "https://localhost:8080/"
    },
    "id": "IuR1nwSbqcMb",
    "outputId": "f6a0590e-fb06-4e6a-8ffa-b7a09fcb85d3"
   },
   "outputs": [
    {
     "data": {
      "text/plain": [
       "chi exotic     950\n",
       "eva wine      1350\n",
       "vita milk     2500\n",
       "chivita        700\n",
       "dtype: int64"
      ]
     },
     "execution_count": 23,
     "metadata": {},
     "output_type": "execute_result"
    }
   ],
   "source": [
    "index = ['chi exotic', 'eva wine', 'vita milk', 'chivita']\n",
    "list1 = [950, 1350, 2500, 700]\n",
    "more_drinks = pd.Series(list1, index = index)\n",
    "\n",
    "more_drinks"
   ]
  },
  {
   "cell_type": "code",
   "execution_count": null,
   "metadata": {
    "id": "8bUGstr8rq0P"
   },
   "outputs": [],
   "source": [
    "xc = pd.Series(index, name = 'soft_drinks')"
   ]
  },
  {
   "cell_type": "code",
   "execution_count": null,
   "metadata": {
    "colab": {
     "base_uri": "https://localhost:8080/"
    },
    "id": "cGJ6sUt7tYpk",
    "outputId": "b3ef85ef-ce40-4e04-f1d4-b90010928380"
   },
   "outputs": [
    {
     "data": {
      "text/plain": [
       "0    chi exotic\n",
       "1      eva wine\n",
       "2     vita milk\n",
       "3       chivita\n",
       "Name: soft_drinks, dtype: object"
      ]
     },
     "execution_count": 22,
     "metadata": {},
     "output_type": "execute_result"
    }
   ],
   "source": [
    "xc"
   ]
  },
  {
   "cell_type": "markdown",
   "metadata": {
    "id": "5ioNWDBpt-f0"
   },
   "source": [
    "### Combining Pandas Series Objects"
   ]
  },
  {
   "cell_type": "code",
   "execution_count": null,
   "metadata": {
    "colab": {
     "base_uri": "https://localhost:8080/"
    },
    "id": "tvE6lwWttZdd",
    "outputId": "5c5f266f-b524-4b21-8fc0-8426f56a44b5"
   },
   "outputs": [
    {
     "name": "stdout",
     "output_type": "stream",
     "text": [
      "coke          200\n",
      "malt          250\n",
      "nutri-milk    300\n",
      "zobo          100\n",
      "fearless      300\n",
      "dtype: int64\n",
      "chi exotic     950\n",
      "eva wine      1350\n",
      "vita milk     2500\n",
      "chivita        700\n",
      "dtype: int64\n",
      "\n",
      "coke           200\n",
      "malt           250\n",
      "nutri-milk     300\n",
      "zobo           100\n",
      "fearless       300\n",
      "chi exotic     950\n",
      "eva wine      1350\n",
      "vita milk     2500\n",
      "chivita        700\n",
      "dtype: int64\n"
     ]
    }
   ],
   "source": [
    "print(drinks)\n",
    "print(more_drinks, end='\\n\\n')\n",
    "\n",
    "soft_drinks = pd.concat([drinks,more_drinks])\n",
    "\n",
    "print(soft_drinks)"
   ]
  },
  {
   "cell_type": "code",
   "execution_count": null,
   "metadata": {
    "id": "MELe59NXuOSr"
   },
   "outputs": [],
   "source": []
  },
  {
   "cell_type": "markdown",
   "metadata": {
    "id": "oj01N6pgwzLo"
   },
   "source": [
    "### Some Indexing and Slicing\n",
    "\n"
   ]
  },
  {
   "cell_type": "code",
   "execution_count": null,
   "metadata": {
    "colab": {
     "base_uri": "https://localhost:8080/"
    },
    "id": "hNDdAMK4xSYd",
    "outputId": "7b23fca6-9519-4be4-9b98-f699cf7e2fcd"
   },
   "outputs": [
    {
     "data": {
      "text/plain": [
       "350"
      ]
     },
     "execution_count": 30,
     "metadata": {},
     "output_type": "execute_result"
    }
   ],
   "source": [
    "soft_drinks['fearless'] = 350\n",
    "\n",
    "soft_drinks['fearless']"
   ]
  },
  {
   "cell_type": "code",
   "execution_count": null,
   "metadata": {
    "colab": {
     "base_uri": "https://localhost:8080/"
    },
    "id": "JxlmshBBxX_W",
    "outputId": "a3e561f1-247e-43fa-d80e-7ee4f1f4f063"
   },
   "outputs": [
    {
     "data": {
      "text/plain": [
       "coke          200\n",
       "malt          250\n",
       "nutri-milk    300\n",
       "zobo          100\n",
       "dtype: int64"
      ]
     },
     "execution_count": 32,
     "metadata": {},
     "output_type": "execute_result"
    }
   ],
   "source": [
    "soft_drinks['coke': 'zobo']"
   ]
  },
  {
   "cell_type": "code",
   "execution_count": null,
   "metadata": {
    "colab": {
     "base_uri": "https://localhost:8080/"
    },
    "id": "Q6Yz3sr0xuuZ",
    "outputId": "3feb94e8-ab3f-4b11-96ab-7764bd320077"
   },
   "outputs": [
    {
     "data": {
      "text/plain": [
       "1350"
      ]
     },
     "execution_count": 33,
     "metadata": {},
     "output_type": "execute_result"
    }
   ],
   "source": [
    "soft_drinks[6]"
   ]
  },
  {
   "cell_type": "code",
   "execution_count": null,
   "metadata": {
    "colab": {
     "base_uri": "https://localhost:8080/"
    },
    "id": "dQtijpy6yKMF",
    "outputId": "d27f16dd-1e6c-49a6-d164-d791f9deebdb"
   },
   "outputs": [
    {
     "data": {
      "text/plain": [
       "dtype('int64')"
      ]
     },
     "execution_count": 35,
     "metadata": {},
     "output_type": "execute_result"
    }
   ],
   "source": [
    "type(soft_drinks)\n",
    "soft_drinks.dtype"
   ]
  },
  {
   "cell_type": "markdown",
   "metadata": {
    "id": "yXgr3CuizNHL"
   },
   "source": [
    "## Pandas DataFrames\n",
    "\n",
    "A DataFrame is a 2-D array of two or more Series objects."
   ]
  },
  {
   "cell_type": "markdown",
   "metadata": {
    "id": "keGfF8940nOh"
   },
   "source": [
    "### Creating DataFrames\n",
    "\n",
    "### 1. Create DataFrames from a Dictionary of Lists"
   ]
  },
  {
   "cell_type": "code",
   "execution_count": null,
   "metadata": {
    "colab": {
     "base_uri": "https://localhost:8080/",
     "height": 952
    },
    "id": "uFSGFWLC0xWb",
    "outputId": "966df86f-269f-48d1-952b-bc26329323a3"
   },
   "outputs": [
    {
     "data": {
      "text/html": [
       "\n",
       "\n",
       "  <div id=\"df-1306156f-f986-4a88-816c-8150e4e56113\">\n",
       "    <div class=\"colab-df-container\">\n",
       "      <div>\n",
       "<style scoped>\n",
       "    .dataframe tbody tr th:only-of-type {\n",
       "        vertical-align: middle;\n",
       "    }\n",
       "\n",
       "    .dataframe tbody tr th {\n",
       "        vertical-align: top;\n",
       "    }\n",
       "\n",
       "    .dataframe thead th {\n",
       "        text-align: right;\n",
       "    }\n",
       "</style>\n",
       "<table border=\"1\" class=\"dataframe\">\n",
       "  <thead>\n",
       "    <tr style=\"text-align: right;\">\n",
       "      <th></th>\n",
       "      <th>clubs</th>\n",
       "      <th>UCL Titles</th>\n",
       "    </tr>\n",
       "  </thead>\n",
       "  <tbody>\n",
       "    <tr>\n",
       "      <th>1</th>\n",
       "      <td>Real Madrid</td>\n",
       "      <td>14</td>\n",
       "    </tr>\n",
       "    <tr>\n",
       "      <th>2</th>\n",
       "      <td>Barcelona</td>\n",
       "      <td>3</td>\n",
       "    </tr>\n",
       "    <tr>\n",
       "      <th>3</th>\n",
       "      <td>Inter Milan</td>\n",
       "      <td>3</td>\n",
       "    </tr>\n",
       "    <tr>\n",
       "      <th>4</th>\n",
       "      <td>AC Milan</td>\n",
       "      <td>7</td>\n",
       "    </tr>\n",
       "    <tr>\n",
       "      <th>5</th>\n",
       "      <td>Chelsea</td>\n",
       "      <td>2</td>\n",
       "    </tr>\n",
       "    <tr>\n",
       "      <th>6</th>\n",
       "      <td>Liverpool</td>\n",
       "      <td>5</td>\n",
       "    </tr>\n",
       "    <tr>\n",
       "      <th>7</th>\n",
       "      <td>Manchester United</td>\n",
       "      <td>3</td>\n",
       "    </tr>\n",
       "  </tbody>\n",
       "</table>\n",
       "</div>\n",
       "      <button class=\"colab-df-convert\" onclick=\"convertToInteractive('df-1306156f-f986-4a88-816c-8150e4e56113')\"\n",
       "              title=\"Convert this dataframe to an interactive table.\"\n",
       "              style=\"display:none;\">\n",
       "\n",
       "  <svg xmlns=\"http://www.w3.org/2000/svg\" height=\"24px\"viewBox=\"0 0 24 24\"\n",
       "       width=\"24px\">\n",
       "    <path d=\"M0 0h24v24H0V0z\" fill=\"none\"/>\n",
       "    <path d=\"M18.56 5.44l.94 2.06.94-2.06 2.06-.94-2.06-.94-.94-2.06-.94 2.06-2.06.94zm-11 1L8.5 8.5l.94-2.06 2.06-.94-2.06-.94L8.5 2.5l-.94 2.06-2.06.94zm10 10l.94 2.06.94-2.06 2.06-.94-2.06-.94-.94-2.06-.94 2.06-2.06.94z\"/><path d=\"M17.41 7.96l-1.37-1.37c-.4-.4-.92-.59-1.43-.59-.52 0-1.04.2-1.43.59L10.3 9.45l-7.72 7.72c-.78.78-.78 2.05 0 2.83L4 21.41c.39.39.9.59 1.41.59.51 0 1.02-.2 1.41-.59l7.78-7.78 2.81-2.81c.8-.78.8-2.07 0-2.86zM5.41 20L4 18.59l7.72-7.72 1.47 1.35L5.41 20z\"/>\n",
       "  </svg>\n",
       "      </button>\n",
       "\n",
       "\n",
       "\n",
       "    <div id=\"df-e0255aca-e155-496a-8686-2b9263a77593\">\n",
       "      <button class=\"colab-df-quickchart\" onclick=\"quickchart('df-e0255aca-e155-496a-8686-2b9263a77593')\"\n",
       "              title=\"Suggest charts.\"\n",
       "              style=\"display:none;\">\n",
       "\n",
       "<svg xmlns=\"http://www.w3.org/2000/svg\" height=\"24px\"viewBox=\"0 0 24 24\"\n",
       "     width=\"24px\">\n",
       "    <g>\n",
       "        <path d=\"M19 3H5c-1.1 0-2 .9-2 2v14c0 1.1.9 2 2 2h14c1.1 0 2-.9 2-2V5c0-1.1-.9-2-2-2zM9 17H7v-7h2v7zm4 0h-2V7h2v10zm4 0h-2v-4h2v4z\"/>\n",
       "    </g>\n",
       "</svg>\n",
       "      </button>\n",
       "    </div>\n",
       "\n",
       "<style>\n",
       "  .colab-df-quickchart {\n",
       "    background-color: #E8F0FE;\n",
       "    border: none;\n",
       "    border-radius: 50%;\n",
       "    cursor: pointer;\n",
       "    display: none;\n",
       "    fill: #1967D2;\n",
       "    height: 32px;\n",
       "    padding: 0 0 0 0;\n",
       "    width: 32px;\n",
       "  }\n",
       "\n",
       "  .colab-df-quickchart:hover {\n",
       "    background-color: #E2EBFA;\n",
       "    box-shadow: 0px 1px 2px rgba(60, 64, 67, 0.3), 0px 1px 3px 1px rgba(60, 64, 67, 0.15);\n",
       "    fill: #174EA6;\n",
       "  }\n",
       "\n",
       "  [theme=dark] .colab-df-quickchart {\n",
       "    background-color: #3B4455;\n",
       "    fill: #D2E3FC;\n",
       "  }\n",
       "\n",
       "  [theme=dark] .colab-df-quickchart:hover {\n",
       "    background-color: #434B5C;\n",
       "    box-shadow: 0px 1px 3px 1px rgba(0, 0, 0, 0.15);\n",
       "    filter: drop-shadow(0px 1px 2px rgba(0, 0, 0, 0.3));\n",
       "    fill: #FFFFFF;\n",
       "  }\n",
       "</style>\n",
       "\n",
       "    <script>\n",
       "      async function quickchart(key) {\n",
       "        const containerElement = document.querySelector('#' + key);\n",
       "        const charts = await google.colab.kernel.invokeFunction(\n",
       "            'suggestCharts', [key], {});\n",
       "      }\n",
       "    </script>\n",
       "\n",
       "      <script>\n",
       "\n",
       "function displayQuickchartButton(domScope) {\n",
       "  let quickchartButtonEl =\n",
       "    domScope.querySelector('#df-e0255aca-e155-496a-8686-2b9263a77593 button.colab-df-quickchart');\n",
       "  quickchartButtonEl.style.display =\n",
       "    google.colab.kernel.accessAllowed ? 'block' : 'none';\n",
       "}\n",
       "\n",
       "        displayQuickchartButton(document);\n",
       "      </script>\n",
       "      <style>\n",
       "    .colab-df-container {\n",
       "      display:flex;\n",
       "      flex-wrap:wrap;\n",
       "      gap: 12px;\n",
       "    }\n",
       "\n",
       "    .colab-df-convert {\n",
       "      background-color: #E8F0FE;\n",
       "      border: none;\n",
       "      border-radius: 50%;\n",
       "      cursor: pointer;\n",
       "      display: none;\n",
       "      fill: #1967D2;\n",
       "      height: 32px;\n",
       "      padding: 0 0 0 0;\n",
       "      width: 32px;\n",
       "    }\n",
       "\n",
       "    .colab-df-convert:hover {\n",
       "      background-color: #E2EBFA;\n",
       "      box-shadow: 0px 1px 2px rgba(60, 64, 67, 0.3), 0px 1px 3px 1px rgba(60, 64, 67, 0.15);\n",
       "      fill: #174EA6;\n",
       "    }\n",
       "\n",
       "    [theme=dark] .colab-df-convert {\n",
       "      background-color: #3B4455;\n",
       "      fill: #D2E3FC;\n",
       "    }\n",
       "\n",
       "    [theme=dark] .colab-df-convert:hover {\n",
       "      background-color: #434B5C;\n",
       "      box-shadow: 0px 1px 3px 1px rgba(0, 0, 0, 0.15);\n",
       "      filter: drop-shadow(0px 1px 2px rgba(0, 0, 0, 0.3));\n",
       "      fill: #FFFFFF;\n",
       "    }\n",
       "  </style>\n",
       "\n",
       "      <script>\n",
       "        const buttonEl =\n",
       "          document.querySelector('#df-1306156f-f986-4a88-816c-8150e4e56113 button.colab-df-convert');\n",
       "        buttonEl.style.display =\n",
       "          google.colab.kernel.accessAllowed ? 'block' : 'none';\n",
       "\n",
       "        async function convertToInteractive(key) {\n",
       "          const element = document.querySelector('#df-1306156f-f986-4a88-816c-8150e4e56113');\n",
       "          const dataTable =\n",
       "            await google.colab.kernel.invokeFunction('convertToInteractive',\n",
       "                                                     [key], {});\n",
       "          if (!dataTable) return;\n",
       "\n",
       "          const docLinkHtml = 'Like what you see? Visit the ' +\n",
       "            '<a target=\"_blank\" href=https://colab.research.google.com/notebooks/data_table.ipynb>data table notebook</a>'\n",
       "            + ' to learn more about interactive tables.';\n",
       "          element.innerHTML = '';\n",
       "          dataTable['output_type'] = 'display_data';\n",
       "          await google.colab.output.renderOutput(dataTable, element);\n",
       "          const docLink = document.createElement('div');\n",
       "          docLink.innerHTML = docLinkHtml;\n",
       "          element.appendChild(docLink);\n",
       "        }\n",
       "      </script>\n",
       "    </div>\n",
       "  </div>\n"
      ],
      "text/plain": [
       "               clubs  UCL Titles\n",
       "1        Real Madrid          14\n",
       "2          Barcelona           3\n",
       "3        Inter Milan           3\n",
       "4           AC Milan           7\n",
       "5            Chelsea           2\n",
       "6          Liverpool           5\n",
       "7  Manchester United           3"
      ]
     },
     "execution_count": 40,
     "metadata": {},
     "output_type": "execute_result"
    },
    {
     "data": {
      "text/html": [
       "<h4 class=\"colab-quickchart-section-title\">Values</h4>\n",
       "<style>\n",
       "  .colab-quickchart-section-title {\n",
       "      clear: both;\n",
       "  }\n",
       "</style>"
      ],
      "text/plain": [
       "<google.colab._quickchart_helpers.SectionTitle at 0x7ff467ce7310>"
      ]
     },
     "metadata": {},
     "output_type": "display_data"
    },
    {
     "data": {
      "text/html": [
       "      <div class=\"colab-quickchart-chart-with-code\" id=\"chart-b50a8d2a-6eed-4e12-bbae-f3c3fbadddd0\">\n",
       "        <img src=\"data:image/png;base64,iVBORw0KGgoAAAANSUhEUgAAAMQAAABgCAYAAABCK92TAAAAOXRFWHRTb2Z0d2FyZQBNYXRwbG90\n",
       "bGliIHZlcnNpb24zLjcuMSwgaHR0cHM6Ly9tYXRwbG90bGliLm9yZy/bCgiHAAAACXBIWXMAAA9h\n",
       "AAAPYQGoP6dpAAAQVUlEQVR4nO3deVwUZ57H8U81NwINqIBCpCGKGZR4YBRFNC6i67G5cCca3cSo\n",
       "UfPaRJ04Wc3EJJjdqLNOjKgvI5uMupM4GR2J5vDYeCaSGDzwAIwKcrZCVJBTQbr72T+QniZo5Gqq\n",
       "hef9etUfFFVdv4L+9lPH008pQgiBJEkAaNQuQJJsiQyEJFmQgZAkCzIQkmRBBkKSLMhASJIFGQhJ\n",
       "siADIUkWZCAkyYIMRDtz5MgR3NzcMBqN91wmJycHRVHIzMxsw8oeDDIQzaTT6fj4448bzH/88cdZ\n",
       "smRJvXmbN29m6NChuLu74+XlRVhYGHFxcZSWlt5znbvZsmULbm5u5kmj0eDs7Gz+uU+fPkRFRVFR\n",
       "UYGdnR0AcXFxDB8+vBX2uGOQgbCyuXPnsnjxYubNm0d+fj43btxg+/btXL9+nbNnzzbptaZOnUpF\n",
       "RYV56t69Oxs2bDD/nJ6ebqW96DhkIKzohx9+ICEhgS1btjBlyhQ8PT0B6N27N+vWrSMqKqrVt3n4\n",
       "8GEURcFgMLBlyxaWLVvG0aNHza3IkSNH7rre7t27GTJkCF5eXvTq1Ys1a9aYf1dSUsLkyZPp0qUL\n",
       "Hh4ehISEsH379lav3RbYq11Ae7Zr1y66d+9OdHS0KtufOnUqGRkZ7N+/n6SkJPP8nJycessdOnSI\n",
       "5557jsTEREaNGsW5c+cYN24cnTt3ZurUqaxcuZLy8nKys7Nxc3MjLy+PysrKNt6btiFbCCu6evUq\n",
       "AQEBapdxXx988AEvv/wy0dHRaDQa+vbty9y5c9m0aRMAjo6OFBUVcf78eYQQBAYGEhoaqnLV1iFb\n",
       "iGZycHCgpqamwfyamhocHBwA8PHxQa/Xt3VpTVbXinz44YfmeUajkR49egDw+uuvYzQamTVrFnl5\n",
       "eYwePZrly5fTs2dPtUq2GtlCNFNwcDAZGRn15plMJrKysnj44YcBmDBhAleuXOHgwYNqlAiARnP/\n",
       "f7Gfnx+LFy+mpKTEPJWXl5tP0l1dXXn33Xc5c+YMly5dwt7enhdeeMHapatCBqKZZsyYwcaNG9m/\n",
       "fz8Gg4Hy8nLefPNNhBCMHz8egGHDhjFnzhymTp3Ktm3bzJdZMzMzWbBgQb0TXKPRSFVVVb3JZDK1\n",
       "uE4/Pz/y8vKoqqq65zLz589n7dq1HDhwAIPBgMFgIC0tje+++w6AL7/8kvT0dAwGA66urri4uGBv\n",
       "304PLoTUbJs3bxb9+/cXWq1W+Pr6iokTJ4rU1NQGy23cuFFERESITp06CU9PT9G3b1+xdOlSUVpa\n",
       "KoQQYuTIkQJoMO3bt+9Xt+/v7y82bdpUb96hQ4cEIGpqaoQQQpSUlIjRo0cLLy8vodVqxZEjR0R2\n",
       "drYAREZGhnm9PXv2iGHDhgkvLy/h5eUlhgwZIhITE4UQQqxevVr07NlTdOrUSXh7e4vx48fXW7c9\n",
       "UYSQ36mWpDrykEmSLMhASJIFGQhJsiADIUkWZCAkyYIMhCRZkIGQJAs2E4j4+Pi7zr90rYIaY8vv\n",
       "2EpSY9hMIHJzcxvM235Sz/j4I6zad1GFiqSOyGYCcTeujnZUG0xs+PYSSRnX1S5H6gBsOhDjw7ox\n",
       "ZXAPhIDfbTvN9YpqtUuS2jmbDgTA2xND6eXjxrXyan7/9zOYTLLrlWQ9Nh8IF0c71j43ACd7DYcv\n",
       "XGPj99lqlyS1YzYfCIBH/DxYMrH2K4t/3HueVH2pyhVJ7dUDEQiAaUN6MLaPLzVGwaufpVBRbVC7\n",
       "JKkdemACoSgKf4x9lO5aZ3KKbvL2zjS1S5LaoQcmEACero7ETxmARoHPT13m8xTb/wK/9GBpUiDm\n",
       "zZuHTqdDURROnz5tnp+RkcGwYcMICQnhscces+oIco/pvJkfHQLAkp1pZF9vn+MDSepoUiAmTZpE\n",
       "UlISgYGB9ebPmTOH2bNnc/HiRRYtWsT06dNbs8YGXvmnngwJ8ubmbSOvfpZCteHeA/tKUlM0KRAj\n",
       "RoxoMPDW1atXOXHiBNOmTQMgNjaW/Px8q44sbadRWD25P56uDqRdLmPl3gtW25bUsbT4HCI/P59u\n",
       "3bqZhyVRFIUePXqQl5d3z3Wqq6spKyurN/3a8O13003rwspJ/QD4OCmbQxeuNn8nJOkOVU6qly9f\n",
       "jlarrTcdO3asya8TE+rL9GE6AH6/7QxXy+499pAkNUaLA/HQQw9RUFCAwVB7X0AIQV5ennkYxLt5\n",
       "4403KC0trTcNHjy4WdtfPO4RftPNg6LK2/xu22nZtUNqkRYHwsfHh4EDB/Lpp58CkJiYSEBAwK+O\n",
       "++nk5ISHh0e9qe4BH03l7GDH2ikDcHGw4/vMIj789lKzXkeSoImBmDNnDgEBAej1esaOHWt+0yck\n",
       "JJCQkEBISAgrVqwwjxrdVnr6uLH0iT4ArNp3kZS8G226fan9sJmR+1577TVWrVrV7PWFEMz722m+\n",
       "OnOFAC8Xds2LQuvi0IoVSh3BA3Wn+tcoisJ7T/flIW8X9Ddu8YcdqdhI1qUHSLsJBICHswNrJg/A\n",
       "XqOw62wBW4/nq12S9IBpV4EAGNDDi4VjegMQ91U6GT+Xq1xR6xFC8E16Ib9NOMrCbWe4Wi4vM7e2\n",
       "dhcIgDkjgonq1YWqGhOvfnaKqpoHu2uHEIL/Sy9kwpokZn9ykmPZxSSm6Il+/1u2JOfKS82tqF0G\n",
       "QqNReP+3/eji5sj5wnKW7f5J7ZKaxWQS7E2rDcKcT05yrqCMTo52vBQVRJi/lvIqA2/uSGPShh84\n",
       "X1imdrntQqs+Bkan0+Hk5ISLiwtQewPu2Wefbc1NNJqPuzN/+td+TN90nL8czSWyZxfG9vFTpZam\n",
       "MpkE35wrJP5AJj8V1L7ROzna8WJkEDOHB+HVyRGjSfDJ0Rz+9M1FUvJKmLAmiVlRQcyP7oWrYzt9\n",
       "uk8baPW/3NatW+nfv39rv2yzPN7bh5eigvjoSDb/sf0sYf5aunu6qF3WPdUFYfX+DM4X1p77uDnZ\n",
       "M32YzhyEOnYahemRQfxz324s/SqdPWmFJHybxddnCvivp/oy6hEftXbjgdbuP0peH/sIydnFnNWX\n",
       "suBvp/nrS0Owt7OtI0WTqfYcIf5A/SC8GFkbBE9Xx3uu66d15sNp4Rz46Wfe/iKdyyW3eHHzccaH\n",
       "+fHOv/TB18O5rXbjvqoNRoSo7V1gq1r1xpxOp8PDwwMhBIMHD2bFihV07dq1wXLV1dVUV9cfY+mt\n",
       "t96653CWLZVzvZIJa45QedvIgtG9WDA6xCrbaSqTSbA3vZD4/RlcuHM1zP1OEGbcJwh3c/O2gdX7\n",
       "M/hzUjZGk8DNyZ7Xx/ZmWkQgdhrFGrtwXyaTIDm7mO0n9exJK+C2wcSjAVoigjszJLgzgwK96ORk\n",
       "O5/LrRqIuk59NTU1LFmyhNTUVHbv3t1gubi4OJYuXVpvXkREBEePHm2tUhrYeeoyC7aeRqPAZy9F\n",
       "MCS4s9W2dT8mk2BPWiFrDvwiCMODmBkZhNa1ZXfYz10p4w87UjmdXwJAvwAt7z0dRl9/bUtLb7S8\n",
       "opskpuhJTNGjv3HrnsvZaxTC6gIS5M0gnTduKgbEal03CgoKCAkJoby84X2Atm4h6izcdobEFD3d\n",
       "tM7snhdV75i8LZhMgt1pBaw5kMHFnysAcHe2Z0ZkEDNaIQiWjCbBX5Nz+e+9FyivNqBR4MXIIF6L\n",
       "CbHaJ3JFtYHdqQVsP6nnWHaxeb67kz0T+3UjdmAAvh7O/JhVxI9ZxfyYVcTlkvphsdMohPnXBiQi\n",
       "uO0D0mqBqKyspKamBk9PTwBWrVrFzp07zc86vp+W9mVqjMpqAxPXJpF9vZKYUF/+59/CURTrH0oY\n",
       "TYLdqQWsPVg/CDOHB/FiZJBV+1xdLati6dfn2HW2AIDuWmfinujDmFa64mYyCX7MKrpzSFTIrTv3\n",
       "fBQFhvfswqTwAMaE+uHiePfzhvzimyRnF98JSVGD1sROo9DXX0tEsDcRdw6x3J2t9/dqtUBkZWUR\n",
       "GxuL0WhECEFwcDDx8fHodLpGrd8WgQBIu1zK0+u/p8YoePfJPjw/VGe1bdUFYc2BDDKutm0Qfunw\n",
       "hau89UUa+cW1b7gxob7EPdGn2Vfdcq5Xkpii5/OUy/U+5YO7diJ2YADPDPSnm7bpr62/cZPkO63H\n",
       "j9lF5nrraBQsWpDODNK1bkDaTW/XpvhzUjb/+fU5HO01vD0xFNd7fHq1REW1gb8czSXzThA8nO2Z\n",
       "OTyY6ZE61Xrh3rptZM3BDD76LguDSdDJ0Y7XxvTmhaGBjbryVl5Vw66zBSSm6Dme848u9u7O9jzR\n",
       "rzux4QEMeMizVVvduoAkZ9ceZuUV36z3e43CnRaks7kVacl9mA4ZCCEEM//3BAfPW/972B7O9syK\n",
       "qg2ChxWb+qa4UFjOH3akcjK39k3dp7sHy58J49EAzwbLGk2CHy5dJ/Gknr3phVTV1D68RqPAiJCu\n",
       "xA4MICbUt80upV4uuUVyVlFtK5JdRG5R/YB8/erwFl086JCBACiuvM27X6VTfLPGKq+vAI/pvHh+\n",
       "mO0EwZLJJNh6Ip/lu3+irKr2pPv5oToWjgnB3dmBrGsV5kOigtJ/dCLs6ePGpPAAnh7gbxP3OK6U\n",
       "3CI5uzYgaVdK+eLfh7foEnOHDYRU61p5Ne/tOsfO01cA8PVwwt/ThZS8EvMyWhcHnujXnUnhATwa\n",
       "oG2TCxFqsZ07IpIquro7sXryAGLDA3hrZxo5RTf5uawaO43CyJCuTAoPIPo3PjjZ2+7d5dYkAyEB\n",
       "ENWrK3sXjODvJ/UYjCYmPNoNH3f1D4nams0cMj3zzDONvkTbWoxGI8eOHWPw4MHNHvVDDbLupgsM\n",
       "DGT+/Pn3Xc5mAqGGsrIytFotpaWleHh4qF1Oo8m6rce2un1KkspkICTJggyEJFno0IFwcnLinXfe\n",
       "wcnJSe1SmkTWbT0d+qRakn6pQ7cQkvRLMhCSZEEGQpIsdMhAVFVV8dRTTxESEkK/fv2IiYmx6jPx\n",
       "rGHTpk0oisLOnTvVLqVRqqureeWVV+jVqxdhYWHmZxLamg7bl2n27NmMGzcORVFYt24ds2bN4vDh\n",
       "w2qX1Sg5OTl89NFHREREqF1Koy1evBhFUbh48SKKolBYWKh2SXcnJHH8+HERGBiodhmNYjQaRXR0\n",
       "tDhx4oQYOXKk2LFjh9ol3VdFRYVwd3cXpaWlapdyXx3ykOmX4uPjefLJJ9Uuo1FWrVpFZGQk4eHh\n",
       "apfSaJcuXcLb25tly5YxaNAgoqKiOHDggNpl3VWHPWSqs2zZMjIzM232H2QpLS2NxMTERo9kYisM\n",
       "BgO5ubmEhoayYsUKTp06RUxMDOnp6fj6+qpdXn1qN1FqWrlypQgPDxc3btxQu5RGWb9+vfDz8xOB\n",
       "gYEiMDBQODk5ia5du4r169erXdqvunbtmtBoNMJgMJjnDRo0SOzbt0/Fqu6uwwbi/fffFwMHDhTF\n",
       "xcVql9JsD8o5hBBCxMTEiF27dgkhhMjKyhKdO3cWer1e5aoa6pCHTHq9noULFxIcHMyoUaOA2n42\n",
       "ycnJKlfWfm3YsIGZM2eyaNEiNBoNCQkJ+Pv7q11WA7IvkyRZkFeZJMmCDIQkWZCBkCQLMhCSZEEG\n",
       "QpIsyEBIkgUZCEmyIAMhSRZkICTJggyEJFmQgZAkC/8PLrdwS4FQvisAAAAASUVORK5CYII=\n",
       "\">\n",
       "        \n",
       "      </div>\n",
       "      <script></script>\n",
       "      <script type=\"text/javascript\">\n",
       "        (() => {\n",
       "          const chartElement = document.getElementById(\"chart-b50a8d2a-6eed-4e12-bbae-f3c3fbadddd0\");\n",
       "          async function getCodeForChartHandler(event) {\n",
       "            const chartCodeResponse =  await google.colab.kernel.invokeFunction(\n",
       "                'getCodeForChart', [\"chart-b50a8d2a-6eed-4e12-bbae-f3c3fbadddd0\"], {});\n",
       "            const responseJson = chartCodeResponse.data['application/json'];\n",
       "            await google.colab.notebook.addCell(responseJson.code, 'code');\n",
       "          }\n",
       "          chartElement.onclick = getCodeForChartHandler;\n",
       "        })();\n",
       "      </script>\n",
       "      <style>\n",
       "        .colab-quickchart-chart-with-code  {\n",
       "            display: block;\n",
       "            float: left;\n",
       "            border: 1px solid transparent;\n",
       "        }\n",
       "\n",
       "        .colab-quickchart-chart-with-code:hover {\n",
       "            cursor: pointer;\n",
       "            border: 1px solid #aaa;\n",
       "        }\n",
       "      </style>"
      ],
      "text/plain": [
       "import numpy as np\n",
       "from google.colab import autoviz\n",
       "df_8691125063884370842 = autoviz.get_registered_df('df_8691125063884370842')\n",
       "\n",
       "def value_plot(df, y, sort_ascending=False, figsize=(2, 1)):\n",
       "  from matplotlib import pyplot as plt\n",
       "  if sort_ascending:\n",
       "    df = df.sort_values(y).reset_index(drop=True)\n",
       "  _, ax = plt.subplots(figsize=figsize)\n",
       "  df[y].plot(kind='line')\n",
       "  plt.title(y)\n",
       "  ax.spines[['top', 'right',]].set_visible(False)\n",
       "  plt.tight_layout()\n",
       "  return autoviz.MplChart.from_current_mpl_state()\n",
       "\n",
       "chart = value_plot(df_8691125063884370842, *['UCL Titles'], **{})\n",
       "chart"
      ]
     },
     "metadata": {},
     "output_type": "display_data"
    },
    {
     "data": {
      "text/html": [
       "<h4 class=\"colab-quickchart-section-title\">Distributions</h4>\n",
       "<style>\n",
       "  .colab-quickchart-section-title {\n",
       "      clear: both;\n",
       "  }\n",
       "</style>"
      ],
      "text/plain": [
       "<google.colab._quickchart_helpers.SectionTitle at 0x7ff467c22230>"
      ]
     },
     "metadata": {},
     "output_type": "display_data"
    },
    {
     "data": {
      "text/html": [
       "      <div class=\"colab-quickchart-chart-with-code\" id=\"chart-72de29b0-f579-4493-bc3c-dd6aa11c26c5\">\n",
       "        <img src=\"data:image/png;base64,iVBORw0KGgoAAAANSUhEUgAAAM4AAABgCAYAAABVCU1aAAAAOXRFWHRTb2Z0d2FyZQBNYXRwbG90\n",
       "bGliIHZlcnNpb24zLjcuMSwgaHR0cHM6Ly9tYXRwbG90bGliLm9yZy/bCgiHAAAACXBIWXMAAA9h\n",
       "AAAPYQGoP6dpAAALu0lEQVR4nO3df0wb5R8H8PdBKxMo7FxlhSFtyi+jEJm6DdApuO2PdWYjkLgp\n",
       "xi3bHPiH26wRMdj90GT7xh8TNhPnomMasf6AJc6wxQhOx0RdFt2YKJNu1DIR6qZ0DAFpefxj4bRf\n",
       "Wuzdrj8on1dyCX161/sc4Z177nj6HMcYYyCEiBIR7AIImYooOIRIQMEhRAIKDiESUHAIkYCCQ4gE\n",
       "FBxCJKDgECIBBYcQCSg401xLSwtiY2Phcrm8rmO1WsFxHCwWSwArC20UnADR6XR44403JrQXFBTg\n",
       "2WefdWs7cOAA8vLyoFKpwPM8srOzsW3bNjgcDq/beFJXV4fY2FhhiYiIwIwZM4TXt956KxYuXIgr\n",
       "V64gMjISALBt2zbcfffdMhxxeKPghJjy8nJUVlZi48aN6O7uxh9//IH6+npcvHgRbW1toj6rtLQU\n",
       "V65cEZakpCTs3btXeN3e3u6nowh/FJwQ0traitdffx11dXV48MEHMXPmTABAZmYmXn31VSxcuFD2\n",
       "fX7++efgOA5OpxN1dXXYsWMHvvrqK+Gs1NLS4nG7w4cPY8GCBeB5Hunp6di9e7fwXn9/P1atWgW1\n",
       "Wo24uDhkZGSgvr5e9tqDSRHsAsg/GhsbkZSUhEWLFgVl/6Wlpejs7ERTUxOOHz8utFutVrf1jh49\n",
       "ioceeggNDQ0oLCzEDz/8gKVLl2LWrFkoLS3Fiy++iIGBAXR1dSE2NhY2mw2Dg4MBPhr/ojNOCLHb\n",
       "7UhOTg52Gf/plVdewWOPPYZFixYhIiICWVlZKC8vR21tLQDguuuuw6VLl9DR0QHGGLRaLW655ZYg\n",
       "Vy0vOuMEiFKpxOjo6IT20dFRKJVKAEBCQgIuXLgQ6NJEGz8rvfbaa0Kby+VCSkoKAOCpp56Cy+XC\n",
       "+vXrYbPZsHjxYuzcuRNpaWnBKll2dMYJEL1ej87OTre2sbExnD9/HqmpqQCAZcuWoaenB5999lkw\n",
       "SgQARET895+ERqNBZWUl+vv7hWVgYEC42RAdHY3nnnsOp0+fxrlz56BQKLB69Wp/lx5QFJwAWbt2\n",
       "Lfbv34+mpiY4nU4MDAygqqoKjDEYDAYAQH5+PsrKylBaWooPPvhAuP1ssViwefNmtwt1l8uF4eFh\n",
       "t2VsbOya69RoNLDZbBgeHva6zqZNm7Bnzx40NzfD6XTC6XTi+++/x7FjxwAAhw4dQnt7O5xOJ6Kj\n",
       "o3H99ddDoQizzg0jAXPgwAGWk5PD4uPj2ezZs9n999/Pzpw5M2G9/fv3s9zcXBYTE8NmzpzJsrKy\n",
       "2Pbt25nD4WCMMXbvvfcyABOWTz/9dNL9z5kzh9XW1rq1HT16lAFgo6OjjDHG+vv72eLFixnP8yw+\n",
       "Pp61tLSwrq4uBoB1dnYK2x05coTl5+cznucZz/NswYIFrKGhgTHGWHV1NUtLS2MxMTHshhtuYAaD\n",
       "wW3bcMAxRnMOECIWddUIkYCCQ4gEFBxCJKDgECIBBYcQCSg4hEhAwSFEgrAITk1NTbBLINNMWATn\n",
       "559/DnYJZJoJswFEvtNVNnp9z/q/ZQGshExFYXHGISTQ/Bac4eFhFBUVISMjA7fddhuWLFnicZYU\n",
       "q9WKyMhI5OTkCMu5c+f8VRYhshAdHE8TRnibRGLDhg04e/YsTp8+jRUrVmD9+vUe11OpVDh16pSw\n",
       "jH8/hZBQJTo4a9as8altxowZMBgM4DgOAJCbmzvhu+uETFU+3xyw2+3o7e3F0NAQzpw5g/FvIzgc\n",
       "Dp8mYqipqcGKFSs8vjc4OIh58+bB5XKhqKgIVVVVwjxf/29kZAQjIyNubZNNpkeIP/gcHLPZjOrq\n",
       "avT09GD58uVCe3x8PCoqKibddseOHbBYLGhubp7wXmJiIn755RckJCTg999/x8qVK/Hyyy97/cyd\n",
       "O3di+/btbm25ubm+HgYhshD9Rbbnn38eJpPJ5/VfeuklvPfee2hqahLmCZuM2WzGu+++i48//tjj\n",
       "+57OOCaTSfQ/Qel2NLkWov+PYzKZMDY2ht7eXjidTqF9fIaTf9u1axfMZvOkobHb7eB5HkqlEiMj\n",
       "Izh48CDmzp3rdf9RUVGIiopya/PWrSPEX0QH56233sLjjz8OpVIpzIjCcRzsdrvbehcuXMCTTz4J\n",
       "vV6PwsJCAFf/6L/55hts2bIFSUlJKC8vx/Hjx7FlyxZERkbC6XTivvvuQ1VVlQyHRoj/iO6qpaam\n",
       "4vDhw8jMzPRXTaIZjUbs2rVL1DbUVSPXQvTtaLVaHVKhISQYRAenqKgI1dXVsNvtuHz5srAQMp2I\n",
       "vsYZv/4wGo3gOA6MMXAcR/9LIdOK6ODIMVskIVMdjY4mRALRZ5yIiAhh/Nm/UVeNTCeigzMwMCD8\n",
       "PDQ0hLfffptCQ6Yd0V21mJgYYVGr1TAajWH3mDpC/ss1X+N0dHTg4sWLctRCyJQhuqvG87xwjTM+\n",
       "Vm3Pnj3yVkVIiBMdnFOnTv2zsUIBjUZDgyzJtCM6OFqtFn/++acQIJ7nER0dLXddhIQ00cFpbW1F\n",
       "SUkJNBoNAKCvrw8NDQ3Iy8uTvThCQpXo4IzfRbvrrrsAXA3SE088ga+//lr24uQw2SjoUKhBykhs\n",
       "GtntG3/+nkTfVRsaGhJCA1x94OtkD1olJByJDk5sbCyampqE183NzYiJiZG1KEJCneiu2u7du1Fc\n",
       "XCzcSRsbG8PBgwdlL4yQUCY6OD09PTh58iT6+voAALNnz8aJEydkL4yQUCa6q2YymXDjjTciKysL\n",
       "WVlZUKvVoma9ISQcXPOQG/oSG5mORAdHpVKhtbVVeP3ll19CpVLJWhQhoU50cF544QUUFxejoKAA\n",
       "BQUFeOCBB7zOMNPZ2Yn8/HxkZGRg3rx5aG9v97jem2++ifT0dKSmpuLRRx/F6Oio2LIICSjRwcnL\n",
       "y8OPP/6IiooKVFRUoL29HfPnz/e4bllZGTZs2ICffvoJTz/9tMfJ2bu6umAymdDS0gKLxYK+vj7s\n",
       "27dP9IEQEkiSrnF4nofBYIDBYJh0hs6TJ0/i4YcfBgCUlJSgu7t7wjNy6uvrsXz5cmg0GnAch/Ly\n",
       "cpjNZillERIwfnuUYXd3NxITE6FQXN0Fx3FISUmBzWZDWlqasJ7NZoNWqxVe63Q62Gw2r59LTysg\n",
       "oWDKPQPU09MKbr75ZhiNRo/rF0vYh9E48akKUrlcLiSeOIH58+d7/PqFlH1Ndkxy1u4Ll8uFE5Mc\n",
       "XzBJ/T1ptVps2rRp0s/2W3Buuukm/Prrr3A6nVAoFGCMwWazTZicPSUlxe3RhVar1eME7uOeeeaZ\n",
       "CSHxNBF7qLh8+TLi4+PxySefIC4uLtjlyC7cj88bv00PlZCQgNtvvx3vvPMOAKChoQHJyclu3TTg\n",
       "6rXPoUOH0NvbC8YY9u7di1WrVnn93KioKMTFxbktoRoaEsaYH3V0dLDc3FyWnp7O7rjjDtbW1sYY\n",
       "Y2zdunXso48+Etbbt28f0+v1TK/Xs7Vr17K//vrLn2UFlMPhYACYw+EIdil+Ee7H543opxUQcca7\n",
       "Mg6HIyy7MuF+fN7QTJ5+FhUVha1bt4ZtdzLcj88bOuMQIgGdcQiRgIJDiAQUHEIkoOD4kU6nQ2Zm\n",
       "JnJycpCTk4P3338/2CVdk40bN0Kn04HjOLeJKX0dBR9Wgns3PLxptVr23XffBbsM2XzxxResu7t7\n",
       "wnEVFhay2tpaxhhjH374IbvzzjuDU2AA0RmH+Oyee+5BcnKyW5uvo+DDDQXHzx555BFkZ2dj3bp1\n",
       "+O2334JdjuwmGwUfzig4fnTs2DG0tbXh22+/hVqtxurVq4NdEpHJlPtawVQyPspbqVRi8+bNyMjI\n",
       "CHJF8vN1FHy4oTOOnwwODqK/v194bTabMXfu3OAV5Ce+joIPNzTkxk/Onz+PkpISuFwuMMag1+tR\n",
       "U1MDnU4X7NIkKysrQ2NjI3p7ezFr1iyoVCpYLBacPXsWa9aswaVLlxAXF4fa2lpkZ2cHu1y/ouAQ\n",
       "IgF11QiRgIJDiAQUHEIkoOAQIgEFhxAJKDiESEDBIUQCCg4hElBwCJGAgkOIBBQcQiT4Gz1w6pE+\n",
       "amGGAAAAAElFTkSuQmCC\n",
       "\">\n",
       "        \n",
       "      </div>\n",
       "      <script></script>\n",
       "      <script type=\"text/javascript\">\n",
       "        (() => {\n",
       "          const chartElement = document.getElementById(\"chart-72de29b0-f579-4493-bc3c-dd6aa11c26c5\");\n",
       "          async function getCodeForChartHandler(event) {\n",
       "            const chartCodeResponse =  await google.colab.kernel.invokeFunction(\n",
       "                'getCodeForChart', [\"chart-72de29b0-f579-4493-bc3c-dd6aa11c26c5\"], {});\n",
       "            const responseJson = chartCodeResponse.data['application/json'];\n",
       "            await google.colab.notebook.addCell(responseJson.code, 'code');\n",
       "          }\n",
       "          chartElement.onclick = getCodeForChartHandler;\n",
       "        })();\n",
       "      </script>\n",
       "      <style>\n",
       "        .colab-quickchart-chart-with-code  {\n",
       "            display: block;\n",
       "            float: left;\n",
       "            border: 1px solid transparent;\n",
       "        }\n",
       "\n",
       "        .colab-quickchart-chart-with-code:hover {\n",
       "            cursor: pointer;\n",
       "            border: 1px solid #aaa;\n",
       "        }\n",
       "      </style>"
      ],
      "text/plain": [
       "import numpy as np\n",
       "from google.colab import autoviz\n",
       "df_8691125063884370842 = autoviz.get_registered_df('df_8691125063884370842')\n",
       "\n",
       "def histogram(df, colname, num_bins=20, figsize=(2, 1)):\n",
       "  from matplotlib import pyplot as plt\n",
       "  _, ax = plt.subplots(figsize=figsize)\n",
       "  plt.hist(df[colname], bins=num_bins, histtype='stepfilled')\n",
       "  plt.ylabel('count')\n",
       "  plt.title(colname)\n",
       "  ax.spines[['top', 'right',]].set_visible(False)\n",
       "  plt.tight_layout()\n",
       "  return autoviz.MplChart.from_current_mpl_state()\n",
       "\n",
       "chart = histogram(df_8691125063884370842, *['UCL Titles'], **{})\n",
       "chart"
      ]
     },
     "metadata": {},
     "output_type": "display_data"
    },
    {
     "data": {
      "text/html": [
       "<h4 class=\"colab-quickchart-section-title\">Categorical distributions</h4>\n",
       "<style>\n",
       "  .colab-quickchart-section-title {\n",
       "      clear: both;\n",
       "  }\n",
       "</style>"
      ],
      "text/plain": [
       "<google.colab._quickchart_helpers.SectionTitle at 0x7ff467fa4d00>"
      ]
     },
     "metadata": {},
     "output_type": "display_data"
    },
    {
     "data": {
      "text/html": [
       "      <div class=\"colab-quickchart-chart-with-code\" id=\"chart-b0459129-ce62-4f28-9f32-2f75da5b32ed\">\n",
       "        <img src=\"data:image/png;base64,iVBORw0KGgoAAAANSUhEUgAAASMAAACWCAYAAACVUO5fAAAAOXRFWHRTb2Z0d2FyZQBNYXRwbG90\n",
       "bGliIHZlcnNpb24zLjcuMSwgaHR0cHM6Ly9tYXRwbG90bGliLm9yZy/bCgiHAAAACXBIWXMAAA9h\n",
       "AAAPYQGoP6dpAAAeiUlEQVR4nO3de1RVZfrA8e8RjDQEDdTxjgiCXPRwBARUVCRRGxuVFC+AImYO\n",
       "TVZqmaVlZtltaTO4HCoRHcVyyEJMJxOV1LwrpJmIN/JuAyqIktz27w9/7OHI7aAnOXGez1qsBfvy\n",
       "nvdsjw/v3rzP+2gURVEQQoh61qi+OyCEECDBSAhhIiQYCSFMggQjIYRJkGAkhDAJEoyEECZBgpEQ\n",
       "wiRIMBJCmAQJRkIIkyDBSJi9FStW0L59e4OPz87ORqPRcOrUqd+xV+ZHgpEQwiRIMBJCmAQJRsJs\n",
       "FBYWMmfOHLp27UqzZs1wdHRk5cqVlY7r378/c+bM0dvm4ODAsmXL9LZt374dNzc3bGxsGDhwIKdP\n",
       "n1b3/fvf/8bd3R0bGxvs7e0JDg7+fd5UAyLBSJiNZ555hu+++47169eTn5/Prl278PT0vO/2Pvvs\n",
       "MzZv3syVK1fo3Lkzw4YNo6SkhNu3bxMeHk5sbCz5+flcuHCB1157zYjvpGGSYCTMQk5ODomJiSxd\n",
       "upRu3bqh0Who27YtOp3uvtucO3cuHTp0oGnTpixevJisrCz27NkDQOPGjTl+/Dg5OTk8+uijBAUF\n",
       "GeutNFgSjIRZOHv2LAAuLi5Ga7Nz587q982aNcPe3p7z58/TtGlTvv32W1JTU3FxccHT05O///3v\n",
       "RnvdhkqCkTALDg4OAGRlZdV6bLNmzbh165b6c0lJCb/++mul47Kzs9XvCwoKyMnJUacI9O3bl6+/\n",
       "/pqcnBxiY2OZNWsWW7ZsebA30cBJMBJmoWXLlowdO5bnnnuOEydOAHD58mUOHz5c6Vhvb29SUlK4\n",
       "dOkShYWFvPrqqxQXF1c6bsGCBVy4cIHbt28zY8YMnJycCAgI4MqVKyQlJXHjxg00Gg3NmzdHo9Fg\n",
       "aWn5u7/PPzIJRsJsfPbZZ/Tr148hQ4ZgbW1N7969OXbsWKXjXnrpJXr27Em3bt1wcXHBycmJdu3a\n",
       "VTouOjqaJ554gtatW5OVlcWGDRuwtLREURTi4uJwdHTE2tqap59+mnfeeYcBAwY8jLf5h6WRNbCF\n",
       "EKZARkZCCJMgwUgIYRIkGAkhTIIEIyGESZBgJIQwCRKMhBAmQYKREMIkSDAyQ5InJUyRBCMz9Msv\n",
       "v9R3F4SoRIKREMIkSDASQpgEyU0zQ9YhPjQfM7C+uyEaiAtR7xmlnTqNjBwcHGjVqpXecgrbt29H\n",
       "o9Hw4osvGqVD90pLS0Or1Rq1vW+//dYobWVnZ9O8efNK2zUaDTdu3Kj1/KFDh6rLWaxYsYLMzMz7\n",
       "6seSJUuYOHHifZ0rhKmo821ax44dSUlJUX+Oj4/H29vbqJ36PT1IMCopKTFqXzZt2qSuPPggwUiI\n",
       "hqDOwSgqKorly5cDkJeXx969exk8eLC6/+jRo/Tp0wedToebmxsLFixQ982bN4+wsDCGDRuGm5sb\n",
       "QUFBXLt2Td3//vvv4+npSY8ePfDz8+P27dvA3SAQExNDjx49cHd35+DBg+o5mzdvpk+fPvTs2RNf\n",
       "X1+2b98OwMmTJ+nduzc9evTA09OTOXPmkJGRQVxcHImJiWi1WubPn19jG2lpabi7uxMdHY1Wq+Xr\n",
       "r7+u6+VCo9Hw7rvv4uvrS+fOnUlISFD3OTg4kJGRwbJlyzh48CAvvfQSWq2WTZs2AfDRRx/h6+uL\n",
       "Tqdj8ODB6l/Bbt68SVhYGC4uLvTp04ejR4/WuV9CmJo6Lz3Xu3dvli5dyqVLl0hJSWHUqFFYWFio\n",
       "+x0cHNi6dStWVlYUFhYSEBBAcHAwfn5+AOzbt49Dhw5hZ2fHmDFj+OSTT5g9ezYrV65k3bp17Nq1\n",
       "C1tbW65fv46VlRUAmZmZxMfHs3TpUuLi4nj99dfZvHkzZ86cYd68eWzevBkbGxtOnTpF3759yc7O\n",
       "ZsmSJfz5z39m9uzZAFy7do3HH3+cqVOncuPGDT7++GOAGtsAOH78OEuXLiU+Pv6+L7KVlRX79+8n\n",
       "MzMTHx8fIiIi9Fb9mzx5MqtXr+bFF19k+PDhAKxZs4YTJ06wZ88eLCwsWLVqFTExMWzcuJH58+dj\n",
       "ZWVFZmYm+fn5+Pn50atXrypf+86dO9y5c0d/Y6k8JhSm577WwYyIiGDFihUkJyeTmJhIYmKiuq+w\n",
       "sJCYmBgyMjJo1KgR58+fJyMjQw1GgwcPxs7ODgB/f3/1t/o333zD1KlTsbW1BaBFixZqm05OTup/\n",
       "Nn9/fz766CMAvv32W06dOkVgYKB6bKNGjTh37hyBgYG8/PLLFBQU0K9fv2rrVtXUBoCjoyP9+vWr\n",
       "8lyNRlPtNaq4b/z48QC4urpiaWnJlStXai2nnJyczIEDB+jZsycApaWl6r6tW7eyePFiNBoNtra2\n",
       "jBs3Tq9mV0ULFy7krbfe0tvW2LFtja8tRH24r2AUGRmJTqeja9euODs76+177bXXsLe3Jz09HUtL\n",
       "S0aOHMlvv/2m7n/00UfV7y0sLAx6DlPdOYqi8MQTT7BmzZpK5zg7OxMQEMCWLVtYsmQJH3/8sXr7\n",
       "U1FNbVy8eBFra+tq+9WyZUsKCgooLi6mcePGAGppGhsbmwd6z4qiMHv2bKZMmVLrsTUFxdmzZzN9\n",
       "+nS9bW1HStkcYXrua55R27ZtWbhwIe+//36lfdevX6d9+/ZYWlpy4sQJgysiPPXUU8TFxZGXlwfA\n",
       "jRs39EYDVQkJCSE1NZUjR46o2/bv3w/cfWbUunVrIiMj+eCDD9i7dy8ANjY26mvU1kZtmjZtir+/\n",
       "P5999pm67Z///CfBwcE1Boiq3Nuv4cOHExcXpz5TKy4uJj09HYDg4GASEhJQFIX8/Hw+//zzatu1\n",
       "srLCxsZG7wuLuvVNiIfhvssVREVFVbl9zpw5REREsHLlSrp06WJw8bqIiAguXbpEQEAAlpaWPPbY\n",
       "Y6SmptZ4jpOTE2vWrOHZZ5/l9u3bFBUV4eXlxZo1a/jyyy9ZvXo1jzzyCGVlZcTFxQEwYsQIVq1a\n",
       "hVarZeTIkbzxxhvVtmGIVatWMW3aND799FMURaFr1658+umnBp1b0ZQpU5gxYwaLFy/m3XffZfz4\n",
       "8eTm5qqLuJeUlDBp0iS8vLyYO3cukydPxtXVlZYtW9KnT5/Kz4WE+IORSY9mSCY9CmMy1qRHKeRk\n",
       "hqa492WRkT5AQhiL5KYJIUyCjIzM0K2sxVz+UtY0EsbR5uma/9BkKBkZCSFMggSj/1eemlHR5MmT\n",
       "1dQQU2ZoYq4Qpkxu02qwbNkyo7ZXUlKilwYihPgfGRnVoH///iQnJ3P+/HlatWpFUVGRum/ixInq\n",
       "WtIHDhwgKCgIb29vvLy8SEpKAv63xMisWbPQ6XQsWbKEefPmERoaSlBQEK6urgwbNozc3FwACgoK\n",
       "mDRpEh4eHnh4eOilcZw6dYrg4GC6d++OVqslOTnZoPdw584d8vPz9b5Ky4x0gYQwIglGBujQoQNa\n",
       "rVZdOqWgoICUlBTCw8O5ceMGU6ZMITExkYMHD7JlyxZmzJjBxYsXgbsrG7i7u3P48GF1zaedO3ey\n",
       "Zs0aMjMz6dChg5rM+/bbb3Pnzh2OHDnCvn37SE5OZu3atcDd/LZRo0Zx5MgRkpKSiI6ONmgt64UL\n",
       "F2Jra6v3lX7qd7hIQjwgCUYGioqKUpf/SEpKIigoCDs7O3bv3s2ZM2cYMmQIWq1WTcgtXzStcePG\n",
       "hIeH67X15JNP8qc//Qm4O/O6fKZ5amoqzzzzDI0aNeKxxx4jMjKSLVu2cPPmTQ4fPkx0dDRwN++u\n",
       "T58+7Ny5s9Z+z549m7y8PL0vLyfjXBMhjEkeYBhoxIgRTJs2jcuXL7NixQpeeeUV4G5Cq7u7O7t3\n",
       "7650TnZ2Nk2bNqVRo5pjfnV5bIauClATKysrdSmWchbyK0iYIPlYGujRRx9l1KhRzJs3j9OnT6sL\n",
       "ygUEBHD27Fm9PLqMjAy950v32rRpE1evXgXuPiQvH00FBwcTHx+PoijcunWLVatWMWjQIJo1a4ZO\n",
       "p1NHZqdOnWLXrl16y54I8UcnI6MKQkJC1KVAQH/pD7h7q+br68usWbPUBeVatGjBxo0bmTlzJjNm\n",
       "zKC4uJiOHTvW+IC5b9++jBs3josXL+Ls7MyKFSsAmDt3LtOmTcPT0xOAUaNGMXr0aAASExOZOnUq\n",
       "S5YsQaPRsGzZMjp27GjEdy9E/ZJE2Yds3rx5eitN1ofp06ezaNGient9Iaoit2lCCJMgt2kP2bx5\n",
       "8+q7C0KYJLlNM0Pdh9rgH9Gi9gOFMMAnY2uf72YIuU0zQElJCW+99Raurq54eHig1WqZMmUKycnJ\n",
       "91Vg0tiFKYVoCOQ2zQDR0dFcu3aNPXv20KJFCxRF4csvv9Sr+SaEeDAyMqrFqVOnSEpKIiEhQS2f\n",
       "pNFoGDVqFI6OjvdVYLKi//73vwwaNAhPT0+6d++ut7Z4dUUct27dir+/P15eXri7uz9QTTchTIWM\n",
       "jGpx+PBhnJ2dsbe3r3L//RSYrGj16tV07tyZ7777DkAdbdVUxFGn07Fr1y4sLCy4du0aXl5ehISE\n",
       "VFmLraoijmVl8phQmB4JRg/ofgpMVuTn58fixYuZMWMGgYGB6szumoo45ubmEh0dTVZWFpaWluTm\n",
       "5vLTTz9VGYyqKuLYyukRI7xzIYxLbtNqodPpOHnypLrMx71qKzCZkZGhfpXPuK7I39+fjIwMevXq\n",
       "xVdffYWPjw+lpaVqEcfyc48ePapW3506dSp9+vTh6NGjZGRk0LVrV71CmRVVlSjbsosEI2F6JBjV\n",
       "wsnJidDQUKKjo9XVFBVFYd26dZw5c6ba8wwtDnn27Fmsra0ZPXo0sbGxZGVlUVBQUGMRx+vXr9Op\n",
       "Uyc0Gg07duzgxx9/rLYfVRVxbNRIijgK0yO3aQZYvnw5CxYsoFevXlhaWlJWVkZgYCBDhgyp9pya\n",
       "CkxWlJaWxqJFi9RR1YcffoitrW2NRRzfe+89YmJiePvtt9FqteptohB/ZDLp0QzJpEdhTMaa9Cgj\n",
       "IzMU7DqZRWMlUVaYFnlmJIQwCTIyMkO3Vh7kyrcf1nc3RAPxp59fNko7MjISQpgECUZVuHnzJtbW\n",
       "1uoC+BWlpqbSt29funTpgre3NwMHDqxyYfy0tDQ0Gg0vvPCC3vYJEyag0WjUgpEVC0VOnDixXhdd\n",
       "E6I+STCqwtq1a+nZsydfffUVBQUF6vbU1FQiIiJ4//33OX36NAcPHiQuLk5dz/pezs7ObNiwQV0P\n",
       "Oz8/nx9++IF27dqpxyxbtkz9870Q5kyCURXi4+OZNWsWgYGBat0ygLfeeou5c+cSEBCgbnN2dubp\n",
       "p5+usp2mTZsycOBA1q9fD8AXX3xBaGioXlXZ8kKR96opGXbixIk8++yzDBw4kK5duzJy5MhqCwBU\n",
       "WcRRkSqOwvRIMLrHzz//zPnz5wkJCSE6OlovCBw6dAh/f/86tRcVFcXy5csBSEhIYNKkSQadV54M\n",
       "m56ezs6dO5k/fz4XLlxQ92dkZLBhwwaOHz/O1atXWbduXZXtVFXEMaPwfJ3egxAPgwSje8THxxMZ\n",
       "GYmFhQVDhw7l7NmzHD9+/L7bCwgI4Ny5c2zevBkLCwtcXFwMOi83N5dRo0bh4eFBUFCQmgxbbsSI\n",
       "ETRt2hQLCwt8fX05ffp0le1UlZumbdLhvt+PEL8XCUYVFBcXs2rVKlauXImDgwNOTk7cvn1bHR31\n",
       "7NmTPXv21LndyMhIwsPD9dYqqk1tybDVJejeq6rcNAuN/LML0yPzjCpISUnB0dGRvXv3qtuOHz9O\n",
       "//79WbhwIXPnzmXixInodDr8/PwAOH36NOnp6dU+N4K7t2qKohAWFmZwX+qSDCtEQyDBqIL4+HjG\n",
       "jx+vt61bt260a9eODRs2MHLkSBISEpg5cyZXrlyhSZMmtGrVqtJ6Qfdq1aoVr776ap36IsmwwtxI\n",
       "oqwZkiKOwhTJwwMhhEmQkZEZ8tYNJ6jf5PruhmggPlj8Z6O0IyMjIYRJMItg5ODgoOaC1SQ5OVnv\n",
       "L2kPIjs7G41Gw1/+8he97W+++SYajUaddf3GG2+QmJgI3C19/eKLLxrl9YX4o5G/plVQXiG2/M/2\n",
       "dVFaWoqFhYXeNltbW7Kysrh69SqtW7emrKyMzz//HE9PT/WY+fPnP3C/hWgIzGJkVFH//v2ZOXOm\n",
       "mnk/depUADZt2kRKSgoffvghWq2WZcuWAbBq1Sp69eqFTqcjMDBQne+zYsUKBgwYQGhoKJ6enlUu\n",
       "tg8QHh7Ov/71L+Buoq2XlxePP/64ur+6TP2jR4/Sp08fdDodbm5uLFiwQN03b948wsLCGDZsGG5u\n",
       "bgQFBVVb3baq3DSlTHLThOkxy5HR6dOn2b59O8XFxbi5ubFnzx6GDh3KU089hVarVW+VfvjhBz7/\n",
       "/HN27NiBlZUVO3fuZNy4cRw7dgyAffv2kZ6eXmOKx4QJExg8eDAvv/wyy5cvZ9KkSSxcuLDWPjo4\n",
       "OLB161asrKwoLCwkICCA4OBgddS2b98+Dh06hJ2dHWPGjOGTTz5h9uzZldqpqm5amz8ZlpIixMNk\n",
       "diMjgLCwMCwtLWnSpAlarbbavK7169fz448/0qtXL7RaLc8//zzXrl2jsLAQuJt3VluuWfv27Wnf\n",
       "vj3ffPMNhw4d4oknnjCoj4WFhUyePBlPT0/8/Pz45Zdf9J57DR48GDs7O+Bu7bW65Ka1ad3VoD4I\n",
       "8TCZ5cjI0LwuRVGYMGEC7777bpX7ra2tDXq9qKgooqKimDp1Ko0aGRb/X3vtNezt7UlPT8fS0pKR\n",
       "I0fed26alZWV3jaNgX0Q4mGST2UFNjY25OXlqT8/9dRTrF69Wi1JXVZWxsGDB+vc7vDhw5k5c6b6\n",
       "fMoQ169fp3379lhaWnLixAm2bNlS59cV4o/ELEdG1YmIiGDixIkkJyfz3HPPMXnyZD744ANGjBhB\n",
       "SUkJRUVFPPnkk3h7e9epXSsrK2bNmlWnc+bMmUNERAQrV66kS5cuBAUF1el8If5oZAa2GZLcNGGK\n",
       "5DZNCGESJBgJIUyC3KaZoSh3DbN95PeQMI6uK0qN0o5ZfiIdHBxwcXFBq9XSrVs3xo0bx61bt373\n",
       "183OzqZ58+a/++sI8UdklsEI7tZGy8jI4NixY+Tl5bFixQqDzy0rK6NMUiqEMCqzDUblioqKuH37\n",
       "Ni1atKg1Hyw0NJSQkBA8PDy4fPkyGzduxMfHhx49eqDVatm3bx8ABw4cICgoCG9vb7y8vEhKSqry\n",
       "tTdv3oxOp6N79+7069ePn3/+GbhbjdbDw4OYmBh69OiBu7u7Or+ppKSEkJAQvL29cXd3f2ijOiF+\n",
       "b2Y7zygsLIwmTZqQnZ1Nz549GT16NIWFhTXmg+3Zs4f09HRat25NVlYWUVFR7NixA1dXV4qLi7l9\n",
       "+zY3btxgypQpbNq0iTZt2pCTk4NOp9Mr/Ajw66+/Mm7cONLS0vD09CQxMZGnn35azXvLzMwkPj6e\n",
       "pUuXEhcXx+uvv66WO1qzZg12dnYoikJMTAyxsbHVrrF9584d7ty5o7etVAZ1wgSZ7cio/DYtJycH\n",
       "BwcHZs2aVWs+2NChQ2ndujUAW7ZsYfDgwbi6ugLQuHFjbG1t2b17N2fOnGHIkCFotVqCg4MBOHHi\n",
       "hN7r79u3D09PT3U5kfHjx3Pp0iUuXrwIgJOTk7oIf8XcM0VRWLx4MV5eXnTv3p2NGzfWuFZTVUUc\n",
       "j+Q8+PUTwtjMdmRUztLSktDQUF5++WXy8vJqzAczJBdNURTc3d3ZvXt3pX3Z2dkG96u63LM1a9aw\n",
       "bds2vv/+e2xsbPjHP/7Btm3bqm1n9uzZTJ8+XW/b33rZGtwPIR4Wsx0ZVbRt2zZcXFzqlA8WEhLC\n",
       "5s2byczMBO4WgMzLyyMgIICzZ8+SmpqqHpuRkUFRUZHe+X5+fhw9elStEvvFF1/Qrl072rVrV2Nf\n",
       "r1+/jr29PTY2Nty8ebPWB+9VFnGUf3Vhgsx2ZFT+zKikpIROnToRFxdHTk6OwflgTk5OJCQkEB4e\n",
       "TnFxMRYWFsTFxeHr68vGjRuZOXMmM2bMoLi4mI4dO6rLzJZr2bIliYmJREZGUlJSQosWLUhKSkKj\n",
       "0dTY78jISNavX4+LiwstW7akb9++/PLLL8a4JELUK5n0aIZk0qMwJmNNejTbkZE5axHyEl0lUVaY\n",
       "GPn1KIQwCXKbZoasQ3xoPmZgfXdDNBAXot4zSjsyMhJCmIQGFYwqJsC6uLjw3nsPHrE1Gg03btyo\n",
       "tD0tLQ2NRsMLL7ygt33ChAloNBqDikbey9vbm7S0tCr3Xbp0ib59+1Z7rr29fZ3mMQlhahpUMIL/\n",
       "zazetm0bCxcurLaemTE4OzuzYcMGdQ5Rfn4+P/zwQ61zheqqpKSEtm3bsnPnTqO2K4QpaXDBqFy7\n",
       "du1wdXVV5+BcuXKF0aNH4+vri6enJ3PmzFGPnTlzJj4+Pmi1WgIDAyulblSnadOmDBw4kPXr1wN3\n",
       "Jy6GhoZiafm/P1IuWrRIbdvHx4c9e/ao+3bv3o1Wq8XDw4OoqCi9Ch/9+/dn2rRp+Pv7M2jQoErL\n",
       "j6SkpNCtWze6d+/OK6+8Um0fqyriSKk8JhSmp8EGo8zMTHJzc+nfvz9w9/bpueeeY//+/aSnp3Pw\n",
       "4EE1m37WrFkcOHCAjIwMYmJiKt161SQqKorly5cDkJCQwKRJk/T2R0REqG3HxsYSFRUF3F0tICws\n",
       "jI8++oiffvqJsWPHqtVqy2VlZbFjx45K6R6//vorUVFRrFu3jiNHjuDk5ERubm6V/asqN63o7GWD\n",
       "358QD0uDm2cUFhZGo0aNOHHiBIsXL6Zly5bcunWLrVu3cvXqVfW4goICdQS0ZcsWYmNjuXnzJmVl\n",
       "ZdWWiq5KQEAA586dUzPq7y3qmJ6ezjvvvENubq6aZlJYWMjJkyextLRUE2kHDRqEo6Oj3rnh4eE0\n",
       "bty40mvu3buX7t274+bmBkB0dDTPP/98lf2rKjet7UipNCJMT4MLRmvXrkWr1ZKamsqwYcMICgqi\n",
       "c+fOwN3/xBUTUAHOnTvH3/72Nw4cOECXLl04cuQIgYGBdXrNyMhIwsPDKz0wLyoqYuTIkWzfvh0f\n",
       "Hx/y8/OxtbWttKRHuXtTQQwtEllTCklVRRyxqDnlRIj60GBv04KDg/nrX//KnDlzsLa2ZsCAAXrB\n",
       "4tKlS1y4cIG8vDwaN25MmzZtUBSFJUuW1Pm1oqKimDFjBmFhYXrbf/vtN4qKiujYsSMAsbGx6j5X\n",
       "V1dKSkrYvn07AKmpqdWWqL6Xv78/R44cUZN0ly9fXikRV4g/mgY3Mqpo7ty5ODk5cejQIRITE5k+\n",
       "fToeHh5oNBoee+wxPvnkE3r06MGYMWNwd3fHzs6O4cOH1/l1WrVqVeXiZjY2NixYsABfX1/s7e0Z\n",
       "M2aMuu+RRx5h7dq1xMTEUFpaqq4YaYiWLVuyfPlyRowYwSOPPMLgwYOxs7Orc7+FMCUyA9sMSRFH\n",
       "YYoa7G2aEOKPRYKREMIkSDASQpiEBv0AW1R2584d/vOf/1BaWoqFhUV9d8dklZaWsn//fnx9feU6\n",
       "1aC269SpUyeDJxHLA2wzUz7XKS8vDxsbm/rujsmS62QYY14nuU0TQpgECUZCCJMgwUgIYRIkGJkZ\n",
       "Kysr3nzzzcr5akKPXCfDGPM6yQNsIYRJkJGREMIkSDASQpgECUZCCJMgwaiBOnnyJAEBAXTt2hUf\n",
       "Hx+OHTtW5XHx8fE4OzvTpUsXnnnmGYqLix9yT+uXIdcpLS2NJk2aoNVq1a/CwsJ66G39mDZtGg4O\n",
       "DrVWvXngz5IiGqQBAwYoCQkJiqIoSlJSkuLt7V3pmDNnziht2rRRLl++rJSVlSnDhg1TlixZ8pB7\n",
       "Wr8MuU7bt29XevTo8XA7ZkK+//575fz580qnTp2U9PT0Ko8xxmdJglEDdPXqVaVZs2ZKcXGxoiiK\n",
       "UlZWprRu3Vo5efKk3nEffPCB8uyzz6o/b9y4Uendu/dD7Wt9MvQ6mXswKldTMDLGZ0lu0xqg8+fP\n",
       "06ZNG7VkkkajoWPHjpw7d07vuHPnztGpUyf1ZwcHh0rHNGSGXieA06dPo9Pp8PHxYenSpQ+7qybP\n",
       "GJ8lydoXohY6nY4LFy5ga2vLhQsXGDp0KPb29owePbq+u9agyMioAerQoQOXL19Wi0IqisK5c+fU\n",
       "wgDlOnbsqBa5BMjOzq50TENm6HWysbHB1tYWgPbt2zN27Fip7nsPY3yWJBg1QK1atUKn07F69WoA\n",
       "1q1bR/v27XFyctI7LjQ0lJSUFK5cuYKiKMTFxekVDWjoDL1Oly9fpqysDICbN2/yzTff4OXl9dD7\n",
       "a8qM8lm634dZwrRlZmYqfn5+irOzs9KzZ0/lyJEjiqIoSnR0tLJ+/Xr1uE8//VRxdHRUHB0dlUmT\n",
       "JilFRUX11eV6Ych1io2NVdzc3JTu3bsrbm5uyptvvqmUlZXVZ7cfqilTpijt2rVTLCwslFatWild\n",
       "unRRFMX4nyXJTRNCmAS5TRNCmAQJRkIIkyDBSAhhEiQYCSFMggQjIYRJkGAkhDAJEoyEECZBgpEQ\n",
       "wiRIMBJCmAQJRkIIkyDBSAhhEv4P+aMAo9vvGEgAAAAASUVORK5CYII=\n",
       "\">\n",
       "        \n",
       "      </div>\n",
       "      <script></script>\n",
       "      <script type=\"text/javascript\">\n",
       "        (() => {\n",
       "          const chartElement = document.getElementById(\"chart-b0459129-ce62-4f28-9f32-2f75da5b32ed\");\n",
       "          async function getCodeForChartHandler(event) {\n",
       "            const chartCodeResponse =  await google.colab.kernel.invokeFunction(\n",
       "                'getCodeForChart', [\"chart-b0459129-ce62-4f28-9f32-2f75da5b32ed\"], {});\n",
       "            const responseJson = chartCodeResponse.data['application/json'];\n",
       "            await google.colab.notebook.addCell(responseJson.code, 'code');\n",
       "          }\n",
       "          chartElement.onclick = getCodeForChartHandler;\n",
       "        })();\n",
       "      </script>\n",
       "      <style>\n",
       "        .colab-quickchart-chart-with-code  {\n",
       "            display: block;\n",
       "            float: left;\n",
       "            border: 1px solid transparent;\n",
       "        }\n",
       "\n",
       "        .colab-quickchart-chart-with-code:hover {\n",
       "            cursor: pointer;\n",
       "            border: 1px solid #aaa;\n",
       "        }\n",
       "      </style>"
      ],
      "text/plain": [
       "import numpy as np\n",
       "from google.colab import autoviz\n",
       "df_8691125063884370842 = autoviz.get_registered_df('df_8691125063884370842')\n",
       "\n",
       "def categorical_histogram(df, colname, figsize=(2, 1.2), mpl_palette_name='Dark2'):\n",
       "  from matplotlib import pyplot as plt\n",
       "  import seaborn as sns\n",
       "  _, ax = plt.subplots(figsize=figsize)\n",
       "  bars = df[colname].value_counts()\n",
       "  plt.barh(bars.index, bars.values, color=sns.palettes.mpl_palette(mpl_palette_name))\n",
       "  plt.title(colname)\n",
       "  ax.spines[['top', 'right',]].set_visible(False)\n",
       "  return autoviz.MplChart.from_current_mpl_state()\n",
       "\n",
       "chart = categorical_histogram(df_8691125063884370842, *['clubs'], **{})\n",
       "chart"
      ]
     },
     "metadata": {},
     "output_type": "display_data"
    },
    {
     "data": {
      "text/html": [
       "<h4 class=\"colab-quickchart-section-title\">Faceted distributions</h4>\n",
       "<style>\n",
       "  .colab-quickchart-section-title {\n",
       "      clear: both;\n",
       "  }\n",
       "</style>"
      ],
      "text/plain": [
       "<google.colab._quickchart_helpers.SectionTitle at 0x7ff4679d3ac0>"
      ]
     },
     "metadata": {},
     "output_type": "display_data"
    },
    {
     "data": {
      "text/html": [
       "      <div class=\"colab-quickchart-chart-with-code\" id=\"chart-a4ab3410-7b43-4ae0-9112-66ec1e05c066\">\n",
       "        <img src=\"data:image/png;base64,iVBORw0KGgoAAAANSUhEUgAAAXsAAADUCAYAAAB9A4OEAAAAOXRFWHRTb2Z0d2FyZQBNYXRwbG90\n",
       "bGliIHZlcnNpb24zLjcuMSwgaHR0cHM6Ly9tYXRwbG90bGliLm9yZy/bCgiHAAAACXBIWXMAAA9h\n",
       "AAAPYQGoP6dpAAAoiElEQVR4nO3dfVhUZd4H8O/IKGAmmUqaBKQoyOswKgKPoKI5xKb5skWbiiJm\n",
       "5tOaq7ZGq2HmSplP2uZzqa2oaWBkFuraxgMKm6v4lkyYKSniS5qWyIsKDIz8nj+4PNskIOggo+f7\n",
       "ua5zXcy5z32f37md6+c958zct0ZEBEREdF9r1dIBEBFR82OyJyJSASZ7IiIVYLInIlIBJnsiIhVg\n",
       "siciUgEmeyIiFWCyJyJSAW1LB0BERP8hIqisrAQAODg4QKPRWKVdjuyJiGxIZWUlDAYDDAaDkvSt\n",
       "gcmeiEgFmOyJiFSAyZ6ISAWY7ImIVIDJnohIBZjsiYhUgMmeiEgFVJvs3d3d4enpCZ1OB09PT7z9\n",
       "9tt33KZGo0FJSclN+7Ozs6HRaPDKK69Y7J8wYQI0Gg2MRmOTz9W3b19kZ2fXWXb+/HmEhYXVW7dT\n",
       "p044depUk89JRPcu1SZ7AEhNTYXRaMTOnTuRmJiI/fv3N9u5evbsiW3btqGqqgoAUFZWht27d6Nb\n",
       "t25WPY/ZbMajjz6KXbt2WbVdIrq3qTrZ39CtWzd4eXnh9OnTAIALFy7g2WefRVBQEPz8/DB37lzl\n",
       "2NmzZ6Nfv37Q6XQIDw9Hfn5+o87Rtm1bDBkyBFu2bAEAfPLJJxgzZgy02v/MWPHee+8pbffr1w85\n",
       "OTlK2Z49e6DT6eDr64vY2FiYzWalbNCgQZg+fTpCQkIwbNgwnDp1Cg899JBSvnXrVvTu3Rv+/v74\n",
       "85//3GCcJpMJZWVlFpvJZGrUNRKRDROVcnNzk9zcXBEROXr0qPTo0UN+/vlnEREZNmyYZGdni4hI\n",
       "dXW1GAwG+fTTT0VElGNERDZu3CgGg0F5DUCKi4tvOldWVpYEBATI7t27JTIyUkREgoOD5dixYxZx\n",
       "/LrtnJwc8fT0FBERk8kkLi4ukpGRISIi6enpAkCysrJERGTgwIFiMBikqqpKREQKCwvFyclJREQu\n",
       "XrwoDz/8sBw5ckRERFatWiUApLCwsM5+SUhIEAAWW0JCwq26k4ispLy8XMLCwiQsLEzKy8ut1q6q\n",
       "J0KLjo5Gq1atkJ+fj6VLl6Jz5864du0aduzYgYsXLyrHXb16VRnBZ2Rk4IMPPsCVK1dQU1ODy5cv\n",
       "N/p8oaGhOHPmDNLT02FnZwdPT0+L8tzcXPz1r39FUVERtFot8vPzUVFRgePHj0Or1WLo0KEAgGHD\n",
       "hqF79+4WdceNG4fWrVvfdM69e/fC398f3t7eAIC4uDj88Y9/rDfG+Ph4zJw502Kfvb19o6+RiGyT\n",
       "qpN9amoqdDodMjMzMXz4cERERODxxx8HUJskHRwcLI4/c+YMXn75ZRw4cAA9evRAXl4ewsPDm3TO\n",
       "mJgYjBs37qYHwlVVVRg9ejSysrLQr18/lJWVwcnJqd5bKL+dCa9du3aNOv+tZtCzt7dncie6D/Ge\n",
       "PYChQ4fipZdewty5c9GuXTsMHjzYIhmfP38eP/74I0pLS9G6dWt07doVIoLly5c3+VyxsbGYNWsW\n",
       "oqOjLfZXVlaiqqoKrq6uAIAPPvhAKfPy8oLZbEZWVhYAIDMzEwUFBY06X0hICPLy8nDs2DEAwJo1\n",
       "a5SHxESkHqoe2f/avHnz4OHhgW+++QbJycmYOXMmfH19odFo8MADD2DVqlUICAjAc889Bx8fH3Ts\n",
       "2BEjR45s8nmcnZ3x2muv3bS/ffv2WLhwIYKCgtCpUyc899xzSlmbNm2QmpqKadOm4fr16+jXrx8C\n",
       "AgIadb7OnTtjzZo1GDVqFNq0aYPIyEh07NixyXET0b1NIyLS0kEQEVGtiooKGAwGAEB6ejocHR2t\n",
       "0i5v4xARqQCTPRGRCjDZExGpAJM9EZEK8AEtEZENERFloXEHB4db/jamsZjsiYhUgN+zJ5vRXCMa\n",
       "IuI9e7IhlZWVMBgMMBgMStInIutgsiciUgEmeyIiFWCyJyJSASZ7IiIVYLInIlIBJnsiIhVgsr8F\n",
       "d3d3eHp6QqfToXfv3nj++edx7dq1Zj/vbxcNJyK6E0z2jZCamgqj0YgjR46gtLQU69ata3Tdmpoa\n",
       "1NTUNF9wRESNwGTfBFVVVSgvL0eHDh1w+PBhDBgwAHq9Ht7e3li4cKFy3Pz58zFmzBgYDAb4+vri\n",
       "p59+wvbt25UVpnQ6Hfbt2wcAOHDgACIiItC3b18EBgZi06ZNdZ47PT0der0e/v7+GDhwIL7//nsA\n",
       "QHZ2Nnx9fTFt2jQEBATAx8cHBw8eBACYzWYYDAb07dsXPj4+jfpUYjKZUFZWZrHVtw4uEd1DhBrk\n",
       "5uYmvXr1koCAAHFycpKIiAiprq6WsrIyqaysFBGR8vJy0el0kpOTIyIiCQkJ0rVrV7lw4YKIiOTn\n",
       "50vnzp3l6NGjIiJSVVUlJSUlUlxcLDqdTs6fPy8iIr/88os89thj8uOPP0phYaE4OTmJiMjFixfl\n",
       "4Ycflry8PBER+fjjj6V3795SU1MjWVlZYmdnJ3v37hURkRUrVsiwYcNERKSmpkYuXbqk/D116lRJ\n",
       "TExs8HoTEhIEgMWWkJBgpd5sWHl5uYSFhUlYWJiUl5fflXMSqQVH9o1w4zbOpUuX4O7ujjlz5qCi\n",
       "ogKTJ0+Gn58fgoODcfr0aRiNRqVOVFQUHnnkEQBARkYGIiMj4eXlBQBo3bo1nJycsGfPHpw8eRJP\n",
       "PvkkdDodhg4dCgDIz8+3OP++ffvg5+cHPz8/AMDYsWNx/vx5nDt3DgDg4eGB/v37A6hdYPzGYuQi\n",
       "gqVLlyIwMBD+/v7Yvn27RYx1iY+PR2lpqcUWHx9/Zx1IRC2OE6E1gVarxZgxY/Dqq6+itLQUnTp1\n",
       "Qm5uLrRaLUaPHm0xn0u7du1u2Z6IwMfHB3v27Lmp7NSpU42Oy8HBQfnbzs4OZrMZAJCSkoKdO3fi\n",
       "X//6F9q3b4+//e1v2LlzZ4Nt2dvbw97evtHnJqJ7A0f2TbRz5054enqiuLgYLi4u0Gq1yM/PR0ZG\n",
       "Rr11DAYD0tPTcezYMQBAdXU1SktLERoaisLCQmRmZirHGo1GVFVVWdQPDg7G4cOH8d133wEAPvnk\n",
       "E3Tr1g3dunVrMNbi4mJ06tQJ7du3x5UrV5r0YJmI7i8c2TdCdHQ0HB0dYTab4ebmhpUrV+LSpUsY\n",
       "P348PvroI/To0QMRERH11vfw8MDatWsxbtw4VFdXw87ODitXrkRQUBC2b9+O2bNnY9asWaiuroar\n",
       "qyvS0tIs6nfu3BnJycmIiYmB2WxGhw4dsGnTpltOARwTE4MtW7bA09MTnTt3RlhYGE6fPm2NLiGi\n",
       "ewwXLyGbUVFRAYPBAKD220eOjo4tHBHR/YO3cYiIVIDJnohIBZjsiYhUgMmeiEgF+ICWbIZwwXGi\n",
       "ZsNkT0SkAvyePdkMjuyJmg/v2ZPNqKyshMFggMFgsJh6gojuHJM9EZEKMNkTEakAkz0RkQow2RMR\n",
       "qQCTPRGRCjDZExGpAJP9b7i7u99y6T4ASEtLw969e61yzlOnTkGj0eDpp5+22J+QkACNRqPMb//G\n",
       "G28gOTkZQO2i5jNmzLDK+Yno/scfVd2mtLQ06HQ6BAcHN7nu9evXYWdnZ7HPyckJP/zwAy5evIhH\n",
       "HnkENTU12Lhxo7LuLAAsWLDgjuMmInXiyL4BgwYNwuzZsxEWFoYePXpg6tSpAIAvv/wSW7duxbvv\n",
       "vgudTofVq1cDADZs2ID+/ftDr9cjPDwc3377LQBg3bp1GDx4MMaMGQM/Pz/s37+/zvONGzcO69ev\n",
       "BwBkZmYiMDAQDz/8sFI+ceJELFu27KZ6hw8fxoABA6DX6+Ht7Y2FCxcqZfPnz0d0dDSGDx8Ob29v\n",
       "RERE4PLly/Ves8lkQllZmcVmMpma1nFEZHOY7G+hoKAAWVlZ+O6775Ceno6cnBxERUVhxIgRePXV\n",
       "V2E0GjF58mTs3r0bGzduxNdff41Dhw7hr3/9K55//nmlnX379mHRokU4fPgwQkJC6jzXhAkT8NFH\n",
       "HwEA1qxZg0mTJjUqRnd3d+zYsQOHDh3CN998g82bN1vcYtq3bx/WrVuH77//Hs7Ozli1alW9bSUm\n",
       "JsLJycliS0xMbFQcRGS7eBvnFqKjo6HVaqHVaqHT6VBQUFBnst6yZQu+/fZb9O/fX9l3+fJlVFRU\n",
       "AABCQ0Ph6enZ4LlcXFzg4uKCf/zjH/jmm2+QkpLSqERbUVGBadOmwWg0olWrVjh79iyMRqNyiyky\n",
       "MhIdO3YEAISEhODw4cP1thUfH4+ZM2da7LO3t79lDERk25jsb8HBwUH5287ODmazuc7jRAQTJkzA\n",
       "okWL6ixv165do84XGxuL2NhYTJ06Fa1aNe6D1+uvv45OnTohNzcXWq0Wo0ePtphbprHXANQmdiZ3\n",
       "ovsPb+Pcpvbt26O0tFR5PWLECHz88cc4c+YMAKCmpgYHDx5scrsjR47E7NmzlecDjVFcXAwXFxdo\n",
       "tVrk5+cjIyOjyeclovsbR/a3afz48Zg4cSLS0tLw3//935g8eTIWL16MUaNGwWw2o6qqCr/73e/Q\n",
       "t2/fJrVrb2+POXPmNKnO3LlzMX78eHz00Ufo0aMHIiIimlSfiO5/XLyEbEZFRQUMBgMAID09HY6O\n",
       "ji0cEdH9g7dxiIhUgMmeiEgFmOyJiFSAyZ6ISAX4gJZsBhccJ2o+TR7ZHzhwAOXl5QCATz/9FLNn\n",
       "z8b58+etHhipj0ajgaOjIxwdHZnoiaysycl+8uTJsLe3x/Hjx/GXv/wFrVu3RmxsbHPERkSo/cRT\n",
       "UVGBiooK8IM43a4mJ3s7OzvY2dnhn//8J1566SUkJibi559/bo7YiAhAZWUlDAYDDAaDxTQYRE3R\n",
       "5GRvMplw8eJFbNu2DYMGDQJQOz87ERHZriYn+z/96U/w9PSEk5MT9Ho9CgoK0KFDh+aIjYiIrOSO\n",
       "v41TU1MDs9mMNm3aWCsmIvoVTiNB1tDkidBMJhOWLl2KzMxMaDQaDB06lGuhEhHZuCYn+6lTp6Ko\n",
       "qAh//OMfAQBr167FsWPHsHbtWqsHR0RE1tHkZJ+Tk4OjR48q34N+6qmn4OPjY/XAiIjIepr8gLZj\n",
       "x47KUntA7W2dTp06WTWoe82VK1fQrl07xMXF3VSWmZmpLFjet29fDBkyBLt27brpuOzsbGg0Grzy\n",
       "yisW+ydMmACNRgOj0Qig9ncOWVlZAOpfgJyI6LcaPbL/29/+BgDw8vJC//798eyzzwIAPvvsM/Tr\n",
       "1695ortHpKamok+fPvj888/x/vvvK0sQZmZmYvz48di8eTNCQ0MBAMePH8e3335bZzs9e/bEtm3b\n",
       "8O6776JNmzYoKyvD7t270a1bN+WY1atXN/8FEdF9p9Ej+9zcXOTm5qKmpgZ9+/bFyZMncfLkSej1\n",
       "etTU1DRnjDYvKSkJc+bMQXh4OFJTU5X9b775JubNm6ckeqA2of/+97+vs522bdtiyJAh2LJlCwDg\n",
       "k08+wZgxY6DV/uf/5EGDBiEtLe2mujt27EBISAgCAwPh4+ODpKQkpWzixIl48cUXMWTIEPTq1Quj\n",
       "R49GVVVVnTGYTCaUlZVZbCaTqUn9QUQ2SOiOHDlyRLp16yZms1m2bNkiISEhSpmjo6McOnSoUe1k\n",
       "ZWVJQECA7N69WyIjI0VEJDg4WI4dOyZubm6Sm5srIiIDBw6UL774QkREJkyYIEuXLhURkcuXL4vZ\n",
       "bBYRkaKiInF1dZWzZ88qxwUFBcm1a9fEbDZLaGiopKSk1BlHQkKCALDYEhISmtgrZE3l5eUSFhYm\n",
       "YWFhUl5e3tLh0D2qyQ9o169fX+f+mJiYO/pP516VlJSEmJgY2NnZISoqCi+++CKOHj2K3r1731Z7\n",
       "oaGhOHPmDNLT02FnZwdPT89G1SsqKkJcXBx++OEHaLVaFBUV4bvvvoOLiwsAYNSoUWjbti0AICgo\n",
       "CAUFBXW2Ex8fj5kzZ1rss7e3v61rISLb0eRkv23bNuXvyspK/Pvf/0ZwcLAqk311dTU2bNiA1q1b\n",
       "IyUlBQBQXl6OpKQkLFmyBH369EFOTg4CAwOb1G5MTAzGjRuHt99+u9F1pk6diqioKGzevBkajQZ6\n",
       "vd5iHhUHBwflbzs7O5jN5jrbsbe3Z3Inug81Odlv2rTJ4nVhYSH+8pe/WC2ge8nWrVvRvXt37N27\n",
       "V9l39OhRDBo0CImJiZg3bx4mTpwIvV6P4OBgAEBBQQFyc3PrvW8PALGxsRARREdHNzqW4uJiuLm5\n",
       "QaPR4Ouvv673ITARqVOTk/1vPf744zhy5Ig1YrnnJCUlYezYsRb7evfujW7dumHbtm0YPXo01q5d\n",
       "i9mzZ+PChQtwdHSEs7Mz3nzzzQbbdXZ2xmuvvdakWN5++21MmzYNb731FnQ6Hfr379/k6yGi+1eT\n",
       "58bZunWr8vf169exb98+7Ny5E/v377d6cETEuXHIOpo8sl+6dOl/Kmu18PDwsPi6IRER2Z4mJ/sb\n",
       "v94kIqJ7R6OTfV5eXoPl/v7+dxwMERE1j0Yn+6effrreMo1Gg5MnT1olICIisr7bekAbFhamrE5V\n",
       "XFyM3bt346mnnmqWAInUTkSU30w4ODgoM84SNUWTk71Op1NmYARq34h9+vTBoUOHrB0bERFZyR1/\n",
       "z16j0XDBcZXjyJPI9jV5PvsHH3wQe/bsUV7v3r0bDz74oFWDontLZWUlDAYDDAaDxRQNRGQ7mjyy\n",
       "X7x4MUaNGgUvLy8AtfOzf/HFF1YPjIiIrKfJyT4kJARHjx5FTk4OgNpZGh966CFrx0VERFZ0W/fs\n",
       "O3TogKioKGvHQkREzaTJ9+yJiOjew2RPRKQCTPZERCrAZG9lZrMZb775Jry8vODr6wudTocpU6Yg\n",
       "LS0NOp2uye1lZ2ffVj0iol+74x9VkaW4uDhcvnwZOTk56NChA0QEn332GS5fvtzSoRGRinFkb0Un\n",
       "TpzApk2bsHbtWmXuII1Gg2eeeQbdu3eH2WzGtGnTEBAQAB8fHxw8eFCpm56ejgEDBqBPnz4ICgqq\n",
       "cyrpX375BcOGDYOfnx/8/f0RGxurlC1ZsgRBQUHQ6/WIjIzE6dOnAQA7duxASEgIAgMD4ePjg6Sk\n",
       "pAavwWQyoayszGIzmUzW6B4iaklCVpOamir+/v51lmVlZYmdnZ3s3btXRERWrFghw4YNExGRgoIC\n",
       "CQ4OltLSUhEROX78uHTp0kUqKyslKytLAgICRETkvffekylTpihtFhUViYhIcnKyTJ48Wcxms4iI\n",
       "rF+/XqKiokRE5PLly8r+oqIicXV1lbNnz9Z7DQkJCQLAYktISGjwusvLyyUsLEzCwsKkvLy8wWOJ\n",
       "qGXwNs5d5OHhoawNGxISgiVLlgAAvvrqK5w4cQLh4eHKsa1atcKZM2cs6gcHB2Pp0qWYNWsWwsPD\n",
       "ERkZCQBIS0vDgQMH0KdPHwCwmKuoqKgIcXFx+OGHH6DValFUVITvvvsOLi4udcYYHx+PmTNnWuyz\n",
       "t7e/wysnopbGZG9Fer0ex48fR1FRETp27HhTuYODg/K3nZ0dzGYzgNqJxJ544gmkpKTcVOfcuXPK\n",
       "3yEhITAajcjMzMTnn3+OefPmITc3FyKC+Ph4TJky5ab6U6dORVRUFDZv3gyNRgO9Xt/g/DX29vZM\n",
       "7kT3Id6ztyIPDw+MGTMGcXFxKCkpAVCbyDdv3tzg4i4GgwGZmZkWq4HVtYB7YWEh2rVrh2effRYf\n",
       "fPABfvjhB1y9ehUjR47EypUrlYfA1dXVyM3NBVC73oCbmxs0Gg2+/vprfPvtt1a8YiK6V3Bkb2Vr\n",
       "1qzBwoUL0b9/f2i1WtTU1CA8PBxPPvlkvXU8PDyQkpKCF198EeXl5aiqqkJgYOBNI/3s7Gy89957\n",
       "yqeCd999F05OThg7diyKioowePBgALVf/5w0aRICAwPx9ttvY9q0aXjrrbeg0+mU20hEpC5NXryE\n",
       "6LcqKipgMBgA1H6ryNHRsYUjIqLf4m0cIiIVYLInIlIBJnsiIhVgsiciUgE+oKU7JlxwnMjmMdkT\n",
       "EakAv2dPVAd+WqH7De/ZE9WhsrISBoMBBoOhwekliO4VTPZERCrAZE9EpAJM9kREKsBkT0SkAkz2\n",
       "REQqwGRPRKQCTPa3wd3dHUaj0WLf5MmT61wk3NZoNBplYRUiUg/+qMpKVq9ebdX2zGYztFr+8xCR\n",
       "dXBkbyWDBg1CWloazp49C2dnZ1RVVSllEydOxPvvvw8AOHDgACIiItC3b18EBgZi06ZNAIBTp07h\n",
       "oYcewpw5c6DX67F8+XLMnz8fY8aMQUREBLy8vDB8+HAUFRUBAK5evYpJkybB19cXvr6+ePPNN5Xz\n",
       "nThxAkOHDoW/vz90Oh3S0tIafR0mkwllZWUWm8lkskIPEVFLYrK3ssceeww6nQ5bt24FUJuUt27d\n",
       "inHjxqGkpARTpkxBcnIyDh48iIyMDMyaNUtZVLy0tBQ+Pj44dOgQZsyYAQDYtWsXUlJScOzYMTz2\n",
       "2GOIj48HALz11lswmUzIy8vDvn37kJaWhtTUVADA2LFj8cwzzyAvLw+bNm1CXFwcTp8+3aj4ExMT\n",
       "4eTkZLElJiZauZeI6G5jsm8GsbGxWLt2LQBg06ZNiIiIQMeOHbFnzx6cPHkSTz75JHQ6HYYOHQoA\n",
       "yM/PBwC0bt0a48aNs2jrd7/7Hbp06QIAmDJlCjIzMwEAmZmZeOGFF9CqVSs88MADiImJQUZGBq5c\n",
       "uYJDhw4hLi4OANCzZ08MGDAAu3btalTs8fHxKC0ttdhu/AdDRPcu3hRuBqNGjcL06dPx008/Yd26\n",
       "dfjzn/8MoHZyLR8fH+zZs+emOqdOnULbtm3RqlXD///WNyFXQxN1NWUSL3t7e9jb2zf6eCK6N3Bk\n",
       "3wwcHBzwzDPPYP78+SgoKEBkZCQAIDQ0FIWFhcroHACMRqPF/f3f+vLLL3Hx4kUAtQ+Bb3waGDp0\n",
       "KJKSkiAiuHbtGjZs2IBhw4bhwQcfhF6vVz5ZnDhxAv/+978RHh7eXJdLRPcAjuxvk8FgQOvWrZXX\n",
       "Dg4OFuWxsbEICgrCnDlzYGdnBwDo0KEDtm/fjtmzZ2PWrFmorq6Gq6trgw9Qw8LC8Pzzz+PcuXPo\n",
       "2bMn1q1bBwCYN28epk+fDj8/PwDAM888g2effRYAkJycjKlTp2L58uXQaDRYvXo1XF1drXj1RHSv\n",
       "4eIlNmz+/PkoKSnBsmXLWjoU1amoqIDBYAAApKenw9HRsYUjIrozvI1DRKQCvI1jw+bPn9/SIRDR\n",
       "fYIjeyIiFWCyJyJSAT6gJaoDFxyn+w2TPRGRCvABLdkMjqaJmg/v2ZPNqKyshMFggMFgUJI+EVkH\n",
       "kz0RkQow2RMRqQCTPRGRCjDZExGpAJM9EZEKMNkTEalAsyV7d3d3ODs7o7q6WtmXlZUFjUajrK9q\n",
       "bdnZ2dDpdFZt76uvvrJKWzcWFP8tjUaDkpKSW9aPiopSli9ct24djh07dltxLF++HBMnTrytukR0\n",
       "72rWkb2rq6uy8DYAJCUloW/fvs15Squ6k2RvNputGsuXX34JT09PAHeW7IlInZo12cfGxmLNmjUA\n",
       "gNLSUuzdu1dZog8ADh8+jAEDBkCv18Pb2xsLFy5UyubPn4/o6GgMHz4c3t7eiIiIwOXLl5Xyd955\n",
       "B35+fggICEBwcDDKy8sB1CbZadOmISAgAD4+Pjh48KBSJz09HQMGDECfPn0QFBSErKwsAMDx48fx\n",
       "X//1XwgICICfnx/mzp0Lo9GIlStXIjk5GTqdDgsWLGiwjezsbPj4+CAuLg46nQ5ffPFFk/tLo9Fg\n",
       "0aJFCAoKwuOPP64sLQjUflIyGo1YvXo1Dh48iD/96U/Q6XT48ssvAQBLlixBUFAQ9Ho9IiMjcfr0\n",
       "aQDAlStXEB0dDU9PTwwYMACHDx9uMAaTyYSysjKLzWQyNflaiMjGSDNxc3OT3Nxc8fb2lnPnzsmK\n",
       "FSvktddek4SEBHnllVdERKSsrEwqKytFRKS8vFx0Op3k5OSIiEhCQoK4ubnJpUuXREQkOjpaFi1a\n",
       "JCIi69atk379+klJSYmIiFy+fFnMZrNkZWWJnZ2d7N27V0REVqxYIcOGDRMRkYKCAgkODpbS0lIR\n",
       "ETl+/Lh06dJFKisrZfr06UrbIiJFRUVKDDdivVUbWVlZotFoJDs7u87+KCwsFCcnp5v2A5Di4mLl\n",
       "7yVLloiIyNGjR6Vdu3ZSXV1t0Z8iIgMHDpQvvvhCaSM5OVkmT54sZrNZRETWr18vUVFRIiIye/Zs\n",
       "GT9+vNTU1EhJSYl4eXnJhAkT6ozxxjUDsNgSEhLqPd6aysvLJSwsTMLCwqS8vPyunJNILZp9bpzx\n",
       "48dj3bp1SEtLQ3JyMpKTk5WyiooKTJs2DUajEa1atcLZs2dhNBoRHBwMAIiMjETHjh0BACEhIcqo\n",
       "9B//+AemTp0KJycnALVru97g4eGB/v37K3WWLFkCAPjqq69w4sQJi4W3W7VqhTNnziA8PByvvvoq\n",
       "rl69ioEDByqLev9WQ20AQPfu3TFw4MA66zY0z8uvy8aOHQsA8PLyglarxYULF+Di4lJvXQBIS0vD\n",
       "gQMH0KdPHwDA9evXlbIdO3Zg6dKl0Gg0cHJywvPPP4+CgoJ624qPj8fMmTMt9tnb2zd4fiKyfc2e\n",
       "7GNiYqDX69GrVy/07NnTouz1119Hp06dkJubC61Wi9GjR1vMifLrRbzt7OwadR+8vjoigieeeAIp\n",
       "KSk31enZsydCQ0ORkZGB5cuXY9myZcrtkV9rqI1z586hXbt29cbVuXNnXL16FdXV1cpC5ZcuXYKD\n",
       "gwPat29/R9csIoiPj8eUKVNueeytJhezt7dncie6DzX7Vy8fffRRJCYm4p133rmprLi4GC4uLtBq\n",
       "tcjPz0dGRkaj2hwxYgRWrlyJ0tJSAEBJSYnFaLYuBoMBmZmZyMvLU/bt378fQO09+0ceeQQxMTFY\n",
       "vHgx9u7dCwBo3769co5btXErbdu2RUhICP7+978r+1asWIGhQ4c2eXbH38Y1cuRIrFy5UnmmUV1d\n",
       "jdzcXADA0KFDsXbtWogIysrKsHHjxiadi4juD3dliuPY2Ng698+dOxfjx4/HRx99hB49eiAiIqJR\n",
       "7Y0fPx7nz59HaGgotFotHnjgAWRmZjZYx8PDAykpKXjxxRdRXl6OqqoqBAYGIiUlBZ999hk+/vhj\n",
       "tGnTBjU1NVi5ciUAYNSoUdiwYQN0Oh1Gjx6NN954o942GmPDhg2YPn06PvzwQ4gIevXqhQ8//LBR\n",
       "dX9typQpmDVrFpYuXYpFixZh7NixKCoqwuDBgwHUPqSeNGkSAgMDMW/ePEyePBleXl7o3LkzBgwY\n",
       "wAeuRCrExUvIZlRUVMBgMACo/daTo6NjC0dEdP/gL2iJiFSAyZ6ISAWY7ImIVIDJnohIBZjsiYhU\n",
       "gN/GIZshIsqP6hwcHJr8+wMiqh9H9nTXmEwmzJ8/v97v+Ws0Gjg6OsLR0dEmEv2t4rU1jLd53Wvx\n",
       "/hZH9nTXlJWVwcnJCaWlpRZTRNgqxtu8GO/dxZE9EZEKMNkTEakAkz0RkQow2dNdY29vj4SEhHtm\n",
       "CmXG27wY793FB7RERCrAkT0RkQow2RMRqQCTPRGRCjDZk1VVVlZi5MiR6NWrFwICAvDEE0/gxIkT\n",
       "Nx136tQp2NnZQafTKVtDC6E3J3d3d3h6eipxpKam1nlcUlISevbsiR49euCFF15AdXX1XY4UKCoq\n",
       "suizXr16QavVKktS3tCS/Tt9+nS4u7tDo9HAaDQq+48fP47Q0FD06tUL/fr1w5EjR+pt4272dV3x\n",
       "NvZ9DNjWe7lBQmRFFRUVsn37dqmpqRERkQ8++EAGDhx403GFhYXi5OR0d4Orh5ubm+Tm5jZ4zMmT\n",
       "J6Vr167y008/SU1NjQwfPlyWL19+dwJswLvvvitPPfXUTftbsn//9a9/ydmzZ2/q18GDB8vatWtF\n",
       "RGTTpk3St2/fOuvf7b6uK97Gvo9FbOu93BCO7MmqHBwcEBUVpcxtExwcjFOnTrVsUFbw2WefYcSI\n",
       "EejSpQs0Gg2mTp1qE4u3JyUlIS4urqXDsBAeHg4XFxeLfT///DMOHjyIcePGAQDGjBmDs2fP1jla\n",
       "vtt9XVe89+P7mMmemtX777+Pp59+us6ya9euoV+/ftDr9ViwYAGuX79+l6P7j5iYGPj5+SEuLg6/\n",
       "/PLLTeVnzpyBm5ub8trd3R1nzpy5myHeZM+ePSguLsZTTz1VZ7kt9e/Zs2fRtWtXaLVaALWT3rm6\n",
       "utbZh7bY1w29jwHb6uv6MNlTs1m0aBFOnDiBxMTEm8q6du2Kc+fO4cCBA8jMzMSuXbvwP//zPy0Q\n",
       "JfD1118jLy8Phw4dQqdOnTBhwoQWiaOpkpKSEBMToyTQX7Ol/r3XNfQ+Bu6dvmayp2axZMkSfP75\n",
       "5/jnP/+Jtm3b3lRub28PZ2dnAMDDDz+MSZMmYdeuXXc7TACAq6srAKB169aYMWNGnXG4urri9OnT\n",
       "yutTp04p9VrC1atX8emnn2LSpEl1lttS/wLAY489hp9++glmsxlA7doFZ86cqbMPbamvb/U+Bmyv\n",
       "r+vDZE9W995772Hjxo3IyMjAQw89VOcxP//8s/INC5PJhM8//xyBgYF3Mcpa165dQ0lJifJ648aN\n",
       "dcYxZswYbN26FRcuXICIYOXKlXjuuefuYqSWUlNTERAQAC8vrzrLbaV/b3B2doZer8fHH38MANi8\n",
       "eTNcXFzg4eFx07G20teNeR8DttfX9WrhB8R0nzl79qwAkO7du0tAQIAEBARIUFCQiIjMmzdPVqxY\n",
       "ISIimzdvFh8fH/H39xdvb295+eWXpbKy8q7HW1BQIDqdTvz8/MTX11dGjBghhYWFIiISFxcnW7Zs\n",
       "UY798MMPpXv37tK9e3eZNGmSVFVV3fV4bwgJCZE1a9ZY7LOV/p0yZYp069ZN7OzsxNnZWXr06CEi\n",
       "IseOHZPg4GDp2bOn9OnTR/Ly8pQ6LdnXdcXb0PtYxHb6uik4Nw4RkQrwNg4RkQow2RMRqQCTPRGR\n",
       "CjDZE9kAjUZj8a0goPbHRL+eW+Z///d/4evri969e0Ov1+MPf/iD8mOjuur/2tatW5V5W7p06YLO\n",
       "nTsrr5OTk6HT6XDlyhUAwLJly3DhwgWl7vz58zFjxgxrXSq1kJt/jUFENichIQH/93//h6+++kr5\n",
       "af+OHTtw4cKFRn0HfcSIERgxYgSA2uRdUlKCZcuWKeVjx45V/l62bBkGDRqELl26WPciqEVxZE9k\n",
       "465du4bFixcjKSnJYg6XIUOGICgoyCrnuPHJYMGCBTh//jyio6Oh0+ksPlncsGTJEgQFBUGv1yMy\n",
       "MlL5AdS2bdvg7+8PnU4HX19fbNmyxSqxkXUw2RPZuCNHjqBNmzbw9vZu9nO98cYbePTRR5Gamgqj\n",
       "0QidTmdRnpKSgvz8fOTk5ODQoUMYO3Yspk2bBgCYO3cuVq1aBaPRiLy8PAwcOLDZ46XG420cIht2\n",
       "Y9ZFW5GWloYDBw6gT58+AGAx4deQIUPwyiuv4Pe//z2GDRt2038U1LI4sieyAZ07d0ZRUZHFvkuX\n",
       "LsHZ2Rne3t6oqqrC999/30LR/YeIID4+HkajEUajEYcPH8bhw4cB1E4vsHbtWrRt2xYTJkzA4sWL\n",
       "Wzha+jUmeyIbYDAYsGrVKuX1+vXr0b17d3Tt2hXt2rXD7Nmz8cILL+DcuXPKMVlZWdi/f7/VY2nf\n",
       "vj1KS0vrLBs5ciRWrlyprIxVXV2N3NxcAMCxY8fg4+ODl19+GS+99BL27t1r9djo9vE2DpENWLZs\n",
       "GWbMmAF/f3+0atUKXbp0waZNm5TyBQsWoFOnTjAYDLh+/To0Gg10Oh3eeecd5RgfHx+L2z4//vjj\n",
       "bcUyffp0vPDCC2jbti3WrVtnUTZ27FgUFRVh8ODBAACz2YxJkyYhMDAQr7/+OvLz89GmTRu0bdsW\n",
       "K1asuK3zU/Pg3DhERCrA2zhERCrAZE9EpAJM9kREKsBkT0SkAkz2REQqwGRPRKQCTPZERCrAZE9E\n",
       "pAJM9kREKsBkT0SkAv8PHZoBhWFxa4oAAAAASUVORK5CYII=\n",
       "\">\n",
       "        \n",
       "      </div>\n",
       "      <script></script>\n",
       "      <script type=\"text/javascript\">\n",
       "        (() => {\n",
       "          const chartElement = document.getElementById(\"chart-a4ab3410-7b43-4ae0-9112-66ec1e05c066\");\n",
       "          async function getCodeForChartHandler(event) {\n",
       "            const chartCodeResponse =  await google.colab.kernel.invokeFunction(\n",
       "                'getCodeForChart', [\"chart-a4ab3410-7b43-4ae0-9112-66ec1e05c066\"], {});\n",
       "            const responseJson = chartCodeResponse.data['application/json'];\n",
       "            await google.colab.notebook.addCell(responseJson.code, 'code');\n",
       "          }\n",
       "          chartElement.onclick = getCodeForChartHandler;\n",
       "        })();\n",
       "      </script>\n",
       "      <style>\n",
       "        .colab-quickchart-chart-with-code  {\n",
       "            display: block;\n",
       "            float: left;\n",
       "            border: 1px solid transparent;\n",
       "        }\n",
       "\n",
       "        .colab-quickchart-chart-with-code:hover {\n",
       "            cursor: pointer;\n",
       "            border: 1px solid #aaa;\n",
       "        }\n",
       "      </style>"
      ],
      "text/plain": [
       "import numpy as np\n",
       "from google.colab import autoviz\n",
       "df_8691125063884370842 = autoviz.get_registered_df('df_8691125063884370842')\n",
       "\n",
       "def violin_plot(df, value_colname, facet_colname, col_width=.3, col_length=3, **kwargs):\n",
       "  from matplotlib import pyplot as plt\n",
       "  import seaborn as sns\n",
       "  plt.figure(figsize=(col_length, col_width * len(df[facet_colname].unique())))\n",
       "  sns.violinplot(df, x=value_colname, y=facet_colname, **kwargs)\n",
       "  sns.despine(top=True, right=True, bottom=True, left=True)\n",
       "  return autoviz.MplChart.from_current_mpl_state()\n",
       "\n",
       "chart = violin_plot(df_8691125063884370842, *['UCL Titles', 'clubs'], **{'inner': 'stick'})\n",
       "chart"
      ]
     },
     "metadata": {},
     "output_type": "display_data"
    }
   ],
   "source": [
    "df_dict = {'clubs': ['Real Madrid', 'Barcelona', 'Inter Milan', 'AC Milan', 'Chelsea', 'Liverpool', 'Manchester United'],\n",
    "           'UCL Titles': [14, 3, 3, 7, 2, 5, 3]}\n",
    "\n",
    "df = pd.DataFrame(df_dict, index = np.arange(1,8))\n",
    "df"
   ]
  },
  {
   "cell_type": "code",
   "execution_count": null,
   "metadata": {
    "id": "notzPJQe19KN"
   },
   "outputs": [],
   "source": []
  }
 ],
 "metadata": {
  "colab": {
   "provenance": []
  },
  "kernelspec": {
   "display_name": "Python 3 (ipykernel)",
   "language": "python",
   "name": "python3"
  },
  "language_info": {
   "codemirror_mode": {
    "name": "ipython",
    "version": 3
   },
   "file_extension": ".py",
   "mimetype": "text/x-python",
   "name": "python",
   "nbconvert_exporter": "python",
   "pygments_lexer": "ipython3",
   "version": "3.9.13"
  }
 },
 "nbformat": 4,
 "nbformat_minor": 1
}
