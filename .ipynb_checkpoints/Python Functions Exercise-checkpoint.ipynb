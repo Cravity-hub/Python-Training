{
 "cells": [
  {
   "cell_type": "markdown",
   "id": "41dd7744",
   "metadata": {},
   "source": [
    "The following exercises are on loops and conditional statement. Have fun with coding!\n",
    "\n",
    "### 1. Write a program that generates a random number between 1 and 20. The user should guess the number, and the program should provide feedback if the guess is too high or too low. Repeat this process until the correct number is guessed."
   ]
  },
  {
   "cell_type": "code",
   "execution_count": null,
   "id": "21ad398c",
   "metadata": {},
   "outputs": [],
   "source": []
  },
  {
   "cell_type": "markdown",
   "id": "729f3076",
   "metadata": {},
   "source": [
    "### 2. Write a program that takes a character as input and determines whether it is a vowel or a consonant."
   ]
  },
  {
   "cell_type": "code",
   "execution_count": null,
   "id": "8e76d57d",
   "metadata": {},
   "outputs": [],
   "source": []
  },
  {
   "cell_type": "markdown",
   "id": "d39a607d",
   "metadata": {},
   "source": [
    "### 3. Write a program that prompts the user to enter a positive integer and calculates its factorial."
   ]
  },
  {
   "cell_type": "code",
   "execution_count": null,
   "id": "377669f4",
   "metadata": {},
   "outputs": [],
   "source": []
  },
  {
   "cell_type": "markdown",
   "id": "26d0310b",
   "metadata": {},
   "source": [
    "### 4. Write a program that stores the prime numbers within a given range in a list."
   ]
  },
  {
   "cell_type": "code",
   "execution_count": null,
   "id": "28976d73",
   "metadata": {},
   "outputs": [],
   "source": []
  },
  {
   "cell_type": "markdown",
   "id": "e6175710",
   "metadata": {},
   "source": [
    "### 5. Write a program that checks whether a given year is a leap year or not."
   ]
  },
  {
   "cell_type": "code",
   "execution_count": null,
   "id": "71bad11a",
   "metadata": {},
   "outputs": [],
   "source": []
  }
 ],
 "metadata": {
  "kernelspec": {
   "display_name": "Python 3 (ipykernel)",
   "language": "python",
   "name": "python3"
  },
  "language_info": {
   "codemirror_mode": {
    "name": "ipython",
    "version": 3
   },
   "file_extension": ".py",
   "mimetype": "text/x-python",
   "name": "python",
   "nbconvert_exporter": "python",
   "pygments_lexer": "ipython3",
   "version": "3.9.13"
  }
 },
 "nbformat": 4,
 "nbformat_minor": 5
}
