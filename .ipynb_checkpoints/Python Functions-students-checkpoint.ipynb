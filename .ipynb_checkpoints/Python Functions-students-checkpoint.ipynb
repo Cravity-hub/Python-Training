{
 "cells": [
  {
   "cell_type": "markdown",
   "id": "765b8a95",
   "metadata": {
    "id": "765b8a95"
   },
   "source": [
    "# Functions\n",
    "A function is a reusable block of code that performs a specific task.The main benefit of using a function is code reuse. Reusing code means that we can execute the same lines of code multiple times without rewriting them each time.\n",
    "\n",
    "There are two types of functions:\n",
    "- Python built-in functions e.g list,len,print etc\n",
    "- Users defined functions\n",
    "\n",
    "## How to define a function:\n",
    "\n",
    "- Functions blocks begin **def** followed by the function **name** and **parentheses ()**.\n",
    "- Parameters or arguments are to be placed within these parentheses.\n",
    "- You can also define parameters inside these parentheses.\n",
    "- There is a body within every function that starts with a colon (:) and is indented.\n",
    "- You can also place documentation before the body.\n",
    "- The statement **return** exits a function,passing back a value\n",
    "\n",
    "Now let's create our own function"
   ]
  },
  {
   "cell_type": "code",
   "execution_count": 7,
   "id": "46d67847",
   "metadata": {},
   "outputs": [
    {
     "data": {
      "text/plain": [
       "230.0"
      ]
     },
     "execution_count": 7,
     "metadata": {},
     "output_type": "execute_result"
    }
   ],
   "source": [
    "round(234.567,-1)"
   ]
  },
  {
   "cell_type": "code",
   "execution_count": 8,
   "id": "SRDAQzCPd2FS",
   "metadata": {
    "colab": {
     "base_uri": "https://localhost:8080/"
    },
    "id": "SRDAQzCPd2FS",
    "outputId": "01e72f41-1231-4a44-afdb-547abc9034a9"
   },
   "outputs": [],
   "source": [
    "# This function accept no parameter:\n",
    "\n",
    "def greet(name):\n",
    "\n",
    "    \"\"\"\n",
    "    DOCSTRING\n",
    "    This is a welcome greeting\n",
    "    to the world of programming.\n",
    "    \"\"\"\n",
    "\n",
    "    print(f\"Hello {name}! Welcome to python programming.\")"
   ]
  },
  {
   "cell_type": "code",
   "execution_count": 9,
   "id": "f54a8a69",
   "metadata": {},
   "outputs": [
    {
     "name": "stdout",
     "output_type": "stream",
     "text": [
      "Hello Tobi! Welcome to python programming.\n",
      "None\n",
      "------------------------------------------\n",
      "Hello Sade! Welcome to python programming.\n",
      "None\n",
      "------------------------------------------\n",
      "Hello Musa! Welcome to python programming.\n",
      "None\n",
      "------------------------------------------\n"
     ]
    }
   ],
   "source": [
    "class1 = ['Tobi', 'Sade', 'Musa']\n",
    "\n",
    "for i in class1:\n",
    "   print(greet(i), end=\"\\n------------------------------------------\\n\")"
   ]
  },
  {
   "cell_type": "code",
   "execution_count": 13,
   "id": "7c239328",
   "metadata": {},
   "outputs": [],
   "source": [
    "??round"
   ]
  },
  {
   "cell_type": "code",
   "execution_count": null,
   "id": "ee20eb45",
   "metadata": {},
   "outputs": [],
   "source": [
    "def sum_num(x):\n",
    "    \"\"\"\n",
    "    DOCSTRING\n",
    "    Sum a group of numbers.\n",
    "    \n",
    "    Parameter:\n",
    "    x -> can be an iterable of float or int type\n",
    "    \"\"\"\n",
    "    \n",
    "    total = 0\n",
    "    res_dict = {}\n",
    "    for i in x:\n",
    "        total +=i\n",
    "    res_dict[\"iterable\"] = x\n",
    "    res_dict[\"sum of iterable\"] = total\n",
    "    \n",
    "        \n",
    "    return res_dict"
   ]
  },
  {
   "cell_type": "code",
   "execution_count": null,
   "id": "18b05366",
   "metadata": {},
   "outputs": [],
   "source": [
    "sum_num([20,30])"
   ]
  },
  {
   "cell_type": "code",
   "execution_count": null,
   "id": "50670f8f",
   "metadata": {},
   "outputs": [],
   "source": [
    "def sum_xy(x,y):\n",
    "    \n",
    "    \"\"\"\n",
    "    DOCSTRING\n",
    "    Sum a group of numbers.\n",
    "    \n",
    "    Parameter:\n",
    "    x -> can be a iterable of float or int type\n",
    "    \"\"\"\n",
    "    \n",
    "    total = x+y\n",
    "    multiple = x*y\n",
    "   \n",
    "        \n",
    "    return f\"The sum is {total} and the multiple is {multiple}\""
   ]
  },
  {
   "cell_type": "code",
   "execution_count": null,
   "id": "b1d7dc2c",
   "metadata": {},
   "outputs": [],
   "source": [
    "sum_xy(2,7)"
   ]
  },
  {
   "cell_type": "markdown",
   "id": "d449ad19",
   "metadata": {},
   "source": [
    "#### Activity 1: Write a function that finds the difference between two numbers. \n",
    "#### Activity 2: Add code to make the function do addition and return both results of addition and subtraction"
   ]
  },
  {
   "cell_type": "code",
   "execution_count": null,
   "id": "b8668fa5",
   "metadata": {},
   "outputs": [],
   "source": [
    "lst_1 = [1,2,3,4]\n",
    "\n",
    "sum_xy(10,34)"
   ]
  },
  {
   "cell_type": "code",
   "execution_count": null,
   "id": "4de8392b",
   "metadata": {},
   "outputs": [],
   "source": [
    "sm = sum_num([1,4,5,5,7,8,9,0])\n",
    "sm"
   ]
  },
  {
   "cell_type": "code",
   "execution_count": null,
   "id": "a08d3268",
   "metadata": {},
   "outputs": [],
   "source": [
    "help(greet())"
   ]
  },
  {
   "cell_type": "code",
   "execution_count": null,
   "id": "67746f65",
   "metadata": {
    "colab": {
     "base_uri": "https://localhost:8080/"
    },
    "id": "67746f65",
    "outputId": "3ea9641b-0419-4fce-98ba-8a4f381ec371"
   },
   "outputs": [],
   "source": [
    "# This function accept no parameter:\n",
    "\n",
    "name = str(input(\"Please enter your first name: \"))\n",
    "def greeting():\n",
    "\n",
    "    \"\"\"\n",
    "    This is a welcome greeting to the world of programming\n",
    "    \"\"\"\n",
    "    \n",
    "    print(\"Hello {}, Welcome to python programming\".format(name) )\n",
    "\n",
    "greeting()"
   ]
  },
  {
   "cell_type": "code",
   "execution_count": null,
   "id": "UyYOLGE7l66F",
   "metadata": {
    "colab": {
     "base_uri": "https://localhost:8080/"
    },
    "id": "UyYOLGE7l66F",
    "outputId": "c1ae1dc9-b5cf-4a90-e5d9-334c4b426497"
   },
   "outputs": [],
   "source": [
    "help(greeting)"
   ]
  },
  {
   "cell_type": "code",
   "execution_count": null,
   "id": "2f18d1ba",
   "metadata": {
    "colab": {
     "base_uri": "https://localhost:8080/"
    },
    "id": "2f18d1ba",
    "outputId": "e509dfb9-713a-4a0f-ae17-f5f0a3043f25"
   },
   "outputs": [],
   "source": [
    "# let's call our function\n",
    "print_check = greeting()\n",
    "type(print_check)  "
   ]
  },
  {
   "cell_type": "markdown",
   "id": "7a127b3a",
   "metadata": {
    "id": "7a127b3a"
   },
   "source": [
    "### return statement\n",
    "Functions can also return a value that can be assigned to a variable, the value can be of any data type.\n",
    "\n",
    "Let's write a function that creates a list of football kit"
   ]
  },
  {
   "cell_type": "code",
   "execution_count": null,
   "id": "84c048fe",
   "metadata": {
    "id": "84c048fe"
   },
   "outputs": [],
   "source": [
    "def kit():\n",
    "\n",
    "    \"\"\" return a list of football kit items\"\"\"\n",
    "    return [\"Jersey\",\"Short\",\"Socks\",\"footwear\"]"
   ]
  },
  {
   "cell_type": "code",
   "execution_count": null,
   "id": "01fcfc7a",
   "metadata": {},
   "outputs": [],
   "source": [
    "john = kit()\n",
    "print(john)"
   ]
  },
  {
   "cell_type": "code",
   "execution_count": null,
   "id": "8aa7860c",
   "metadata": {
    "id": "8aa7860c",
    "outputId": "1fb90f2b-84d4-4382-8259-dcc58365d1a0"
   },
   "outputs": [],
   "source": [
    "Simon = kit()\n",
    "print(Simon)\n",
    "\n",
    "Joel = kit()\n",
    "print(type(Joel))"
   ]
  },
  {
   "cell_type": "markdown",
   "id": "75b445f8",
   "metadata": {
    "id": "75b445f8"
   },
   "source": [
    "Note the difference between the **print** and the **return** statement\n",
    "\n",
    "The print statement allows you to display results on the console but cannot be stored or assigned to a variable while the return statement allows the result to be assigned to a variable."
   ]
  },
  {
   "cell_type": "code",
   "execution_count": null,
   "id": "ba6f8976",
   "metadata": {
    "id": "ba6f8976",
    "outputId": "6f741df7-62ee-462c-d798-3fbb8295bb67"
   },
   "outputs": [],
   "source": [
    "#example of our greeting function\n",
    "def greeting():\n",
    "    print(\"Hello, Welcome to python programming\")\n",
    "    \n",
    "print(greeting())"
   ]
  },
  {
   "cell_type": "markdown",
   "id": "a73781c4",
   "metadata": {
    "id": "a73781c4"
   },
   "source": [
    "We can exit a function without returning any value"
   ]
  },
  {
   "cell_type": "code",
   "execution_count": null,
   "id": "6462324f",
   "metadata": {
    "id": "6462324f"
   },
   "outputs": [],
   "source": [
    "def greeting():\n",
    "    return "
   ]
  },
  {
   "cell_type": "code",
   "execution_count": null,
   "id": "411c3ee4",
   "metadata": {
    "colab": {
     "base_uri": "https://localhost:8080/"
    },
    "id": "411c3ee4",
    "outputId": "ff3177d0-56f6-474c-8ace-ea9241a3541c"
   },
   "outputs": [],
   "source": [
    "# lets create that accepts a parameter\n",
    "\n",
    "def add(x):\n",
    "\n",
    "    \"\"\"increase a number by 1\"\"\"\n",
    "\n",
    "    \n",
    "    return x+1\n",
    "\n",
    "# call the function\n",
    "add(99)"
   ]
  },
  {
   "cell_type": "code",
   "execution_count": null,
   "id": "YNBpdI2PlZBx",
   "metadata": {
    "id": "YNBpdI2PlZBx"
   },
   "outputs": [],
   "source": [
    "def circum(radius):\n",
    "\n",
    "  \"\"\"calculate the circumference of circle\"\"\"\n",
    "\n",
    "  circumference = 2*3.142*radius\n",
    "  \n",
    "  return (\"The circumference of your circle with radius {} is: {} \".format(radius, circumference))"
   ]
  },
  {
   "cell_type": "code",
   "execution_count": null,
   "id": "n3FehO77e1uR",
   "metadata": {
    "colab": {
     "base_uri": "https://localhost:8080/",
     "height": 35
    },
    "id": "n3FehO77e1uR",
    "outputId": "4df248fd-4cda-4c3b-ce52-96df17d53f21"
   },
   "outputs": [],
   "source": [
    "circum(5)"
   ]
  },
  {
   "cell_type": "code",
   "execution_count": null,
   "id": "98670c78",
   "metadata": {
    "id": "98670c78",
    "outputId": "d6ea8a1c-1cb1-4658-e863-9fb96769c695"
   },
   "outputs": [],
   "source": [
    "add(10)"
   ]
  },
  {
   "cell_type": "markdown",
   "id": "48a5c1db",
   "metadata": {},
   "source": [
    "### Functions can accept two or more parameters"
   ]
  },
  {
   "cell_type": "code",
   "execution_count": null,
   "id": "e4976c22",
   "metadata": {
    "id": "e4976c22",
    "outputId": "054b2f40-62e1-406c-e81e-9b8798075995"
   },
   "outputs": [],
   "source": [
    "#Let's create a function that accepts 2 parameters\n",
    "\n",
    "def sum_var(a,b):\n",
    "    return a+b, a-b\n",
    "\n",
    "#call function\n",
    "\n",
    "sum_var(7,9)"
   ]
  },
  {
   "cell_type": "code",
   "execution_count": null,
   "id": "Bi46evnHsYUr",
   "metadata": {
    "id": "Bi46evnHsYUr"
   },
   "outputs": [],
   "source": [
    "def raise_pow(num, power=0):\n",
    "\n",
    "  \"\"\"raise num to power\"\"\"\n",
    "\n",
    "  return num**power"
   ]
  },
  {
   "cell_type": "code",
   "execution_count": null,
   "id": "-uYPxdewue29",
   "metadata": {
    "colab": {
     "base_uri": "https://localhost:8080/"
    },
    "id": "-uYPxdewue29",
    "outputId": "b5f5503f-4709-4ffd-b553-4fee03393027"
   },
   "outputs": [],
   "source": [
    "raise_pow(2,5)"
   ]
  },
  {
   "cell_type": "code",
   "execution_count": null,
   "id": "0b456cd1",
   "metadata": {
    "id": "0b456cd1"
   },
   "outputs": [],
   "source": [
    "# let's define function with default argument\n",
    "\n",
    "def saving_cal(initial_savings,month=1,int_rate=10):\n",
    "\n",
    "    \"\"\"\n",
    "    calculates savings at the end of n months\n",
    "\n",
    "    Parameters:\n",
    "    initial_savings\n",
    "    month: must be of type 'int' (default = 1)\n",
    "    int_rate: interest rate. Type = int, default = 10\n",
    "\n",
    "    \"\"\"\n",
    "\n",
    "    savings = initial_savings*(1+0.01*int_rate)**month\n",
    "    savings = round(savings,2)\n",
    "    print(f\"Your savings balance at the end of {month} months is N{savings}\")"
   ]
  },
  {
   "cell_type": "code",
   "execution_count": null,
   "id": "aed09d51",
   "metadata": {},
   "outputs": [],
   "source": [
    "saving_cal(20000,2,15)"
   ]
  },
  {
   "cell_type": "code",
   "execution_count": null,
   "id": "3dba1880",
   "metadata": {},
   "outputs": [],
   "source": [
    "20*(1+0.1)**6"
   ]
  },
  {
   "cell_type": "code",
   "execution_count": null,
   "id": "f1c8a9bf",
   "metadata": {},
   "outputs": [],
   "source": []
  },
  {
   "cell_type": "code",
   "execution_count": null,
   "id": "cgoYN16HyoCA",
   "metadata": {
    "colab": {
     "base_uri": "https://localhost:8080/"
    },
    "id": "cgoYN16HyoCA",
    "outputId": "1e78ce66-2f85-418c-8f5d-7e746b467824"
   },
   "outputs": [],
   "source": [
    "saving_cal(2000,3)"
   ]
  },
  {
   "cell_type": "markdown",
   "id": "A8NchjBl0kz_",
   "metadata": {
    "id": "A8NchjBl0kz_"
   },
   "source": [
    "Classwork: Define a function that takes two argument and calculates the area of a rectangle."
   ]
  },
  {
   "cell_type": "markdown",
   "id": "Fvk3YLLsXx4J",
   "metadata": {
    "id": "Fvk3YLLsXx4J"
   },
   "source": [
    "## Functions that Return Multiple Values in Python\n",
    "We can create functions that return multiple values in python. \n",
    "\n",
    "Python does this by storing the values in a tuple. \n",
    "\n",
    "We can also assign these values to variables as we please.\n",
    "\n",
    "Let's see an example below:"
   ]
  },
  {
   "cell_type": "code",
   "execution_count": null,
   "id": "eac17ac7",
   "metadata": {
    "id": "eac17ac7"
   },
   "outputs": [],
   "source": [
    "#Function that returns multiple values\n",
    "\n",
    "def min_max(lst):\n",
    "    \"\"\"\n",
    "    This functions takes in a list and returns the minimum and maximum values\n",
    "    \"\"\"\n",
    "    minimum = min(lst)\n",
    "    maximum  = max(lst)\n",
    "    \n",
    "    return minimum, maximum, maximum/minimum\n",
    "    "
   ]
  },
  {
   "cell_type": "code",
   "execution_count": null,
   "id": "b927899d",
   "metadata": {
    "colab": {
     "base_uri": "https://localhost:8080/"
    },
    "id": "b927899d",
    "outputId": "e0c8b43b-f62b-45be-c7cf-4c5782d8c7d5"
   },
   "outputs": [],
   "source": [
    "score= 23,67,88,22,56,9,12,67,9,9\n",
    "\n",
    "#We can unpack the outputs of a function by assigning them to variables.\n",
    "\n",
    "x,y,z = min_max(score)\n",
    "\n",
    "print(x,y,z, sep = \"\\n\\n\")"
   ]
  },
  {
   "cell_type": "markdown",
   "id": "b489d626",
   "metadata": {},
   "source": [
    "#### Activity 2: Write a program that calculates the mean and mode of a sequence of numbers"
   ]
  },
  {
   "cell_type": "code",
   "execution_count": null,
   "id": "638fc6b1",
   "metadata": {},
   "outputs": [],
   "source": [
    "import statistics as sta\n",
    "\n",
    "def mode(x):\n",
    "    y = sta.mode(x)\n",
    "    return y\n",
    "\n",
    "mode(score)"
   ]
  },
  {
   "cell_type": "code",
   "execution_count": null,
   "id": "ee63f1ed",
   "metadata": {},
   "outputs": [],
   "source": [
    "score"
   ]
  },
  {
   "cell_type": "code",
   "execution_count": null,
   "id": "95702b80",
   "metadata": {},
   "outputs": [],
   "source": [
    "def mode_x(x):\n",
    "    mode_l = {}\n",
    "    for i in x:\n",
    "            count_x = x.count(i)\n",
    "            mode_l[count_x] = i\n",
    "            our_mode = max(mode_l)\n",
    "    return mode_l[our_mode], mode_l"
   ]
  },
  {
   "cell_type": "code",
   "execution_count": null,
   "id": "850356d8",
   "metadata": {},
   "outputs": [],
   "source": [
    "mode_x(score)"
   ]
  },
  {
   "cell_type": "markdown",
   "id": "838afd1d",
   "metadata": {
    "colab": {
     "base_uri": "https://localhost:8080/"
    },
    "collapsed": true,
    "id": "N6ikSn1d06Cz",
    "outputId": "b0289363-d7e9-4231-91d2-64626713c26c"
   },
   "source": [
    "#### Activity: Write a function that takes a positive integer as input and checks if it is a prime number. Return True if it is, and False otherwise."
   ]
  },
  {
   "cell_type": "code",
   "execution_count": 19,
   "id": "c0be73c7",
   "metadata": {},
   "outputs": [],
   "source": [
    "def check_prime(x):\n",
    "    \n",
    "    \n",
    "    for i in  range(2, x):\n",
    "        if x%i == 0:\n",
    "            return False\n",
    "        \n",
    "    return True\n",
    "        \n",
    "        \n",
    "        \n",
    "    "
   ]
  },
  {
   "cell_type": "code",
   "execution_count": 21,
   "id": "25463070",
   "metadata": {},
   "outputs": [
    {
     "data": {
      "text/plain": [
       "False"
      ]
     },
     "execution_count": 21,
     "metadata": {},
     "output_type": "execute_result"
    }
   ],
   "source": [
    "check_prime(9)"
   ]
  },
  {
   "cell_type": "markdown",
   "id": "-R6icoAXWa2W",
   "metadata": {
    "id": "-R6icoAXWa2W"
   },
   "source": [
    "## Functions that Take a Variable Number of Arguments in Python\n",
    "Let's start by asking a few questions:\n",
    "\n",
    "What if we do not know the exact number of arguments beforehand?\n",
    "Can we create functions that work with a variable number of arguments?\n",
    "The answer is yes! And we'll create such a function right away."
   ]
  },
  {
   "cell_type": "code",
   "execution_count": null,
   "id": "0b7fbf88",
   "metadata": {},
   "outputs": [],
   "source": [
    "sum_x = 0"
   ]
  },
  {
   "cell_type": "code",
   "execution_count": 22,
   "id": "JlwR-yGNW_dz",
   "metadata": {
    "id": "JlwR-yGNW_dz"
   },
   "outputs": [],
   "source": [
    "def my_var_sum(*args):\n",
    "\n",
    "    \"\"\"adds series of numbers\"\"\"\n",
    "\n",
    "    sum_x = 0\n",
    "    for arg in args:\n",
    "        sum_x = sum_x + arg\n",
    "    return sum_x\n"
   ]
  },
  {
   "cell_type": "code",
   "execution_count": 23,
   "id": "9ee44555",
   "metadata": {},
   "outputs": [
    {
     "data": {
      "text/plain": [
       "764"
      ]
     },
     "execution_count": 23,
     "metadata": {},
     "output_type": "execute_result"
    }
   ],
   "source": [
    "my_var_sum(2,45,67,89,556,5)"
   ]
  },
  {
   "cell_type": "code",
   "execution_count": null,
   "id": "G7NvYIN62URO",
   "metadata": {
    "colab": {
     "base_uri": "https://localhost:8080/"
    },
    "id": "G7NvYIN62URO",
    "outputId": "ad7a83fe-8bd3-4bd0-e364-c7ff63edfc31"
   },
   "outputs": [],
   "source": [
    "my_var_sum(23,54,87,90,110,45,32,56,76,32,1)"
   ]
  },
  {
   "cell_type": "code",
   "execution_count": 26,
   "id": "1c4d12e8",
   "metadata": {},
   "outputs": [],
   "source": [
    "def mode_x(*data):\n",
    "    mode_l = {}\n",
    "    for i in data:\n",
    "            count_x = data.count(i)\n",
    "            mode_l[count_x] = i\n",
    "            our_mode = max(mode_l)\n",
    "    return mode_l[our_mode], mode_l"
   ]
  },
  {
   "cell_type": "code",
   "execution_count": 27,
   "id": "0fe1395e",
   "metadata": {},
   "outputs": [
    {
     "data": {
      "text/plain": [
       "(2, {3: 2, 1: 45, 2: 3})"
      ]
     },
     "execution_count": 27,
     "metadata": {},
     "output_type": "execute_result"
    }
   ],
   "source": [
    "mode_x(2,6,4,7,8,9,4,3,2,1,2,5,8,76,54,3,45)"
   ]
  },
  {
   "cell_type": "code",
   "execution_count": null,
   "id": "v30l4oLwXN7_",
   "metadata": {
    "id": "v30l4oLwXN7_"
   },
   "outputs": [],
   "source": [
    "# Example 2 with 3 numbers\n",
    "sum = my_var_sum(9,87,45)\n",
    "print(f\"The numbers that you have add up to {sum}\")"
   ]
  },
  {
   "cell_type": "code",
   "execution_count": null,
   "id": "1dFQX7PGXOLO",
   "metadata": {
    "colab": {
     "base_uri": "https://localhost:8080/"
    },
    "id": "1dFQX7PGXOLO",
    "outputId": "f1368d69-bc4f-4303-f812-4c2cfd4ff38a"
   },
   "outputs": [],
   "source": [
    "# Example 3 with 6 numbers\n",
    "sum = my_var_sum(5,21,36,79,45,65)\n",
    "print(f\"The numbers that you have add up to {sum}\")"
   ]
  },
  {
   "cell_type": "markdown",
   "id": "OllJm1coXe7y",
   "metadata": {
    "id": "OllJm1coXe7y"
   },
   "source": [
    "## How to Use **kwargs in Python\n",
    "**kwargs allows us to pass a variable number of keyword arguments to a Python function. In the function, we use the double-asterisk (**) before the parameter name to denote this type of argument.\n"
   ]
  },
  {
   "cell_type": "code",
   "execution_count": 29,
   "id": "TGUCbcCoXdQy",
   "metadata": {
    "colab": {
     "base_uri": "https://localhost:8080/"
    },
    "id": "TGUCbcCoXdQy",
    "outputId": "a9b5ecc1-fb7a-41b8-9225-769442f3d8dc"
   },
   "outputs": [
    {
     "name": "stdout",
     "output_type": "stream",
     "text": [
      "{'banana': 5, 'mango': 7, 'apple': 8} <class 'dict'>\n"
     ]
    }
   ],
   "source": [
    "def total_fruits(**kwargs):\n",
    "    print(kwargs, type(kwargs))\n",
    "\n",
    "\n",
    "total_fruits(banana=5, mango=7, apple=8)"
   ]
  },
  {
   "cell_type": "code",
   "execution_count": 30,
   "id": "hxUH4Rj3Xdf0",
   "metadata": {
    "id": "hxUH4Rj3Xdf0"
   },
   "outputs": [],
   "source": [
    "def name_grd(**kwargs):\n",
    "\n",
    "  \"\"\" prints the name and grade of students in python class\"\"\"\n",
    "\n",
    "  for key,val in kwargs.items():\n",
    "    #print(\"Hi \" + key + \" your score is: \" + str(val) + \".\")\n",
    "    print(\"Hi {} your score is: {}\".format(key,val))"
   ]
  },
  {
   "cell_type": "code",
   "execution_count": 31,
   "id": "XudPX_OR_Qfd",
   "metadata": {
    "id": "XudPX_OR_Qfd"
   },
   "outputs": [
    {
     "name": "stdout",
     "output_type": "stream",
     "text": [
      "Hi Peter your score is: 15\n",
      "Hi Tolu your score is: 15\n",
      "Hi Promise your score is: 15\n",
      "Hi Tammy your score is: 20\n",
      "Hi Tommy your score is: 15\n"
     ]
    }
   ],
   "source": [
    "name_grd(Peter = 15, Tolu= 15, Promise = 15, Tammy = 20, Tommy = 15 )"
   ]
  },
  {
   "cell_type": "markdown",
   "id": "IPb7VhRW_Rxj",
   "metadata": {
    "id": "IPb7VhRW_Rxj"
   },
   "source": [
    "## Body-Mass Index (BMI)\n",
    "\n",
    "BMI = mass(kg)/(Height)**2\n",
    "\n",
    "#### Write a function to convert length in feet(ft) into centimetres(cm)\n",
    "\n",
    "\n",
    "\n",
    "### Write a function that accepts a string and separates the alphabets from the digits and stores them in two lists.\n",
    "\n",
    "### Then return two values (a) a string of the alphabets (b) the sum of the digits."
   ]
  },
  {
   "cell_type": "markdown",
   "id": "7678d0fd",
   "metadata": {},
   "source": [
    "### Correction"
   ]
  },
  {
   "cell_type": "code",
   "execution_count": null,
   "id": "3dd2abad",
   "metadata": {},
   "outputs": [],
   "source": [
    "def str_sep(user_str):\n",
    "    \n",
    "    \"\"\"\n",
    "    Separates alphabets from digits and returns string of alpha plus sum of digits.\n",
    "    \"\"\"\n",
    "    digit = []\n",
    "    strng = []\n",
    "    \n",
    "    for char in user_str:\n",
    "        if char.isdigit():\n",
    "            digit.append(int(char))\n",
    "        elif char.isalpha():\n",
    "            strng.append(char.upper())\n",
    "            \n",
    "    join_str = \"\".join(strng) \n",
    "    sum_digit = sum(digit)\n",
    "    \n",
    "    print(digit)\n",
    "    print(strng)\n",
    "    return join_str, sum_digit"
   ]
  },
  {
   "cell_type": "code",
   "execution_count": null,
   "id": "53a453c2",
   "metadata": {},
   "outputs": [],
   "source": [
    "str_sep(\"Theboyis12yearsold\")"
   ]
  },
  {
   "cell_type": "code",
   "execution_count": null,
   "id": "a8577e55",
   "metadata": {},
   "outputs": [],
   "source": [
    "str_sep('12345678')"
   ]
  },
  {
   "cell_type": "code",
   "execution_count": null,
   "id": "d04c774f",
   "metadata": {},
   "outputs": [],
   "source": [
    "str_lst = ['123xyz', '456abc', '789rst']\n",
    "\n",
    "\n",
    "list(map(str_sep,str_lst))"
   ]
  },
  {
   "cell_type": "code",
   "execution_count": null,
   "id": "xBzrwunNXdlk",
   "metadata": {
    "colab": {
     "base_uri": "https://localhost:8080/"
    },
    "id": "xBzrwunNXdlk",
    "outputId": "b6556623-7a5f-47a2-c1ee-eb7ac4233c53"
   },
   "outputs": [],
   "source": [
    "name_grd(Alex=80, John=95, Samuel=56,Linda=89)"
   ]
  },
  {
   "cell_type": "markdown",
   "id": "41ad5812",
   "metadata": {
    "id": "41ad5812"
   },
   "source": [
    "### Parameters\n",
    "\n",
    "#### Scope\n",
    "Scope of a variable is the range of accessibility of the variable.\n",
    "\n",
    "Variables created in a function are of the local scope, meaning that only the function can access it. Once the function ends, the variable created will be deleted and unaccessible."
   ]
  },
  {
   "cell_type": "markdown",
   "id": "49caf318",
   "metadata": {
    "id": "49caf318"
   },
   "source": [
    "### Map\n",
    "The map() function executes a specified function for each item in an iterable. The item is sent to the function as a parameter.\n",
    "\n",
    "    Syntax:\n",
    "        map(function,iterable)\n",
    "     \n",
    "For example:\n",
    "\n",
    "\n"
   ]
  },
  {
   "cell_type": "code",
   "execution_count": 33,
   "id": "ddaf46c1",
   "metadata": {
    "id": "ddaf46c1"
   },
   "outputs": [],
   "source": [
    "def mult_2(num):\n",
    "    return num*2"
   ]
  },
  {
   "cell_type": "code",
   "execution_count": 40,
   "id": "8c05c5a0",
   "metadata": {},
   "outputs": [
    {
     "data": {
      "text/plain": [
       "[24]"
      ]
     },
     "execution_count": 40,
     "metadata": {},
     "output_type": "execute_result"
    }
   ],
   "source": [
    "result = list(map(mult_2, [12,]))\n",
    "\n",
    "result"
   ]
  },
  {
   "cell_type": "code",
   "execution_count": 34,
   "id": "aa14a143",
   "metadata": {},
   "outputs": [
    {
     "data": {
      "text/plain": [
       "[24, 8, 6, 134]"
      ]
     },
     "execution_count": 34,
     "metadata": {},
     "output_type": "execute_result"
    }
   ],
   "source": [
    "list(map(mult_2,[12,4,3,67]))"
   ]
  },
  {
   "cell_type": "code",
   "execution_count": 41,
   "id": "0bdfa765",
   "metadata": {
    "id": "0bdfa765"
   },
   "outputs": [],
   "source": [
    "x = [2,3,4,5,6]"
   ]
  },
  {
   "cell_type": "code",
   "execution_count": 42,
   "id": "a8e3d2b3",
   "metadata": {
    "id": "a8e3d2b3",
    "outputId": "73cecee1-2c5b-4a30-f0bb-cd3cc03c601c"
   },
   "outputs": [
    {
     "data": {
      "text/plain": [
       "[4, 6, 8, 10, 12]"
      ]
     },
     "execution_count": 42,
     "metadata": {},
     "output_type": "execute_result"
    }
   ],
   "source": [
    "list(map(mult_2,x))"
   ]
  },
  {
   "cell_type": "markdown",
   "id": "4ebfe11b",
   "metadata": {
    "id": "4ebfe11b"
   },
   "source": [
    "### Filter\n",
    "The filter() function returns an iterator were the items are filtered through a function to test if the item is accepted or not.\n",
    "\n",
    "Typically, you provide a predicate (Boolean-valued) function to this argument. In other words, you provide a function that returns either True or False according to a specific condition.\n",
    "\n",
    "    Syntax\n",
    "     function,iterable"
   ]
  },
  {
   "cell_type": "code",
   "execution_count": 43,
   "id": "0295e217",
   "metadata": {
    "id": "0295e217",
    "outputId": "7240f84e-5e45-428d-b50a-992821db5382"
   },
   "outputs": [
    {
     "name": "stdout",
     "output_type": "stream",
     "text": [
      "18\n",
      "24\n",
      "32\n"
     ]
    }
   ],
   "source": [
    "ages = [5, 12, 17, 18, 24, 32]\n",
    "\n",
    "def myFunc(x):\n",
    "    if x < 18:\n",
    "        return False\n",
    "    else:\n",
    "        return True\n",
    "\n",
    "adults = filter(myFunc, ages)\n",
    "\n",
    "for x in adults:\n",
    "  print(x)"
   ]
  },
  {
   "cell_type": "code",
   "execution_count": 44,
   "id": "466f3f1b",
   "metadata": {},
   "outputs": [],
   "source": [
    "def myFun(x):\n",
    "    for i in x:\n",
    "        if i >= 18:\n",
    "            print( i)\n",
    "       "
   ]
  },
  {
   "cell_type": "code",
   "execution_count": 45,
   "id": "40c7df5c",
   "metadata": {},
   "outputs": [
    {
     "name": "stdout",
     "output_type": "stream",
     "text": [
      "18\n",
      "24\n",
      "32\n"
     ]
    }
   ],
   "source": [
    "myFun(ages)"
   ]
  },
  {
   "cell_type": "markdown",
   "id": "fad1a137",
   "metadata": {
    "id": "fad1a137"
   },
   "source": [
    "### Lambda Expression\n",
    "Lambda expressions in Python and other programming languages are based on Alonzo Church's lambda calculus, a model of computation.\n",
    "\n",
    "It is a small anonymous function.\n",
    "\n",
    "A lambda function can take any number of arguments, but can only have one expression.\n",
    "\n",
    "        Syntax:\n",
    "            lambda arguments : expression\n",
    "            \n",
    "Example:"
   ]
  },
  {
   "cell_type": "code",
   "execution_count": 46,
   "id": "fbc59a98",
   "metadata": {
    "id": "fbc59a98",
    "outputId": "ac138d14-3ff6-441a-c2e8-525e4afeecb7"
   },
   "outputs": [
    {
     "name": "stdout",
     "output_type": "stream",
     "text": [
      "15\n"
     ]
    }
   ],
   "source": [
    "x = lambda a : a +10\n",
    "print(x(5))"
   ]
  },
  {
   "cell_type": "code",
   "execution_count": null,
   "id": "7262a827",
   "metadata": {},
   "outputs": [],
   "source": []
  },
  {
   "cell_type": "code",
   "execution_count": 47,
   "id": "c6256e22",
   "metadata": {},
   "outputs": [
    {
     "data": {
      "text/plain": [
       "255"
      ]
     },
     "execution_count": 47,
     "metadata": {},
     "output_type": "execute_result"
    }
   ],
   "source": [
    "x(245)"
   ]
  },
  {
   "cell_type": "code",
   "execution_count": 48,
   "id": "6e8656ce",
   "metadata": {
    "id": "6e8656ce"
   },
   "outputs": [],
   "source": [
    "squa = lambda b : b**2"
   ]
  },
  {
   "cell_type": "code",
   "execution_count": 49,
   "id": "6c089436",
   "metadata": {
    "id": "6c089436",
    "outputId": "9b4bd24d-1031-4911-b12d-60a9a8142c8f"
   },
   "outputs": [
    {
     "data": {
      "text/plain": [
       "49"
      ]
     },
     "execution_count": 49,
     "metadata": {},
     "output_type": "execute_result"
    }
   ],
   "source": [
    "squa(7)"
   ]
  },
  {
   "cell_type": "code",
   "execution_count": null,
   "id": "c1904e83",
   "metadata": {
    "id": "c1904e83"
   },
   "outputs": [],
   "source": [
    "# Lambda functions can take any number of arguments:\n",
    "\n",
    "sum_of_num = lambda a,b,c :a + b + c"
   ]
  },
  {
   "cell_type": "code",
   "execution_count": null,
   "id": "e9b5b043",
   "metadata": {
    "id": "e9b5b043",
    "outputId": "4ce9bebe-10e9-4b00-9b69-5a0ee9f969f0"
   },
   "outputs": [],
   "source": [
    "sum_of_num(5,6,7)"
   ]
  },
  {
   "cell_type": "code",
   "execution_count": null,
   "id": "1a098388",
   "metadata": {
    "id": "1a098388"
   },
   "outputs": [],
   "source": [
    "def myfunc(a, b):\n",
    "    return a + b\n",
    "\n",
    "x = map(myfunc,('apple', 'banana', 'cherry'), ('orange', 'lemon', 'pineapple'))"
   ]
  },
  {
   "cell_type": "code",
   "execution_count": null,
   "id": "352a22d3",
   "metadata": {
    "id": "352a22d3",
    "outputId": "de29cb98-6853-4ff2-d762-6745d9d3b341"
   },
   "outputs": [],
   "source": [
    "x_fruits = map(lambda a,b:a+b.upper(),('apple', 'banana', 'cherry'), ('orange', 'lemon', 'pineapple'))"
   ]
  },
  {
   "cell_type": "code",
   "execution_count": null,
   "id": "3b1a85bf",
   "metadata": {},
   "outputs": [],
   "source": [
    "for i in x_fruits:\n",
    "    print(i)"
   ]
  },
  {
   "cell_type": "code",
   "execution_count": null,
   "id": "db06e204",
   "metadata": {
    "id": "db06e204",
    "outputId": "1c35f534-3036-4b6f-bfc7-e5881ea78118"
   },
   "outputs": [],
   "source": [
    "list(x)"
   ]
  },
  {
   "cell_type": "code",
   "execution_count": null,
   "id": "dc330bf6",
   "metadata": {
    "id": "dc330bf6",
    "outputId": "79cfac35-0364-47fe-aedb-e1a48772419d"
   },
   "outputs": [],
   "source": [
    "def myfunc(n):\n",
    "    return lambda a : a * n\n",
    "\n",
    "mydoubler = myfunc(9)\n",
    "\n",
    "print(mydoubler(11))"
   ]
  },
  {
   "cell_type": "code",
   "execution_count": null,
   "id": "a17c41be",
   "metadata": {
    "id": "99fa8c32",
    "outputId": "72a7d412-2ac4-49b8-9f19-4a7b499e7c01"
   },
   "outputs": [],
   "source": [
    "#for example\n",
    "\n",
    "x = 20\n",
    "\n",
    "def change_x():\n",
    "    x = 10\n",
    "    return(x)\n",
    "\n",
    "\n",
    "change_x()    \n",
    "print(x)\n",
    "\n",
    "#x has not changed because of the scope "
   ]
  },
  {
   "cell_type": "code",
   "execution_count": null,
   "id": "ecead1dc",
   "metadata": {},
   "outputs": [],
   "source": [
    "change_x()"
   ]
  },
  {
   "cell_type": "code",
   "execution_count": null,
   "id": "3e922bf0",
   "metadata": {},
   "outputs": [],
   "source": [
    "print(x)"
   ]
  },
  {
   "cell_type": "code",
   "execution_count": null,
   "id": "7931cfe0",
   "metadata": {
    "id": "7931cfe0",
    "outputId": "9b57fe17-bcee-4239-8bcd-4dc7f825f316"
   },
   "outputs": [],
   "source": [
    " numbers = [-2, -1, 0, 1, 2]\n",
    "\n",
    "# Using a lambda function\n",
    "positive_numbers = filter(lambda n: n > 0, numbers)\n",
    "list(positive_numbers)"
   ]
  },
  {
   "cell_type": "code",
   "execution_count": null,
   "id": "59d517bd",
   "metadata": {
    "id": "59d517bd",
    "outputId": "81c03b25-a42d-44d9-fbbc-5cd1ba7627a2"
   },
   "outputs": [],
   "source": [
    "# lets try appending to a list\n",
    "list_1 = [1,2,3,4]\n",
    "\n",
    "def update_list(lst):\n",
    "    lst +=[5,6,7,8]\n",
    "    \n",
    "    \n",
    "    \n",
    "update_list(list_1)\n",
    "print(list_1)"
   ]
  },
  {
   "cell_type": "code",
   "execution_count": null,
   "id": "a2cf6955",
   "metadata": {
    "id": "a2cf6955",
    "outputId": "69e6c44a-60f0-4d47-bf92-80bfc3b26b8c"
   },
   "outputs": [],
   "source": [
    "#Class Activity\n",
    "\n",
    "list_1 = [2,4,6,8,10]\n",
    "list_2 = [\"a\",\"b\",\"c\",\"e\"]\n",
    "\n",
    "# define a function that multiplies a list by 2\n",
    "\n",
    "def multiply_2(lst):\n",
    "    for val in lst:\n",
    "        val*=2\n",
    "        \n",
    "multiply_2(list_2)\n",
    "print(list_2)\n",
    "\n",
    "\n",
    "def multiplyy_2(lst):\n",
    "    for i in range(len(lst)):\n",
    "        lst[i]*=2\n",
    "\n",
    "multiplyy_2(list_1)\n",
    "print(list_1)"
   ]
  },
  {
   "cell_type": "code",
   "execution_count": null,
   "id": "f7626649",
   "metadata": {
    "id": "f7626649",
    "outputId": "ffae406b-bec3-4dd6-c162-ef85f58eba3b"
   },
   "outputs": [],
   "source": [
    "list_3 = [6,7,8,9]\n",
    "\n",
    "multiplyy_2(list_3)\n",
    "list_3"
   ]
  },
  {
   "cell_type": "code",
   "execution_count": null,
   "id": "2c41853e",
   "metadata": {
    "id": "2c41853e",
    "outputId": "21223169-173d-4f89-b2b8-80636392a234"
   },
   "outputs": [],
   "source": [
    "#Using the for loop\n",
    "\n",
    "def itemize(lst):\n",
    "    for elem in lst:\n",
    "        print(elem)\n",
    "\n",
    "list_5 = [\"Mathematics\",\"Geography\",\"python\"]\n",
    "\n",
    "itemize(list_5)"
   ]
  },
  {
   "cell_type": "code",
   "execution_count": 1,
   "id": "12c061ee",
   "metadata": {
    "collapsed": true
   },
   "outputs": [
    {
     "name": "stdout",
     "output_type": "stream",
     "text": [
      "Help on class str in module builtins:\n",
      "\n",
      "class str(object)\n",
      " |  str(object='') -> str\n",
      " |  str(bytes_or_buffer[, encoding[, errors]]) -> str\n",
      " |  \n",
      " |  Create a new string object from the given object. If encoding or\n",
      " |  errors is specified, then the object must expose a data buffer\n",
      " |  that will be decoded using the given encoding and error handler.\n",
      " |  Otherwise, returns the result of object.__str__() (if defined)\n",
      " |  or repr(object).\n",
      " |  encoding defaults to sys.getdefaultencoding().\n",
      " |  errors defaults to 'strict'.\n",
      " |  \n",
      " |  Methods defined here:\n",
      " |  \n",
      " |  __add__(self, value, /)\n",
      " |      Return self+value.\n",
      " |  \n",
      " |  __contains__(self, key, /)\n",
      " |      Return key in self.\n",
      " |  \n",
      " |  __eq__(self, value, /)\n",
      " |      Return self==value.\n",
      " |  \n",
      " |  __format__(self, format_spec, /)\n",
      " |      Return a formatted version of the string as described by format_spec.\n",
      " |  \n",
      " |  __ge__(self, value, /)\n",
      " |      Return self>=value.\n",
      " |  \n",
      " |  __getattribute__(self, name, /)\n",
      " |      Return getattr(self, name).\n",
      " |  \n",
      " |  __getitem__(self, key, /)\n",
      " |      Return self[key].\n",
      " |  \n",
      " |  __getnewargs__(...)\n",
      " |  \n",
      " |  __gt__(self, value, /)\n",
      " |      Return self>value.\n",
      " |  \n",
      " |  __hash__(self, /)\n",
      " |      Return hash(self).\n",
      " |  \n",
      " |  __iter__(self, /)\n",
      " |      Implement iter(self).\n",
      " |  \n",
      " |  __le__(self, value, /)\n",
      " |      Return self<=value.\n",
      " |  \n",
      " |  __len__(self, /)\n",
      " |      Return len(self).\n",
      " |  \n",
      " |  __lt__(self, value, /)\n",
      " |      Return self<value.\n",
      " |  \n",
      " |  __mod__(self, value, /)\n",
      " |      Return self%value.\n",
      " |  \n",
      " |  __mul__(self, value, /)\n",
      " |      Return self*value.\n",
      " |  \n",
      " |  __ne__(self, value, /)\n",
      " |      Return self!=value.\n",
      " |  \n",
      " |  __repr__(self, /)\n",
      " |      Return repr(self).\n",
      " |  \n",
      " |  __rmod__(self, value, /)\n",
      " |      Return value%self.\n",
      " |  \n",
      " |  __rmul__(self, value, /)\n",
      " |      Return value*self.\n",
      " |  \n",
      " |  __sizeof__(self, /)\n",
      " |      Return the size of the string in memory, in bytes.\n",
      " |  \n",
      " |  __str__(self, /)\n",
      " |      Return str(self).\n",
      " |  \n",
      " |  capitalize(self, /)\n",
      " |      Return a capitalized version of the string.\n",
      " |      \n",
      " |      More specifically, make the first character have upper case and the rest lower\n",
      " |      case.\n",
      " |  \n",
      " |  casefold(self, /)\n",
      " |      Return a version of the string suitable for caseless comparisons.\n",
      " |  \n",
      " |  center(self, width, fillchar=' ', /)\n",
      " |      Return a centered string of length width.\n",
      " |      \n",
      " |      Padding is done using the specified fill character (default is a space).\n",
      " |  \n",
      " |  count(...)\n",
      " |      S.count(sub[, start[, end]]) -> int\n",
      " |      \n",
      " |      Return the number of non-overlapping occurrences of substring sub in\n",
      " |      string S[start:end].  Optional arguments start and end are\n",
      " |      interpreted as in slice notation.\n",
      " |  \n",
      " |  encode(self, /, encoding='utf-8', errors='strict')\n",
      " |      Encode the string using the codec registered for encoding.\n",
      " |      \n",
      " |      encoding\n",
      " |        The encoding in which to encode the string.\n",
      " |      errors\n",
      " |        The error handling scheme to use for encoding errors.\n",
      " |        The default is 'strict' meaning that encoding errors raise a\n",
      " |        UnicodeEncodeError.  Other possible values are 'ignore', 'replace' and\n",
      " |        'xmlcharrefreplace' as well as any other name registered with\n",
      " |        codecs.register_error that can handle UnicodeEncodeErrors.\n",
      " |  \n",
      " |  endswith(...)\n",
      " |      S.endswith(suffix[, start[, end]]) -> bool\n",
      " |      \n",
      " |      Return True if S ends with the specified suffix, False otherwise.\n",
      " |      With optional start, test S beginning at that position.\n",
      " |      With optional end, stop comparing S at that position.\n",
      " |      suffix can also be a tuple of strings to try.\n",
      " |  \n",
      " |  expandtabs(self, /, tabsize=8)\n",
      " |      Return a copy where all tab characters are expanded using spaces.\n",
      " |      \n",
      " |      If tabsize is not given, a tab size of 8 characters is assumed.\n",
      " |  \n",
      " |  find(...)\n",
      " |      S.find(sub[, start[, end]]) -> int\n",
      " |      \n",
      " |      Return the lowest index in S where substring sub is found,\n",
      " |      such that sub is contained within S[start:end].  Optional\n",
      " |      arguments start and end are interpreted as in slice notation.\n",
      " |      \n",
      " |      Return -1 on failure.\n",
      " |  \n",
      " |  format(...)\n",
      " |      S.format(*args, **kwargs) -> str\n",
      " |      \n",
      " |      Return a formatted version of S, using substitutions from args and kwargs.\n",
      " |      The substitutions are identified by braces ('{' and '}').\n",
      " |  \n",
      " |  format_map(...)\n",
      " |      S.format_map(mapping) -> str\n",
      " |      \n",
      " |      Return a formatted version of S, using substitutions from mapping.\n",
      " |      The substitutions are identified by braces ('{' and '}').\n",
      " |  \n",
      " |  index(...)\n",
      " |      S.index(sub[, start[, end]]) -> int\n",
      " |      \n",
      " |      Return the lowest index in S where substring sub is found,\n",
      " |      such that sub is contained within S[start:end].  Optional\n",
      " |      arguments start and end are interpreted as in slice notation.\n",
      " |      \n",
      " |      Raises ValueError when the substring is not found.\n",
      " |  \n",
      " |  isalnum(self, /)\n",
      " |      Return True if the string is an alpha-numeric string, False otherwise.\n",
      " |      \n",
      " |      A string is alpha-numeric if all characters in the string are alpha-numeric and\n",
      " |      there is at least one character in the string.\n",
      " |  \n",
      " |  isalpha(self, /)\n",
      " |      Return True if the string is an alphabetic string, False otherwise.\n",
      " |      \n",
      " |      A string is alphabetic if all characters in the string are alphabetic and there\n",
      " |      is at least one character in the string.\n",
      " |  \n",
      " |  isascii(self, /)\n",
      " |      Return True if all characters in the string are ASCII, False otherwise.\n",
      " |      \n",
      " |      ASCII characters have code points in the range U+0000-U+007F.\n",
      " |      Empty string is ASCII too.\n",
      " |  \n",
      " |  isdecimal(self, /)\n",
      " |      Return True if the string is a decimal string, False otherwise.\n",
      " |      \n",
      " |      A string is a decimal string if all characters in the string are decimal and\n",
      " |      there is at least one character in the string.\n",
      " |  \n",
      " |  isdigit(self, /)\n",
      " |      Return True if the string is a digit string, False otherwise.\n",
      " |      \n",
      " |      A string is a digit string if all characters in the string are digits and there\n",
      " |      is at least one character in the string.\n",
      " |  \n",
      " |  isidentifier(self, /)\n",
      " |      Return True if the string is a valid Python identifier, False otherwise.\n",
      " |      \n",
      " |      Call keyword.iskeyword(s) to test whether string s is a reserved identifier,\n",
      " |      such as \"def\" or \"class\".\n",
      " |  \n",
      " |  islower(self, /)\n",
      " |      Return True if the string is a lowercase string, False otherwise.\n",
      " |      \n",
      " |      A string is lowercase if all cased characters in the string are lowercase and\n",
      " |      there is at least one cased character in the string.\n",
      " |  \n",
      " |  isnumeric(self, /)\n",
      " |      Return True if the string is a numeric string, False otherwise.\n",
      " |      \n",
      " |      A string is numeric if all characters in the string are numeric and there is at\n",
      " |      least one character in the string.\n",
      " |  \n",
      " |  isprintable(self, /)\n",
      " |      Return True if the string is printable, False otherwise.\n",
      " |      \n",
      " |      A string is printable if all of its characters are considered printable in\n",
      " |      repr() or if it is empty.\n",
      " |  \n",
      " |  isspace(self, /)\n",
      " |      Return True if the string is a whitespace string, False otherwise.\n",
      " |      \n",
      " |      A string is whitespace if all characters in the string are whitespace and there\n",
      " |      is at least one character in the string.\n",
      " |  \n",
      " |  istitle(self, /)\n",
      " |      Return True if the string is a title-cased string, False otherwise.\n",
      " |      \n",
      " |      In a title-cased string, upper- and title-case characters may only\n",
      " |      follow uncased characters and lowercase characters only cased ones.\n",
      " |  \n",
      " |  isupper(self, /)\n",
      " |      Return True if the string is an uppercase string, False otherwise.\n",
      " |      \n",
      " |      A string is uppercase if all cased characters in the string are uppercase and\n",
      " |      there is at least one cased character in the string.\n",
      " |  \n",
      " |  join(self, iterable, /)\n",
      " |      Concatenate any number of strings.\n",
      " |      \n",
      " |      The string whose method is called is inserted in between each given string.\n",
      " |      The result is returned as a new string.\n",
      " |      \n",
      " |      Example: '.'.join(['ab', 'pq', 'rs']) -> 'ab.pq.rs'\n",
      " |  \n",
      " |  ljust(self, width, fillchar=' ', /)\n",
      " |      Return a left-justified string of length width.\n",
      " |      \n",
      " |      Padding is done using the specified fill character (default is a space).\n",
      " |  \n",
      " |  lower(self, /)\n",
      " |      Return a copy of the string converted to lowercase.\n",
      " |  \n",
      " |  lstrip(self, chars=None, /)\n",
      " |      Return a copy of the string with leading whitespace removed.\n",
      " |      \n",
      " |      If chars is given and not None, remove characters in chars instead.\n",
      " |  \n",
      " |  partition(self, sep, /)\n",
      " |      Partition the string into three parts using the given separator.\n",
      " |      \n",
      " |      This will search for the separator in the string.  If the separator is found,\n",
      " |      returns a 3-tuple containing the part before the separator, the separator\n",
      " |      itself, and the part after it.\n",
      " |      \n",
      " |      If the separator is not found, returns a 3-tuple containing the original string\n",
      " |      and two empty strings.\n",
      " |  \n",
      " |  removeprefix(self, prefix, /)\n",
      " |      Return a str with the given prefix string removed if present.\n",
      " |      \n",
      " |      If the string starts with the prefix string, return string[len(prefix):].\n",
      " |      Otherwise, return a copy of the original string.\n",
      " |  \n",
      " |  removesuffix(self, suffix, /)\n",
      " |      Return a str with the given suffix string removed if present.\n",
      " |      \n",
      " |      If the string ends with the suffix string and that suffix is not empty,\n",
      " |      return string[:-len(suffix)]. Otherwise, return a copy of the original\n",
      " |      string.\n",
      " |  \n",
      " |  replace(self, old, new, count=-1, /)\n",
      " |      Return a copy with all occurrences of substring old replaced by new.\n",
      " |      \n",
      " |        count\n",
      " |          Maximum number of occurrences to replace.\n",
      " |          -1 (the default value) means replace all occurrences.\n",
      " |      \n",
      " |      If the optional argument count is given, only the first count occurrences are\n",
      " |      replaced.\n",
      " |  \n",
      " |  rfind(...)\n",
      " |      S.rfind(sub[, start[, end]]) -> int\n",
      " |      \n",
      " |      Return the highest index in S where substring sub is found,\n",
      " |      such that sub is contained within S[start:end].  Optional\n",
      " |      arguments start and end are interpreted as in slice notation.\n",
      " |      \n",
      " |      Return -1 on failure.\n",
      " |  \n",
      " |  rindex(...)\n",
      " |      S.rindex(sub[, start[, end]]) -> int\n",
      " |      \n",
      " |      Return the highest index in S where substring sub is found,\n",
      " |      such that sub is contained within S[start:end].  Optional\n",
      " |      arguments start and end are interpreted as in slice notation.\n",
      " |      \n",
      " |      Raises ValueError when the substring is not found.\n",
      " |  \n",
      " |  rjust(self, width, fillchar=' ', /)\n",
      " |      Return a right-justified string of length width.\n",
      " |      \n",
      " |      Padding is done using the specified fill character (default is a space).\n",
      " |  \n",
      " |  rpartition(self, sep, /)\n",
      " |      Partition the string into three parts using the given separator.\n",
      " |      \n",
      " |      This will search for the separator in the string, starting at the end. If\n",
      " |      the separator is found, returns a 3-tuple containing the part before the\n",
      " |      separator, the separator itself, and the part after it.\n",
      " |      \n",
      " |      If the separator is not found, returns a 3-tuple containing two empty strings\n",
      " |      and the original string.\n",
      " |  \n",
      " |  rsplit(self, /, sep=None, maxsplit=-1)\n",
      " |      Return a list of the words in the string, using sep as the delimiter string.\n",
      " |      \n",
      " |        sep\n",
      " |          The delimiter according which to split the string.\n",
      " |          None (the default value) means split according to any whitespace,\n",
      " |          and discard empty strings from the result.\n",
      " |        maxsplit\n",
      " |          Maximum number of splits to do.\n",
      " |          -1 (the default value) means no limit.\n",
      " |      \n",
      " |      Splits are done starting at the end of the string and working to the front.\n",
      " |  \n",
      " |  rstrip(self, chars=None, /)\n",
      " |      Return a copy of the string with trailing whitespace removed.\n",
      " |      \n",
      " |      If chars is given and not None, remove characters in chars instead.\n",
      " |  \n",
      " |  split(self, /, sep=None, maxsplit=-1)\n",
      " |      Return a list of the words in the string, using sep as the delimiter string.\n",
      " |      \n",
      " |      sep\n",
      " |        The delimiter according which to split the string.\n",
      " |        None (the default value) means split according to any whitespace,\n",
      " |        and discard empty strings from the result.\n",
      " |      maxsplit\n",
      " |        Maximum number of splits to do.\n",
      " |        -1 (the default value) means no limit.\n",
      " |  \n",
      " |  splitlines(self, /, keepends=False)\n",
      " |      Return a list of the lines in the string, breaking at line boundaries.\n",
      " |      \n",
      " |      Line breaks are not included in the resulting list unless keepends is given and\n",
      " |      true.\n",
      " |  \n",
      " |  startswith(...)\n",
      " |      S.startswith(prefix[, start[, end]]) -> bool\n",
      " |      \n",
      " |      Return True if S starts with the specified prefix, False otherwise.\n",
      " |      With optional start, test S beginning at that position.\n",
      " |      With optional end, stop comparing S at that position.\n",
      " |      prefix can also be a tuple of strings to try.\n",
      " |  \n",
      " |  strip(self, chars=None, /)\n",
      " |      Return a copy of the string with leading and trailing whitespace removed.\n",
      " |      \n",
      " |      If chars is given and not None, remove characters in chars instead.\n",
      " |  \n",
      " |  swapcase(self, /)\n",
      " |      Convert uppercase characters to lowercase and lowercase characters to uppercase.\n",
      " |  \n",
      " |  title(self, /)\n",
      " |      Return a version of the string where each word is titlecased.\n",
      " |      \n",
      " |      More specifically, words start with uppercased characters and all remaining\n",
      " |      cased characters have lower case.\n",
      " |  \n",
      " |  translate(self, table, /)\n",
      " |      Replace each character in the string using the given translation table.\n",
      " |      \n",
      " |        table\n",
      " |          Translation table, which must be a mapping of Unicode ordinals to\n",
      " |          Unicode ordinals, strings, or None.\n",
      " |      \n",
      " |      The table must implement lookup/indexing via __getitem__, for instance a\n",
      " |      dictionary or list.  If this operation raises LookupError, the character is\n",
      " |      left untouched.  Characters mapped to None are deleted.\n",
      " |  \n",
      " |  upper(self, /)\n",
      " |      Return a copy of the string converted to uppercase.\n",
      " |  \n",
      " |  zfill(self, width, /)\n",
      " |      Pad a numeric string with zeros on the left, to fill a field of the given width.\n",
      " |      \n",
      " |      The string is never truncated.\n",
      " |  \n",
      " |  ----------------------------------------------------------------------\n",
      " |  Static methods defined here:\n",
      " |  \n",
      " |  __new__(*args, **kwargs) from builtins.type\n",
      " |      Create and return a new object.  See help(type) for accurate signature.\n",
      " |  \n",
      " |  maketrans(...)\n",
      " |      Return a translation table usable for str.translate().\n",
      " |      \n",
      " |      If there is only one argument, it must be a dictionary mapping Unicode\n",
      " |      ordinals (integers) or characters to Unicode ordinals, strings or None.\n",
      " |      Character keys will be then converted to ordinals.\n",
      " |      If there are two arguments, they must be strings of equal length, and\n",
      " |      in the resulting dictionary, each character in x will be mapped to the\n",
      " |      character at the same position in y. If there is a third argument, it\n",
      " |      must be a string, whose characters will be mapped to None in the result.\n",
      "\n"
     ]
    }
   ],
   "source": [
    "help(str)"
   ]
  },
  {
   "cell_type": "markdown",
   "id": "426aa253",
   "metadata": {
    "id": "426aa253"
   },
   "source": [
    "## Class and Object\n",
    "\n",
    "Str, int, float, bool, list, tuple, set, and dict are examples of data types. When you use the type function, you might get something like this as a result:\n",
    "\n",
    "<type 'str'>\n",
    "     or\n",
    "<class 'str'>\n",
    "\n",
    "It is because the data types you see are defined as classes. What exactly is a class? A class is a template for a group of attributes and methods that define an object.\n",
    "\n",
    "For instance, we have the list class. The list class has various methods such as append, pop, and insert. It also has three attributes, or fields, which are the data members of a class. Those fields are the array, the size (how many values the array currently has), and the capacity (how many values the array can hold).\n",
    "\n",
    "We can construct an instance of a class in our application once it has been defined. An object is the name for the instance that was created. We have a number of built-in classes (such as the data types mentioned above), but we can also design our own.\n",
    "\n",
    "In Python, defining our own classes and objects is a frequent approach. Python is known as an object-oriented programming language as a result of this.\n",
    "\n",
    "The first step in creating a class is giving it a name.\n",
    "With functions, we used the def keyword to define them. We'll use the class keyword followed by the class name and a (colon): for classes.\n",
    "\n",
    "Because camel case is used, the name rules for classes are different. This means that instead of using an underscore, class names should use uppercase letters to represent independent words.\n",
    "for example:\n",
    "\n",
    "        class Man:\n",
    "        \n",
    "Then we develop a constructor. We use the constructor to generate and initialize data fields. In Python, we must use the function template to generate the constructor. This function is referred to as a method since it is associated with and belongs to the class.\n",
    "\n",
    "To make the constructor, begin with the term def (identical to functions); next, using double underscore, init, double underscore (__init__), add the function name. Then we then put open parenthesis and pass in the parameter self. We'll have to indent the function, implying that it'll be declared inside the class.\n",
    "\n",
    "            class Man:\n",
    "                def __init__(self):\n",
    " \n",
    " ### Field\n",
    " Let's build some fields now that we've put up the constructor (data members). What qualities does a man possess? A man is identified by his or her name. Let's call our character Philip.\n",
    "Then we determine its attributes, i.e the data or variables that determine the class \n",
    "\n",
    "            class Man:\n",
    "                def__init__(self,name=\"Philip\"):\n",
    "                    self.name = name\n",
    "                    \n",
    "You'll notice that we've used the self keyword again. It occurs before our variable name, name, this time. This is due to the fact that the variable name is linked to the Person class. We must associate the variable with the class when defining a field by using the keyword self.\n",
    "\n",
    " \n",
    " #### Instance of Class or Object\n",
    " Recall that we used constructors on various occasions (mostly for creating empty collections), such as list(), set(), and dict().\n",
    " The instance of the class are the object and attribute. \n",
    " \n",
    "\n",
    " \n",
    " \n",
    " #### Methods\n",
    " This are functions that interact with the object, for example, if we want to change the radius of the circle, we can create a method .add_radius(r), that increases the radius by r"
   ]
  },
  {
   "cell_type": "markdown",
   "id": "40ad37a9",
   "metadata": {
    "id": "40ad37a9"
   },
   "source": [
    "#### Steps in creating a class\n",
    "\n",
    "1- Define your class i.e class\n",
    "2- Name of the Class \n",
    "3- Object of the class\n",
    "\n",
    "The next step is a special method called a constructor __init__, which is used to initialize the object. The inputs are data attributes. \n",
    "- self: contains all the attributes in the set, for example self.radius will give you the radius of the object\n",
    "\n",
    "- the method add_radius() with the parameter r, adds the value of r to the attribute radius. \n",
    "\n",
    "To access the radius we use the syntax self.radius\n",
    "\n",
    "Let's create an object of a class of circle, let's import the matplotlib to allow us draw the circle"
   ]
  },
  {
   "cell_type": "code",
   "execution_count": null,
   "id": "c5eab06d",
   "metadata": {},
   "outputs": [],
   "source": [
    "help(list)"
   ]
  },
  {
   "cell_type": "code",
   "execution_count": 2,
   "id": "86bb9a5c",
   "metadata": {
    "id": "86bb9a5c"
   },
   "outputs": [],
   "source": [
    "import matplotlib.pyplot as plt\n",
    "%matplotlib inline\n"
   ]
  },
  {
   "cell_type": "code",
   "execution_count": 31,
   "id": "0de3b45b",
   "metadata": {
    "id": "0de3b45b"
   },
   "outputs": [],
   "source": [
    "class Circle(object):\n",
    "    \n",
    "    #constructor\n",
    "    def __init__(self, area=28.278, radius = 3, colour = \"blue\"):\n",
    "        self.radius = radius\n",
    "        self. colour = colour\n",
    "        self.area = area\n",
    "        \n",
    "        \n",
    "    # Mehod\n",
    "    def add_radius(self, r):\n",
    "        self.radius = self.radius+r\n",
    "        return(self.radius)\n",
    "    #Method\n",
    "    def drawCircle(self):\n",
    "        plt.gca().add_patch(plt.Circle((0,0),radius=self.radius, fc = self.colour))\n",
    "        plt.axis(\"scaled\")\n",
    "        plt.show()\n",
    "    \n",
    "    #Method\n",
    "    def calc_area(self):\n",
    "        self.area = 3.142*(self.radius)**2\n",
    "        return self.area\n",
    "    "
   ]
  },
  {
   "cell_type": "markdown",
   "id": "2b356a2e",
   "metadata": {
    "id": "2b356a2e"
   },
   "source": [
    "## Creating an instance of a class Circle\n",
    "\n",
    "Let’s create the object Green Circle of type Circle to do the following:"
   ]
  },
  {
   "cell_type": "code",
   "execution_count": 33,
   "id": "fa038bc9",
   "metadata": {
    "colab": {
     "base_uri": "https://localhost:8080/"
    },
    "id": "fa038bc9",
    "outputId": "5bf61bb5-171c-4013-8ed5-c539f452faad"
   },
   "outputs": [
    {
     "data": {
      "image/png": "[encoded data removed]",
      "text/plain": [
       "<Figure size 640x480 with 1 Axes>"
      ]
     },
     "metadata": {},
     "output_type": "display_data"
    }
   ],
   "source": [
    "Green_Circle = Circle(28.728,15,\"green\")\n",
    "\n",
    "Green_Circle.drawCircle()"
   ]
  },
  {
   "cell_type": "code",
   "execution_count": 34,
   "id": "95682298",
   "metadata": {},
   "outputs": [
    {
     "data": {
      "text/plain": [
       "20"
      ]
     },
     "execution_count": 34,
     "metadata": {},
     "output_type": "execute_result"
    }
   ],
   "source": [
    "Green_Circle.add_radius(5)"
   ]
  },
  {
   "cell_type": "code",
   "execution_count": 35,
   "id": "7ef84dc5",
   "metadata": {},
   "outputs": [
    {
     "data": {
      "text/plain": [
       "1256.8"
      ]
     },
     "execution_count": 35,
     "metadata": {},
     "output_type": "execute_result"
    }
   ],
   "source": [
    "Green_Circle.calc_area()"
   ]
  },
  {
   "cell_type": "markdown",
   "id": "95a69322",
   "metadata": {
    "id": "95a69322"
   },
   "source": [
    "The dir command can be used to retrieve a list of the object's methods. Many of them are Python standard methods."
   ]
  },
  {
   "cell_type": "code",
   "execution_count": null,
   "id": "03bb6e34",
   "metadata": {
    "id": "03bb6e34",
    "outputId": "54fbc6ac-decb-4ef6-af64-cff20e82af7e"
   },
   "outputs": [],
   "source": [
    "# Metods that can be used on our Green Circle\n",
    "\n",
    "dir(Green_Circle)"
   ]
  },
  {
   "cell_type": "code",
   "execution_count": null,
   "id": "741cad57",
   "metadata": {
    "id": "741cad57",
    "outputId": "22ea674a-9baf-4736-cd4a-7c87d719455d"
   },
   "outputs": [],
   "source": [
    "# Data attribute of the object, print the colour\n",
    "\n",
    "Green_Circle.colour"
   ]
  },
  {
   "cell_type": "code",
   "execution_count": null,
   "id": "09b9a503",
   "metadata": {
    "id": "09b9a503",
    "outputId": "844233ca-39b0-45e2-8dce-92185e7d13b1"
   },
   "outputs": [],
   "source": [
    "# Pritn the object attributr radius\n",
    "Green_Circle.radius"
   ]
  },
  {
   "cell_type": "code",
   "execution_count": null,
   "id": "4c4f0a9c",
   "metadata": {
    "id": "4c4f0a9c",
    "outputId": "d0b7b858-b48b-46fd-b4bb-f6de38bf9743"
   },
   "outputs": [],
   "source": [
    "# Change the object attribute\n",
    "Green_Circle.radius = 5\n",
    "Green_Circle.radius"
   ]
  },
  {
   "cell_type": "code",
   "execution_count": null,
   "id": "5587e108",
   "metadata": {
    "id": "5587e108",
    "outputId": "e545bf1f-bc27-4ca9-d3ff-1fffe18d87b2"
   },
   "outputs": [],
   "source": [
    "# draw the circle, using the method draw circle\n",
    "\n",
    "Green_Circle.drawCircle()"
   ]
  },
  {
   "cell_type": "code",
   "execution_count": 36,
   "id": "1ec4be63",
   "metadata": {
    "id": "1ec4be63"
   },
   "outputs": [],
   "source": [
    "class Rectangle(object):\n",
    "    def __init__(self, height =5, width = 20,colour =\"pink\"):\n",
    "        self.width = width\n",
    "        self.colour = colour\n",
    "        self.height = height\n",
    "    def drawRectangle(self):\n",
    "        plt.gca().add_patch(plt.Rectangle((0,0),height=self.height, width =self.width,fc=self.colour))\n",
    "        plt.axis('scaled')\n",
    "        plt.show()"
   ]
  },
  {
   "cell_type": "code",
   "execution_count": 38,
   "id": "e78c6528",
   "metadata": {
    "id": "e78c6528"
   },
   "outputs": [],
   "source": [
    "blueRectangle = Rectangle(50)"
   ]
  },
  {
   "cell_type": "code",
   "execution_count": 39,
   "id": "c7fc2124",
   "metadata": {
    "id": "c7fc2124",
    "outputId": "e25eb890-308e-46bd-8bf7-41a0cb28c4ff"
   },
   "outputs": [
    {
     "data": {
      "image/png": "[encoded data removed]",
      "text/plain": [
       "<Figure size 640x480 with 1 Axes>"
      ]
     },
     "metadata": {},
     "output_type": "display_data"
    }
   ],
   "source": [
    "blueRectangle.drawRectangle()"
   ]
  },
  {
   "cell_type": "markdown",
   "id": "496f0309",
   "metadata": {
    "id": "496f0309"
   },
   "source": [
    "### List Comprehension\n",
    "\n",
    "One of Python's most popular and unique features is list comprehensions. It's probably easiest to understand them by examining at a few examples:"
   ]
  },
  {
   "cell_type": "code",
   "execution_count": 40,
   "id": "235a6333",
   "metadata": {
    "id": "235a6333",
    "outputId": "d9367459-7dfe-461b-a9f1-d63f8f1b1faa"
   },
   "outputs": [
    {
     "data": {
      "text/plain": [
       "[1,\n",
       " 4,\n",
       " 9,\n",
       " 16,\n",
       " 25,\n",
       " 36,\n",
       " 49,\n",
       " 64,\n",
       " 81,\n",
       " 100,\n",
       " 121,\n",
       " 144,\n",
       " 169,\n",
       " 196,\n",
       " 225,\n",
       " 256,\n",
       " 289,\n",
       " 324,\n",
       " 361]"
      ]
     },
     "execution_count": 40,
     "metadata": {},
     "output_type": "execute_result"
    }
   ],
   "source": [
    "squares= [n**2 for n in range(1,20)]\n",
    "squares"
   ]
  },
  {
   "cell_type": "code",
   "execution_count": null,
   "id": "e970d83f",
   "metadata": {
    "id": "e970d83f"
   },
   "outputs": [],
   "source": [
    "#  if we want to use the for loop statement for the example above\n",
    "squares_2 =[]\n",
    "for num in range(1,20):\n",
    "    num**2\n",
    "    squares_2.append(num**2)"
   ]
  },
  {
   "cell_type": "code",
   "execution_count": null,
   "id": "f2c3295b",
   "metadata": {
    "id": "f2c3295b",
    "outputId": "1a2e6bed-e41a-476e-9a49-6ec547f37843"
   },
   "outputs": [],
   "source": [
    "squares_2"
   ]
  },
  {
   "cell_type": "code",
   "execution_count": 41,
   "id": "733aef4c",
   "metadata": {
    "id": "733aef4c",
    "outputId": "63b6608b-5978-4041-9209-6d185b653de3"
   },
   "outputs": [
    {
     "data": {
      "text/plain": [
       "[4, 16, 36, 64, 100, 144, 196, 256, 324]"
      ]
     },
     "execution_count": 41,
     "metadata": {},
     "output_type": "execute_result"
    }
   ],
   "source": [
    "# another example\n",
    "\n",
    "squares_of_even = [x**2 for x in range(2,20) if x%2 == 0]\n",
    "squares_of_even"
   ]
  },
  {
   "cell_type": "code",
   "execution_count": null,
   "id": "2d6d6ea5",
   "metadata": {
    "id": "2d6d6ea5"
   },
   "outputs": [],
   "source": [
    "squares_of_even_2 = []\n",
    "\n",
    "for x in range(2,20):\n",
    "    if x%2 == 0:\n",
    "        squares_of_even_2.append(x**2)\n",
    "    "
   ]
  },
  {
   "cell_type": "code",
   "execution_count": null,
   "id": "c580510b",
   "metadata": {
    "id": "c580510b",
    "outputId": "a5c182f8-6609-4694-8914-6a6681e785c9"
   },
   "outputs": [],
   "source": [
    "squares_of_even_2"
   ]
  },
  {
   "cell_type": "code",
   "execution_count": null,
   "id": "a122cf76",
   "metadata": {},
   "outputs": [],
   "source": [
    "greet()"
   ]
  },
  {
   "cell_type": "code",
   "execution_count": null,
   "id": "17b4720a",
   "metadata": {},
   "outputs": [],
   "source": []
  }
 ],
 "metadata": {
  "colab": {
   "provenance": []
  },
  "kernelspec": {
   "display_name": "Python 3 (ipykernel)",
   "language": "python",
   "name": "python3"
  },
  "language_info": {
   "codemirror_mode": {
    "name": "ipython",
    "version": 3
   },
   "file_extension": ".py",
   "mimetype": "text/x-python",
   "name": "python",
   "nbconvert_exporter": "python",
   "pygments_lexer": "ipython3",
   "version": "3.9.13"
  }
 },
 "nbformat": 4,
 "nbformat_minor": 5
}
