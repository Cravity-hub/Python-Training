{
 "cells": [
  {
   "cell_type": "markdown",
   "id": "8b970457",
   "metadata": {},
   "source": [
    "### Exercises on Sets in Python \n",
    "\n",
    "\n",
    "fruits = {\"apple\", \"banana\", \"cherry\", \"avocado\", \"pawpaw\", \"pear\"}\n",
    "more_fruits = [“papaya”, “sugar-cane”]\n",
    "\n",
    "A set and a list have already been created for you. Use them to answer the following questions.\n",
    "\n",
    "1. Write python code to Check if \"apple\" is present in the fruits set.\n",
    "2. Use the add method to add \"orange\" to the fruits set.\n",
    "3. Use the correct method to add multiple items (more_fruits) to the fruits set. Assign the new set the variable name: total_fruits\n",
    "4. Use the remove method to remove \"banana\" from the  total_fruits set.\n",
    "5. Write python code to check if more_fruits is a subset of total_fruits.\n",
    "\n",
    "\n",
    "Use the sets below to answer the following questions.\n",
    "\n",
    "\n",
    "price = {200,150,300,100,500,250}\n",
    "units = {600,450,350,400,200,150}\n",
    "\n",
    "\n",
    "6. Write python code to return the difference between price and units\n",
    "7. Write python code to return the union and intersection of price and units.\n",
    "8. Write a Python program to return a new set with unique items from both sets by removing duplicates."
   ]
  },
  {
   "cell_type": "code",
   "execution_count": null,
   "id": "ddaa9081",
   "metadata": {},
   "outputs": [],
   "source": []
  }
 ],
 "metadata": {
  "kernelspec": {
   "display_name": "Python 3 (ipykernel)",
   "language": "python",
   "name": "python3"
  },
  "language_info": {
   "codemirror_mode": {
    "name": "ipython",
    "version": 3
   },
   "file_extension": ".py",
   "mimetype": "text/x-python",
   "name": "python",
   "nbconvert_exporter": "python",
   "pygments_lexer": "ipython3",
   "version": "3.9.13"
  }
 },
 "nbformat": 4,
 "nbformat_minor": 5
}
