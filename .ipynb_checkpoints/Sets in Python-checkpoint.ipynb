{
 "cells": [
  {
   "cell_type": "markdown",
   "id": "71497e10",
   "metadata": {
    "id": "71497e10"
   },
   "source": [
    "# Sets\n",
    "\n",
    "## **Definition**\n",
    "\n",
    "Sets are used to store multiple items in a single variable.\n",
    "\n",
    "Set is one of 4 built-in data types in Python used to store\n",
    "collections of data, \n",
    "the other 3 are **List, Tuple, and Dictionary,** all with different qualities and usage.\n",
    "\n",
    "A set is a collection which is **unordered, unchangeable*, and unindexed.**\n",
    "\n",
    "Sets are also similar to lists, but they differ from tuples and lists, because:\n",
    "\n",
    "- Their values are unique  i.e does not allow duplicate values\n",
    "- They are unordered and unindexed\n",
    "- Represented by curly brackets **{}**\n",
    "- Sets are immutable\n",
    "\n",
    "## Syntax \n",
    "Sets are written with curly brackets.\n",
    "\n",
    "Example: creating an empty set.\n",
    "\n",
    "empty_set = {}\n",
    "\n",
    "\n"
   ]
  },
  {
   "cell_type": "code",
   "execution_count": 2,
   "id": "4c715562",
   "metadata": {
    "colab": {
     "base_uri": "https://localhost:8080/"
    },
    "id": "4c715562",
    "outputId": "c0bb6e82-bf42-4fc3-bb38-8c1cde56b195"
   },
   "outputs": [
    {
     "data": {
      "text/plain": [
       "{'Chemistry', 'English', 'Mathematics', 'Physics'}"
      ]
     },
     "execution_count": 2,
     "metadata": {},
     "output_type": "execute_result"
    }
   ],
   "source": [
    "# Lets create a set\n",
    "set_1 = {\"English\", \"Mathematics\", \"Chemistry\",\"Physics\",\"English\"}\n",
    "set_1"
   ]
  },
  {
   "cell_type": "code",
   "execution_count": 3,
   "id": "e943356c",
   "metadata": {},
   "outputs": [
    {
     "data": {
      "text/plain": [
       "{2, 3, 4, 5, 7, 8, 9}"
      ]
     },
     "execution_count": 3,
     "metadata": {},
     "output_type": "execute_result"
    }
   ],
   "source": [
    "set_2 = {9,8,2,5,4,7,8,3}\n",
    "set_2"
   ]
  },
  {
   "cell_type": "code",
   "execution_count": 4,
   "id": "62ea5757",
   "metadata": {},
   "outputs": [
    {
     "data": {
      "text/plain": [
       "{1, 5, 8, 'a', 'e', 'f', 'z'}"
      ]
     },
     "execution_count": 4,
     "metadata": {},
     "output_type": "execute_result"
    }
   ],
   "source": [
    "set_3 = {'z', 1, 'e', 5, 'f', 8, 'a'}\n",
    "set_3"
   ]
  },
  {
   "cell_type": "code",
   "execution_count": 24,
   "id": "3e87c32e",
   "metadata": {
    "colab": {
     "base_uri": "https://localhost:8080/"
    },
    "id": "3e87c32e",
    "outputId": "2e67afe0-1b35-457f-83d2-3402476b1cb1"
   },
   "outputs": [
    {
     "data": {
      "text/plain": [
       "set"
      ]
     },
     "execution_count": 24,
     "metadata": {},
     "output_type": "execute_result"
    }
   ],
   "source": [
    "type(Set_1)"
   ]
  },
  {
   "cell_type": "markdown",
   "id": "kjdK-QrSB13p",
   "metadata": {
    "id": "kjdK-QrSB13p"
   },
   "source": [
    "### The set() Constructor\n",
    "It is also possible to use the set() constructor to make a set."
   ]
  },
  {
   "cell_type": "code",
   "execution_count": 6,
   "id": "-hKwyyiICGgp",
   "metadata": {
    "colab": {
     "base_uri": "https://localhost:8080/"
    },
    "id": "-hKwyyiICGgp",
    "outputId": "ef662705-32f2-47af-d5bc-8ded83b51cdd"
   },
   "outputs": [
    {
     "name": "stdout",
     "output_type": "stream",
     "text": [
      "{'cherry', 'banana', 'apple'}\n"
     ]
    }
   ],
   "source": [
    "#a set can be created from a tuple\n",
    "thisset = set((\"apple\", \"banana\", \"cherry\")) # note the double round-brackets\n",
    "print(thisset)"
   ]
  },
  {
   "cell_type": "code",
   "execution_count": 8,
   "id": "20bb860c",
   "metadata": {
    "id": "20bb860c",
    "outputId": "ad2198f1-ce07-4fe7-e559-64a7ee2bed19"
   },
   "outputs": [
    {
     "data": {
      "text/plain": [
       "{'Chemistry', 'Commerce', 'Economics', 'English', 'Mathematics', 'Physic'}"
      ]
     },
     "execution_count": 8,
     "metadata": {},
     "output_type": "execute_result"
    }
   ],
   "source": [
    "# we can convert a list to a set\n",
    "\n",
    "subject = [\"English\", \"Mathematics\", \"Chemistry\",\"Physic\",\"Commerce\",\"Economics\"]\n",
    "subject_Set = set(subject)\n",
    "subject_Set"
   ]
  },
  {
   "cell_type": "markdown",
   "id": "de60441b",
   "metadata": {
    "id": "de60441b"
   },
   "source": [
    "## Set Operations"
   ]
  },
  {
   "cell_type": "markdown",
   "id": "lXI758AoCsIo",
   "metadata": {
    "id": "lXI758AoCsIo"
   },
   "source": [
    "### Access Items in a Set.\n",
    "You cannot access items in a set by referring to an index or a key.\n",
    "\n",
    "But you can loop through the set items using a for loop, or ask if a specified value is present in a set, by using the \"in\" keyword.\n",
    "\n",
    "*Once a set is created, you cannot change its items, but you can add new items. "
   ]
  },
  {
   "cell_type": "code",
   "execution_count": 16,
   "id": "S89ScDbyDQyS",
   "metadata": {
    "colab": {
     "base_uri": "https://localhost:8080/"
    },
    "id": "S89ScDbyDQyS",
    "outputId": "1a23ffc3-d6c4-4a06-8811-27dda389eb4c"
   },
   "outputs": [
    {
     "name": "stdout",
     "output_type": "stream",
     "text": [
      "banana\n",
      "watermelon\n",
      "avocado\n",
      "apple\n",
      "cherry\n",
      "pawpaw\n",
      "coconut\n",
      "pineapple\n",
      "grape\n",
      "mango\n",
      "orange\n",
      "\n",
      "\n",
      "True\n",
      "coconut\n"
     ]
    }
   ],
   "source": [
    "#Loop through the set, and print the values:\n",
    "\n",
    "my_set = {\"apple\", \"banana\", \"cherry\", \"avocado\", \"pawpaw\", \"orange\", \"mango\", \"watermelon\", \"coconut\", \"pineapple\", \"grape\"}\n",
    "\n",
    "for x in my_set:\n",
    "  print(x)\n",
    "\n",
    "print(\"\\n\")\n",
    "\n",
    "#Check if \"banana\" is present in my_set:\n",
    "\n",
    "print(\"banana\" in my_set)\n",
    "\n",
    "\n",
    "\n",
    "#output and item in my_set\n",
    "\n",
    "for x in my_set:\n",
    "    if x == \"coconut\":\n",
    "        print(x)"
   ]
  },
  {
   "cell_type": "markdown",
   "id": "21e229de",
   "metadata": {
    "id": "21e229de"
   },
   "source": [
    "#### add()\n",
    "\n",
    "The add method allows us to add values to a set. \n",
    "\n",
    "Consider a grocery store with the following products"
   ]
  },
  {
   "cell_type": "code",
   "execution_count": 6,
   "id": "844ea4a0",
   "metadata": {
    "colab": {
     "base_uri": "https://localhost:8080/"
    },
    "id": "844ea4a0",
    "outputId": "df9a008d-a7fc-45ae-ff83-5ae698d6bdc4"
   },
   "outputs": [
    {
     "data": {
      "text/plain": [
       "{'Beans', 'Garri', 'Rice', 'Salt', 'Semo', 'Wheat'}"
      ]
     },
     "execution_count": 6,
     "metadata": {},
     "output_type": "execute_result"
    }
   ],
   "source": [
    "products={\"Rice\",\"Beans\",\"Garri\",\"Semo\",\"Wheat\",\"Salt\"}\n",
    "products"
   ]
  },
  {
   "cell_type": "code",
   "execution_count": 16,
   "id": "8c108eb8",
   "metadata": {},
   "outputs": [
    {
     "data": {
      "text/plain": [
       "list"
      ]
     },
     "execution_count": 16,
     "metadata": {},
     "output_type": "execute_result"
    }
   ],
   "source": [
    "lst_pro = list(products)\n",
    "type(lst_pro)"
   ]
  },
  {
   "cell_type": "code",
   "execution_count": 7,
   "id": "b558ca3f",
   "metadata": {
    "colab": {
     "base_uri": "https://localhost:8080/"
    },
    "id": "b558ca3f",
    "outputId": "77d68257-07e6-4789-a80e-83f094f392d6"
   },
   "outputs": [
    {
     "data": {
      "text/plain": [
       "{'Beans', 'Eggs', 'Garri', 'Rice', 'Salt', 'Semo', 'Sugar', 'Wheat'}"
      ]
     },
     "execution_count": 7,
     "metadata": {},
     "output_type": "execute_result"
    }
   ],
   "source": [
    "# add new stock of eggs and sugar\n",
    "\n",
    "products.add(\"Eggs\")\n",
    "products.add(\"Sugar\")\n",
    "products"
   ]
  },
  {
   "cell_type": "code",
   "execution_count": null,
   "id": "ea90e06b",
   "metadata": {},
   "outputs": [],
   "source": []
  },
  {
   "cell_type": "markdown",
   "id": "iP-scqgWIMNP",
   "metadata": {
    "id": "iP-scqgWIMNP"
   },
   "source": [
    "### update()\n",
    " To add items from another set into the current set, use the update() method.\n",
    "\n",
    " "
   ]
  },
  {
   "cell_type": "code",
   "execution_count": 17,
   "id": "Qjr_cm4yIlvx",
   "metadata": {
    "colab": {
     "base_uri": "https://localhost:8080/"
    },
    "id": "Qjr_cm4yIlvx",
    "outputId": "90f0bcb0-657d-4e4f-88d7-ffb1291e2286"
   },
   "outputs": [
    {
     "name": "stdout",
     "output_type": "stream",
     "text": [
      "{'Semo', 'Salt', 'Eggs', 'Beans', 'Wheat', 'Garri', 'Rice', 'Sugar'}\n",
      "----------------------------------------------\n",
      "{'banana', 'watermelon', 'avocado', 'apple', 'cherry', 'pawpaw', 'coconut', 'pineapple', 'grape', 'mango', 'orange'}\n",
      "------------------------------------------------\n",
      "{'banana', 'watermelon', 'avocado', 'Eggs', 'Beans', 'Garri', 'cherry', 'pawpaw', 'coconut', 'grape', 'mango', 'apple', 'Rice', 'Semo', 'Salt', 'pineapple', 'Wheat', 'Sugar', 'orange'}\n"
     ]
    }
   ],
   "source": [
    "#add another set to our set by using the update() method\n",
    "\n",
    "print(products, end = '\\n----------------------------------------------\\n')\n",
    "#print(my_set)\n",
    "print(my_set, end = '\\n------------------------------------------------\\n')\n",
    "#add items in products to my_set\n",
    "my_set.update(products)\n",
    "print(my_set)"
   ]
  },
  {
   "cell_type": "code",
   "execution_count": 13,
   "id": "7357558d",
   "metadata": {},
   "outputs": [
    {
     "name": "stdout",
     "output_type": "stream",
     "text": [
      "Help on built-in function len in module builtins:\n",
      "\n",
      "len(obj, /)\n",
      "    Return the number of items in a container.\n",
      "\n"
     ]
    }
   ],
   "source": [
    "help(len)\n",
    "\n",
    "?len\n",
    "\n",
    "len()"
   ]
  },
  {
   "cell_type": "code",
   "execution_count": 26,
   "id": "e9651830",
   "metadata": {},
   "outputs": [
    {
     "name": "stdout",
     "output_type": "stream",
     "text": [
      "<class 'int'>\n",
      "<class 'int'>\n",
      "<class 'int'>\n",
      "<class 'tuple'>\n"
     ]
    }
   ],
   "source": [
    "set_4 = {1,2,3,(6,8)}\n",
    "\n",
    "for i in set_4:\n",
    "    print(type(i))"
   ]
  },
  {
   "cell_type": "markdown",
   "id": "fWGcAv9RK2Hh",
   "metadata": {
    "id": "fWGcAv9RK2Hh"
   },
   "source": [
    "The iterable doesn't have to be a set. We can update our set with other data types like lists, tuple, or dictionaries."
   ]
  },
  {
   "cell_type": "code",
   "execution_count": 18,
   "id": "S3silznQKDPK",
   "metadata": {
    "colab": {
     "base_uri": "https://localhost:8080/"
    },
    "id": "S3silznQKDPK",
    "outputId": "59694d92-a52a-4615-f8b8-631b4fcb2976"
   },
   "outputs": [
    {
     "name": "stdout",
     "output_type": "stream",
     "text": [
      "{'banana', 'watermelon', 'avocado', 'Eggs', 'Beans', 'Garri', 200, 'cherry', 'pawpaw', 'coconut', 'grape', 'mango', 'kiwi', 'apple', 'Rice', 'Semo', 'Salt', 50, 'pineapple', 'Wheat', 'Sugar', 'orange'}\n"
     ]
    }
   ],
   "source": [
    "my_list = [\"kiwi\", \"apple\", \"pineapple\", 200, 50]\n",
    "\n",
    "my_set.update(my_list)\n",
    "print(my_set)"
   ]
  },
  {
   "cell_type": "markdown",
   "id": "064ade8e",
   "metadata": {
    "id": "064ade8e"
   },
   "source": [
    "#### remove()"
   ]
  },
  {
   "cell_type": "code",
   "execution_count": 22,
   "id": "29443efc",
   "metadata": {
    "colab": {
     "base_uri": "https://localhost:8080/"
    },
    "id": "29443efc",
    "outputId": "7e2f7536-5209-4eb2-c2b3-ba59a014c755"
   },
   "outputs": [
    {
     "data": {
      "text/plain": [
       "{'Beans', 'Eggs', 'Garri', 'Rice', 'Salt', 'Semo', 'Sugar', 'Wheat'}"
      ]
     },
     "execution_count": 22,
     "metadata": {},
     "output_type": "execute_result"
    }
   ],
   "source": [
    "# we are out of stock for Rice\n",
    "products.remove(\"Rice\")\n",
    "products"
   ]
  },
  {
   "cell_type": "markdown",
   "id": "b98130ee",
   "metadata": {},
   "source": [
    "#### pop()\n",
    "\n",
    "Unlike lists, pop deletes a random element from a set."
   ]
  },
  {
   "cell_type": "code",
   "execution_count": 27,
   "id": "41a8cc5f",
   "metadata": {},
   "outputs": [
    {
     "ename": "TypeError",
     "evalue": "set.pop() takes no arguments (1 given)",
     "output_type": "error",
     "traceback": [
      "\u001b[1;31m---------------------------------------------------------------------------\u001b[0m",
      "\u001b[1;31mTypeError\u001b[0m                                 Traceback (most recent call last)",
      "\u001b[1;32m~\\AppData\\Local\\Temp\\ipykernel_17944\\3457784293.py\u001b[0m in \u001b[0;36m<module>\u001b[1;34m\u001b[0m\n\u001b[1;32m----> 1\u001b[1;33m \u001b[0mproducts\u001b[0m\u001b[1;33m.\u001b[0m\u001b[0mpop\u001b[0m\u001b[1;33m(\u001b[0m\u001b[1;36m2\u001b[0m\u001b[1;33m)\u001b[0m\u001b[1;33m\u001b[0m\u001b[1;33m\u001b[0m\u001b[0m\n\u001b[0m",
      "\u001b[1;31mTypeError\u001b[0m: set.pop() takes no arguments (1 given)"
     ]
    }
   ],
   "source": [
    "products.pop()"
   ]
  },
  {
   "cell_type": "markdown",
   "id": "e92c1a98",
   "metadata": {},
   "source": [
    "#### discard()"
   ]
  },
  {
   "cell_type": "code",
   "execution_count": 23,
   "id": "68f30922",
   "metadata": {},
   "outputs": [],
   "source": [
    "products.discard('fufu')"
   ]
  },
  {
   "cell_type": "markdown",
   "id": "81d77842",
   "metadata": {
    "id": "81d77842"
   },
   "source": [
    "#### clear()\n",
    "\n",
    "It clears off the entire content of the set\n"
   ]
  },
  {
   "cell_type": "code",
   "execution_count": null,
   "id": "cbb2156d",
   "metadata": {
    "id": "cbb2156d",
    "outputId": "2d66304f-f43d-45de-a4f0-18925c31f1ba"
   },
   "outputs": [
    {
     "data": {
      "text/plain": [
       "set()"
      ]
     },
     "execution_count": 58,
     "metadata": {},
     "output_type": "execute_result"
    }
   ],
   "source": [
    "products.clear()\n",
    "products"
   ]
  },
  {
   "cell_type": "markdown",
   "id": "_-xdx6NWA7iS",
   "metadata": {
    "id": "_-xdx6NWA7iS"
   },
   "source": [
    "### len()\n",
    "Get the Length of a Set\n",
    "To determine how many items a set has, use the len() function."
   ]
  },
  {
   "cell_type": "code",
   "execution_count": 27,
   "id": "0f353558",
   "metadata": {
    "colab": {
     "base_uri": "https://localhost:8080/"
    },
    "id": "ZtQ6qB07BMPm",
    "outputId": "bc07319f-541b-4524-b667-f48b6001b165"
   },
   "outputs": [
    {
     "name": "stdout",
     "output_type": "stream",
     "text": [
      "19\n"
     ]
    }
   ],
   "source": [
    "my_set_old = {\"apple\", \"banana\", \"cherry\", \"avocado\", \"pawpaw\", \"orange\"}\n",
    "\n",
    "print(len(my_set))"
   ]
  },
  {
   "cell_type": "markdown",
   "id": "2187e439",
   "metadata": {
    "id": "2187e439"
   },
   "source": [
    "### Set Operations\n",
    "\n",
    "#### intersection\n",
    "Intersection is a term used to refer to the logical **and**. When comparing two or more sets,it is a set of values that both the original sets have in common."
   ]
  },
  {
   "cell_type": "code",
   "execution_count": 31,
   "id": "44cf9283",
   "metadata": {
    "colab": {
     "base_uri": "https://localhost:8080/"
    },
    "id": "44cf9283",
    "outputId": "cff316d7-714c-4fc9-a5c1-d64982697a54"
   },
   "outputs": [
    {
     "name": "stdout",
     "output_type": "stream",
     "text": [
      "{'Beans'}\n",
      "{'Beans'}\n"
     ]
    }
   ],
   "source": [
    "set_1 = {\"Rice\",\"Beans\",\"Garri\",\"Semo\"}\n",
    "set_2 = {\"Palm oil\",\"Beans\",\"Wheat\",\"Salt\"}\n",
    "common_products_1 = set_1.intersection(set_2)\n",
    "common_products_2 = set_1 & set_2\n",
    "print(common_products_1)\n",
    "print(common_products_2)"
   ]
  },
  {
   "cell_type": "code",
   "execution_count": 33,
   "id": "834f8e9a",
   "metadata": {},
   "outputs": [
    {
     "name": "stdout",
     "output_type": "stream",
     "text": [
      "{'Eggs', 'coconut', 'cherry', 'Garri', 'Wheat', 'Beans', 'Sugar', 'orange', 'avocado', 'Rice', 'banana', 'grape', 'Salt', 'watermelon', 'pineapple', 'apple', 'pawpaw', 'mango', 'Semo'} \n",
      "\n",
      "{'Garri', 'Semo', 'Wheat', 'Beans', 'Eggs', 'Sugar', 'Salt', 'Rice'}\n"
     ]
    },
    {
     "data": {
      "text/plain": [
       "{'Beans', 'Salt', 'Wheat'}"
      ]
     },
     "execution_count": 33,
     "metadata": {},
     "output_type": "execute_result"
    }
   ],
   "source": [
    "print(my_set, \"\\n\")\n",
    "print(products)\n",
    "\n",
    "my_set.intersection(set_2)"
   ]
  },
  {
   "cell_type": "markdown",
   "id": "rOos9HBoewBl",
   "metadata": {
    "id": "rOos9HBoewBl"
   },
   "source": [
    "### Difference in Sets"
   ]
  },
  {
   "cell_type": "code",
   "execution_count": 32,
   "id": "342dea8b",
   "metadata": {
    "colab": {
     "base_uri": "https://localhost:8080/"
    },
    "id": "342dea8b",
    "outputId": "ae2ee0b8-afc4-4442-b020-05cd9b1e5961"
   },
   "outputs": [
    {
     "name": "stdout",
     "output_type": "stream",
     "text": [
      "{'Garri', 'Semo', 'Rice'}\n",
      "{'Garri', 'Semo', 'Rice'}\n"
     ]
    }
   ],
   "source": [
    "# You can find all the elements that are only contained in set_1 using the difference method:\n",
    "\n",
    "print(set_1.difference(set_2)) #only set_1\n",
    "print(set_1 -set_2)"
   ]
  },
  {
   "cell_type": "code",
   "execution_count": 33,
   "id": "6lM7LZA6fBwI",
   "metadata": {
    "colab": {
     "base_uri": "https://localhost:8080/"
    },
    "id": "6lM7LZA6fBwI",
    "outputId": "d5f3b369-b045-4aa3-a2ee-007e8d698f8d"
   },
   "outputs": [
    {
     "name": "stdout",
     "output_type": "stream",
     "text": [
      "{'Salt', 'Wheat', 'Palm oil'}\n"
     ]
    }
   ],
   "source": [
    "print(set_2 - set_1) #only set_2"
   ]
  },
  {
   "cell_type": "markdown",
   "id": "4bd068bf",
   "metadata": {
    "id": "4bd068bf"
   },
   "source": [
    "#### union\n",
    "When comparing two or more sets, it is the set containing the combined values of all the individual sets without duplicates(sets does not allow duplicate)."
   ]
  },
  {
   "cell_type": "code",
   "execution_count": null,
   "id": "064241eb",
   "metadata": {
    "id": "064241eb",
    "outputId": "aa3df22a-a734-4502-b271-9abd0811db57"
   },
   "outputs": [
    {
     "name": "stdout",
     "output_type": "stream",
     "text": [
      "{'Salt', 'Garri', 'Wheat', 'Semo', 'Beans', 'Rice', 'Palm oil'}\n",
      "{'Salt', 'Garri', 'Wheat', 'Semo', 'Beans', 'Rice', 'Palm oil'}\n"
     ]
    }
   ],
   "source": [
    "print(set_1.union(set_2))\n",
    "print(set_1|set_2)"
   ]
  },
  {
   "cell_type": "code",
   "execution_count": 35,
   "id": "de206473",
   "metadata": {
    "id": "de206473"
   },
   "outputs": [
    {
     "data": {
      "text/plain": [
       "True"
      ]
     },
     "execution_count": 35,
     "metadata": {},
     "output_type": "execute_result"
    }
   ],
   "source": [
    "#Class Activity\n",
    "set_1 = {\"Rice\",\"Beans\",\"Garri\",\"Semo\"}\n",
    "set_2 = {\"Palm oil\",\"Beans\",\"Wheat\",\"Salt\"}\n",
    "\n",
    "set_2 == (set_1 & set_2)|(set_2 - set_1)"
   ]
  },
  {
   "cell_type": "markdown",
   "id": "69e876fc",
   "metadata": {
    "id": "69e876fc"
   },
   "source": [
    "#### issubset()\n",
    "\n",
    "A subset is a set of elements or values that appear in another set of equal or larger size. \n",
    "\n",
    "#### issuperset()\n",
    "A superset is defined as a set of elements or values of which some or all appear in another set of equal or smaller size.\n",
    "\n",
    "#### isdisjoint()\n",
    "When comparing two sets and there are no elements in common, we say that the sets are known as disjoint sets."
   ]
  },
  {
   "cell_type": "code",
   "execution_count": 36,
   "id": "27963c74",
   "metadata": {
    "id": "27963c74",
    "outputId": "291a101c-7837-4efa-ece2-e18506f245c0"
   },
   "outputs": [
    {
     "name": "stdout",
     "output_type": "stream",
     "text": [
      "True\n",
      "True\n",
      "False\n"
     ]
    }
   ],
   "source": [
    "set_1={1,2,3,4}\n",
    "set_2={1,2,3,4,5,6,7,8}\n",
    "set_3={9,10}\n",
    "\n",
    "print(set_1.issubset(set_2))\n",
    "print(set_2.issuperset(set_1))\n",
    "print(set_1.isdisjoint(set_3))"
   ]
  },
  {
   "cell_type": "code",
   "execution_count": 46,
   "id": "b3a83837",
   "metadata": {
    "id": "b3a83837",
    "outputId": "2b943dd8-1f65-4aa1-d763-948b77b7d234"
   },
   "outputs": [],
   "source": [
    "set_1 = {1,2,3,4}\n",
    "set_2 = {2,4}\n",
    "\n",
    "\n",
    "def set_ops(set_1, set_2):\n",
    "    intersection_set = set()\n",
    "    union_set = set()\n",
    "    #find the intersection\n",
    "\n",
    "    for elem in set_1:\n",
    "        if elem in set_2:\n",
    "            intersection_set.add(elem)\n",
    "    # find if is disjoint\n",
    "\n",
    "    if len(intersection_set) == 0:\n",
    "        print(\"sets are disjoint\")\n",
    "    \n",
    "    # find the union\n",
    "    for elem in set_1 or set_2:\n",
    "        union_set.add(elem)\n",
    "    \n",
    "    return union_set, intersection_set"
   ]
  },
  {
   "cell_type": "code",
   "execution_count": 47,
   "id": "9936d786",
   "metadata": {
    "id": "9936d786"
   },
   "outputs": [
    {
     "data": {
      "text/plain": [
       "({200,\n",
       "  50,\n",
       "  'Beans',\n",
       "  'Eggs',\n",
       "  'Garri',\n",
       "  'Rice',\n",
       "  'Salt',\n",
       "  'Semo',\n",
       "  'Sugar',\n",
       "  'Wheat',\n",
       "  'apple',\n",
       "  'avocado',\n",
       "  'banana',\n",
       "  'cherry',\n",
       "  'coconut',\n",
       "  'grape',\n",
       "  'kiwi',\n",
       "  'mango',\n",
       "  'orange',\n",
       "  'pawpaw',\n",
       "  'pineapple',\n",
       "  'watermelon'},\n",
       " {'Beans', 'Garri', 'Rice', 'Salt', 'Semo', 'Sugar', 'Wheat'})"
      ]
     },
     "execution_count": 47,
     "metadata": {},
     "output_type": "execute_result"
    }
   ],
   "source": [
    "set_ops(my_set, products)"
   ]
  },
  {
   "cell_type": "markdown",
   "id": "9b7e120b",
   "metadata": {},
   "source": [
    "### Exercises on Sets in Python \n",
    "\n",
    "\n",
    "fruits = {\"apple\", \"banana\", \"cherry\", \"avocado\", \"pawpaw\", \"pear\"}\n",
    "more_fruits = [“papaya”, “sugar-cane”]\n",
    "\n",
    "A set and a list have already been created for you. Use them to answer the following questions.\n",
    "\n",
    "1. Write python code to Check if \"apple\" is present in the fruits set.\n",
    "2. Use the add method to add \"orange\" to the fruits set.\n",
    "3. Use the correct method to add multiple items (more_fruits) to the fruits set. Assign the new set the variable name: total_fruits\n",
    "4. Use the remove method to remove \"banana\" from the  total_fruits set.\n",
    "5. Write python code to check if more_fruits is a subset of total_fruits.\n",
    "\n",
    "\n",
    "Use the sets below to answer the following questions.\n",
    "\n",
    "\n",
    "price = {200,150,300,100,500,250}\n",
    "units = {600,450,350,400,200,150}\n",
    "\n",
    "\n",
    "6. Write python code to return the difference between price and units\n",
    "7. Write python code to return the union and intersection of price and units.\n",
    "8. Write a Python program to return a new set with unique items from both sets by removing duplicates."
   ]
  },
  {
   "cell_type": "code",
   "execution_count": null,
   "id": "c6a58b95",
   "metadata": {},
   "outputs": [],
   "source": []
  }
 ],
 "metadata": {
  "colab": {
   "provenance": []
  },
  "kernelspec": {
   "display_name": "Python 3 (ipykernel)",
   "language": "python",
   "name": "python3"
  },
  "language_info": {
   "codemirror_mode": {
    "name": "ipython",
    "version": 3
   },
   "file_extension": ".py",
   "mimetype": "text/x-python",
   "name": "python",
   "nbconvert_exporter": "python",
   "pygments_lexer": "ipython3",
   "version": "3.9.13"
  }
 },
 "nbformat": 4,
 "nbformat_minor": 5
}
