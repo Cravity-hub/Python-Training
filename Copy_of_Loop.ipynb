{
 "cells": [
  {
   "cell_type": "markdown",
   "id": "9661e151",
   "metadata": {
    "id": "9661e151"
   },
   "source": [
    "### Loops\n",
    "\n",
    "Its a function is python that helps you to perform a repeated task.\n",
    "\n",
    "There are 2 types of Loop:\n",
    "--------------------------------------------------------\n",
    "- for loop\n",
    "- while loop\n",
    "\n",
    "Before we discuss loops lets discuss the range object. \n",
    "\n",
    "#### Range\n",
    "\n",
    "The range is a collection of all the int values given a start, stop, and steps. By default, the start is 0 and the steps incremented is 1. The stop value is not included.\n",
    "\n",
    "\n",
    "    syntax:\n",
    "    range(start,stop,steps)\n",
    "    \n",
    "    \n",
    "### for loop\n",
    "\n",
    "The for loop enables you to execute a code block multiple times.\n",
    "\n",
    "To iterate through a range with a for loop, we start with the keyword for, followed by a variable, typically named i, the in keyword, and the range created using its constructor.\n",
    "\n",
    "Let’s try out the for loop and iterate through a range from 0 to 9 and print out all the values.\n"
   ]
  },
  {
   "cell_type": "code",
   "execution_count": null,
   "id": "115aca50",
   "metadata": {
    "id": "115aca50",
    "outputId": "17c913d6-a635-4d2b-be0a-253cd06f6e09"
   },
   "outputs": [],
   "source": [
    "for i in range(0,10,2):\n",
    "    print(i)"
   ]
  },
  {
   "cell_type": "code",
   "execution_count": null,
   "id": "346d51e0",
   "metadata": {},
   "outputs": [],
   "source": [
    "range(10)"
   ]
  },
  {
   "cell_type": "markdown",
   "id": "565a5d82",
   "metadata": {
    "id": "565a5d82"
   },
   "source": [
    "since, by default, start is 0 and step is 1, we can simply do this:"
   ]
  },
  {
   "cell_type": "code",
   "execution_count": null,
   "id": "f133d322",
   "metadata": {
    "id": "f133d322",
    "outputId": "afe048d0-622e-45f7-d33d-2740192143a1"
   },
   "outputs": [],
   "source": [
    "for i in range(10):\n",
    "    print(i)"
   ]
  },
  {
   "cell_type": "code",
   "execution_count": null,
   "id": "5ad5a627",
   "metadata": {
    "id": "5ad5a627",
    "outputId": "00a3811b-6fe2-417d-eb0b-b0b737a79836"
   },
   "outputs": [],
   "source": [
    "# we can iterate through a list\n",
    "subject = [\"Mathematics\",\"English\",\"Commerce\",\"Chemisty\"]\n",
    "\n",
    "for i in range(len(subject)):\n",
    "    print(subject[i][0:3])"
   ]
  },
  {
   "cell_type": "code",
   "execution_count": null,
   "id": "35f67933",
   "metadata": {},
   "outputs": [],
   "source": [
    "subject[0]"
   ]
  },
  {
   "cell_type": "code",
   "execution_count": null,
   "id": "0b02a6fb",
   "metadata": {
    "id": "0b02a6fb",
    "outputId": "ead12a76-e742-486f-8afe-e58d0786f007"
   },
   "outputs": [],
   "source": [
    "# we can also directly access the elements in the list:\n",
    "\n",
    "subjects = [\"Mathematics\",\"English\",\"Commerce\",\"Chemisty\"]\n",
    "\n",
    "for item in subjects:\n",
    "    print(item[0:3].upper())"
   ]
  },
  {
   "cell_type": "markdown",
   "id": "92ad01c4",
   "metadata": {
    "id": "92ad01c4"
   },
   "source": [
    "We can print our output on a line,The print statement automatically prints to the next line because there is a parameter, end that has the default value '\\n', which is the new line character.To change the end value and have the output be printed in one line separated by space, we can pass in a value for end."
   ]
  },
  {
   "cell_type": "code",
   "execution_count": null,
   "id": "004c634c",
   "metadata": {
    "id": "004c634c",
    "outputId": "892ed84b-07d5-4109-f653-565b0fc9dfb0"
   },
   "outputs": [],
   "source": [
    "subjects = [\"Mathematics\",\"English\",\"Commerce\",\"Chemistry\"]\n",
    "\n",
    "for subject in subjects:\n",
    "    if subject == \"English\":\n",
    "        continue\n",
    "    print(subject, end = \", \")\n",
    "    \n",
    "print(\"and Chemistry\")"
   ]
  },
  {
   "cell_type": "code",
   "execution_count": null,
   "id": "19ee3e72",
   "metadata": {
    "id": "19ee3e72",
    "outputId": "221ec5c2-f28e-4091-d156-a7ca7453a8d4"
   },
   "outputs": [],
   "source": [
    "# Use for loop to change the elements in list\n",
    "\n",
    "subjects = [\"Mathematics\",\"English\",\"Commerce\",\"Chemisty\"]\n",
    "\n",
    "for i in range(4):\n",
    "    print(\"Before Change\", i, \"is\", subjects[i])\n",
    "    subjects[i] = \"Further Mathematics\"\n",
    "    print(\"After Change\", i, \"is\", subjects[i])"
   ]
  },
  {
   "cell_type": "code",
   "execution_count": null,
   "id": "007bf64e",
   "metadata": {
    "id": "007bf64e",
    "outputId": "e1e8e66c-347b-4b6a-a237-514fcac5c537"
   },
   "outputs": [],
   "source": [
    "# Loop through the list and iterate on both index and element value\n",
    "subjects = [\"Mathematics\",\"English\",\"Commerce\",\"Chemisty\"]\n",
    "\n",
    "for index, subject in enumerate(subjects): \n",
    "    print(index, subject)"
   ]
  },
  {
   "cell_type": "code",
   "execution_count": null,
   "id": "b0b268e8",
   "metadata": {},
   "outputs": [],
   "source": [
    "for son,don in enumerate(subjects[1]):\n",
    "    print(son,don.upper())"
   ]
  },
  {
   "cell_type": "markdown",
   "id": "e0ba7afd",
   "metadata": {
    "id": "e0ba7afd"
   },
   "source": [
    "Class Activity\n",
    "\n",
    "What happens when you run this program\n",
    "\n",
    "lst =[]\n",
    "\n",
    "for i in range(15):\n",
    "    lst.append(i)\n",
    "print(lst)"
   ]
  },
  {
   "cell_type": "code",
   "execution_count": null,
   "id": "8361f2c1",
   "metadata": {
    "id": "8361f2c1",
    "outputId": "f9191dc5-26ad-4d85-d986-27b04a54c7a9"
   },
   "outputs": [],
   "source": [
    "lst =[]\n",
    "\n",
    "for i in range(15):\n",
    "    lst.append(i*i)\n",
    "print(lst)"
   ]
  },
  {
   "cell_type": "code",
   "execution_count": null,
   "id": "a3394fe2",
   "metadata": {},
   "outputs": [],
   "source": [
    "for i in lst:\n",
    "    lst.pop()\n",
    "print(lst)"
   ]
  },
  {
   "cell_type": "code",
   "execution_count": null,
   "id": "fb8b5df3",
   "metadata": {
    "id": "fb8b5df3",
    "outputId": "8ccf7ba2-42aa-4fe3-bd0b-e81d8e59a12a"
   },
   "outputs": [],
   "source": [
    "int_list = [0, 1, 2, 3, 4, 5, 6, 7, 8, 9]\n",
    "\n",
    "for num in int_list:\n",
    "    num *= 2\n",
    "    print(num)"
   ]
  },
  {
   "cell_type": "code",
   "execution_count": null,
   "id": "513bcb22",
   "metadata": {
    "id": "513bcb22",
    "outputId": "63d252ba-20e6-4a0a-d9bb-e36d7ccd80cb"
   },
   "outputs": [],
   "source": [
    "int_list = [0, 1, 2, 3, 4, 5, 6, 7, 8, 9]\n",
    "\n",
    "for i in range(len(int_list)):\n",
    "    int_list[i] *= 2\n",
    "\t\n",
    "print(int_list)"
   ]
  },
  {
   "cell_type": "markdown",
   "id": "173dd16c",
   "metadata": {},
   "source": [
    "### Activity: Create two lists. One containing six products and the other containing their prices. \n",
    "\n",
    "1. Write a for loop to iterate over both lists and print the following statement:\n",
    "\n",
    "         \"The current price of (products name) is (price)\"\n",
    "         \n",
    "2. Modify your program to accept user input of product name and check if the product is in your list. Print (1) if the product is available else print:\n",
    "\n",
    "             \"Sorry this product is not available.\""
   ]
  },
  {
   "cell_type": "code",
   "execution_count": null,
   "id": "3979a74e",
   "metadata": {},
   "outputs": [],
   "source": [
    "stocks = ['total', 'oando', 'mobil','shell', 'nasdaq','s&p']\n",
    "prices = [12.8, 9.5, 30, 48, 1.3845, 1.2985]\n",
    "\n",
    "user = str(input(\"Enter the stock name: \"))\n",
    "\n",
    "for i, j in zip(stocks, prices):\n",
    "    if user.lower() == i:\n",
    "        print(f\"The current price of {i} is {j}\") "
   ]
  },
  {
   "cell_type": "markdown",
   "id": "ef3ccced",
   "metadata": {},
   "source": [
    "### For Loops with conditional statements"
   ]
  },
  {
   "cell_type": "code",
   "execution_count": null,
   "id": "e02b210a",
   "metadata": {},
   "outputs": [],
   "source": [
    "# let's write a for loop that will iterate over our list and print items containing letter \"m\"\n",
    "subject = [\"Mathematics\",\"English\",\"Commerce\",\"Chemisty\", \"Geography\"]\n",
    "\n",
    "for item in subject:\n",
    "    if \"m\" in item and \"c\" not in item or \"G\" in item:\n",
    "        print(\"I love\", item)"
   ]
  },
  {
   "cell_type": "code",
   "execution_count": null,
   "id": "59d8dfb1",
   "metadata": {},
   "outputs": [],
   "source": [
    "# let's write a program that will assign  grades to students' scores. \n",
    "\n",
    "# We need to first collect student score as input.\n",
    "students = ['Bob', 'Dan', 'Joy', 'Kim', 'Sam']\n",
    "\n",
    "\n",
    "name = str(input(\"Please input your First name: \"))\n",
    "score = int(input(\"Please enter your score: \"))\n",
    "\n",
    "if name.capitalize() in students:\n",
    "    if score < 40:\n",
    "            print(\"Welcome {}! You Failed this subject. Try harder!\".format(name))\n",
    "    elif score < 60:\n",
    "            print(\"Welcome {}! You passed this subject. Your grade is C.\".format(name))\n",
    "    elif score < 80:\n",
    "            print(\"Welcome {}! You passed this subject. Your grade is B.\".format(name))\n",
    "    else:\n",
    "            print(\"Welcome {}! Coungratulations!!! You passed this subject. Your grade is A.\".format(name))\n",
    "else:\n",
    "        print(\"Oops! You name is not in the list of students\")\n"
   ]
  },
  {
   "cell_type": "markdown",
   "id": "2546e02e",
   "metadata": {},
   "source": [
    "### Activity: Calculate the sum of all numbers from 1 to a given number by the instructor"
   ]
  },
  {
   "cell_type": "code",
   "execution_count": null,
   "id": "1485b163",
   "metadata": {},
   "outputs": [],
   "source": [
    "num = int(input(\"enter a number: \"))\n",
    "\n",
    "sum_digit = 0\n",
    "\n",
    "for i in range(1,num+1):\n",
    "    sum_digit += i\n",
    "    \n",
    "print(sum_digit)"
   ]
  },
  {
   "cell_type": "code",
   "execution_count": null,
   "id": "04f556a0",
   "metadata": {},
   "outputs": [],
   "source": [
    "num = int(input(\"enter a number: \"))\n",
    "\n",
    "sum_digit = 0\n",
    "sum_list = []\n",
    "for i in range(1,num+1):\n",
    "    sum_digit += i\n",
    "    sum_list.append(sum_digit)\n",
    "    \n",
    "    print(sum_digit, sum_list, sep=\"\\n\\n\")"
   ]
  },
  {
   "cell_type": "markdown",
   "id": "b882da43",
   "metadata": {},
   "source": [
    "### Activity: Write a program to print multiplication table of a given number."
   ]
  },
  {
   "cell_type": "code",
   "execution_count": null,
   "id": "5aa2a68b",
   "metadata": {},
   "outputs": [],
   "source": [
    "time_num = int(input(\"enter a number: \"))\n",
    "\n",
    "%%timeit\n",
    "\n",
    "for i in range(1,13):\n",
    "    res = time_num*i\n",
    "    print(f\"{time_num} x {i} = {res}\")"
   ]
  },
  {
   "cell_type": "markdown",
   "id": "4c8e5b1d",
   "metadata": {
    "id": "4c8e5b1d"
   },
   "source": [
    "#### Nested for loops\n",
    "\n",
    "We can also use for loops to iterate through a nested list,to iterate through each value in a nested list, we will need to have nested for loops, which are for loops inside another for loop.\n"
   ]
  },
  {
   "cell_type": "code",
   "execution_count": null,
   "id": "fdacbd13",
   "metadata": {
    "id": "fdacbd13",
    "outputId": "3fe11fcd-26fd-4c2d-bd89-d109a94da978"
   },
   "outputs": [],
   "source": [
    "# print the individual lists inside a nested list:\n",
    "Dept_Subject = [[\"Government\", \"Literature\",\"Arts\"],[\"Commerce\",\"Economics\", \"Account\"],[\"Physics\",\"Chemistry\",\"Geography\"]]\n",
    "\n",
    "for Dept in Dept_Subject:\n",
    "    print(Dept)"
   ]
  },
  {
   "cell_type": "code",
   "execution_count": null,
   "id": "5fdde5df",
   "metadata": {
    "id": "5fdde5df",
    "outputId": "a5ffdfd3-4857-44e2-bc04-1e62ef4a9d46"
   },
   "outputs": [],
   "source": [
    "# print the individual subject inside each list:\n",
    "Dept_Subject = [[\"Government\", \"Literature\",\"Arts\"],[\"Commerce\",\"Economics\",\"Account\"],[\"Physics\",\"Chemistry\",\"Geography\"]]\n",
    "\n",
    "for Dept in Dept_Subject:\n",
    "    for subject in Dept:\n",
    "        print(subject)"
   ]
  },
  {
   "cell_type": "code",
   "execution_count": null,
   "id": "3d1492ca",
   "metadata": {},
   "outputs": [],
   "source": []
  },
  {
   "cell_type": "markdown",
   "id": "3fdf531a",
   "metadata": {},
   "source": [
    "### Activity: Write a program that returns all the numbers divisible by 4 in a list.\n",
    "#### Create a new list with these numbers. "
   ]
  },
  {
   "cell_type": "code",
   "execution_count": null,
   "id": "416409fa",
   "metadata": {},
   "outputs": [],
   "source": [
    "div_by_15 = []\n",
    "\n",
    "for i in range(0,201):\n",
    "    if i % 15 == 0:\n",
    "        #print(i)\n",
    "        div_by_15.append(i)\n",
    "        \n",
    "print(div_by_15)"
   ]
  },
  {
   "cell_type": "code",
   "execution_count": null,
   "id": "de1969f1",
   "metadata": {},
   "outputs": [],
   "source": []
  },
  {
   "cell_type": "markdown",
   "id": "1c7597ff",
   "metadata": {},
   "source": [
    "### Activity: Write a for loop that stores the number divisible by 5 and 6 between 150 and 500\n",
    "\n",
    "\n",
    "\n",
    "### Activity: Write a program that accepts phone numbers as input and returns the sum of all the digits of the phone number."
   ]
  },
  {
   "cell_type": "code",
   "execution_count": null,
   "id": "e8adc93f",
   "metadata": {},
   "outputs": [],
   "source": []
  },
  {
   "cell_type": "markdown",
   "id": "bff5e2c3",
   "metadata": {
    "id": "bff5e2c3"
   },
   "source": [
    "#### While loop\n",
    "The while loop allows code to be executed repeatedly while a condition holds True,The code block will keep being executed until the given logical condition returns a False boolean value.\n",
    "\n",
    "Lets print the integer from 1 to 10, we will need a variable that act as an increment value, say x and assign a value of 1 to it, the value will increase until it gets to 10.\n",
    "\n",
    "We now need to determine the condition that will allow the loop to execute a task repeatedly. In this case, the objective is to print integers from 1 to 10. So we'll set the condition to be x < 11"
   ]
  },
  {
   "cell_type": "code",
   "execution_count": null,
   "id": "2d6d3870",
   "metadata": {
    "id": "2d6d3870",
    "outputId": "b2c64c2b-bf22-412b-9e2a-42f8872e669a"
   },
   "outputs": [],
   "source": [
    "x = 1\n",
    "while x < 11:\n",
    "    print(x)\n",
    "    x+=1  \n",
    "    "
   ]
  },
  {
   "cell_type": "code",
   "execution_count": null,
   "id": "06a01dc3",
   "metadata": {
    "id": "06a01dc3"
   },
   "outputs": [],
   "source": [
    "# Cases when the condition is not met, our loop function may not run\n",
    "\n",
    "x=12\n",
    "while x<11:\n",
    "    print(x)\n",
    "    x+=1"
   ]
  },
  {
   "cell_type": "markdown",
   "id": "cf016e64",
   "metadata": {
    "id": "cf016e64"
   },
   "source": [
    "#### cases when there is no exit condition, the loop \n",
    "\n",
    "x = 1\n",
    "while x < 11:\n",
    "    print(x)\n",
    "    x+=1\n",
    "\n",
    "The program will print 1 forever, this is called an infinite loop, which will eventually crash the program "
   ]
  },
  {
   "cell_type": "code",
   "execution_count": null,
   "id": "b2a6438b",
   "metadata": {
    "id": "b2a6438b",
    "outputId": "bbe5d9ea-0751-47ea-9174-45fa9643a674"
   },
   "outputs": [],
   "source": [
    "# We can also use the while loop to print every element in a collection via index.\n",
    "\n",
    "names = [\"Sade\", \"Kemi\", \"Bola\", \"Tosin\", \"Peace\"]\n",
    "\n",
    "index = 0\n",
    "while index < len(names):\n",
    "    print(names[index])\n",
    "    index +=1"
   ]
  },
  {
   "cell_type": "code",
   "execution_count": null,
   "id": "2790bd1a",
   "metadata": {},
   "outputs": [],
   "source": []
  },
  {
   "cell_type": "markdown",
   "id": "d008bd17",
   "metadata": {
    "id": "d008bd17"
   },
   "source": [
    "### Break Statement\n",
    "\n",
    "The break statement allows us to exit a loop irrespective of the break statement.\n",
    "We will use a conditional statement inside the while loop that will determine whether or not to call break."
   ]
  },
  {
   "cell_type": "code",
   "execution_count": null,
   "id": "bc7b1d2f",
   "metadata": {
    "id": "bc7b1d2f",
    "outputId": "cd996e84-1a5c-44fc-a074-4af70614c51d"
   },
   "outputs": [],
   "source": [
    "names = [\"Sade\", \"Bola\", \"Tosin\",  \"Kemi\", \"Peace\"]\n",
    "\n",
    "index = 0\n",
    "while index < len(names):\n",
    "    print(names[index])\n",
    "    index+=1\n",
    "    if names[index] == \"Kemi\":\n",
    "        print(\"Kemi is in class\")\n",
    "        break"
   ]
  },
  {
   "cell_type": "markdown",
   "id": "fe15abcf",
   "metadata": {
    "id": "fe15abcf"
   },
   "source": [
    "#### Quiz on Loops\n",
    "1. Write a for loop the prints out all the element between -5 and 5 using the range function.\n",
    "\n",
    "2. Print the elements of the following list: Fruits = [\"Mango\", \"Pineapple\", \"Guava\", \"Pineapple\",\"Orange\"\n",
    "\n",
    "3. Write a for loop that prints out the following list: Subject=['Mathematics', 'Economics', 'English', 'Geography', 'Commerce']\n",
    "\n",
    "4. Write a while loop to display the scores of students in a particular course in the score list, if the score is less than 30 exit the loop.\n",
    "Scores=[70,45,67,33,80,30,25,67,45,44]"
   ]
  },
  {
   "cell_type": "code",
   "execution_count": null,
   "id": "2a76f528",
   "metadata": {},
   "outputs": [],
   "source": [
    "scores=[70,45,67,33,80,30,25,67,45,44]\n",
    "\n",
    "i = 0\n",
    "\n",
    "while i < len(scores):\n",
    "    print(scores[i])\n",
    "    i +=1\n",
    "    if scores[i] < 30:\n",
    "        break\n"
   ]
  },
  {
   "cell_type": "markdown",
   "id": "61630cda",
   "metadata": {
    "id": "120f060c"
   },
   "source": [
    "### Continue statement\n",
    "\n",
    "The continue keyword allows you to end the current iteration in a loop (for or while) and force the loop to continue without executing the current item in the loop.\n",
    "\n",
    "the continue statement is used to exclude parts of your iterable from the loop."
   ]
  },
  {
   "cell_type": "code",
   "execution_count": null,
   "id": "ea2cc1f7",
   "metadata": {},
   "outputs": [],
   "source": [
    "scores=[70,45,67,33,80,30,25,67,45,44]\n",
    "\n",
    "i = 0\n",
    "\n",
    "while i < len(scores)-1:\n",
    "    \n",
    "    \n",
    "    \n",
    "    if scores[i] < 30:    \n",
    "        continue\n",
    "    \n",
    "    print(scores[i])\n",
    "    i +=1"
   ]
  },
  {
   "cell_type": "code",
   "execution_count": null,
   "id": "50bcf896",
   "metadata": {},
   "outputs": [],
   "source": [
    "for char in \"zacrac learning\":\n",
    "    \n",
    "    if char == 'a':\n",
    "        continue\n",
    "    print(char)"
   ]
  },
  {
   "cell_type": "code",
   "execution_count": 1,
   "id": "60a6eab0",
   "metadata": {},
   "outputs": [
    {
     "name": "stdout",
     "output_type": "stream",
     "text": [
      "70\n",
      "45\n",
      "67\n",
      "33\n",
      "80\n",
      "30\n",
      "67\n",
      "45\n",
      "44\n"
     ]
    }
   ],
   "source": [
    "scores=[70,45,67,33,80,30,25,67,45,44]\n",
    "\n",
    "for i in range(len(scores)):\n",
    "    \n",
    "    if scores[i] < 30:    \n",
    "        continue\n",
    "    print(scores[i]) "
   ]
  },
  {
   "cell_type": "markdown",
   "id": "7279ae39",
   "metadata": {},
   "source": [
    "## Conditional Statements and Flow Control\n",
    "\n",
    "Flow control is a way of writing logical programs with one or more conditional statements. \n",
    "\n",
    "Conditional statements are written with the \"if\", \"elif\", and \"else\" keywords. \n",
    "\n",
    "We use elif to add multiple conditions ot our program. \n",
    "\n",
    "The else statement is optional and doesn't require a condition to be stated. "
   ]
  },
  {
   "cell_type": "code",
   "execution_count": null,
   "id": "3542c4d0",
   "metadata": {},
   "outputs": [],
   "source": [
    "subject = [[\"Government\", \"Literature\",\"Arts\"],[\"Commerce\",\"Economics\",\"Account\"],[\"Physics\",\"Chemistry\",\"Geography\"]]\n",
    "\n",
    "\n",
    "best_sub = str(input(\"What is your best subject? \"))\n",
    "\n",
    "print('\\n')\n",
    "\n",
    "if best_sub.capitalize() in subject[0]:\n",
    "    print(\"Congratulations! You're an Arts student\")\n",
    "elif best_sub.capitalize() in subject[1]:\n",
    "    print(\"Congratulations! You're a Commercial student\")\n",
    "elif best_sub.capitalize() in subject[2]:\n",
    "    print(\"Congratulations! You're a Science student\")\n",
    "else:\n",
    "    print(\"You're not in any of the categories\")\n",
    "    "
   ]
  },
  {
   "cell_type": "code",
   "execution_count": null,
   "id": "4949568f",
   "metadata": {},
   "outputs": [],
   "source": []
  },
  {
   "cell_type": "code",
   "execution_count": null,
   "id": "2f70097a",
   "metadata": {},
   "outputs": [],
   "source": []
  }
 ],
 "metadata": {
  "colab": {
   "provenance": []
  },
  "kernelspec": {
   "display_name": "Python 3 (ipykernel)",
   "language": "python",
   "name": "python3"
  },
  "language_info": {
   "codemirror_mode": {
    "name": "ipython",
    "version": 3
   },
   "file_extension": ".py",
   "mimetype": "text/x-python",
   "name": "python",
   "nbconvert_exporter": "python",
   "pygments_lexer": "ipython3",
   "version": "3.9.13"
  }
 },
 "nbformat": 4,
 "nbformat_minor": 5
}
