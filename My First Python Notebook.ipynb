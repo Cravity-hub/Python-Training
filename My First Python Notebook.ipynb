{
 "cells": [
  {
   "cell_type": "markdown",
   "id": "8beba5ac",
   "metadata": {},
   "source": [
    "# Basic Python Class \n",
    "\n",
    "\n",
    "Introducing Jupyter Notebook environment.\n"
   ]
  },
  {
   "cell_type": "code",
   "execution_count": 2,
   "id": "214954a0",
   "metadata": {},
   "outputs": [
    {
     "data": {
      "text/plain": [
       "'Here is a doc string for writing multiple line comment in python.\\nYOu can write more than one line of comments here.\\n\\n'"
      ]
     },
     "execution_count": 2,
     "metadata": {},
     "output_type": "execute_result"
    }
   ],
   "source": [
    "#this is a comment\n",
    "\n",
    "#print hello world\n",
    "\n",
    "\"\"\"Here is a doc string for writing multiple line comment in python.\n",
    "YOu can write more than one line of comments here.\n",
    "\"\"\"\n",
    "\n"
   ]
  },
  {
   "cell_type": "code",
   "execution_count": 21,
   "id": "a5759f95",
   "metadata": {},
   "outputs": [
    {
     "name": "stdout",
     "output_type": "stream",
     "text": [
      "1600\n",
      "30.0\n",
      "16000\n"
     ]
    }
   ],
   "source": [
    "# we use the print function to display outputs\n",
    "\n",
    "print(200 * 8)  #this is example 1\n",
    "\n",
    "print(450 / 15)\n",
    "\n",
    "print(round(25**3, -3))"
   ]
  },
  {
   "cell_type": "code",
   "execution_count": 12,
   "id": "a26eafb6",
   "metadata": {},
   "outputs": [
    {
     "name": "stdout",
     "output_type": "stream",
     "text": [
      "Hello Python 30.0\n",
      "ZACRAC LEARNING\n",
      "Python is SWEET\n"
     ]
    }
   ],
   "source": [
    "print('Hello Python', 450 / 15)\n",
    "\n",
    "print('ZACRAC LEARNING')\n",
    "\n",
    "print(\"Python is SWEET\")"
   ]
  },
  {
   "cell_type": "code",
   "execution_count": 22,
   "id": "3aecfb55",
   "metadata": {},
   "outputs": [],
   "source": [
    "zl = 'ZACRAC LEARNING'"
   ]
  },
  {
   "cell_type": "code",
   "execution_count": 14,
   "id": "d97a6d6b",
   "metadata": {},
   "outputs": [
    {
     "name": "stdout",
     "output_type": "stream",
     "text": [
      "Help on built-in function round in module builtins:\n",
      "\n",
      "round(number, ndigits=None)\n",
      "    Round a number to a given precision in decimal digits.\n",
      "    \n",
      "    The return value is an integer if ndigits is omitted or None.  Otherwise\n",
      "    the return value has the same type as the number.  ndigits may be negative.\n",
      "\n"
     ]
    }
   ],
   "source": [
    "help(round)"
   ]
  },
  {
   "cell_type": "code",
   "execution_count": 16,
   "id": "c651cac2",
   "metadata": {},
   "outputs": [],
   "source": [
    "?round()"
   ]
  },
  {
   "cell_type": "code",
   "execution_count": 24,
   "id": "58ba862c",
   "metadata": {},
   "outputs": [
    {
     "name": "stdout",
     "output_type": "stream",
     "text": [
      "ZACRAC LEARNING\n"
     ]
    }
   ],
   "source": [
    "print(zl)"
   ]
  },
  {
   "cell_type": "code",
   "execution_count": 26,
   "id": "4b0fd75c",
   "metadata": {},
   "outputs": [
    {
     "data": {
      "text/plain": [
       "'ZACRAC LEARNING'"
      ]
     },
     "execution_count": 26,
     "metadata": {},
     "output_type": "execute_result"
    }
   ],
   "source": [
    "zl"
   ]
  },
  {
   "cell_type": "code",
   "execution_count": null,
   "id": "5abc5d65",
   "metadata": {},
   "outputs": [],
   "source": []
  }
 ],
 "metadata": {
  "kernelspec": {
   "display_name": "Python 3 (ipykernel)",
   "language": "python",
   "name": "python3"
  },
  "language_info": {
   "codemirror_mode": {
    "name": "ipython",
    "version": 3
   },
   "file_extension": ".py",
   "mimetype": "text/x-python",
   "name": "python",
   "nbconvert_exporter": "python",
   "pygments_lexer": "ipython3",
   "version": "3.9.13"
  }
 },
 "nbformat": 4,
 "nbformat_minor": 5
}
