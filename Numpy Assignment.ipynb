{
 "cells": [
  {
   "cell_type": "markdown",
   "id": "ccf504fb",
   "metadata": {},
   "source": [
    "# Numpy Assignment"
   ]
  },
  {
   "cell_type": "markdown",
   "id": "15125abe",
   "metadata": {},
   "source": [
    "### Write a NumPy program to create a 5x5 array with random values and find the minimum and maximum values."
   ]
  },
  {
   "cell_type": "code",
   "execution_count": null,
   "id": "23fbe3a6",
   "metadata": {},
   "outputs": [],
   "source": []
  },
  {
   "cell_type": "markdown",
   "id": "90541962",
   "metadata": {},
   "source": [
    "### Create a 1D NumPy array of numbers from 1 to 10. Reverse the order of the array."
   ]
  },
  {
   "cell_type": "code",
   "execution_count": null,
   "id": "4f7d9498",
   "metadata": {},
   "outputs": [],
   "source": []
  },
  {
   "cell_type": "markdown",
   "id": "1b4cb7c3",
   "metadata": {},
   "source": [
    "### Create a 2D NumPy array with shape (3, 3) and fill it with random values. Find the sum of all elements in the array.\n"
   ]
  },
  {
   "cell_type": "code",
   "execution_count": null,
   "id": "5ee0af12",
   "metadata": {},
   "outputs": [],
   "source": []
  },
  {
   "cell_type": "markdown",
   "id": "c25a4e45",
   "metadata": {},
   "source": [
    "### Create a 3x3 NumPy array with values ranging from 1 to 9. Reshape the array into a single row (1D array)."
   ]
  },
  {
   "cell_type": "code",
   "execution_count": null,
   "id": "2f9f9902",
   "metadata": {},
   "outputs": [],
   "source": []
  },
  {
   "cell_type": "markdown",
   "id": "5d1724c3",
   "metadata": {},
   "source": [
    "### Create two NumPy arrays of the same shape and perform element-wise multiplication between them."
   ]
  },
  {
   "cell_type": "code",
   "execution_count": null,
   "id": "26dce29a",
   "metadata": {},
   "outputs": [],
   "source": []
  },
  {
   "cell_type": "markdown",
   "id": "29f08e6f",
   "metadata": {},
   "source": [
    "### Given a 1D NumPy array, find the indices of the elements that are greater than 5."
   ]
  },
  {
   "cell_type": "code",
   "execution_count": null,
   "id": "39bfbc87",
   "metadata": {},
   "outputs": [],
   "source": []
  },
  {
   "cell_type": "markdown",
   "id": "274022fb",
   "metadata": {},
   "source": [
    "# Functions Assignment"
   ]
  },
  {
   "cell_type": "code",
   "execution_count": null,
   "id": "5e7b1d08",
   "metadata": {},
   "outputs": [],
   "source": []
  },
  {
   "cell_type": "markdown",
   "id": "68599ed7",
   "metadata": {},
   "source": [
    "### Write a function is_palindrome(word) that takes a string as input and returns True if the word is a palindrome (reads the same forwards and backwards), and False otherwise."
   ]
  },
  {
   "cell_type": "code",
   "execution_count": null,
   "id": "50a892ff",
   "metadata": {},
   "outputs": [],
   "source": []
  },
  {
   "cell_type": "markdown",
   "id": "1ab340de",
   "metadata": {},
   "source": [
    "### Create a function calculate_average(*args) that takes a variable number of arguments and calculates the average of all the arguments."
   ]
  },
  {
   "cell_type": "code",
   "execution_count": null,
   "id": "ee1d23be",
   "metadata": {},
   "outputs": [],
   "source": []
  },
  {
   "cell_type": "markdown",
   "id": "36aaf390",
   "metadata": {},
   "source": [
    "\n",
    "### Create a function apply_function_to_elements(func, *args) that takes a function func and a variable number of arguments args. The function should apply func to each element in args and return a list of the results."
   ]
  },
  {
   "cell_type": "code",
   "execution_count": null,
   "id": "170f4565",
   "metadata": {},
   "outputs": [],
   "source": []
  },
  {
   "cell_type": "markdown",
   "id": "b9db2fc1",
   "metadata": {},
   "source": [
    "### Implement a function binary_search(arr, target) that performs a binary search on a sorted list arr and returns the index of the target element. If the element is not found, the function should return -1."
   ]
  },
  {
   "cell_type": "code",
   "execution_count": null,
   "id": "d235409a",
   "metadata": {},
   "outputs": [],
   "source": []
  }
 ],
 "metadata": {
  "kernelspec": {
   "display_name": "Python 3 (ipykernel)",
   "language": "python",
   "name": "python3"
  },
  "language_info": {
   "codemirror_mode": {
    "name": "ipython",
    "version": 3
   },
   "file_extension": ".py",
   "mimetype": "text/x-python",
   "name": "python",
   "nbconvert_exporter": "python",
   "pygments_lexer": "ipython3",
   "version": "3.9.13"
  }
 },
 "nbformat": 4,
 "nbformat_minor": 5
}
