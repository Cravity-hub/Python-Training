{
 "cells": [
  {
   "cell_type": "markdown",
   "metadata": {
    "id": "0YOt8jiPVOJ_"
   },
   "source": [
    "## Numpy Exercises\n",
    "\n"
   ]
  },
  {
   "cell_type": "code",
   "execution_count": null,
   "metadata": {
    "id": "JtLgPhxPYjeP"
   },
   "outputs": [],
   "source": [
    "import numpy as np"
   ]
  },
  {
   "cell_type": "markdown",
   "metadata": {
    "id": "_TNpM6VFVmc0"
   },
   "source": [
    "#### Exercise 1: Create a 4X2 integer array and Prints its attributes\n",
    "\n",
    "Print the following Attributes: –\n",
    "\n",
    "\n",
    "\n",
    "*  The shape of an array.\n",
    "*  Array dimensions.\n",
    "*  The Length of each element of the array in bytes."
   ]
  },
  {
   "cell_type": "code",
   "execution_count": null,
   "metadata": {
    "id": "HtjEicjLUtGJ"
   },
   "outputs": [],
   "source": []
  },
  {
   "cell_type": "markdown",
   "metadata": {
    "id": "3wKrHJZ3V-4m"
   },
   "source": [
    "#### Exercise 2: Create a 5X2 integer array from a range between 100 to 200 such that the difference between each element is 10"
   ]
  },
  {
   "cell_type": "code",
   "execution_count": null,
   "metadata": {
    "id": "H4sq1da-XHnp"
   },
   "outputs": [],
   "source": []
  },
  {
   "cell_type": "markdown",
   "metadata": {
    "id": "tle2CO5oXJES"
   },
   "source": [
    "#### Exercise 3: Following is the provided numPy array. Return array of items by taking the third column from all rows"
   ]
  },
  {
   "cell_type": "code",
   "execution_count": null,
   "metadata": {
    "id": "VCE2MukdXajv"
   },
   "outputs": [],
   "source": [
    "my_array = np.array([[11 ,22, 33], [44, 55, 66], [77, 88, 99]])"
   ]
  },
  {
   "cell_type": "markdown",
   "metadata": {
    "id": "Jqu3IpSKXjmg"
   },
   "source": [
    "#### Exercise 4: Create a result array by adding the following two NumPy arrays. Next, modify the result array by calculating the square of each element"
   ]
  },
  {
   "cell_type": "code",
   "execution_count": null,
   "metadata": {
    "id": "ju-a4NeFX0aC"
   },
   "outputs": [],
   "source": [
    "arrayOne = np.array([[5, 6, 9], [21 ,18, 27]])\n",
    "arrayTwo = np.array([[15 ,33, 24], [4 ,7, 1]])"
   ]
  },
  {
   "cell_type": "markdown",
   "metadata": {
    "id": "T4Zw4r2dY_Gw"
   },
   "source": [
    "#### Exercise 5: Print max from axis 0 and min from axis 1 from the following 2-D array."
   ]
  },
  {
   "cell_type": "code",
   "execution_count": null,
   "metadata": {
    "id": "epA4nNTAX6_T"
   },
   "outputs": [],
   "source": [
    "new_array = np.array([[34,43,73],[82,22,12],[53,94,66]])"
   ]
  }
 ],
 "metadata": {
  "colab": {
   "provenance": []
  },
  "kernelspec": {
   "display_name": "Python 3 (ipykernel)",
   "language": "python",
   "name": "python3"
  },
  "language_info": {
   "codemirror_mode": {
    "name": "ipython",
    "version": 3
   },
   "file_extension": ".py",
   "mimetype": "text/x-python",
   "name": "python",
   "nbconvert_exporter": "python",
   "pygments_lexer": "ipython3",
   "version": "3.9.13"
  }
 },
 "nbformat": 4,
 "nbformat_minor": 1
}
