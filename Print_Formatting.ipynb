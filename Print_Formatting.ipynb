{
 "cells": [
  {
   "cell_type": "markdown",
   "id": "cb6a34de",
   "metadata": {
    "id": "cb6a34de"
   },
   "source": [
    "## Print Formatting\n",
    "### Escape Sequence\n",
    "Assuming you want your hello world on 2 lines like this:\n",
    "\n",
    "\n"
   ]
  },
  {
   "cell_type": "code",
   "execution_count": 45,
   "id": "c8ee938c",
   "metadata": {
    "id": "c8ee938c"
   },
   "outputs": [
    {
     "name": "stdout",
     "output_type": "stream",
     "text": [
      "Hello\n",
      "************\n",
      "Python\n"
     ]
    }
   ],
   "source": [
    "print(\"Hello\", end=\"\\n************\\n\")\n",
    "print(\"Python\")"
   ]
  },
  {
   "cell_type": "markdown",
   "id": "f4926144",
   "metadata": {
    "id": "f4926144"
   },
   "source": [
    "We can have a single line of code by introducing the \\n to create a newline"
   ]
  },
  {
   "cell_type": "code",
   "execution_count": 2,
   "id": "f33ef9b0",
   "metadata": {
    "id": "f33ef9b0"
   },
   "outputs": [
    {
     "name": "stdout",
     "output_type": "stream",
     "text": [
      "Hello\n",
      "Python\n"
     ]
    }
   ],
   "source": [
    "print(\"Hello\\nPython\")"
   ]
  },
  {
   "cell_type": "code",
   "execution_count": 23,
   "id": "abbce8bb",
   "metadata": {},
   "outputs": [
    {
     "name": "stdout",
     "output_type": "stream",
     "text": [
      "This is a new day.\n",
      "Python is interesting\n"
     ]
    }
   ],
   "source": [
    "print(\"This is a new day.\\nPython is interesting\")"
   ]
  },
  {
   "cell_type": "markdown",
   "id": "86da7b15",
   "metadata": {
    "id": "86da7b15"
   },
   "source": [
    "### Tab\n",
    "To create a tab, use \\t"
   ]
  },
  {
   "cell_type": "code",
   "execution_count": 25,
   "id": "fceca1f5",
   "metadata": {
    "id": "fceca1f5"
   },
   "outputs": [
    {
     "name": "stdout",
     "output_type": "stream",
     "text": [
      "Hello \t Python\n"
     ]
    }
   ],
   "source": [
    "print(\"Hello \\t Python\")"
   ]
  },
  {
   "cell_type": "markdown",
   "id": "05f6457c",
   "metadata": {
    "id": "05f6457c"
   },
   "source": [
    "In the case where we want an escape sequence within our text, we use the double backslash"
   ]
  },
  {
   "cell_type": "code",
   "execution_count": 40,
   "id": "6f74f61c",
   "metadata": {
    "id": "6f74f61c",
    "outputId": "77d3810e-f86e-4d3b-e273-d39857ed51f6"
   },
   "outputs": [
    {
     "name": "stdout",
     "output_type": "stream",
     "text": [
      "Physics*Chemistry\n"
     ]
    }
   ],
   "source": [
    "print(\"Physics\\\\Chemistry\")"
   ]
  },
  {
   "cell_type": "code",
   "execution_count": 41,
   "id": "e3302dd5",
   "metadata": {
    "id": "e3302dd5",
    "outputId": "6222c0bc-2a4a-44c7-a025-67e2e064cab6",
    "scrolled": true
   },
   "outputs": [
    {
     "name": "stdout",
     "output_type": "stream",
     "text": [
      "i'll see her tomorrow\n"
     ]
    }
   ],
   "source": [
    "# Printing with aprrostophe\n",
    "\n",
    "print(\"i'll see her tomorrow\") # you will have an error "
   ]
  },
  {
   "cell_type": "code",
   "execution_count": null,
   "id": "f91a9d3c",
   "metadata": {
    "id": "f91a9d3c",
    "outputId": "39792737-ef2e-477e-e1dd-bb826552bf14"
   },
   "outputs": [
    {
     "name": "stdout",
     "output_type": "stream",
     "text": [
      "i'll see her tomorrow\n"
     ]
    }
   ],
   "source": [
    "print('i\\'ll see her tomorrow')"
   ]
  },
  {
   "cell_type": "markdown",
   "id": "de87a7e8",
   "metadata": {
    "id": "de87a7e8"
   },
   "source": [
    "#### %s Format \n",
    "The string formatting operator help you insert string into your print statement"
   ]
  },
  {
   "cell_type": "code",
   "execution_count": 49,
   "id": "1d16a211",
   "metadata": {
    "id": "1d16a211",
    "outputId": "b71f8a6a-09c6-4964-8cee-e7ef64ec37d8"
   },
   "outputs": [
    {
     "name": "stdout",
     "output_type": "stream",
     "text": [
      "The name of her mother.\n"
     ]
    }
   ],
   "source": [
    "str1 = \"name\"\n",
    "\n",
    "print(\"The %s of her mother.\" %(str1))"
   ]
  },
  {
   "cell_type": "code",
   "execution_count": 50,
   "id": "59d20fd8",
   "metadata": {
    "id": "59d20fd8",
    "outputId": "985285a5-3dd7-45eb-e78c-1db7e733f38d"
   },
   "outputs": [
    {
     "name": "stdout",
     "output_type": "stream",
     "text": [
      "The Name of her mother is Ade.\n"
     ]
    }
   ],
   "source": [
    "# You can also insert more than 1 string\n",
    "print(\"The %s of her %s is %s.\"%(\"Name\",\"mother\",\"Ade\"))"
   ]
  },
  {
   "cell_type": "code",
   "execution_count": 2,
   "id": "cba0dbf3",
   "metadata": {
    "colab": {
     "base_uri": "https://localhost:8080/"
    },
    "id": "cba0dbf3",
    "outputId": "927909f9-6bbd-4da1-ddd3-fce358fce44d"
   },
   "outputs": [
    {
     "name": "stdout",
     "output_type": "stream",
     "text": [
      "the total cost ofgoods sold is 590.567\n",
      "the total cost ofgoods sold is 590\n"
     ]
    }
   ],
   "source": [
    "# Different between %s and %d, while dealing with integers\n",
    "print(\"the total cost ofgoods sold is %s\" %590.567)\n",
    "print(\"the total cost ofgoods sold is %d\" %590.567)"
   ]
  },
  {
   "cell_type": "code",
   "execution_count": 61,
   "id": "8c1e424c",
   "metadata": {
    "colab": {
     "base_uri": "https://localhost:8080/"
    },
    "id": "8c1e424c",
    "outputId": "0767e173-dc9f-4ec4-ac23-a3dbfc41eff4",
    "scrolled": true
   },
   "outputs": [
    {
     "name": "stdout",
     "output_type": "stream",
     "text": [
      "the total cost ofgoods sold is 590.57\n"
     ]
    }
   ],
   "source": [
    "# %5.2f for floating numbers\n",
    "\n",
    "print(\"the total cost ofgoods sold is %.2f\" %590.567)"
   ]
  },
  {
   "cell_type": "markdown",
   "id": "a66a95c7",
   "metadata": {
    "id": "a66a95c7"
   },
   "source": [
    "#### format()"
   ]
  },
  {
   "cell_type": "code",
   "execution_count": null,
   "id": "05615031",
   "metadata": {
    "id": "05615031",
    "outputId": "0b001c39-673f-4344-8e4f-2c0a4cc8fe53"
   },
   "outputs": [
    {
     "name": "stdout",
     "output_type": "stream",
     "text": [
      "The subject offered is Economics\n"
     ]
    }
   ],
   "source": [
    "print(\"The subject offered is {}\".format(\"Economics\"))"
   ]
  },
  {
   "cell_type": "markdown",
   "id": "a29860b2",
   "metadata": {
    "id": "a29860b2"
   },
   "source": [
    "#### Advantages of the format method\n",
    "\n",
    "- objects can be inserted based on index"
   ]
  },
  {
   "cell_type": "code",
   "execution_count": 62,
   "id": "90269b80",
   "metadata": {
    "id": "90269b80",
    "outputId": "60a1e748-3049-4316-d821-840066e5347b"
   },
   "outputs": [
    {
     "name": "stdout",
     "output_type": "stream",
     "text": [
      "The brilliant girl is here\n"
     ]
    }
   ],
   "source": [
    "print(\"The {2} {0} is {1}\".format(\"girl\",\"here\",\"brilliant\"))"
   ]
  },
  {
   "cell_type": "markdown",
   "id": "8c530f01",
   "metadata": {
    "id": "8c530f01"
   },
   "source": [
    "- Duplicates can be avoided"
   ]
  },
  {
   "cell_type": "code",
   "execution_count": 63,
   "id": "7ea823af",
   "metadata": {
    "id": "7ea823af",
    "outputId": "8380e2fe-caa1-4eb6-dd33-40e1352cb262"
   },
   "outputs": [
    {
     "name": "stdout",
     "output_type": "stream",
     "text": [
      "The girls;the girls were happy\n"
     ]
    }
   ],
   "source": [
    "print(\"The {x};the {x} were happy\".format(x=\"girls\"))"
   ]
  },
  {
   "cell_type": "markdown",
   "id": "a52837b9",
   "metadata": {
    "id": "a52837b9"
   },
   "source": [
    "- keywords can be used"
   ]
  },
  {
   "cell_type": "code",
   "execution_count": 64,
   "id": "f28edada",
   "metadata": {
    "id": "f28edada",
    "outputId": "81316915-50e2-4322-8be4-63814bcbb627",
    "scrolled": true
   },
   "outputs": [
    {
     "name": "stdout",
     "output_type": "stream",
     "text": [
      "first subject;Geography , second subject; Physics, are to be compiled\n"
     ]
    }
   ],
   "source": [
    "print(\"first subject;{x} , second subject; {y}, are to be compiled\".format(x = \"Geography\", y=\"Physics\"))"
   ]
  },
  {
   "cell_type": "markdown",
   "id": "d073eb5a",
   "metadata": {
    "id": "d073eb5a"
   },
   "source": [
    "### f-string\n",
    "it is newly introduced"
   ]
  },
  {
   "cell_type": "code",
   "execution_count": null,
   "id": "7e2a7b39",
   "metadata": {
    "id": "7e2a7b39",
    "outputId": "88c0b64f-603a-4d3d-95c8-815559af2b3d"
   },
   "outputs": [
    {
     "name": "stdout",
     "output_type": "stream",
     "text": [
      "this is the newly introducted\n"
     ]
    }
   ],
   "source": [
    "input1 = \"newly\"\n",
    "print(f\"this is the {input1} introducted\")"
   ]
  },
  {
   "cell_type": "code",
   "execution_count": 67,
   "id": "e253bf7f",
   "metadata": {},
   "outputs": [
    {
     "name": "stdout",
     "output_type": "stream",
     "text": [
      "The name of my teahcer is Ade. My best subject is Math\n"
     ]
    }
   ],
   "source": [
    "print(f\"The name of my teahcer is {'Ade'}. My best subject is {'Math'}\")"
   ]
  },
  {
   "cell_type": "markdown",
   "id": "8d4453bd",
   "metadata": {
    "id": "8d4453bd"
   },
   "source": [
    "### Class Activity\n",
    "Try printing “My name\\nIs\\nYourName” by writing it in between the parentheses of your print statement.Make sure to include the quotation marks (double or single quotes work the same)."
   ]
  },
  {
   "cell_type": "code",
   "execution_count": null,
   "id": "5fc71d67",
   "metadata": {},
   "outputs": [],
   "source": []
  },
  {
   "cell_type": "code",
   "execution_count": 68,
   "id": "a85b3c93",
   "metadata": {},
   "outputs": [
    {
     "name": "stdout",
     "output_type": "stream",
     "text": [
      "Please enter username: sam\n",
      "Please enter password: 3456\n",
      "Please enter your score: 99\n"
     ]
    }
   ],
   "source": [
    "\n",
    "\n",
    "username = str(input(\"Please enter username: \"))\n",
    "password = int(input(\"Please enter password: \"))\n",
    "score = int(input(\"Please enter your score: \"))\n",
    "\n"
   ]
  },
  {
   "cell_type": "code",
   "execution_count": 69,
   "id": "c62fc440",
   "metadata": {},
   "outputs": [
    {
     "name": "stdout",
     "output_type": "stream",
     "text": [
      "Welcome to Zacrac Learning sam Your score is 99\n"
     ]
    }
   ],
   "source": [
    "print(\"Welcome to Zacrac Learning {} Your score is {}\".format(username, score))"
   ]
  },
  {
   "cell_type": "code",
   "execution_count": 7,
   "id": "11c3889c",
   "metadata": {},
   "outputs": [
    {
     "name": "stdout",
     "output_type": "stream",
     "text": [
      "The area of your rectangle is 100cm²\n"
     ]
    }
   ],
   "source": [
    "print(\"The area of your rectangle is {}cm\\u00b2\".format(score))"
   ]
  },
  {
   "cell_type": "code",
   "execution_count": null,
   "id": "f382050f",
   "metadata": {},
   "outputs": [],
   "source": []
  }
 ],
 "metadata": {
  "colab": {
   "provenance": []
  },
  "kernelspec": {
   "display_name": "Python 3 (ipykernel)",
   "language": "python",
   "name": "python3"
  },
  "language_info": {
   "codemirror_mode": {
    "name": "ipython",
    "version": 3
   },
   "file_extension": ".py",
   "mimetype": "text/x-python",
   "name": "python",
   "nbconvert_exporter": "python",
   "pygments_lexer": "ipython3",
   "version": "3.9.13"
  }
 },
 "nbformat": 4,
 "nbformat_minor": 5
}
