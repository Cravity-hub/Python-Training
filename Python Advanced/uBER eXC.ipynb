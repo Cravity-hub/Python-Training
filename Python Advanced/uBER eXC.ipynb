{
 "cells": [
  {
   "cell_type": "markdown",
   "id": "49b334a6",
   "metadata": {},
   "source": [
    "# Uber Rides Analysis\n",
    "## Analysis of Personal Uber Rides from Jan to Dec 2016\n",
    "\n",
    "The fields contained in the dataset include start and stop tdate, start and end location, miles driven and purpose of drive. Purpose of drive include business, personal, meals, errands, meetings and customer support. In exploring the dataset some questions I looked to answer were:\n",
    "\n",
    "1. What month had the highest number of trips?\n",
    "2. What is the most popular Category/Purpose of trip?\n",
    "3. What was the highest duration spent on a trip?\n",
    "\n",
    "\n",
    "As well as whatever insights we can gather while exploring the dataset."
   ]
  },
  {
   "cell_type": "markdown",
   "id": "b0353e78",
   "metadata": {},
   "source": [
    "## Part One \n",
    "\n",
    "1. Load the dataset\n",
    "2. rename columns to acceptable standard\n",
    "3. check for missing values and replace missing values in purpose column with \"unknown\"\n",
    "4. Drop other missing values\n",
    "5. ensure columns' data types are consistent"
   ]
  },
  {
   "cell_type": "markdown",
   "id": "afb8e75a",
   "metadata": {},
   "source": [
    "## Part Two\n",
    "\n",
    "1. Extract the month, hour, and weekday from the start_date column\n",
    "2. Create a new column called duration with the difference between end_date and start_date\n",
    "3. Perform data analysis and Visualization \n",
    "4. Outline and summarise your findings\n",
    "5. Add conclusion and present your findings"
   ]
  },
  {
   "cell_type": "code",
   "execution_count": null,
   "id": "427a5d78",
   "metadata": {},
   "outputs": [],
   "source": []
  }
 ],
 "metadata": {
  "kernelspec": {
   "display_name": "Python 3 (ipykernel)",
   "language": "python",
   "name": "python3"
  },
  "language_info": {
   "codemirror_mode": {
    "name": "ipython",
    "version": 3
   },
   "file_extension": ".py",
   "mimetype": "text/x-python",
   "name": "python",
   "nbconvert_exporter": "python",
   "pygments_lexer": "ipython3",
   "version": "3.9.13"
  }
 },
 "nbformat": 4,
 "nbformat_minor": 5
}
