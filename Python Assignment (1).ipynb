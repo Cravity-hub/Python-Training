{
 "cells": [
  {
   "cell_type": "markdown",
   "id": "69c45c56",
   "metadata": {},
   "source": [
    "## Assignment on Strings and List in Python"
   ]
  },
  {
   "cell_type": "markdown",
   "id": "a38a9dcd",
   "metadata": {},
   "source": [
    "1. Count all letters, digits, and special symbols from the following string.\n",
    "\n",
    "   str1 =  plguhf@#$$%^^&&249785@%@#$^$&sdkahlfsdna"
   ]
  },
  {
   "cell_type": "code",
   "execution_count": null,
   "id": "ffa70ace",
   "metadata": {},
   "outputs": [],
   "source": []
  },
  {
   "cell_type": "markdown",
   "id": "94b54c03",
   "metadata": {},
   "source": [
    "2. Write a for loop combined with conditional statement to calculate the sum and average of the digits present in the string above."
   ]
  },
  {
   "cell_type": "code",
   "execution_count": null,
   "id": "c26236b5",
   "metadata": {},
   "outputs": [],
   "source": []
  },
  {
   "cell_type": "markdown",
   "id": "b68c5618",
   "metadata": {},
   "source": [
    "3. Reverse the order of the items in the following list\n",
    "\n",
    "      list1 = [100, 200, 300, 400, 500]"
   ]
  },
  {
   "cell_type": "code",
   "execution_count": null,
   "id": "9144559f",
   "metadata": {},
   "outputs": [],
   "source": []
  },
  {
   "cell_type": "markdown",
   "id": "73891135",
   "metadata": {},
   "source": [
    "4. Write a program to return the square of item in the list above. "
   ]
  },
  {
   "cell_type": "code",
   "execution_count": null,
   "id": "a5c2dbd1",
   "metadata": {},
   "outputs": [],
   "source": []
  },
  {
   "cell_type": "markdown",
   "id": "9b81e3ab",
   "metadata": {},
   "source": [
    "5. Given the list below, write a program to add 7000 after 6000. \n",
    "\n",
    "    list2 = [10, 20, [300, 400, [5000, 6000], 500], 20, 40]\n",
    "\n"
   ]
  },
  {
   "cell_type": "code",
   "execution_count": null,
   "id": "761c50fc",
   "metadata": {},
   "outputs": [],
   "source": []
  },
  {
   "cell_type": "markdown",
   "id": "edb2ac90",
   "metadata": {},
   "source": [
    "6. Extend the list above by adding the following sub-list after 7000\n",
    "\n",
    "        sub_list = [200,300,400,600]\n",
    "\n"
   ]
  },
  {
   "cell_type": "code",
   "execution_count": null,
   "id": "2fedcbcd",
   "metadata": {},
   "outputs": [],
   "source": []
  },
  {
   "cell_type": "markdown",
   "id": "f38d04bf",
   "metadata": {},
   "source": [
    "7. Given list2 above, write program to remove all occurence of 20. "
   ]
  },
  {
   "cell_type": "code",
   "execution_count": null,
   "id": "758476ba",
   "metadata": {},
   "outputs": [],
   "source": []
  }
 ],
 "metadata": {
  "kernelspec": {
   "display_name": "Python 3 (ipykernel)",
   "language": "python",
   "name": "python3"
  },
  "language_info": {
   "codemirror_mode": {
    "name": "ipython",
    "version": 3
   },
   "file_extension": ".py",
   "mimetype": "text/x-python",
   "name": "python",
   "nbconvert_exporter": "python",
   "pygments_lexer": "ipython3",
   "version": "3.9.13"
  }
 },
 "nbformat": 4,
 "nbformat_minor": 5
}
