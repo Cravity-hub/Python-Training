{
 "cells": [
  {
   "cell_type": "markdown",
   "id": "69c45c56",
   "metadata": {},
   "source": [
    "## Assignment on Strings and List in Python"
   ]
  },
  {
   "cell_type": "markdown",
   "id": "a38a9dcd",
   "metadata": {},
   "source": [
    "1. Count all letters, digits, and special symbols from the following string.\n",
    "\n",
    "   str1 =  plguhf@#$$%^^&&249785@%@#$^$&sdkahlfsdna"
   ]
  },
  {
   "cell_type": "code",
   "execution_count": null,
   "id": "ba7a6eb2",
   "metadata": {},
   "outputs": [],
   "source": []
  },
  {
   "cell_type": "markdown",
   "id": "94b54c03",
   "metadata": {},
   "source": [
    "2. Write a for loop combined with conditional statement to calculate the sum and average of the digits present in the string above."
   ]
  },
  {
   "cell_type": "code",
   "execution_count": null,
   "id": "881b731f",
   "metadata": {},
   "outputs": [],
   "source": []
  },
  {
   "cell_type": "markdown",
   "id": "b68c5618",
   "metadata": {},
   "source": [
    "3. Reverse the order of the items in the following list\n",
    "\n",
    "      list1 = [100, 200, 300, 400, 500]"
   ]
  },
  {
   "cell_type": "code",
   "execution_count": null,
   "id": "9144559f",
   "metadata": {},
   "outputs": [],
   "source": []
  },
  {
   "cell_type": "markdown",
   "id": "73891135",
   "metadata": {},
   "source": [
    "4. Write a program to return the square of item in the list above. "
   ]
  },
  {
   "cell_type": "code",
   "execution_count": null,
   "id": "a5c2dbd1",
   "metadata": {},
   "outputs": [],
   "source": []
  },
  {
   "cell_type": "markdown",
   "id": "9b81e3ab",
   "metadata": {},
   "source": [
    "5. Given the list below, write a program to add 7000 after 6000. \n",
    "\n",
    "    list2 = [10, 20, [300, 400, [5000, 6000], 500], 20, 40]\n",
    "\n"
   ]
  },
  {
   "cell_type": "code",
   "execution_count": null,
   "id": "761c50fc",
   "metadata": {},
   "outputs": [],
   "source": []
  },
  {
   "cell_type": "markdown",
   "id": "edb2ac90",
   "metadata": {},
   "source": [
    "6. Extend the list above by adding the following sub-list after 7000\n",
    "\n",
    "        sub_list = [200,300,400,600]\n",
    "\n"
   ]
  },
  {
   "cell_type": "code",
   "execution_count": null,
   "id": "2fedcbcd",
   "metadata": {},
   "outputs": [],
   "source": []
  },
  {
   "cell_type": "markdown",
   "id": "f38d04bf",
   "metadata": {},
   "source": [
    "7. Given list2 above, write program to remove all occurence of 20. "
   ]
  },
  {
   "cell_type": "code",
   "execution_count": null,
   "id": "758476ba",
   "metadata": {},
   "outputs": [],
   "source": []
  },
  {
   "cell_type": "markdown",
   "id": "f09a10d5",
   "metadata": {},
   "source": [
    "## Assignments on Loops and Conditional statements."
   ]
  },
  {
   "cell_type": "markdown",
   "id": "ec685207",
   "metadata": {},
   "source": [
    "### Max of three\n",
    "\n",
    "Write a program that takes three variables as input, and returns the largest of the three. Do this without using the Python max() function!"
   ]
  },
  {
   "cell_type": "code",
   "execution_count": null,
   "id": "a8ed34e4",
   "metadata": {},
   "outputs": [],
   "source": []
  },
  {
   "cell_type": "markdown",
   "id": "37aac7f2",
   "metadata": {},
   "source": [
    "### Reverse word order\n",
    "\n",
    "Write a program that asks the user for a long string containing multiple words. Print back to the user the same string, except with the WORDS (NOT LETTERS) in reverse order."
   ]
  },
  {
   "cell_type": "code",
   "execution_count": null,
   "id": "718b15ae",
   "metadata": {},
   "outputs": [],
   "source": []
  },
  {
   "cell_type": "markdown",
   "id": "2cf08b3e",
   "metadata": {},
   "source": [
    "### List Less Than Ten\n",
    "\n",
    "Take a list, say for example this one:\n",
    "\n",
    "  a = [1, 10, 2, 30, 5, 8, 13, 21, 4, 55, 89]\n",
    "  \n",
    "and write a program that prints out all the elements of the list that are less than 10.\n",
    "\n",
    "Extra:\n",
    "\n",
    "Instead of printing the elements one by one, make a new list that has all the elements less than 5 from this list in it and print out this new list."
   ]
  },
  {
   "cell_type": "code",
   "execution_count": null,
   "id": "039a69a3",
   "metadata": {},
   "outputs": [],
   "source": []
  },
  {
   "cell_type": "markdown",
   "id": "851edaeb",
   "metadata": {},
   "source": [
    "### Display numbers from a list using loop\n",
    "Write a program to display only those numbers from a list that satisfy the following conditions\n",
    "\n",
    "The number must be divisible by five\n",
    "If the number is greater than 150, then skip it and move to the next number\n",
    "If the number is greater than 500, then stop the loop\n",
    "Given:\n",
    "\n",
    "numbers = [12, 75, 150, 180, 145, 525, 50]"
   ]
  },
  {
   "cell_type": "code",
   "execution_count": null,
   "id": "b249caff",
   "metadata": {},
   "outputs": [],
   "source": []
  },
  {
   "cell_type": "markdown",
   "id": "2d18fdd0",
   "metadata": {},
   "source": [
    "### Count the total number of digits in a number\n",
    "Write a program to count the total number of digits in a number using a while loop.\n",
    "\n",
    "For example, the number is 75869, so the output should be 5."
   ]
  },
  {
   "cell_type": "code",
   "execution_count": null,
   "id": "adedaa65",
   "metadata": {},
   "outputs": [],
   "source": []
  },
  {
   "cell_type": "markdown",
   "id": "ca6297d9",
   "metadata": {},
   "source": [
    "### Write a program to display all prime numbers within a range\n",
    "\n",
    "Note: A Prime Number is a number that cannot be made by multiplying other whole numbers. A prime number is a natural number greater than 1 that is not a product of two smaller natural numbers."
   ]
  },
  {
   "cell_type": "code",
   "execution_count": null,
   "id": "8504d630",
   "metadata": {},
   "outputs": [],
   "source": []
  }
 ],
 "metadata": {
  "kernelspec": {
   "display_name": "Python 3 (ipykernel)",
   "language": "python",
   "name": "python3"
  },
  "language_info": {
   "codemirror_mode": {
    "name": "ipython",
    "version": 3
   },
   "file_extension": ".py",
   "mimetype": "text/x-python",
   "name": "python",
   "nbconvert_exporter": "python",
   "pygments_lexer": "ipython3",
   "version": "3.9.13"
  }
 },
 "nbformat": 4,
 "nbformat_minor": 5
}
