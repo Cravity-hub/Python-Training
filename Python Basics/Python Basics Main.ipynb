{
 "cells": [
  {
   "cell_type": "markdown",
   "id": "f71a1790",
   "metadata": {},
   "source": [
    "# My First Notebook\n",
    "\n",
    "This is my first python class and here's  my first jupyter notebook. \n",
    "\n",
    "###### My First Notebook"
   ]
  },
  {
   "cell_type": "markdown",
   "id": "d59573cc",
   "metadata": {},
   "source": [
    "## Basic Python Syntax\n",
    "\n",
    "1. Comments in python\n",
    "\n",
    "A comment is a line of text in a python code cell. It is used to explain a block of code.\n",
    "\n",
    "We write a comment by begininning with '#' symbol.\n",
    "\n",
    "2. Statements\n",
    "3. Indentation\n",
    "4. Case sensitivity\n",
    "5. Keywords\n",
    "6. identifiers"
   ]
  },
  {
   "cell_type": "code",
   "execution_count": 4,
   "id": "b9d7b5fd",
   "metadata": {},
   "outputs": [
    {
     "data": {
      "text/plain": [
       "'python programming'"
      ]
     },
     "execution_count": 4,
     "metadata": {},
     "output_type": "execute_result"
    }
   ],
   "source": [
    "x = \"python programming\"\n",
    "x"
   ]
  },
  {
   "cell_type": "code",
   "execution_count": 2,
   "id": "6422090c",
   "metadata": {},
   "outputs": [
    {
     "ename": "IndentationError",
     "evalue": "expected an indented block (1525541476.py, line 5)",
     "output_type": "error",
     "traceback": [
      "\u001b[1;36m  File \u001b[1;32m\"C:\\Users\\TORITSEJU\\AppData\\Local\\Temp\\ipykernel_12884\\1525541476.py\"\u001b[1;36m, line \u001b[1;32m5\u001b[0m\n\u001b[1;33m    print(i)\u001b[0m\n\u001b[1;37m    ^\u001b[0m\n\u001b[1;31mIndentationError\u001b[0m\u001b[1;31m:\u001b[0m expected an indented block\n"
     ]
    }
   ],
   "source": [
    "# indentation is used to specify the body of a block of code. \n",
    "#it cannot contiunue...\n",
    "\n",
    "for i in range(5):\n",
    "    print(i)\n",
    "    \n"
   ]
  },
  {
   "cell_type": "code",
   "execution_count": null,
   "id": "d9fa6125",
   "metadata": {},
   "outputs": [],
   "source": [
    "\n",
    "Examples of keywords in python\n",
    "\n",
    "def \n",
    "in \n",
    "is\n",
    "and\n",
    "or\n",
    "while\n",
    "list\n",
    "type\n",
    "round\n",
    "len\n",
    "set\n"
   ]
  },
  {
   "cell_type": "code",
   "execution_count": null,
   "id": "f39d0925",
   "metadata": {},
   "outputs": [],
   "source": [
    "#This is a comment.\n",
    "#This is another comment.  \n",
    "\n",
    "\n"
   ]
  },
  {
   "cell_type": "markdown",
   "id": "6865da9d",
   "metadata": {},
   "source": [
    "#### Data types in python\n",
    "\n",
    "1. integers (int)\n",
    "2. floats (f/ decimal)\n",
    "3. boolean (True(1)/False(0), bool)\n",
    "4. string (alphanumeric and special characters)\n",
    "5. complex numbers\n",
    "\n",
    "\n",
    "\n",
    "### Use the type() function to check for datatype"
   ]
  },
  {
   "cell_type": "code",
   "execution_count": 4,
   "id": "5d8ad1cf",
   "metadata": {},
   "outputs": [
    {
     "data": {
      "text/plain": [
       "int"
      ]
     },
     "execution_count": 4,
     "metadata": {},
     "output_type": "execute_result"
    }
   ],
   "source": [
    "15\n",
    "type(15)"
   ]
  },
  {
   "cell_type": "code",
   "execution_count": 5,
   "id": "f90ad14f",
   "metadata": {},
   "outputs": [
    {
     "data": {
      "text/plain": [
       "float"
      ]
     },
     "execution_count": 5,
     "metadata": {},
     "output_type": "execute_result"
    }
   ],
   "source": [
    "5.25\n",
    "type(5.25)"
   ]
  },
  {
   "cell_type": "code",
   "execution_count": 6,
   "id": "57fda81e",
   "metadata": {},
   "outputs": [
    {
     "data": {
      "text/plain": [
       "bool"
      ]
     },
     "execution_count": 6,
     "metadata": {},
     "output_type": "execute_result"
    }
   ],
   "source": [
    "type(True)"
   ]
  },
  {
   "cell_type": "code",
   "execution_count": 7,
   "id": "c3c94b8a",
   "metadata": {},
   "outputs": [
    {
     "data": {
      "text/plain": [
       "bool"
      ]
     },
     "execution_count": 7,
     "metadata": {},
     "output_type": "execute_result"
    }
   ],
   "source": [
    "type(False)"
   ]
  },
  {
   "cell_type": "code",
   "execution_count": 8,
   "id": "1fa6810b",
   "metadata": {},
   "outputs": [
    {
     "data": {
      "text/plain": [
       "False"
      ]
     },
     "execution_count": 8,
     "metadata": {},
     "output_type": "execute_result"
    }
   ],
   "source": [
    "2<0"
   ]
  },
  {
   "cell_type": "code",
   "execution_count": 10,
   "id": "43348e51",
   "metadata": {},
   "outputs": [
    {
     "name": "stdout",
     "output_type": "stream",
     "text": [
      "<class 'str'>\n"
     ]
    },
    {
     "data": {
      "text/plain": [
       "False"
      ]
     },
     "execution_count": 10,
     "metadata": {},
     "output_type": "execute_result"
    }
   ],
   "source": [
    "6/2\n",
    "print(type(\"python 2023\"))\n",
    "True\n",
    "False"
   ]
  },
  {
   "cell_type": "markdown",
   "id": "b9932a81",
   "metadata": {},
   "source": [
    "### Strings\n",
    "\n",
    "#### Strings are python's way of storing alphanumeric and special characters"
   ]
  },
  {
   "cell_type": "code",
   "execution_count": 9,
   "id": "56d1bed1",
   "metadata": {},
   "outputs": [
    {
     "name": "stdout",
     "output_type": "stream",
     "text": [
      "This is Joy's first notebook\n"
     ]
    },
    {
     "data": {
      "text/plain": [
       "str"
      ]
     },
     "execution_count": 9,
     "metadata": {},
     "output_type": "execute_result"
    }
   ],
   "source": [
    "\"This is Joy's first notebook\"\n",
    "\n",
    "type(\"This is my first notebook\")"
   ]
  },
  {
   "cell_type": "code",
   "execution_count": null,
   "id": "6972b269",
   "metadata": {},
   "outputs": [],
   "source": [
    "print(\"I have 20 friends\")"
   ]
  },
  {
   "cell_type": "code",
   "execution_count": null,
   "id": "566348cc",
   "metadata": {},
   "outputs": [],
   "source": [
    "\"python 2023\""
   ]
  },
  {
   "cell_type": "code",
   "execution_count": null,
   "id": "6fe86f28",
   "metadata": {},
   "outputs": [],
   "source": [
    "\" \""
   ]
  },
  {
   "cell_type": "code",
   "execution_count": null,
   "id": "9904dc50",
   "metadata": {},
   "outputs": [],
   "source": [
    "True"
   ]
  },
  {
   "cell_type": "code",
   "execution_count": null,
   "id": "2dabe5c6",
   "metadata": {},
   "outputs": [],
   "source": [
    "False"
   ]
  },
  {
   "cell_type": "markdown",
   "id": "c5193720",
   "metadata": {},
   "source": [
    "#### print function"
   ]
  },
  {
   "cell_type": "code",
   "execution_count": 10,
   "id": "ab798ef3",
   "metadata": {},
   "outputs": [
    {
     "name": "stdout",
     "output_type": "stream",
     "text": [
      "3.0\n",
      "python 2023\n",
      "True\n",
      "False\n",
      "140\n"
     ]
    }
   ],
   "source": [
    "print(6/2)\n",
    "\n",
    "print(\"python 2023\")\n",
    "\n",
    "print(True)\n",
    "\n",
    "print(False)\n",
    "\n",
    "print(35*4)"
   ]
  },
  {
   "cell_type": "code",
   "execution_count": 11,
   "id": "f9baa8b7",
   "metadata": {},
   "outputs": [
    {
     "name": "stdout",
     "output_type": "stream",
     "text": [
      "3.0 and python 2023 and True\n",
      " ------------------------------------ \n",
      "False\n",
      "140\n"
     ]
    }
   ],
   "source": [
    "# adding sep and end arguments to your print function.\n",
    "\n",
    "print(6/2, \"python 2023\", True, sep = \" and \", end = \"\\n ------------------------------------ \\n\")\n",
    "\n",
    "print(False)\n",
    "\n",
    "print(35*4)"
   ]
  },
  {
   "cell_type": "markdown",
   "id": "e69f8567",
   "metadata": {},
   "source": [
    "#### Activity 1 : Print a string that says: Hello World\n",
    "\n",
    "#### Activity 1.b : Print another string of your own choice.\n",
    "\n",
    "#### Activity 1.c : Change the default end argument to a value of your choice."
   ]
  },
  {
   "cell_type": "code",
   "execution_count": null,
   "id": "bb43dc48",
   "metadata": {},
   "outputs": [],
   "source": []
  },
  {
   "cell_type": "markdown",
   "id": "9524081a",
   "metadata": {},
   "source": [
    "### Variables \n",
    "\n",
    "Varaibles are containers for storing data. Data can be of any type. \n",
    "\n",
    "We create variables by assgining the variable name to the data using the (=) sign."
   ]
  },
  {
   "cell_type": "code",
   "execution_count": 12,
   "id": "0a1b66d3",
   "metadata": {},
   "outputs": [
    {
     "data": {
      "text/plain": [
       "'I have 15 friends'"
      ]
     },
     "execution_count": 12,
     "metadata": {},
     "output_type": "execute_result"
    }
   ],
   "source": [
    "a = \"I have 15 friends\"\n",
    "a"
   ]
  },
  {
   "cell_type": "code",
   "execution_count": 21,
   "id": "b647bbe4",
   "metadata": {},
   "outputs": [
    {
     "name": "stdout",
     "output_type": "stream",
     "text": [
      "I have 15 friends\n"
     ]
    }
   ],
   "source": [
    "print(a)"
   ]
  },
  {
   "cell_type": "code",
   "execution_count": 24,
   "id": "21473dde",
   "metadata": {},
   "outputs": [],
   "source": [
    "#example of creating a variable\n",
    "\n",
    "my_score = 95"
   ]
  },
  {
   "cell_type": "code",
   "execution_count": 25,
   "id": "5997f56b",
   "metadata": {},
   "outputs": [
    {
     "data": {
      "text/plain": [
       "95"
      ]
     },
     "execution_count": 25,
     "metadata": {},
     "output_type": "execute_result"
    }
   ],
   "source": [
    "my_score"
   ]
  },
  {
   "cell_type": "code",
   "execution_count": 13,
   "id": "568c436c",
   "metadata": {},
   "outputs": [],
   "source": [
    "a = 35"
   ]
  },
  {
   "cell_type": "markdown",
   "id": "2677eeb9",
   "metadata": {},
   "source": [
    "#### Variables Naming Conventions\n",
    "\n",
    "1. Variable names cannot begin with numbers or other special characters.\n",
    "2. Python keywords cannot be used as variable names. Keywords are special words reserved for python's use. \n",
    "3. Variable names can begin with an underscore(_) \n",
    "4. Variable names can contain up to 255 characters. \n",
    "5. Variable names must not contain spaces\n",
    " \n",
    "#### Best Practices for Naming Variables\n",
    "\n",
    "1. Do not begin with underscore.\n",
    "2. All alphabets should be in lower case.\n",
    "3. Separate words using underscore. This makes it more readable. "
   ]
  },
  {
   "cell_type": "code",
   "execution_count": 33,
   "id": "750acd8c",
   "metadata": {},
   "outputs": [],
   "source": [
    "thisIsApythonString = \"python 2023\"\n"
   ]
  },
  {
   "cell_type": "code",
   "execution_count": null,
   "id": "37404124",
   "metadata": {},
   "outputs": [],
   "source": [
    "_R = \"Ruth is a pretty lady\""
   ]
  },
  {
   "cell_type": "code",
   "execution_count": null,
   "id": "54ac6d6b",
   "metadata": {},
   "outputs": [],
   "source": [
    "print(_R)"
   ]
  },
  {
   "cell_type": "code",
   "execution_count": 35,
   "id": "63639765",
   "metadata": {},
   "outputs": [],
   "source": [
    "shoes_price_dollars = 150"
   ]
  },
  {
   "cell_type": "code",
   "execution_count": null,
   "id": "c2014fb2",
   "metadata": {},
   "outputs": [],
   "source": [
    "shoes_price_dollars"
   ]
  },
  {
   "cell_type": "markdown",
   "id": "074f977e",
   "metadata": {},
   "source": [
    "#### Activity 2: Create four variables with integer, float, string and boolean data types. "
   ]
  },
  {
   "cell_type": "markdown",
   "id": "7ec7f69a",
   "metadata": {},
   "source": [
    "#### Multiple Assignments of Variables\n",
    "You can assign values to multiple variables at once - in one line of code. "
   ]
  },
  {
   "cell_type": "code",
   "execution_count": 15,
   "id": "238dfc7f",
   "metadata": {},
   "outputs": [
    {
     "name": "stdout",
     "output_type": "stream",
     "text": [
      "20\n",
      " --------------------------------------\n",
      "3.142\n",
      "area \n",
      "20\n",
      " --------------------------------------\n",
      "3.142\n",
      " --------------------------------------\n",
      "area \n"
     ]
    }
   ],
   "source": [
    "#example of multiple assignments\n",
    "\n",
    "x,y,z = 20,3.142,\"area \"\n",
    "\n",
    "\n",
    "print(x, end='\\n --------------------------------------\\n')\n",
    "print(y)\n",
    "print(z)\n",
    "print(x,y,z, sep='\\n --------------------------------------\\n') #another way to use the print function"
   ]
  },
  {
   "cell_type": "code",
   "execution_count": null,
   "id": "9fc54f02",
   "metadata": {},
   "outputs": [],
   "source": [
    "#y = x\n",
    "\n",
    "print(x,y)"
   ]
  },
  {
   "cell_type": "code",
   "execution_count": 61,
   "id": "a18a4e6c",
   "metadata": {},
   "outputs": [
    {
     "name": "stdout",
     "output_type": "stream",
     "text": [
      "10\n",
      "10\n"
     ]
    }
   ],
   "source": [
    "print(x)\n",
    "\n",
    "#x = 10\n",
    "\n",
    "print(x)"
   ]
  },
  {
   "cell_type": "markdown",
   "id": "cdeff212",
   "metadata": {},
   "source": [
    "#### We can perform operations using variables"
   ]
  },
  {
   "cell_type": "code",
   "execution_count": 64,
   "id": "4101c520",
   "metadata": {},
   "outputs": [
    {
     "name": "stdout",
     "output_type": "stream",
     "text": [
      "62.839999999999996\n"
     ]
    }
   ],
   "source": [
    "a = x*y\n",
    "\n",
    "print(a)"
   ]
  },
  {
   "cell_type": "code",
   "execution_count": 66,
   "id": "5164d917",
   "metadata": {},
   "outputs": [
    {
     "name": "stdout",
     "output_type": "stream",
     "text": [
      "The  area  is  62.839999999999996\n",
      "The area is  62.839999999999996\n"
     ]
    }
   ],
   "source": [
    "b = \"The \"\n",
    "c = \"is \"\n",
    "result = b + z + c\n",
    "print(b,z,c,a)\n",
    "\n",
    "#another way to print\n",
    "\n",
    "print(result, a)"
   ]
  },
  {
   "cell_type": "markdown",
   "id": "03f8ad2d",
   "metadata": {},
   "source": [
    "#### Activity 3: Create a variable that calculates the speed of a train. Print the output with the message \"Your train's speed is: train_speed\""
   ]
  },
  {
   "cell_type": "markdown",
   "id": "6b5518bc",
   "metadata": {},
   "source": [
    "### Casting\n",
    "\n",
    "Casting is a way of changing the data type of a variable. \n",
    "\n",
    "This can be done using the data type's constructor.\n",
    "\n",
    "\n",
    "1. string    = str()\n",
    "2. integer   = int()\n",
    "3. float     = float()\n",
    "4. complex   = complex()\n",
    "5. boolean   = bool()\n",
    "\n",
    "\n",
    "Sequence Types\n",
    "\n",
    "1. lists   = list()\n",
    "2. tuples  = tuple()\n",
    "3. sets    = set()\n",
    "4. dictionaries = dict()"
   ]
  },
  {
   "cell_type": "code",
   "execution_count": 2,
   "id": "cc1d472f",
   "metadata": {},
   "outputs": [],
   "source": [
    "x,y,z = 20,3.142,\"area \""
   ]
  },
  {
   "cell_type": "code",
   "execution_count": 16,
   "id": "e5c8a156",
   "metadata": {},
   "outputs": [
    {
     "name": "stdout",
     "output_type": "stream",
     "text": [
      "20\n",
      "<class 'str'>\n"
     ]
    }
   ],
   "source": [
    "print(x)\n",
    "\n",
    "x = str(x)\n",
    "\n",
    "print(x)"
   ]
  },
  {
   "cell_type": "code",
   "execution_count": 30,
   "id": "f501ff9e",
   "metadata": {},
   "outputs": [
    {
     "data": {
      "text/plain": [
       "set"
      ]
     },
     "execution_count": 30,
     "metadata": {},
     "output_type": "execute_result"
    }
   ],
   "source": [
    "x = {20,False,40, 'Dogs'}\n",
    "type(x)"
   ]
  },
  {
   "cell_type": "code",
   "execution_count": 4,
   "id": "96f4b015",
   "metadata": {},
   "outputs": [
    {
     "data": {
      "text/plain": [
       "str"
      ]
     },
     "execution_count": 4,
     "metadata": {},
     "output_type": "execute_result"
    }
   ],
   "source": [
    "type(x)"
   ]
  },
  {
   "cell_type": "markdown",
   "id": "d7c8bfcd",
   "metadata": {},
   "source": [
    "#### Use the type() function to get the data type of variables"
   ]
  },
  {
   "cell_type": "code",
   "execution_count": 11,
   "id": "9cbcbe7b",
   "metadata": {},
   "outputs": [
    {
     "name": "stdout",
     "output_type": "stream",
     "text": [
      "<class 'int'>\n"
     ]
    }
   ],
   "source": [
    "x = int(x)\n",
    "\n",
    "print(type(x))"
   ]
  },
  {
   "cell_type": "code",
   "execution_count": 1,
   "id": "4c64b204",
   "metadata": {},
   "outputs": [
    {
     "name": "stdout",
     "output_type": "stream",
     "text": [
      "<class 'complex'> (25+10j)\n",
      "<class 'int'>\n"
     ]
    }
   ],
   "source": [
    "int_1 = 25\n",
    "\n",
    "comp_num = complex(int_1)\n",
    "\n",
    "print(type(comp_num), comp_num)\n",
    "print(type(int_1))"
   ]
  },
  {
   "cell_type": "code",
   "execution_count": 15,
   "id": "62b83256",
   "metadata": {},
   "outputs": [
    {
     "name": "stdout",
     "output_type": "stream",
     "text": [
      "True\n"
     ]
    }
   ],
   "source": [
    "my_bool = bool(int_1)\n",
    "\n",
    "print(my_bool)"
   ]
  },
  {
   "cell_type": "code",
   "execution_count": 16,
   "id": "4a298b4e",
   "metadata": {},
   "outputs": [
    {
     "name": "stdout",
     "output_type": "stream",
     "text": [
      "True\n"
     ]
    }
   ],
   "source": [
    "my_bool = bool(comp_num)\n",
    "\n",
    "print(my_bool)"
   ]
  },
  {
   "cell_type": "code",
   "execution_count": 21,
   "id": "f5de1cf3",
   "metadata": {},
   "outputs": [],
   "source": [
    "my_bool = False - True"
   ]
  },
  {
   "cell_type": "code",
   "execution_count": 22,
   "id": "8354d056",
   "metadata": {},
   "outputs": [
    {
     "data": {
      "text/plain": [
       "-1"
      ]
     },
     "execution_count": 22,
     "metadata": {},
     "output_type": "execute_result"
    }
   ],
   "source": [
    "my_bool"
   ]
  },
  {
   "cell_type": "markdown",
   "id": "c8a69d1c",
   "metadata": {},
   "source": [
    "### Operators \n",
    "\n",
    "##### Types of Opeartors\n",
    "\n",
    "1. Arithmetic Operators\n",
    "2. Assignment Operators\n",
    "3. Comparison Operators\n",
    "4. Logical Operators\n",
    "5. Identity Operators \n",
    "6. Membership Operators"
   ]
  },
  {
   "cell_type": "markdown",
   "id": "9387a5cc",
   "metadata": {},
   "source": [
    "#### Arithmetic Operators\n",
    "\n",
    "1. addition (+)\n",
    "2. subtraction (-)\n",
    "3. multiplication (*)\n",
    "4. division (/)\n",
    "5. Exponentiation (**)\n",
    "6. Modulus (%)\n",
    "7. Floor division (//)"
   ]
  },
  {
   "cell_type": "markdown",
   "id": "5905c7b2",
   "metadata": {},
   "source": [
    "##### Floor division \n"
   ]
  },
  {
   "cell_type": "code",
   "execution_count": 31,
   "id": "81b965d2",
   "metadata": {},
   "outputs": [
    {
     "name": "stdout",
     "output_type": "stream",
     "text": [
      "5.6\n",
      "Result of floor divison is: 5\n"
     ]
    }
   ],
   "source": [
    "p = 28/5\n",
    "\n",
    "#floor division\n",
    "\n",
    "q = 28//5\n",
    "\n",
    "\n",
    "print(p)\n",
    "print(\"Result of floor divison is:\", q)"
   ]
  },
  {
   "cell_type": "markdown",
   "id": "ee2b735e",
   "metadata": {},
   "source": [
    "##### Modulus\n"
   ]
  },
  {
   "cell_type": "code",
   "execution_count": 32,
   "id": "a1d8a248",
   "metadata": {},
   "outputs": [
    {
     "name": "stdout",
     "output_type": "stream",
     "text": [
      "7.428571428571429\n",
      "Result of modulus is: 3\n"
     ]
    }
   ],
   "source": [
    "r = 52/7\n",
    "\n",
    "#Modulus\n",
    "\n",
    "s = 52%7\n",
    "\n",
    "print(r)\n",
    "print(\"Result of modulus is:\", s)"
   ]
  },
  {
   "cell_type": "markdown",
   "id": "6aba0010",
   "metadata": {},
   "source": [
    "##### Exponentiation "
   ]
  },
  {
   "cell_type": "code",
   "execution_count": 36,
   "id": "6aed0d2b",
   "metadata": {},
   "outputs": [
    {
     "name": "stdout",
     "output_type": "stream",
     "text": [
      "5 3\n",
      "125\n"
     ]
    }
   ],
   "source": [
    "print(q,s)\n",
    "\n",
    "\n",
    "#to raise q to power s...\n",
    "t = q**s \n",
    "\n",
    "print(t)"
   ]
  },
  {
   "cell_type": "markdown",
   "id": "5bbdb065",
   "metadata": {},
   "source": [
    "#### Activity 4: Find the value of the floor division of force and area to the power of three. \n",
    "If: \n",
    "force = 200\n",
    "area = 13 \n",
    "\n",
    "#### print the result as: The pressure is: _pressure_"
   ]
  },
  {
   "cell_type": "code",
   "execution_count": 37,
   "id": "7eb1675b",
   "metadata": {},
   "outputs": [
    {
     "name": "stdout",
     "output_type": "stream",
     "text": [
      "The pressure is: 3375\n"
     ]
    }
   ],
   "source": [
    "force = 200\n",
    "area = 13\n",
    "\n",
    "pressure = (force//area)**3\n",
    "\n",
    "\n",
    "print(\"The pressure is:\", pressure)"
   ]
  },
  {
   "cell_type": "markdown",
   "id": "e4e82f55",
   "metadata": {},
   "source": [
    "### Precedence\n",
    "\n",
    "Precedence is the order in which python opoerations are performed. \n",
    "\n",
    "Python follows the following order in executing arithmetic operations. They're in descending order. \n",
    "\n",
    "* Parenthesis\n",
    "* Exponenents\n",
    "* Multiplication\n",
    "* Division\n",
    "* Addition \n",
    "* Subtraction"
   ]
  },
  {
   "cell_type": "code",
   "execution_count": 38,
   "id": "5b0d2f57",
   "metadata": {},
   "outputs": [
    {
     "name": "stdout",
     "output_type": "stream",
     "text": [
      "0\n",
      "6\n"
     ]
    }
   ],
   "source": [
    "# example!\n",
    "\n",
    "print((6+3) - (6+3))\n",
    "print(6+3-6+3)"
   ]
  },
  {
   "cell_type": "code",
   "execution_count": null,
   "id": "dc13ac69",
   "metadata": {},
   "outputs": [],
   "source": [
    "print(100+5*3)"
   ]
  },
  {
   "cell_type": "markdown",
   "id": "f25aa30f",
   "metadata": {},
   "source": [
    "### Activity: Find the value of 25 raised to the power of 2 plus 10, multiplied by 75 divided by 15. "
   ]
  },
  {
   "cell_type": "code",
   "execution_count": 39,
   "id": "1254a04f",
   "metadata": {},
   "outputs": [
    {
     "name": "stdout",
     "output_type": "stream",
     "text": [
      "3175.0\n"
     ]
    }
   ],
   "source": [
    "print((25**2 + 10)*75/15)"
   ]
  },
  {
   "cell_type": "markdown",
   "id": "438abf50",
   "metadata": {},
   "source": [
    "### Assignment Operators\n",
    "Assignment operators are used to assign values to variables:\n",
    "\n",
    "They include the following\n",
    "\n",
    "* Equal (=)\n",
    "* +=\n",
    "* -=\n",
    "* *=\n",
    "* /=\n",
    "* %=\n",
    "* //=\n",
    "* **="
   ]
  },
  {
   "cell_type": "code",
   "execution_count": 2,
   "id": "102428a2",
   "metadata": {
    "collapsed": true
   },
   "outputs": [
    {
     "ename": "NameError",
     "evalue": "name 'var_new' is not defined",
     "output_type": "error",
     "traceback": [
      "\u001b[1;31m---------------------------------------------------------------------------\u001b[0m",
      "\u001b[1;31mNameError\u001b[0m                                 Traceback (most recent call last)",
      "\u001b[1;32m~\\AppData\\Local\\Temp\\ipykernel_15600\\1330277476.py\u001b[0m in \u001b[0;36m<module>\u001b[1;34m\u001b[0m\n\u001b[1;32m----> 1\u001b[1;33m \u001b[0mvar_new\u001b[0m \u001b[1;33m+=\u001b[0m\u001b[1;36m200\u001b[0m\u001b[1;33m\u001b[0m\u001b[1;33m\u001b[0m\u001b[0m\n\u001b[0m\u001b[0;32m      2\u001b[0m \u001b[0mvar_new\u001b[0m\u001b[1;33m\u001b[0m\u001b[1;33m\u001b[0m\u001b[0m\n",
      "\u001b[1;31mNameError\u001b[0m: name 'var_new' is not defined"
     ]
    }
   ],
   "source": [
    "var_new +=200\n",
    "var_new"
   ]
  },
  {
   "cell_type": "code",
   "execution_count": 7,
   "id": "b3f7d74b",
   "metadata": {},
   "outputs": [
    {
     "name": "stdout",
     "output_type": "stream",
     "text": [
      "7\n",
      "21\n"
     ]
    }
   ],
   "source": [
    "x = 5\n",
    "\n",
    "x += 2\n",
    "\n",
    "#x = x +2\n",
    "\n",
    "print(x)\n",
    "\n",
    "y = 14\n",
    "\n",
    "x += y\n",
    "\n",
    "print(x)"
   ]
  },
  {
   "cell_type": "code",
   "execution_count": 8,
   "id": "8e010806",
   "metadata": {},
   "outputs": [],
   "source": [
    "x += y"
   ]
  },
  {
   "cell_type": "code",
   "execution_count": 9,
   "id": "3cfe8b03",
   "metadata": {},
   "outputs": [
    {
     "name": "stdout",
     "output_type": "stream",
     "text": [
      "2\n"
     ]
    }
   ],
   "source": [
    "y %= 3\n",
    "\n",
    "print(y)"
   ]
  },
  {
   "cell_type": "code",
   "execution_count": 10,
   "id": "7629e94e",
   "metadata": {},
   "outputs": [
    {
     "name": "stdout",
     "output_type": "stream",
     "text": [
      "7\n"
     ]
    }
   ],
   "source": [
    "x //= 5\n",
    "\n",
    "print(x)"
   ]
  },
  {
   "cell_type": "code",
   "execution_count": 11,
   "id": "ab3cc2c1",
   "metadata": {},
   "outputs": [
    {
     "data": {
      "text/plain": [
       "2"
      ]
     },
     "execution_count": 11,
     "metadata": {},
     "output_type": "execute_result"
    }
   ],
   "source": [
    "y"
   ]
  },
  {
   "cell_type": "code",
   "execution_count": 12,
   "id": "ea6110e0",
   "metadata": {},
   "outputs": [
    {
     "name": "stdout",
     "output_type": "stream",
     "text": [
      "4\n"
     ]
    }
   ],
   "source": [
    "str1 = \"my dog's name is brian\"\n",
    "count = 0\n",
    "\n",
    "for char in str1:\n",
    "    if char == \" \":\n",
    "        count += 1\n",
    "        \n",
    "print(count)"
   ]
  },
  {
   "cell_type": "markdown",
   "id": "7ba93275",
   "metadata": {},
   "source": [
    "### Comparison Operators\n",
    "Comparison operators are used to compare two values:\n",
    "\n",
    "* ==  Is Equal\n",
    "* != Not equal\n",
    "* <>  less than or Greater than\n",
    "* <= Less than or Equal to \n",
    "* (>=) Greater than or equal to \n",
    "\n",
    "The result of comparison operations is usually boolean."
   ]
  },
  {
   "cell_type": "code",
   "execution_count": 13,
   "id": "83a0ed5c",
   "metadata": {},
   "outputs": [
    {
     "name": "stdout",
     "output_type": "stream",
     "text": [
      "7\n",
      "2\n"
     ]
    }
   ],
   "source": [
    "# Examples \n",
    "\n",
    "print(x)\n",
    "print(y)\n",
    "\n"
   ]
  },
  {
   "cell_type": "code",
   "execution_count": 14,
   "id": "99f3bd38",
   "metadata": {},
   "outputs": [
    {
     "name": "stdout",
     "output_type": "stream",
     "text": [
      "False\n",
      "True\n",
      "True\n",
      "False\n",
      "False\n"
     ]
    }
   ],
   "source": [
    "print(x==y)\n",
    "print(y!=x)\n",
    "print(x>y)\n",
    "print(y>x)\n",
    "print(x<=y)"
   ]
  },
  {
   "cell_type": "code",
   "execution_count": 15,
   "id": "07fc2991",
   "metadata": {},
   "outputs": [
    {
     "name": "stdout",
     "output_type": "stream",
     "text": [
      "False\n",
      "True\n"
     ]
    }
   ],
   "source": [
    "str_x = \"Dog\"\n",
    "\n",
    "str_y = \"dog\"\n",
    "\n",
    "print(str_x == str_y)\n",
    "print(str_x < str_y)"
   ]
  },
  {
   "cell_type": "code",
   "execution_count": 16,
   "id": "78ce872c",
   "metadata": {},
   "outputs": [
    {
     "data": {
      "text/plain": [
       "True"
      ]
     },
     "execution_count": 16,
     "metadata": {},
     "output_type": "execute_result"
    }
   ],
   "source": [
    "True == 1"
   ]
  },
  {
   "cell_type": "markdown",
   "id": "ca96381e",
   "metadata": {},
   "source": [
    "### Logical Operators\n",
    "Logical operators are used to combine conditional statements.\n",
    "Logical operators include:\n",
    "\n",
    "* and: It retuns True if both statements are true\n",
    "* or:  It retuns True if one of the statements is true \n",
    "* not: It reverses the result of the logical statement.\n"
   ]
  },
  {
   "cell_type": "code",
   "execution_count": 17,
   "id": "6c65c625",
   "metadata": {},
   "outputs": [
    {
     "name": "stdout",
     "output_type": "stream",
     "text": [
      "7\n",
      "2\n"
     ]
    }
   ],
   "source": [
    "print(x)\n",
    "print(y)"
   ]
  },
  {
   "cell_type": "code",
   "execution_count": 18,
   "id": "ace63256",
   "metadata": {},
   "outputs": [
    {
     "name": "stdout",
     "output_type": "stream",
     "text": [
      "True\n",
      "True\n",
      "*------------------------------------------*\n",
      "False\n"
     ]
    }
   ],
   "source": [
    "# examples\n",
    "\n",
    "print(x > 0 and y <= 2) #True\n",
    "print(x > 0 or y <= 2)  #True\n",
    "print(\"*------------------------------------------*\")\n",
    "print(not(x > 0 and y <= 2)) #False"
   ]
  },
  {
   "cell_type": "code",
   "execution_count": 19,
   "id": "b3c5718a",
   "metadata": {},
   "outputs": [
    {
     "data": {
      "text/plain": [
       "False"
      ]
     },
     "execution_count": 19,
     "metadata": {},
     "output_type": "execute_result"
    }
   ],
   "source": [
    "(True and True) and not(True or False)"
   ]
  },
  {
   "cell_type": "code",
   "execution_count": 20,
   "id": "1680a32a",
   "metadata": {},
   "outputs": [
    {
     "data": {
      "text/plain": [
       "True"
      ]
     },
     "execution_count": 20,
     "metadata": {},
     "output_type": "execute_result"
    }
   ],
   "source": [
    "((False and False) or (True or False)) and ((True or False) and (False or True))"
   ]
  },
  {
   "cell_type": "markdown",
   "id": "e3ae6277",
   "metadata": {},
   "source": [
    "### Identity Operators\n",
    "Identity operators are used to compare the objects, not if they are equal, but if they are actually the same object, with the same memory location:\n",
    "\n",
    "\n",
    "* is: Returns True if both objects are the same.\n",
    "* is not: Returns True is both objects are not the same."
   ]
  },
  {
   "cell_type": "code",
   "execution_count": 21,
   "id": "366a6583",
   "metadata": {},
   "outputs": [
    {
     "name": "stdout",
     "output_type": "stream",
     "text": [
      "Dog dog\n"
     ]
    },
    {
     "data": {
      "text/plain": [
       "True"
      ]
     },
     "execution_count": 21,
     "metadata": {},
     "output_type": "execute_result"
    }
   ],
   "source": [
    "print(str_x, str_y)\n",
    "\n",
    "str_x is not str_y"
   ]
  },
  {
   "cell_type": "code",
   "execution_count": 22,
   "id": "7e25479c",
   "metadata": {},
   "outputs": [
    {
     "name": "stdout",
     "output_type": "stream",
     "text": [
      "2\n",
      "2.0\n"
     ]
    }
   ],
   "source": [
    "z = 4/2\n",
    "\n",
    "print(y)\n",
    "print(z)"
   ]
  },
  {
   "cell_type": "code",
   "execution_count": 23,
   "id": "5c1a604c",
   "metadata": {},
   "outputs": [
    {
     "data": {
      "text/plain": [
       "False"
      ]
     },
     "execution_count": 23,
     "metadata": {},
     "output_type": "execute_result"
    }
   ],
   "source": [
    "y is z"
   ]
  },
  {
   "cell_type": "markdown",
   "id": "ca2cf7cf",
   "metadata": {},
   "source": [
    "### Membership Operators\n",
    "\n",
    "It used to check if an object is present in a sequence.\n",
    "\n",
    "* in \n",
    "* not in "
   ]
  },
  {
   "cell_type": "code",
   "execution_count": 25,
   "id": "559dbe74",
   "metadata": {},
   "outputs": [
    {
     "name": "stdout",
     "output_type": "stream",
     "text": [
      "['Abia', 'Zamfara', 'Kano', 'Katsina', 'Lagos', 'Anambra', 'Bayelsa', 'Ebonyi', 'Kebbi', 'Abuja', 'Plateau']\n"
     ]
    }
   ],
   "source": [
    "state_list = [\"Abia\", \"Zamfara\", \"Kano\", \"Katsina\", \n",
    "              \"Lagos\", \"Anambra\", \"Bayelsa\", \"Ebonyi\", \n",
    "              \"Kebbi\", \"Abuja\", \"Kaduna\"]\n",
    "\n",
    "state_list[-1] = 'Plateau'\n",
    "print(state_list)"
   ]
  },
  {
   "cell_type": "code",
   "execution_count": 26,
   "id": "a2cc7cc6",
   "metadata": {},
   "outputs": [
    {
     "data": {
      "text/plain": [
       "False"
      ]
     },
     "execution_count": 26,
     "metadata": {},
     "output_type": "execute_result"
    }
   ],
   "source": [
    "\"Adamawa\" in state_list"
   ]
  },
  {
   "cell_type": "code",
   "execution_count": 27,
   "id": "bb59abc0",
   "metadata": {},
   "outputs": [
    {
     "data": {
      "text/plain": [
       "False"
      ]
     },
     "execution_count": 27,
     "metadata": {},
     "output_type": "execute_result"
    }
   ],
   "source": [
    "\"Rivers\" in state_list"
   ]
  },
  {
   "cell_type": "code",
   "execution_count": 28,
   "id": "feb2b709",
   "metadata": {},
   "outputs": [
    {
     "data": {
      "text/plain": [
       "False"
      ]
     },
     "execution_count": 28,
     "metadata": {},
     "output_type": "execute_result"
    }
   ],
   "source": [
    "\"Ondo\" in state_list"
   ]
  },
  {
   "cell_type": "code",
   "execution_count": 29,
   "id": "288c53f7",
   "metadata": {},
   "outputs": [
    {
     "name": "stdout",
     "output_type": "stream",
     "text": [
      "Abia is a state in Nigeria\n",
      "Zamfara is a state in Nigeria\n",
      "Kano is a state in Nigeria\n",
      "Katsina is a state in Nigeria\n",
      "Lagos is a state in Nigeria\n",
      "Anambra is a state in Nigeria\n",
      "Bayelsa is a state in Nigeria\n",
      "Ebonyi is a state in Nigeria\n",
      "Kebbi is a state in Nigeria\n",
      "Abuja is a state in Nigeria\n",
      "Plateau is a state in Nigeria\n"
     ]
    }
   ],
   "source": [
    "for i in state_list:\n",
    "    print(i, \"is a state in Nigeria\")"
   ]
  },
  {
   "cell_type": "code",
   "execution_count": 30,
   "id": "d0656026",
   "metadata": {},
   "outputs": [
    {
     "name": "stdout",
     "output_type": "stream",
     "text": [
      "182.0\n"
     ]
    }
   ],
   "source": [
    "x = 36 / 4 * (3 +  2) * 4 + 2\n",
    "print(x)"
   ]
  },
  {
   "cell_type": "code",
   "execution_count": 32,
   "id": "f04cb330",
   "metadata": {},
   "outputs": [
    {
     "name": "stdout",
     "output_type": "stream",
     "text": [
      "Please Enter a State you've been to: Kogi\n",
      "oops! Try again!\n"
     ]
    }
   ],
   "source": [
    "user_input = str(input(\"Please Enter a State you've been to: \"))\n",
    "\n",
    "if user_input.capitalize() in state_list:\n",
    "    print(\"Amazing you're a traveller!\")\n",
    "else:\n",
    "    print(\"oops! Try again!\")"
   ]
  },
  {
   "cell_type": "code",
   "execution_count": 84,
   "id": "3b9e14da",
   "metadata": {},
   "outputs": [
    {
     "data": {
      "text/plain": [
       "'Delta'"
      ]
     },
     "execution_count": 84,
     "metadata": {},
     "output_type": "execute_result"
    }
   ],
   "source": [
    "user_input.capitalize()"
   ]
  },
  {
   "cell_type": "code",
   "execution_count": 85,
   "id": "6aff89ef",
   "metadata": {},
   "outputs": [
    {
     "data": {
      "text/plain": [
       "'delta'"
      ]
     },
     "execution_count": 85,
     "metadata": {},
     "output_type": "execute_result"
    }
   ],
   "source": []
  },
  {
   "cell_type": "code",
   "execution_count": 1,
   "id": "adfd185a",
   "metadata": {},
   "outputs": [],
   "source": [
    "lst1 = ['soap', 'toothpaste', 'cornfalkes', 'lotion', 'deodorant']\n",
    "lst2 = [500, 700, 2500, 3500, 2000]\n",
    "\n",
    "\n",
    "new_dict = dict(zip(lst1,lst2))"
   ]
  },
  {
   "cell_type": "code",
   "execution_count": null,
   "id": "09764566",
   "metadata": {},
   "outputs": [],
   "source": []
  }
 ],
 "metadata": {
  "kernelspec": {
   "display_name": "Python 3 (ipykernel)",
   "language": "python",
   "name": "python3"
  },
  "language_info": {
   "codemirror_mode": {
    "name": "ipython",
    "version": 3
   },
   "file_extension": ".py",
   "mimetype": "text/x-python",
   "name": "python",
   "nbconvert_exporter": "python",
   "pygments_lexer": "ipython3",
   "version": "3.11.5"
  }
 },
 "nbformat": 4,
 "nbformat_minor": 5
}
