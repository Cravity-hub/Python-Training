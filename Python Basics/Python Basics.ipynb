{
 "cells": [
  {
   "attachments": {
    "ds5.jpg": {
     "image/jpeg": "[encoded data removed]"
    }
   },
   "cell_type": "markdown",
   "id": "74baa573",
   "metadata": {
    "tags": []
   },
   "source": [
    "# Python Basics Class\n",
    "## This is my first Python Class\n",
    "### This is my first Python Calss\n",
    "#### This is my first Python Calss\n",
    "###### This is my first Python Calss\n",
    "\n",
    "**Python is a High Level Programming Language.**\n",
    "\n",
    "![ds5.jpg](attachment:ds5.jpg)\n",
    "\n",
    "\n",
    "* Python\n",
    "* R Language\n",
    "* Sql\n",
    "\n",
    "-------------------------------------------------------------------------------------------------------------------------------"
   ]
  },
  {
   "cell_type": "markdown",
   "id": "77c2a1b3",
   "metadata": {},
   "source": [
    "# Python Programming Language\n",
    "-------------------------------------------------------\n",
    "Python PL is a high level multipurpose programming language. \n",
    "\n",
    "Python PL can used for:\n",
    "\n",
    "1. Web develpoment\n",
    "2. Game development\n",
    "3. Creating GUI (Graphical User Interface) \n",
    "4. Scientific and engineeering\n",
    "5. Statistics\n",
    "6. Data Science\n",
    "7. Software Development\n",
    "\n",
    "\n",
    "## Why Use Python for Data Science?\n",
    "\n",
    "* It is portable.\n",
    "* It has many specialized modules that can be imported on a need to use case.\n",
    "* It has packages desingned for data analysis and visualization.\n",
    "* It can be easily integrated into other programs or softwares.\n",
    "* Python is mostly an interpreted language. This makes error handling less stressful\n",
    "* Python is an Object Oriented PL. This makes it's codes reusable.\n",
    "* Python is relatively easy to learn.\n"
   ]
  },
  {
   "cell_type": "markdown",
   "id": "09a7fdef",
   "metadata": {},
   "source": [
    "## Basic Python Syntax\n",
    "\n",
    "\n",
    "1. Comments\n",
    "2. Statements\n",
    "3. Indentation\n",
    "4. Case Sensitivity\n",
    "5. Keywords\n",
    "6. Identifiers"
   ]
  },
  {
   "cell_type": "markdown",
   "id": "eb87f883",
   "metadata": {},
   "source": [
    "#### 1. Comments\n",
    "    \n",
    "    A comment is a line of text in a python code cell. It is used to explain a block of code.\n",
    "    We write comments by beginning it with the \"#' symbol."
   ]
  },
  {
   "cell_type": "code",
   "execution_count": 1,
   "id": "b3767d29",
   "metadata": {},
   "outputs": [
    {
     "data": {
      "text/plain": [
       "1550"
      ]
     },
     "execution_count": 1,
     "metadata": {},
     "output_type": "execute_result"
    }
   ],
   "source": [
    "# This is a comment \n",
    "# This is another comment\n",
    "\n",
    "200 + 1350"
   ]
  },
  {
   "cell_type": "markdown",
   "id": "6b76feb5",
   "metadata": {},
   "source": [
    "#### 2. Statements\n",
    "\n",
    "        A statement is an instruction that a python interpreter can execute.\n",
    "        In fact we can say anything in python is a statement. \n",
    "        \n",
    "        Python Statements can be written in a single line."
   ]
  },
  {
   "cell_type": "code",
   "execution_count": 2,
   "id": "c545d3fe",
   "metadata": {},
   "outputs": [],
   "source": [
    "# Examples of statements in python.\n",
    "\n",
    "45 * 90\n",
    "\n",
    "x = 6700\n",
    "y = \"Bola\""
   ]
  },
  {
   "cell_type": "markdown",
   "id": "7f44c804",
   "metadata": {},
   "source": [
    "#### 3. Indentation\n",
    "\n",
    "        Indentations are the spaces at the beginning of a code line.\n",
    "        \n",
    "        Indentations are used to specify the body of a block of python code.\n",
    "        \n",
    "        You can add indentations by using the tab key or by pressing the space bar four times. "
   ]
  },
  {
   "cell_type": "code",
   "execution_count": 3,
   "id": "9ccfc021",
   "metadata": {},
   "outputs": [
    {
     "name": "stdout",
     "output_type": "stream",
     "text": [
      "0\n",
      "1\n",
      "2\n",
      "3\n",
      "4\n",
      "5\n",
      "6\n",
      "7\n",
      "8\n",
      "9\n"
     ]
    }
   ],
   "source": [
    "#Examples of indentation using a for loop.\n",
    "\n",
    "\n",
    "for i in range(10):\n",
    "    print(i)"
   ]
  },
  {
   "cell_type": "markdown",
   "id": "c0b1ebe8",
   "metadata": {},
   "source": [
    "#### 4. Case Sensitivity\n",
    "        \n",
    "        Python is a case sensitive language.\n",
    "        \n",
    "        Case Sensitivity is the differentiation between lower and upper case letters.\n",
    "        \n",
    "        Example:\n",
    "        \n",
    "        \"Apple\" is not the same as \"apple\" in python."
   ]
  },
  {
   "cell_type": "code",
   "execution_count": 4,
   "id": "5136d08a",
   "metadata": {},
   "outputs": [
    {
     "name": "stdout",
     "output_type": "stream",
     "text": [
      "500\n"
     ]
    }
   ],
   "source": [
    "#Example of case sensitivity\n",
    "\n",
    "apple = 500\n",
    "\n",
    "\n",
    "print(apple)"
   ]
  },
  {
   "cell_type": "markdown",
   "id": "014506ca",
   "metadata": {},
   "source": [
    "#### 5. Keywords\n",
    "\n",
    "        Keywords in python are words that are reserved \n",
    "        and cannot be used as variable names, function names, \n",
    "        or any other identifier.\n",
    "        \n",
    "        \n",
    "#### Classwork: \n",
    "        List the python keywords you can find.\n",
    "        \n",
    "1. def\n",
    "2. list"
   ]
  },
  {
   "cell_type": "code",
   "execution_count": 5,
   "id": "12664f57",
   "metadata": {},
   "outputs": [],
   "source": [
    "prints = 3000"
   ]
  },
  {
   "cell_type": "markdown",
   "id": "81c397dd",
   "metadata": {},
   "source": [
    "#### 6. Identifiers\n",
    "\n",
    "        Identifiers are user-defined names given to variables, class, module, or function.\n",
    "        \n",
    "        In python, we can combine alphabets, digits, and underscores to create identifiers.\n",
    "        \n",
    "        \n",
    "#### Rules for creating identifiers in python.\n",
    "\n",
    "1. You must not use a keyword as an identfier.\n",
    "\n",
    "2. You cannot begin an identifier with a digit.\n",
    "\n",
    "3. You can begin with either an alphabet or underscore.\n",
    "\n",
    "4. There must be no spaces between the characters of identifiers.\n",
    "\n",
    "5. Symbols other than underscore are not allowed.\n",
    "\n",
    "\n",
    "#### Best Practices for Creating User-defined Identifiers\n",
    "\n",
    "1. Consider using all lowercase characters. \n",
    "2. Use underscore to link words in your ideentifier together. \n",
    "    (chain/snake naming convention)\n",
    "3. You can also alternate between upper aqnd lower case for the first \n",
    "    character of the words in the identifier. (camel-toe convention)\n",
    "4. identifiers should effectively describe the variables."
   ]
  },
  {
   "cell_type": "code",
   "execution_count": 24,
   "id": "ad6d956b",
   "metadata": {},
   "outputs": [],
   "source": [
    "#Examples of identifiers\n",
    "\n",
    "my_feeding_allowance = 10000\n",
    "\n",
    "x = 10000"
   ]
  },
  {
   "cell_type": "markdown",
   "id": "38a6eaad",
   "metadata": {},
   "source": [
    "## Data Types in Python.\n",
    "\n",
    "There are four main data types in python. \n",
    "\n",
    "1. Numeric\n",
    "    1. integers\n",
    "    2. floats\n",
    "    \n",
    "\n",
    "2. strings\n",
    "\n",
    "\n",
    "3. boolean\n",
    "\n",
    "\n",
    "4. Sequence \n",
    "\n",
    "    1. lists\n",
    "    2. tuple\n",
    "    3. sets\n",
    "    4. dictionary"
   ]
  },
  {
   "cell_type": "markdown",
   "id": "74dcfedd",
   "metadata": {},
   "source": [
    "### type function\n",
    "\n",
    "It is used to check the data type of a variable."
   ]
  },
  {
   "cell_type": "code",
   "execution_count": 25,
   "id": "2ba290a4",
   "metadata": {},
   "outputs": [
    {
     "data": {
      "text/plain": [
       "250000"
      ]
     },
     "execution_count": 25,
     "metadata": {},
     "output_type": "execute_result"
    }
   ],
   "source": [
    "salary = 250000\n",
    "\n",
    "salary"
   ]
  },
  {
   "cell_type": "code",
   "execution_count": 26,
   "id": "86fb48b9",
   "metadata": {},
   "outputs": [
    {
     "data": {
      "text/plain": [
       "int"
      ]
     },
     "execution_count": 26,
     "metadata": {},
     "output_type": "execute_result"
    }
   ],
   "source": [
    "type(salary)"
   ]
  },
  {
   "cell_type": "markdown",
   "id": "4fabc84f",
   "metadata": {},
   "source": [
    "### Strings\n",
    "\n",
    "String is a set of all aphabets, digits and symbols. \n",
    "\n",
    "It is a sequence of indexed characters. \n",
    "\n",
    "A string is also referred to as text. \n",
    "\n",
    "To delcare a string type, you must enclose the content in single or double quotes. "
   ]
  },
  {
   "cell_type": "code",
   "execution_count": 7,
   "id": "91005fd7",
   "metadata": {},
   "outputs": [],
   "source": [
    "message = 'ZACRAC LEARNING IS THE BEST DATA SCHOOL'"
   ]
  },
  {
   "cell_type": "code",
   "execution_count": 8,
   "id": "fdd823ea",
   "metadata": {},
   "outputs": [
    {
     "data": {
      "text/plain": [
       "str"
      ]
     },
     "execution_count": 8,
     "metadata": {},
     "output_type": "execute_result"
    }
   ],
   "source": [
    "type(message)"
   ]
  },
  {
   "cell_type": "code",
   "execution_count": 9,
   "id": "f697009e",
   "metadata": {},
   "outputs": [],
   "source": [
    "bolu_msg = 'My Best Friend\"s Name is Ade'"
   ]
  },
  {
   "cell_type": "code",
   "execution_count": 10,
   "id": "fe433dd0",
   "metadata": {},
   "outputs": [
    {
     "name": "stdout",
     "output_type": "stream",
     "text": [
      "My Best Friend\"s Name is Ade\n"
     ]
    }
   ],
   "source": [
    "print(bolu_msg)"
   ]
  },
  {
   "cell_type": "markdown",
   "id": "39e3269c",
   "metadata": {},
   "source": [
    "#### len function\n",
    "\n",
    "It is used to return the number of characters in a string or a sequence."
   ]
  },
  {
   "cell_type": "code",
   "execution_count": 11,
   "id": "595c6c22",
   "metadata": {},
   "outputs": [
    {
     "data": {
      "text/plain": [
       "39"
      ]
     },
     "execution_count": 11,
     "metadata": {},
     "output_type": "execute_result"
    }
   ],
   "source": [
    "len(message)"
   ]
  },
  {
   "cell_type": "code",
   "execution_count": 12,
   "id": "2a87055d",
   "metadata": {},
   "outputs": [
    {
     "data": {
      "text/plain": [
       "28"
      ]
     },
     "execution_count": 12,
     "metadata": {},
     "output_type": "execute_result"
    }
   ],
   "source": [
    "len(bolu_msg)"
   ]
  },
  {
   "cell_type": "code",
   "execution_count": 13,
   "id": "d887654c",
   "metadata": {},
   "outputs": [
    {
     "ename": "NameError",
     "evalue": "name 'salary' is not defined",
     "output_type": "error",
     "traceback": [
      "\u001b[1;31m---------------------------------------------------------------------------\u001b[0m",
      "\u001b[1;31mNameError\u001b[0m                                 Traceback (most recent call last)",
      "Cell \u001b[1;32mIn[13], line 1\u001b[0m\n\u001b[1;32m----> 1\u001b[0m \u001b[38;5;28mlen\u001b[39m(salary)\n",
      "\u001b[1;31mNameError\u001b[0m: name 'salary' is not defined"
     ]
    }
   ],
   "source": [
    "len(salary)"
   ]
  },
  {
   "cell_type": "code",
   "execution_count": 14,
   "id": "93867b1a",
   "metadata": {},
   "outputs": [],
   "source": [
    "len?"
   ]
  },
  {
   "cell_type": "markdown",
   "id": "e45fd2a9",
   "metadata": {},
   "source": [
    "### print function\n",
    "\n",
    "Prints the supplied arguments as outputs."
   ]
  },
  {
   "cell_type": "code",
   "execution_count": 27,
   "id": "de260a41",
   "metadata": {},
   "outputs": [
    {
     "name": "stdout",
     "output_type": "stream",
     "text": [
      "ZACRAC LEARNING IS THE BEST DATA SCHOOL\n",
      "-----------------------------------------\n",
      "My Best Friend\"s Name is Ade\n",
      "250000\n"
     ]
    }
   ],
   "source": [
    "print(message, end = '\\n-----------------------------------------\\n')\n",
    "print(bolu_msg)\n",
    "print(salary)"
   ]
  },
  {
   "cell_type": "code",
   "execution_count": 28,
   "id": "5cd7fc54",
   "metadata": {},
   "outputs": [
    {
     "name": "stdout",
     "output_type": "stream",
     "text": [
      "ZACRAC LEARNING IS THE BEST DATA SCHOOL\n",
      "\n",
      "My Best Friend\"s Name is Ade\n",
      "\n",
      "250000\n",
      " THE END"
     ]
    }
   ],
   "source": [
    "print(message, bolu_msg, salary, sep = '\\n\\n', end = '\\n THE END')"
   ]
  },
  {
   "cell_type": "markdown",
   "id": "71da17cc",
   "metadata": {},
   "source": [
    "#### Activity 1 : Print a string that says: Hello World\n",
    "\n",
    "#### Activity 1.b : Print another string of your own choice.\n",
    "\n",
    "#### Activity 1.c : Change the default end argument to a value of your choice."
   ]
  },
  {
   "cell_type": "markdown",
   "id": "75385594",
   "metadata": {},
   "source": [
    "### Variables\n",
    "\n",
    "Variables are containers for storing data. The data can be of any type.\n",
    "\n",
    "We create variables by asigning a variable name (identifier) to the data (object) using the (=) sign. "
   ]
  },
  {
   "cell_type": "code",
   "execution_count": 22,
   "id": "9248d050",
   "metadata": {},
   "outputs": [],
   "source": [
    "no_of_friends = 'I have 01 frineds'"
   ]
  },
  {
   "cell_type": "code",
   "execution_count": 21,
   "id": "871e41f7",
   "metadata": {},
   "outputs": [
    {
     "data": {
      "text/plain": [
       "'I have 0 frineds'"
      ]
     },
     "execution_count": 21,
     "metadata": {},
     "output_type": "execute_result"
    }
   ],
   "source": [
    "no_of_friends"
   ]
  },
  {
   "cell_type": "code",
   "execution_count": 19,
   "id": "48f28fb3",
   "metadata": {},
   "outputs": [
    {
     "name": "stdout",
     "output_type": "stream",
     "text": [
      "ZACRAC LEARNING IS THE BEST DATA SCHOOL\n"
     ]
    }
   ],
   "source": [
    "print(message)"
   ]
  },
  {
   "cell_type": "code",
   "execution_count": 23,
   "id": "d613689f",
   "metadata": {},
   "outputs": [],
   "source": [
    "price_of_shoe = 30000"
   ]
  },
  {
   "cell_type": "code",
   "execution_count": 30,
   "id": "57106bbb",
   "metadata": {},
   "outputs": [
    {
     "data": {
      "text/plain": [
       "True"
      ]
     },
     "execution_count": 30,
     "metadata": {},
     "output_type": "execute_result"
    }
   ],
   "source": [
    "True"
   ]
  },
  {
   "cell_type": "markdown",
   "id": "10569f5b",
   "metadata": {},
   "source": [
    "### **Activity 2: Create four variables with integer, float, string and boolean data types.**"
   ]
  },
  {
   "cell_type": "code",
   "execution_count": 31,
   "id": "8f7ef239",
   "metadata": {},
   "outputs": [],
   "source": [
    "# integer variable\n",
    "\n",
    "no_of_staff = 20\n",
    "\n",
    "# float variable\n",
    "\n",
    "mass_of_turkey = 5.4\n",
    "\n",
    "# string vairable\n",
    "\n",
    "my_string = 'string variable'\n",
    "\n",
    "# boolean variable\n",
    "\n",
    "taofeek_drink_coffee = True\n",
    "israel_drink_coffee = False\n",
    "\n"
   ]
  },
  {
   "cell_type": "code",
   "execution_count": 35,
   "id": "12cd3cf5",
   "metadata": {},
   "outputs": [
    {
     "name": "stdout",
     "output_type": "stream",
     "text": [
      "<class 'int'>\n",
      "<class 'float'>\n",
      "<class 'str'>\n",
      "<class 'bool'>\n"
     ]
    }
   ],
   "source": [
    "print(type(no_of_staff), type(mass_of_turkey), type(my_string), type(taofeek_drink_coffee), sep = '\\n')"
   ]
  },
  {
   "cell_type": "markdown",
   "id": "f3eee568",
   "metadata": {},
   "source": [
    "### Multiple Assignments of Variables\n",
    "\n",
    "You can assign values to multiple variables at once - in one line of code."
   ]
  },
  {
   "cell_type": "code",
   "execution_count": 42,
   "id": "e04529be",
   "metadata": {},
   "outputs": [],
   "source": [
    "rice, beans, yam, plantain, cheap = 1000, 800, 1200, 500, False"
   ]
  },
  {
   "cell_type": "code",
   "execution_count": 39,
   "id": "55012344",
   "metadata": {},
   "outputs": [
    {
     "data": {
      "text/plain": [
       "False"
      ]
     },
     "execution_count": 39,
     "metadata": {},
     "output_type": "execute_result"
    }
   ],
   "source": [
    "cheap"
   ]
  },
  {
   "cell_type": "markdown",
   "id": "117650f9",
   "metadata": {},
   "source": [
    "You can also re-asign variables."
   ]
  },
  {
   "cell_type": "code",
   "execution_count": 44,
   "id": "7d8ab48b",
   "metadata": {},
   "outputs": [],
   "source": [
    "# let's reassign some variables\n",
    "\n",
    "beans, plantain = 750, 450"
   ]
  },
  {
   "cell_type": "code",
   "execution_count": 45,
   "id": "a2827a3c",
   "metadata": {},
   "outputs": [
    {
     "name": "stdout",
     "output_type": "stream",
     "text": [
      "750 450\n"
     ]
    }
   ],
   "source": [
    "print(beans, plantain)"
   ]
  },
  {
   "cell_type": "markdown",
   "id": "a0aee43e",
   "metadata": {},
   "source": [
    "#### We can perform operations using variable names."
   ]
  },
  {
   "cell_type": "code",
   "execution_count": 47,
   "id": "ede0d8cb",
   "metadata": {},
   "outputs": [
    {
     "data": {
      "text/plain": [
       "6500"
      ]
     },
     "execution_count": 47,
     "metadata": {},
     "output_type": "execute_result"
    }
   ],
   "source": [
    "israel_bought = 2*rice + 3*beans + 5*plantain\n",
    "\n",
    "israel_bought"
   ]
  },
  {
   "cell_type": "markdown",
   "id": "5075a47b",
   "metadata": {},
   "source": [
    "### Activity 3: Create a variable that calculates the speed of a train. Print the output with the message \"Your train's speed is: train_speed\""
   ]
  },
  {
   "cell_type": "code",
   "execution_count": 49,
   "id": "4d6ca3f0",
   "metadata": {},
   "outputs": [
    {
     "name": "stdout",
     "output_type": "stream",
     "text": [
      "Your train's speed is:  120.0 KM/H\n"
     ]
    }
   ],
   "source": [
    "distance = 600\n",
    "time = 5\n",
    "\n",
    "speed = distance/time\n",
    "\n",
    "print(\"Your train's speed is: \", speed, 'KM/H')"
   ]
  },
  {
   "cell_type": "markdown",
   "id": "e5dd18a8",
   "metadata": {},
   "source": [
    "### Operators in Python\n",
    "\n",
    "\n",
    "#### Types of Operators\n",
    "\n",
    "1. Arithmetic Operators\n",
    "2. Assignment Operators\n",
    "3. Comparison Operatos\n",
    "4. Logical Operators\n",
    "5. Identity Operators\n",
    "6. Membership Operators\n",
    "\n",
    "#### Arithmetic Operators\n",
    "\n",
    "1. Addition (+)\n",
    "2. Subtraction (-)\n",
    "3. Multiplication (*)\n",
    "4. Division (/)\n",
    "5. Exponentiation (**)\n",
    "6. Modulus (%)\n",
    "7. Floor division (//)"
   ]
  },
  {
   "cell_type": "markdown",
   "id": "4c2b433f",
   "metadata": {},
   "source": [
    "#### Example of floor division\n",
    "\n",
    "Floor division returns only the integer part of the result. "
   ]
  },
  {
   "cell_type": "code",
   "execution_count": 6,
   "id": "ba0c7a58",
   "metadata": {},
   "outputs": [],
   "source": [
    "p = 28/5\n",
    "\n",
    "#using the modulus operator\n",
    "\n",
    "q = 28//5\n",
    "\n"
   ]
  },
  {
   "cell_type": "code",
   "execution_count": 9,
   "id": "a995c697",
   "metadata": {},
   "outputs": [
    {
     "name": "stdout",
     "output_type": "stream",
     "text": [
      "3\n",
      "5\n"
     ]
    }
   ],
   "source": [
    "print(p)\n",
    "print(q)"
   ]
  },
  {
   "cell_type": "markdown",
   "id": "bcd6dad5",
   "metadata": {},
   "source": [
    "#### Modulus\n",
    "\n"
   ]
  },
  {
   "cell_type": "code",
   "execution_count": 8,
   "id": "a940e7fc",
   "metadata": {},
   "outputs": [],
   "source": [
    "p = 28%5"
   ]
  },
  {
   "cell_type": "code",
   "execution_count": 11,
   "id": "2a2b3f6a",
   "metadata": {},
   "outputs": [
    {
     "data": {
      "text/plain": [
       "22"
      ]
     },
     "execution_count": 11,
     "metadata": {},
     "output_type": "execute_result"
    }
   ],
   "source": [
    "568//25"
   ]
  },
  {
   "cell_type": "markdown",
   "id": "1c8e2d57",
   "metadata": {},
   "source": [
    "#### Exponentiation"
   ]
  },
  {
   "cell_type": "code",
   "execution_count": 12,
   "id": "6c2b46aa",
   "metadata": {},
   "outputs": [
    {
     "name": "stdout",
     "output_type": "stream",
     "text": [
      "125\n"
     ]
    }
   ],
   "source": [
    "r = q**p\n",
    "\n",
    "print(r)"
   ]
  },
  {
   "cell_type": "markdown",
   "id": "dcb5eea3",
   "metadata": {},
   "source": [
    "### Activity 4: Find the value of the floor division of force and area to the power of three.\n",
    "### If: force = 200 area = 13\n",
    "\n",
    "#### print the result as: The pressure is: pressure"
   ]
  },
  {
   "cell_type": "code",
   "execution_count": 26,
   "id": "b560f559",
   "metadata": {},
   "outputs": [
    {
     "name": "stdout",
     "output_type": "stream",
     "text": [
      "The pressure is: 3375\n"
     ]
    }
   ],
   "source": [
    "force = 200\n",
    "area = 13\n",
    "\n",
    "pressure = (force//area)**3\n",
    "\n",
    "print('The pressure is:', pressure)"
   ]
  },
  {
   "cell_type": "code",
   "execution_count": 17,
   "id": "b291af0b",
   "metadata": {},
   "outputs": [
    {
     "name": "stdout",
     "output_type": "stream",
     "text": [
      "The pressure is: 3375\n"
     ]
    }
   ],
   "source": [
    "alt_pressure = force//area\n",
    "\n",
    "alt_pressure = alt_pressure**3\n",
    "\n",
    "print('The pressure is:', alt_pressure)"
   ]
  },
  {
   "cell_type": "markdown",
   "id": "4d441ef7",
   "metadata": {},
   "source": [
    "#### Precedence\n",
    "\n",
    "Precedence is the order in which python operation are performed.\n",
    "\n",
    "Python follows the following orderin executing arithmetic operations. \n",
    "\n",
    "With the highest priority first,\n",
    "\n",
    "* Parenthesis\n",
    "* Exponents\n",
    "* Multiplicaqtion\n",
    "* Division\n",
    "* Addition\n",
    "* Subtraction\n",
    "\n",
    "### PEMDAS"
   ]
  },
  {
   "cell_type": "code",
   "execution_count": 19,
   "id": "a4fa12ea",
   "metadata": {},
   "outputs": [
    {
     "name": "stdout",
     "output_type": "stream",
     "text": [
      "6\n",
      "0\n"
     ]
    }
   ],
   "source": [
    "print(6+3-6+3)\n",
    "\n",
    "print((6+3) - (6+3))"
   ]
  },
  {
   "cell_type": "markdown",
   "id": "2e5c605f",
   "metadata": {},
   "source": [
    "### Activity: Find the value of 25 raised to the power of 2 plus 10, multiplied by 75 divided by 15."
   ]
  },
  {
   "cell_type": "code",
   "execution_count": null,
   "id": "c8eb9df4",
   "metadata": {},
   "outputs": [],
   "source": []
  },
  {
   "cell_type": "markdown",
   "id": "5d06495f",
   "metadata": {},
   "source": [
    "### Assignment Operators\n",
    "\n",
    "They are used to assign values to variables.\n",
    "\n",
    "They include the following:\n",
    "\n",
    "* Equal (=)\n",
    "* +=\n",
    "* -=\n",
    "* *=\n",
    "* /=\n",
    "* %=\n",
    "* //=\n",
    "* **="
   ]
  },
  {
   "cell_type": "code",
   "execution_count": 27,
   "id": "6cd901ba",
   "metadata": {},
   "outputs": [
    {
     "name": "stdout",
     "output_type": "stream",
     "text": [
      "675.0\n"
     ]
    }
   ],
   "source": [
    "# Example of assginment operators\n",
    "\n",
    "pressure /= 5\n",
    "\n",
    "print(pressure)"
   ]
  },
  {
   "cell_type": "code",
   "execution_count": 30,
   "id": "4370e167",
   "metadata": {},
   "outputs": [],
   "source": [
    "x = 30\n",
    "\n",
    "x *=2"
   ]
  },
  {
   "cell_type": "code",
   "execution_count": 34,
   "id": "1f302d16",
   "metadata": {},
   "outputs": [],
   "source": [
    "x /= 5"
   ]
  },
  {
   "cell_type": "code",
   "execution_count": 35,
   "id": "9cb0708b",
   "metadata": {},
   "outputs": [
    {
     "name": "stdout",
     "output_type": "stream",
     "text": [
      "12.0\n"
     ]
    }
   ],
   "source": [
    "print(x)"
   ]
  },
  {
   "cell_type": "code",
   "execution_count": 38,
   "id": "d90b6ff5",
   "metadata": {},
   "outputs": [
    {
     "name": "stdout",
     "output_type": "stream",
     "text": [
      "4\n"
     ]
    }
   ],
   "source": [
    "str1 = 'Seyi\"s dog\"s name is prudence'\n",
    "\n",
    "count = 0\n",
    "\n",
    "for char in str1:\n",
    "    if char == ' ':\n",
    "        count += 1\n",
    "        \n",
    "\n",
    "print(count)"
   ]
  },
  {
   "cell_type": "code",
   "execution_count": 39,
   "id": "99998e02",
   "metadata": {},
   "outputs": [],
   "source": [
    "def character_count(text, xter):\n",
    "    count = 0\n",
    "\n",
    "    for char in text:\n",
    "        if char == xter:\n",
    "            count += 1\n",
    "    return count"
   ]
  },
  {
   "cell_type": "code",
   "execution_count": 40,
   "id": "5e88f5d3",
   "metadata": {},
   "outputs": [
    {
     "data": {
      "text/plain": [
       "3"
      ]
     },
     "execution_count": 40,
     "metadata": {},
     "output_type": "execute_result"
    }
   ],
   "source": [
    "character_count(\"the boy loves mangoes\", 'o')"
   ]
  },
  {
   "cell_type": "markdown",
   "id": "0597aaf2",
   "metadata": {},
   "source": [
    "### Comparison Operators\n",
    "\n",
    "* == Equal\n",
    "* (>=) Greater than or equal to\n",
    "* <= Lesser than or equal to \n",
    "* != Not Equal\n",
    "\n",
    "The result of comparison operators is usually boolean.\n",
    "\n",
    "We use comparison operators to create conditional statements."
   ]
  },
  {
   "cell_type": "code",
   "execution_count": 41,
   "id": "1c21b189",
   "metadata": {},
   "outputs": [
    {
     "data": {
      "text/plain": [
       "True"
      ]
     },
     "execution_count": 41,
     "metadata": {},
     "output_type": "execute_result"
    }
   ],
   "source": [
    "pressure > force"
   ]
  },
  {
   "cell_type": "code",
   "execution_count": 42,
   "id": "7c568748",
   "metadata": {},
   "outputs": [
    {
     "data": {
      "text/plain": [
       "True"
      ]
     },
     "execution_count": 42,
     "metadata": {},
     "output_type": "execute_result"
    }
   ],
   "source": [
    "x >=p"
   ]
  },
  {
   "cell_type": "code",
   "execution_count": 43,
   "id": "a7f2e28b",
   "metadata": {},
   "outputs": [
    {
     "data": {
      "text/plain": [
       "False"
      ]
     },
     "execution_count": 43,
     "metadata": {},
     "output_type": "execute_result"
    }
   ],
   "source": [
    "'Prudence' == 'prudence'"
   ]
  },
  {
   "cell_type": "code",
   "execution_count": 46,
   "id": "d54defa3",
   "metadata": {},
   "outputs": [
    {
     "data": {
      "text/plain": [
       "True"
      ]
     },
     "execution_count": 46,
     "metadata": {},
     "output_type": "execute_result"
    }
   ],
   "source": [
    "'Prudence' <= 'prudence'"
   ]
  },
  {
   "cell_type": "markdown",
   "id": "cb5c3b9b",
   "metadata": {},
   "source": [
    "### Logical Operators\n",
    "\n",
    "Logical operators are used to combine conditional statements. Logical operators include:\n",
    "\n",
    "* and - Returns True if both all condition are True\n",
    "* or - Returns True is at least one condition is True\n",
    "* not - Reverses the value of a logical statement. \n"
   ]
  },
  {
   "cell_type": "code",
   "execution_count": 48,
   "id": "f148dea0",
   "metadata": {},
   "outputs": [
    {
     "data": {
      "text/plain": [
       "True"
      ]
     },
     "execution_count": 48,
     "metadata": {},
     "output_type": "execute_result"
    }
   ],
   "source": [
    "a = 20\n",
    "b = 15\n",
    "c = 30.01\n",
    "\n",
    "\n",
    "a>=30 and b<20"
   ]
  },
  {
   "cell_type": "code",
   "execution_count": 49,
   "id": "b57a1a72",
   "metadata": {},
   "outputs": [
    {
     "data": {
      "text/plain": [
       "True"
      ]
     },
     "execution_count": 49,
     "metadata": {},
     "output_type": "execute_result"
    }
   ],
   "source": [
    "((False and False) or (True or False)) and ((True or False) and (False or True))"
   ]
  },
  {
   "cell_type": "markdown",
   "id": "229109b2",
   "metadata": {},
   "source": [
    "### Identity Operators\n",
    "\n",
    "Identity operators are used to compare the objects, not if they are equal, but if they're actually the same objects in the same memory location. \n",
    "\n",
    "\n",
    "* is\n",
    "\n",
    "* is not"
   ]
  },
  {
   "cell_type": "code",
   "execution_count": 53,
   "id": "5f90938f",
   "metadata": {},
   "outputs": [],
   "source": [
    "str_x = 'prudence'\n",
    "\n",
    "str_y = 'Prudence'"
   ]
  },
  {
   "cell_type": "code",
   "execution_count": 54,
   "id": "fc6e85dd",
   "metadata": {},
   "outputs": [
    {
     "data": {
      "text/plain": [
       "False"
      ]
     },
     "execution_count": 54,
     "metadata": {},
     "output_type": "execute_result"
    }
   ],
   "source": [
    "str_x is str_y"
   ]
  },
  {
   "cell_type": "code",
   "execution_count": 56,
   "id": "0fdbf3b9",
   "metadata": {},
   "outputs": [
    {
     "data": {
      "text/plain": [
       "False"
      ]
     },
     "execution_count": 56,
     "metadata": {},
     "output_type": "execute_result"
    }
   ],
   "source": [
    "a = 20\n",
    "\n",
    "b = 40/2\n",
    "\n",
    "a is b"
   ]
  },
  {
   "cell_type": "code",
   "execution_count": 57,
   "id": "7bdb8ef2",
   "metadata": {},
   "outputs": [
    {
     "data": {
      "text/plain": [
       "20.0"
      ]
     },
     "execution_count": 57,
     "metadata": {},
     "output_type": "execute_result"
    }
   ],
   "source": [
    "b"
   ]
  },
  {
   "cell_type": "code",
   "execution_count": 59,
   "id": "e73fea35",
   "metadata": {},
   "outputs": [
    {
     "data": {
      "text/plain": [
       "int"
      ]
     },
     "execution_count": 59,
     "metadata": {},
     "output_type": "execute_result"
    }
   ],
   "source": [
    "type(b)\n",
    "type(a)"
   ]
  },
  {
   "cell_type": "code",
   "execution_count": null,
   "id": "d88f00c8",
   "metadata": {},
   "outputs": [],
   "source": []
  }
 ],
 "metadata": {
  "kernelspec": {
   "display_name": "Python 3 (ipykernel)",
   "language": "python",
   "name": "python3"
  },
  "language_info": {
   "codemirror_mode": {
    "name": "ipython",
    "version": 3
   },
   "file_extension": ".py",
   "mimetype": "text/x-python",
   "name": "python",
   "nbconvert_exporter": "python",
   "pygments_lexer": "ipython3",
   "version": "3.11.5"
  }
 },
 "nbformat": 4,
 "nbformat_minor": 5
}
