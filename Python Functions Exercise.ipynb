{
 "cells": [
  {
   "cell_type": "markdown",
   "id": "251aa8fe",
   "metadata": {},
   "source": [
    "# The following exercises are on functions. Have fun coding!\n",
    "\n",
    "### 1. Write a function that generates a random number between 1 and 20. The user should guess the number, and the program should provide feedback if the guess is too high or too low. Repeat this process until the correct number is guessed."
   ]
  },
  {
   "cell_type": "code",
   "execution_count": null,
   "id": "7bef5fb3",
   "metadata": {},
   "outputs": [],
   "source": []
  },
  {
   "cell_type": "markdown",
   "id": "c2b4f059",
   "metadata": {},
   "source": [
    "### 2. Write a function that takes a character as input and determines whether it is a vowel or a consonant."
   ]
  },
  {
   "cell_type": "code",
   "execution_count": null,
   "id": "e64d8d9e",
   "metadata": {},
   "outputs": [],
   "source": []
  },
  {
   "cell_type": "markdown",
   "id": "e14470c1",
   "metadata": {},
   "source": [
    "### 3. Write a function that finds the factorial of a given number."
   ]
  },
  {
   "cell_type": "code",
   "execution_count": null,
   "id": "0560b392",
   "metadata": {},
   "outputs": [],
   "source": []
  },
  {
   "cell_type": "markdown",
   "id": "ed02705e",
   "metadata": {},
   "source": [
    "### 4. Write a program that checks whether a given year is a leap year or not."
   ]
  },
  {
   "cell_type": "code",
   "execution_count": null,
   "id": "276a2cef",
   "metadata": {},
   "outputs": [],
   "source": []
  }
 ],
 "metadata": {
  "kernelspec": {
   "display_name": "Python 3 (ipykernel)",
   "language": "python",
   "name": "python3"
  },
  "language_info": {
   "codemirror_mode": {
    "name": "ipython",
    "version": 3
   },
   "file_extension": ".py",
   "mimetype": "text/x-python",
   "name": "python",
   "nbconvert_exporter": "python",
   "pygments_lexer": "ipython3",
   "version": "3.9.13"
  }
 },
 "nbformat": 4,
 "nbformat_minor": 5
}
