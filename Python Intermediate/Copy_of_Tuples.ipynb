{
 "cells": [
  {
   "cell_type": "markdown",
   "id": "64b55ef0",
   "metadata": {
    "id": "64b55ef0"
   },
   "source": [
    "## Tuples\n",
    "\n",
    "Tuples are used to store multiple items in a single variable.\n",
    "\n",
    "Tuple is one of 4 built-in data types in Python used to store collections of data.\n",
    "\n",
    "A tuple is a collection which is **ordered**, **accepts dupilcates** and is **unchangeable.**\n",
    "\n",
    "Tuples are written with round brackets.\n",
    "\n",
    "Tuples are very similar to lists in that they store objects of various data types.\n",
    "\n",
    "- A tuple is represented by parentheses, ()\n",
    "- It is immutable i.e the element within a tuple cannot be modified\n",
    "- An index is used to access and refer to items within a tuple. Since tuples are indexed, they can have items with the same value.\n"
   ]
  },
  {
   "cell_type": "markdown",
   "id": "Gl1spm9VPlum",
   "metadata": {
    "id": "Gl1spm9VPlum"
   },
   "source": [
    "### Creating Tuples\n",
    "\n",
    "To create a tuple object, we use the tuple literal ( )."
   ]
  },
  {
   "cell_type": "code",
   "execution_count": 7,
   "id": "b7dd831b",
   "metadata": {
    "colab": {
     "base_uri": "https://localhost:8080/"
    },
    "id": "b7dd831b",
    "outputId": "cf2bf5fa-5b18-4568-ceee-efafdd15b66a"
   },
   "outputs": [
    {
     "data": {
      "text/plain": [
       "tuple"
      ]
     },
     "execution_count": 7,
     "metadata": {},
     "output_type": "execute_result"
    }
   ],
   "source": [
    "#Create tuples with multiple items\n",
    "tuple_1 = (\"Hello\", 50, 77.7)\n",
    "type(tuple_1)"
   ]
  },
  {
   "cell_type": "code",
   "execution_count": 8,
   "id": "JZS9Yh-uQYyr",
   "metadata": {
    "colab": {
     "base_uri": "https://localhost:8080/"
    },
    "id": "JZS9Yh-uQYyr",
    "outputId": "31f478ed-f426-4593-a050-56313f4dbea5"
   },
   "outputs": [
    {
     "name": "stdout",
     "output_type": "stream",
     "text": [
      "<class 'tuple'>\n",
      "<class 'str'>\n"
     ]
    }
   ],
   "source": [
    "#create tuples with one item\n",
    "\n",
    "tuple_2 = ('world cup',)  #notice there's a comma after the first item\n",
    "print(type(tuple_2))\n",
    "\n",
    "tuple_3 = ('world cup')\n",
    "print(type(tuple_3))"
   ]
  },
  {
   "cell_type": "markdown",
   "id": "ubZT7qALSulD",
   "metadata": {
    "id": "ubZT7qALSulD"
   },
   "source": [
    "### The tuple constructor\n",
    "\n",
    "It is also possible to use the tuple() constructor to make a tuple."
   ]
  },
  {
   "cell_type": "code",
   "execution_count": 9,
   "id": "897ebb80",
   "metadata": {
    "colab": {
     "base_uri": "https://localhost:8080/"
    },
    "id": "897ebb80",
    "outputId": "8a253530-4671-46be-f57b-f216fe469610"
   },
   "outputs": [
    {
     "name": "stdout",
     "output_type": "stream",
     "text": [
      "<class 'tuple'>\n",
      "<class 'list'>\n"
     ]
    }
   ],
   "source": [
    "wc_nations = ['germany', 'nigeria', 'spain', 'ghana', 'england']\n",
    "countries = tuple(wc_nations)\n",
    "\n",
    "\n",
    "print(type(countries))\n",
    "print(type(wc_nations))"
   ]
  },
  {
   "cell_type": "code",
   "execution_count": 10,
   "id": "57bf9057",
   "metadata": {},
   "outputs": [
    {
     "data": {
      "text/plain": [
       "'germany'"
      ]
     },
     "execution_count": 10,
     "metadata": {},
     "output_type": "execute_result"
    }
   ],
   "source": [
    "wc_nations[0]"
   ]
  },
  {
   "cell_type": "code",
   "execution_count": 11,
   "id": "unIULL_aiGqj",
   "metadata": {
    "colab": {
     "base_uri": "https://localhost:8080/"
    },
    "id": "unIULL_aiGqj",
    "outputId": "a240db2e-8e0f-45bd-c624-81dc67394168"
   },
   "outputs": [
    {
     "data": {
      "text/plain": [
       "('usa', 'china', 'brazil')"
      ]
     },
     "execution_count": 11,
     "metadata": {},
     "output_type": "execute_result"
    }
   ],
   "source": [
    "#create a tuple from a list\n",
    "tup_list = tuple([\"usa\", \"china\", \"brazil\"])\n",
    "tup_list"
   ]
  },
  {
   "cell_type": "code",
   "execution_count": 12,
   "id": "8BAiBoRDjEG4",
   "metadata": {
    "id": "8BAiBoRDjEG4"
   },
   "outputs": [
    {
     "name": "stdout",
     "output_type": "stream",
     "text": [
      "<class 'tuple'>\n"
     ]
    }
   ],
   "source": [
    "#create a tuple without using double brackets\n",
    "\n",
    "states = ('ondo', 'lagos')\n",
    "\n",
    "\n",
    "capital = tuple(('akure', 'ikeja'))\n",
    "\n",
    "print(type(states))"
   ]
  },
  {
   "cell_type": "markdown",
   "id": "ZEAC_4IPTVw3",
   "metadata": {
    "id": "ZEAC_4IPTVw3"
   },
   "source": [
    "Tuple items can be of any data type: (list, set, and dictionary)"
   ]
  },
  {
   "cell_type": "code",
   "execution_count": 13,
   "id": "4xS419eVTVFE",
   "metadata": {
    "colab": {
     "base_uri": "https://localhost:8080/"
    },
    "id": "4xS419eVTVFE",
    "outputId": "ae81d18b-87e5-4733-81a0-6d0e63a29cb6"
   },
   "outputs": [
    {
     "data": {
      "text/plain": [
       "tuple"
      ]
     },
     "execution_count": 13,
     "metadata": {},
     "output_type": "execute_result"
    }
   ],
   "source": [
    "tuple_f = (20, 'eggs', 'soda', True, 350.125)\n",
    "type(tuple_f)"
   ]
  },
  {
   "cell_type": "code",
   "execution_count": 15,
   "id": "61f7caf4",
   "metadata": {
    "colab": {
     "base_uri": "https://localhost:8080/"
    },
    "id": "61f7caf4",
    "outputId": "d6a83f04-d0a2-4a81-fb0c-34a0e7b41f90"
   },
   "outputs": [
    {
     "data": {
      "text/plain": [
       "tuple"
      ]
     },
     "execution_count": 15,
     "metadata": {},
     "output_type": "execute_result"
    }
   ],
   "source": [
    "#we can also convert a list to a tuple\n",
    "\n",
    "list_1 = [1,2,3,4,5,6,7]\n",
    "\n",
    "#convert to tuple\n",
    "\n",
    "list_1 = tuple([1,2,3,4,5,6,7])\n",
    "type(list_1)"
   ]
  },
  {
   "cell_type": "markdown",
   "id": "63e5890f",
   "metadata": {
    "id": "63e5890f"
   },
   "source": [
    "#### Index\n",
    "\n",
    "The index helps to get the location each element of a tuple\n"
   ]
  },
  {
   "cell_type": "code",
   "execution_count": 16,
   "id": "f7bafe3e",
   "metadata": {
    "id": "f7bafe3e",
    "outputId": "06c83f3c-7152-4d1a-81dd-691fcb6eb7b8"
   },
   "outputs": [
    {
     "name": "stdout",
     "output_type": "stream",
     "text": [
      "('Hello', 50, 77.7)\n",
      "0\n"
     ]
    }
   ],
   "source": [
    "print(tuple_1)\n",
    "print(tuple_1.index(\"Hello\"))"
   ]
  },
  {
   "cell_type": "markdown",
   "id": "4764fe2b",
   "metadata": {
    "id": "4764fe2b"
   },
   "source": [
    "#### Indexing and slicing\n",
    "We can also access the elements of a tuple but we can not change it, because they are immutable"
   ]
  },
  {
   "cell_type": "code",
   "execution_count": 19,
   "id": "6ecc2d91",
   "metadata": {
    "id": "6ecc2d91",
    "outputId": "97d54fee-20cf-4a60-91e2-13d65501b125"
   },
   "outputs": [
    {
     "data": {
      "text/plain": [
       "'Hello'"
      ]
     },
     "execution_count": 19,
     "metadata": {},
     "output_type": "execute_result"
    }
   ],
   "source": [
    "tuple_1[0] "
   ]
  },
  {
   "cell_type": "code",
   "execution_count": 21,
   "id": "5d4bd2b4",
   "metadata": {},
   "outputs": [
    {
     "ename": "TypeError",
     "evalue": "'tuple' object does not support item assignment",
     "output_type": "error",
     "traceback": [
      "\u001b[1;31m---------------------------------------------------------------------------\u001b[0m",
      "\u001b[1;31mTypeError\u001b[0m                                 Traceback (most recent call last)",
      "\u001b[1;32m~\\AppData\\Local\\Temp\\ipykernel_8804\\586972403.py\u001b[0m in \u001b[0;36m<module>\u001b[1;34m\u001b[0m\n\u001b[1;32m----> 1\u001b[1;33m \u001b[0mtuple_1\u001b[0m\u001b[1;33m[\u001b[0m\u001b[1;36m0\u001b[0m\u001b[1;33m]\u001b[0m \u001b[1;33m=\u001b[0m \u001b[1;34m'Hi'\u001b[0m\u001b[1;33m\u001b[0m\u001b[1;33m\u001b[0m\u001b[0m\n\u001b[0m",
      "\u001b[1;31mTypeError\u001b[0m: 'tuple' object does not support item assignment"
     ]
    }
   ],
   "source": [
    "tuple_1[0] = 'Hi'"
   ]
  },
  {
   "cell_type": "code",
   "execution_count": 15,
   "id": "vxN1OIyXl19Z",
   "metadata": {
    "colab": {
     "base_uri": "https://localhost:8080/"
    },
    "id": "vxN1OIyXl19Z",
    "outputId": "31069551-52f6-4d24-f2c4-cf2a6c4a3829"
   },
   "outputs": [
    {
     "name": "stdout",
     "output_type": "stream",
     "text": [
      "('germany', 'nigeria', 'spain', 'ghana', 'england')\n",
      "spain\n"
     ]
    }
   ],
   "source": [
    "print(countries)\n",
    "\n",
    "print(countries[2])"
   ]
  },
  {
   "cell_type": "code",
   "execution_count": 22,
   "id": "9b2bed70",
   "metadata": {},
   "outputs": [
    {
     "data": {
      "text/plain": [
       "('nigeria', 'spain', 'ghana')"
      ]
     },
     "execution_count": 22,
     "metadata": {},
     "output_type": "execute_result"
    }
   ],
   "source": [
    "countries[1:4]"
   ]
  },
  {
   "cell_type": "code",
   "execution_count": 16,
   "id": "73d4a270",
   "metadata": {
    "colab": {
     "base_uri": "https://localhost:8080/"
    },
    "id": "73d4a270",
    "outputId": "07dadf5c-fa8d-4ce8-a549-d7e4d74e1ceb"
   },
   "outputs": [
    {
     "name": "stdout",
     "output_type": "stream",
     "text": [
      "3\n",
      "5\n"
     ]
    }
   ],
   "source": [
    "# We can also get the len of a tuple\n",
    "\n",
    "print(len(tuple_1))\n",
    "\n",
    "print(len(countries))"
   ]
  },
  {
   "cell_type": "markdown",
   "id": "3c48a7b0",
   "metadata": {
    "id": "3c48a7b0"
   },
   "source": [
    "#### Concatenate Tuples\n",
    "We can concatenate or combine tuples by using the + sign:"
   ]
  },
  {
   "cell_type": "code",
   "execution_count": 25,
   "id": "d88acd9c",
   "metadata": {
    "colab": {
     "base_uri": "https://localhost:8080/"
    },
    "id": "d88acd9c",
    "outputId": "36aef44d-d690-49c8-be51-c37380cf49aa"
   },
   "outputs": [
    {
     "data": {
      "text/plain": [
       "('Hello', 50, 77.7, 1, 2, 3, 4, 5)"
      ]
     },
     "execution_count": 25,
     "metadata": {},
     "output_type": "execute_result"
    }
   ],
   "source": [
    "tuple_2= tuple_1 + (1,2,3,4,5)\n",
    "tuple_2"
   ]
  },
  {
   "cell_type": "code",
   "execution_count": 26,
   "id": "92740c37",
   "metadata": {
    "colab": {
     "base_uri": "https://localhost:8080/"
    },
    "id": "92740c37",
    "outputId": "464954be-a9ea-4a81-af38-b21268cc1114"
   },
   "outputs": [
    {
     "data": {
      "text/plain": [
       "('Hello', 50, 77.7)"
      ]
     },
     "execution_count": 26,
     "metadata": {},
     "output_type": "execute_result"
    }
   ],
   "source": [
    "# Slicing, we can call out a part of a tuple\n",
    "\n",
    "tuple_3 = tuple_1[0:3]\n",
    "tuple_3"
   ]
  },
  {
   "cell_type": "markdown",
   "id": "cff922dc",
   "metadata": {
    "id": "cff922dc"
   },
   "source": [
    "#### Sorting\n",
    "\n",
    "We can sort the elements of a tuple\n"
   ]
  },
  {
   "cell_type": "code",
   "execution_count": 27,
   "id": "26f3bbbf",
   "metadata": {
    "id": "26f3bbbf",
    "outputId": "0618f38f-4463-4f35-b156-89ffe7b3443a"
   },
   "outputs": [
    {
     "data": {
      "text/plain": [
       "[6, 5, 4, 3, 2, 1]"
      ]
     },
     "execution_count": 27,
     "metadata": {},
     "output_type": "execute_result"
    }
   ],
   "source": [
    "die_roll= (4,5,6,2,3,1)\n",
    "\n",
    "die_roll_sorted = sorted(die_roll, reverse = True)\n",
    "die_roll_sorted"
   ]
  },
  {
   "cell_type": "code",
   "execution_count": 31,
   "id": "151e4d6d",
   "metadata": {},
   "outputs": [
    {
     "data": {
      "text/plain": [
       "[1, 2, 3, 4, 5, 6]"
      ]
     },
     "execution_count": 31,
     "metadata": {},
     "output_type": "execute_result"
    }
   ],
   "source": [
    "sorted(die_roll)"
   ]
  },
  {
   "cell_type": "code",
   "execution_count": 34,
   "id": "3bb2dd5c",
   "metadata": {},
   "outputs": [
    {
     "name": "stdout",
     "output_type": "stream",
     "text": [
      "(4, 5, 6, 2, 3, 1)\n",
      "<class 'list'>\n"
     ]
    }
   ],
   "source": [
    "print(die_roll)\n",
    "print(type(die_roll_sorted))"
   ]
  },
  {
   "cell_type": "code",
   "execution_count": 35,
   "id": "7drgV3xInyFM",
   "metadata": {
    "colab": {
     "base_uri": "https://localhost:8080/"
    },
    "collapsed": true,
    "id": "7drgV3xInyFM",
    "outputId": "d1391242-7bb8-418d-cd65-395258e5a481"
   },
   "outputs": [
    {
     "name": "stdout",
     "output_type": "stream",
     "text": [
      "Help on built-in function sorted in module builtins:\n",
      "\n",
      "sorted(iterable, /, *, key=None, reverse=False)\n",
      "    Return a new list containing all items from the iterable in ascending order.\n",
      "    \n",
      "    A custom key function can be supplied to customize the sort order, and the\n",
      "    reverse flag can be set to request the result in descending order.\n",
      "\n"
     ]
    }
   ],
   "source": [
    "help(sorted)"
   ]
  },
  {
   "cell_type": "markdown",
   "id": "4e8d3cd9",
   "metadata": {
    "id": "4e8d3cd9"
   },
   "source": [
    "#### Nested Tuple\n",
    " tuple can contain another tuple as well as other data type, this is called \"nesting\"."
   ]
  },
  {
   "cell_type": "code",
   "execution_count": 3,
   "id": "a7b1ee20",
   "metadata": {
    "id": "a7b1ee20"
   },
   "outputs": [],
   "source": [
    "Nested_tuple = ((\"Hello\",\"Python\"),(1,2,3,4,5),7,8,(55.4,30.3,(4,5)))"
   ]
  },
  {
   "cell_type": "code",
   "execution_count": 5,
   "id": "59c7b6c1",
   "metadata": {
    "colab": {
     "base_uri": "https://localhost:8080/"
    },
    "id": "59c7b6c1",
    "outputId": "669c615f-94ef-4ffa-e584-00bb186eb619"
   },
   "outputs": [
    {
     "name": "stdout",
     "output_type": "stream",
     "text": [
      "Element 0=  ('Hello', 'Python')\n",
      "Element 1=  (1, 2, 3, 4, 5)\n",
      "Element 2=  7\n",
      "Element 3=  8\n",
      "Element 4=  (55.4, 30.3, (4, 5))\n"
     ]
    }
   ],
   "source": [
    "#We cn access each each element of the tuple using the index\n",
    "\n",
    "print(\"Element 0= \", Nested_tuple[0])\n",
    "print(\"Element 1= \", Nested_tuple[1])\n",
    "print(\"Element 2= \", Nested_tuple[2])\n",
    "print(\"Element 3= \", Nested_tuple[3])\n",
    "print(\"Element 4= \", Nested_tuple[4])"
   ]
  },
  {
   "cell_type": "code",
   "execution_count": 27,
   "id": "a04762cb",
   "metadata": {},
   "outputs": [
    {
     "data": {
      "text/plain": [
       "5"
      ]
     },
     "execution_count": 27,
     "metadata": {},
     "output_type": "execute_result"
    }
   ],
   "source": [
    "Nested_tuple[4][2][1]"
   ]
  },
  {
   "cell_type": "code",
   "execution_count": null,
   "id": "47e18bd9",
   "metadata": {
    "id": "47e18bd9",
    "outputId": "1e078403-60ae-422b-c7b3-c09ba24ee009"
   },
   "outputs": [
    {
     "name": "stdout",
     "output_type": "stream",
     "text": [
      "Element 0 Hello\n",
      "Element 1 Python\n"
     ]
    }
   ],
   "source": [
    "#We can print the element within each tuple using second index\n",
    "print(\"Element 0\", Nested_tuple[0][0])\n",
    "print(\"Element 1\", Nested_tuple[0][1])"
   ]
  },
  {
   "cell_type": "code",
   "execution_count": null,
   "id": "9078d5b2",
   "metadata": {
    "id": "9078d5b2",
    "outputId": "66610ef7-adce-47be-cd2a-16dba9a18628"
   },
   "outputs": [
    {
     "name": "stdout",
     "output_type": "stream",
     "text": [
      "Element 0 H\n",
      "Element 1 e\n",
      "Element 1 l\n",
      "Element 1 l\n",
      "Element 1 o\n"
     ]
    }
   ],
   "source": [
    "#we can also access each character of the string using the third index\n",
    "print(\"Element 0\", Nested_tuple[0][0][0])\n",
    "print(\"Element 1\", Nested_tuple[0][0][1])\n",
    "print(\"Element 1\", Nested_tuple[0][0][2])\n",
    "print(\"Element 1\", Nested_tuple[0][0][3])\n",
    "print(\"Element 1\", Nested_tuple[0][0][4])"
   ]
  },
  {
   "cell_type": "markdown",
   "id": "89fc66ea",
   "metadata": {
    "id": "89fc66ea"
   },
   "source": [
    "#### Count Method\n",
    "\n",
    "It allows us to count the number of times a value appears in the tuple"
   ]
  },
  {
   "cell_type": "code",
   "execution_count": 7,
   "id": "b08efd33",
   "metadata": {
    "colab": {
     "base_uri": "https://localhost:8080/"
    },
    "id": "b08efd33",
    "outputId": "45466ecd-6463-4958-bfd5-9372f907049e"
   },
   "outputs": [
    {
     "name": "stdout",
     "output_type": "stream",
     "text": [
      "4\n",
      "2\n"
     ]
    }
   ],
   "source": [
    "tuple_4 = (1,3,1,4,1,1,\"a\",\"a\",\"d\")\n",
    "print(tuple_4.count(1))\n",
    "print(tuple_4.count('a'))\n",
    "\n",
    "\n",
    "def count_char(countable, y):\n",
    "    count = 0\n",
    "    for x in countable:\n",
    "        if x == y:\n",
    "            count +=1\n",
    "    return count"
   ]
  },
  {
   "cell_type": "code",
   "execution_count": 38,
   "id": "9ac1840a",
   "metadata": {},
   "outputs": [
    {
     "data": {
      "text/plain": [
       "4"
      ]
     },
     "execution_count": 38,
     "metadata": {},
     "output_type": "execute_result"
    }
   ],
   "source": [
    "count_char(tuple_4, 1)"
   ]
  },
  {
   "cell_type": "code",
   "execution_count": 39,
   "id": "b7beee25",
   "metadata": {
    "colab": {
     "base_uri": "https://localhost:8080/"
    },
    "id": "b7beee25",
    "outputId": "10356707-8d85-4551-e1c9-cb56a639bacd"
   },
   "outputs": [
    {
     "data": {
      "text/plain": [
       "[1, 1, 2, 3, 4, 5]"
      ]
     },
     "execution_count": 39,
     "metadata": {},
     "output_type": "execute_result"
    }
   ],
   "source": [
    "tuple_9 = (1,4,2,3,1,5)\n",
    "sorted(tuple_9)"
   ]
  },
  {
   "cell_type": "code",
   "execution_count": 41,
   "id": "96ccb02b",
   "metadata": {
    "colab": {
     "base_uri": "https://localhost:8080/",
     "height": 166
    },
    "id": "96ccb02b",
    "outputId": "ddab73a9-bc76-4787-af6e-e1b83a2a2101"
   },
   "outputs": [
    {
     "ename": "AttributeError",
     "evalue": "'tuple' object has no attribute 'insert'",
     "output_type": "error",
     "traceback": [
      "\u001b[1;31m---------------------------------------------------------------------------\u001b[0m",
      "\u001b[1;31mAttributeError\u001b[0m                            Traceback (most recent call last)",
      "\u001b[1;32m~\\AppData\\Local\\Temp\\ipykernel_8804\\3518961337.py\u001b[0m in \u001b[0;36m<module>\u001b[1;34m\u001b[0m\n\u001b[1;32m----> 1\u001b[1;33m \u001b[0mtuple_9\u001b[0m\u001b[1;33m.\u001b[0m\u001b[0minsert\u001b[0m\u001b[1;33m(\u001b[0m\u001b[1;34m'sam'\u001b[0m\u001b[1;33m,\u001b[0m \u001b[1;36m4\u001b[0m\u001b[1;33m)\u001b[0m\u001b[1;33m\u001b[0m\u001b[1;33m\u001b[0m\u001b[0m\n\u001b[0m",
      "\u001b[1;31mAttributeError\u001b[0m: 'tuple' object has no attribute 'insert'"
     ]
    }
   ],
   "source": [
    "tuple_9.insert('sam')"
   ]
  },
  {
   "cell_type": "code",
   "execution_count": 46,
   "id": "a7b8f874",
   "metadata": {},
   "outputs": [
    {
     "ename": "AttributeError",
     "evalue": "'tuple' object has no attribute 'clear'",
     "output_type": "error",
     "traceback": [
      "\u001b[1;31m---------------------------------------------------------------------------\u001b[0m",
      "\u001b[1;31mAttributeError\u001b[0m                            Traceback (most recent call last)",
      "\u001b[1;32m~\\AppData\\Local\\Temp\\ipykernel_8804\\218217620.py\u001b[0m in \u001b[0;36m<module>\u001b[1;34m\u001b[0m\n\u001b[1;32m----> 1\u001b[1;33m \u001b[0mtuple_9\u001b[0m\u001b[1;33m.\u001b[0m\u001b[0mclear\u001b[0m\u001b[1;33m(\u001b[0m\u001b[1;33m)\u001b[0m\u001b[1;33m\u001b[0m\u001b[1;33m\u001b[0m\u001b[0m\n\u001b[0m",
      "\u001b[1;31mAttributeError\u001b[0m: 'tuple' object has no attribute 'clear'"
     ]
    }
   ],
   "source": [
    "tuple_9.clear()"
   ]
  },
  {
   "cell_type": "code",
   "execution_count": 47,
   "id": "Oa2wa9wtytTW",
   "metadata": {
    "id": "Oa2wa9wtytTW"
   },
   "outputs": [
    {
     "data": {
      "text/plain": [
       "('sam', 1, 4, 2, 3, 1, 5, 'sam', 'sam')"
      ]
     },
     "execution_count": 47,
     "metadata": {},
     "output_type": "execute_result"
    }
   ],
   "source": [
    " tuple_9"
   ]
  },
  {
   "cell_type": "code",
   "execution_count": 50,
   "id": "aeb86dbb",
   "metadata": {},
   "outputs": [],
   "source": [
    "lst_tup = [('promise', 2345678571), ('peter', 9684736213), ('tommy', 2716486934), ('tammy', 2804703782)]"
   ]
  },
  {
   "cell_type": "code",
   "execution_count": 55,
   "id": "9583d365",
   "metadata": {},
   "outputs": [
    {
     "data": {
      "text/plain": [
       "2345678571"
      ]
     },
     "execution_count": 55,
     "metadata": {},
     "output_type": "execute_result"
    }
   ],
   "source": [
    "lst_tup[0][1]"
   ]
  },
  {
   "cell_type": "markdown",
   "id": "RYTZiSKPzTho",
   "metadata": {
    "id": "RYTZiSKPzTho"
   },
   "source": [
    "## Assignment\n",
    "\n",
    "Find and list out all the methods available for a tuple object."
   ]
  }
 ],
 "metadata": {
  "colab": {
   "provenance": []
  },
  "kernelspec": {
   "display_name": "Python 3 (ipykernel)",
   "language": "python",
   "name": "python3"
  },
  "language_info": {
   "codemirror_mode": {
    "name": "ipython",
    "version": 3
   },
   "file_extension": ".py",
   "mimetype": "text/x-python",
   "name": "python",
   "nbconvert_exporter": "python",
   "pygments_lexer": "ipython3",
   "version": "3.9.13"
  }
 },
 "nbformat": 4,
 "nbformat_minor": 5
}
