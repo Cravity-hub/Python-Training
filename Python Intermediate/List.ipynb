{
 "cells": [
  {
   "cell_type": "markdown",
   "id": "a5e328f3",
   "metadata": {
    "id": "a5e328f3"
   },
   "source": [
    "## List\n",
    "\n",
    "A list is a sequenced collection of different objects such as integers, strings, and even other lists as well\n",
    "\n",
    "- A list is represented by brackets, [ ].\n",
    "- It is mutable i.e the element within a list can be modified\n",
    "- An index is used to access and refer to items within a list.\n",
    "\n",
    "\n",
    "There are different ways of creating a list,\n",
    "\n",
    "You can either create an empty list and add all your items\n",
    "\n",
    "or \n",
    "\n",
    "You can type in all element of your list using the []\n"
   ]
  },
  {
   "cell_type": "code",
   "execution_count": 1,
   "id": "d3bec6e0",
   "metadata": {
    "colab": {
     "base_uri": "https://localhost:8080/"
    },
    "id": "d3bec6e0",
    "outputId": "07d34c53-cfd9-4b6c-e0a5-0bc380c7c687"
   },
   "outputs": [
    {
     "name": "stdout",
     "output_type": "stream",
     "text": [
      "[]\n",
      "[]\n"
     ]
    }
   ],
   "source": [
    "# to create an empty list\n",
    "list_1 = []\n",
    "\n",
    "list_2 = list()\n",
    "\n",
    "print(list_1)\n",
    "print(list_2)"
   ]
  },
  {
   "cell_type": "code",
   "execution_count": 3,
   "id": "80647e29",
   "metadata": {
    "colab": {
     "base_uri": "https://localhost:8080/"
    },
    "id": "80647e29",
    "outputId": "daf627f0-4c4d-466f-bb2e-dd4af93a6e1d"
   },
   "outputs": [
    {
     "data": {
      "text/plain": [
       "['Zacrac', 2019, 2.5, ['mango', 'banana'], 'grade']"
      ]
     },
     "execution_count": 3,
     "metadata": {},
     "output_type": "execute_result"
    }
   ],
   "source": [
    "# to create a List with elements within\n",
    "\n",
    "list_3 = [\"Zacrac\", 2019, 2.5, [\"mango\", \"banana\"], (\"grade\")]\n",
    "list_3"
   ]
  },
  {
   "cell_type": "code",
   "execution_count": 4,
   "id": "o6XyJ5GIaEDW",
   "metadata": {
    "colab": {
     "base_uri": "https://localhost:8080/",
     "height": 35
    },
    "id": "o6XyJ5GIaEDW",
    "outputId": "3a882b9f-a9ff-4ea1-b19d-1c61a9b80757"
   },
   "outputs": [
    {
     "data": {
      "text/plain": [
       "'banana'"
      ]
     },
     "execution_count": 4,
     "metadata": {},
     "output_type": "execute_result"
    }
   ],
   "source": [
    "list_3[-2][1]"
   ]
  },
  {
   "cell_type": "code",
   "execution_count": 39,
   "id": "gSOLyaS7d0iI",
   "metadata": {
    "colab": {
     "base_uri": "https://localhost:8080/"
    },
    "id": "gSOLyaS7d0iI",
    "outputId": "a2a57c4e-91be-471c-f1f2-a2d2be3d207b"
   },
   "outputs": [
    {
     "name": "stdout",
     "output_type": "stream",
     "text": [
      "['mango', 'banana', ['rice', 'yam', 2000, 1500]] \n",
      "\n",
      "['rice', 'yam', 2000, 1500] \n",
      "\n",
      "yam \n",
      "\n"
     ]
    }
   ],
   "source": [
    "list_4 = [\"Zacrac\", 2019, 2.5, [\"mango\", \"banana\", [\"rice\", \"yam\", 2000, 1500]], (\"grade\")]\n",
    "\n",
    "print(list_4[3], \"\\n\")\n",
    "\n",
    "print(list_4[3][2], \"\\n\")\n",
    "\n",
    "print(list_4[3][2][1], \"\\n\")"
   ]
  },
  {
   "cell_type": "code",
   "execution_count": null,
   "id": "yqyi7HVcebCQ",
   "metadata": {
    "id": "yqyi7HVcebCQ"
   },
   "outputs": [],
   "source": []
  },
  {
   "cell_type": "markdown",
   "id": "10780f75",
   "metadata": {
    "id": "10780f75"
   },
   "source": [
    "List can contain a string, an integer, a float, another list can be in a list and a tuple as seen above"
   ]
  },
  {
   "cell_type": "code",
   "execution_count": 6,
   "id": "4a459fcd",
   "metadata": {
    "colab": {
     "base_uri": "https://localhost:8080/"
    },
    "id": "4a459fcd",
    "outputId": "009e96ef-2d8c-4ab7-f82c-a22c038ba570"
   },
   "outputs": [
    {
     "data": {
      "text/plain": [
       "list"
      ]
     },
     "execution_count": 6,
     "metadata": {},
     "output_type": "execute_result"
    }
   ],
   "source": [
    "type(List_3[3])"
   ]
  },
  {
   "cell_type": "code",
   "execution_count": null,
   "id": "e7386ecf",
   "metadata": {
    "id": "e7386ecf",
    "outputId": "58f3f9fa-2255-4016-93df-a4e4fc063144"
   },
   "outputs": [
    {
     "name": "stdout",
     "output_type": "stream",
     "text": [
      "Element 1:\n",
      " positive index Zacrac \n",
      " Negative Index: Zacrac\n"
     ]
    }
   ],
   "source": [
    "#using positive and negative index to access the elements of a list\n",
    "\n",
    "print(\"Element 1:\\n positive index\", List_3[0], \"\\n Negative Index:\", List_3[-5])"
   ]
  },
  {
   "cell_type": "markdown",
   "id": "b4531c47",
   "metadata": {
    "id": "b4531c47"
   },
   "source": [
    "# Because list is mutable, we can change the elements in a list\n",
    "List_3[1] = 2022\n",
    "List_3"
   ]
  },
  {
   "cell_type": "code",
   "execution_count": 7,
   "id": "QVG7zidVkEqH",
   "metadata": {
    "colab": {
     "base_uri": "https://localhost:8080/"
    },
    "id": "QVG7zidVkEqH",
    "outputId": "48c20d67-7a26-4780-e4e5-21b4adeaa382"
   },
   "outputs": [
    {
     "data": {
      "text/plain": [
       "['Zacrac',\n",
       " 2019,\n",
       " 2.5,\n",
       " ['mango', 'banana', ['rice', 'yam', 2000, 1500]],\n",
       " 'grade']"
      ]
     },
     "execution_count": 7,
     "metadata": {},
     "output_type": "execute_result"
    }
   ],
   "source": [
    "list_4"
   ]
  },
  {
   "cell_type": "code",
   "execution_count": 8,
   "id": "FMiyQv4qkVFd",
   "metadata": {
    "colab": {
     "base_uri": "https://localhost:8080/"
    },
    "id": "FMiyQv4qkVFd",
    "outputId": "aa75628a-1063-4bfc-82a1-9b46cd59ec85"
   },
   "outputs": [
    {
     "name": "stdout",
     "output_type": "stream",
     "text": [
      "['Zacrac', 2019, 2.5, ['mango', 'banana', ['rice', 'cassava', 2000, 1500]], 'grade']\n"
     ]
    }
   ],
   "source": [
    "list_4[3][2][1] = \"cassava\"\n",
    "print(list_4)"
   ]
  },
  {
   "cell_type": "markdown",
   "id": "45195d67",
   "metadata": {},
   "source": [
    "### We can do multiple re-assignment of values with slicing. "
   ]
  },
  {
   "cell_type": "code",
   "execution_count": 10,
   "id": "144ebd97",
   "metadata": {},
   "outputs": [
    {
     "name": "stdout",
     "output_type": "stream",
     "text": [
      "['Zacrac', 2023, 5.0, ['mango', 'banana', ['rice', 'cassava', 2000, 1500]], 'grade']\n"
     ]
    }
   ],
   "source": [
    "list_4[1:3] = 2023,5.0\n",
    "\n",
    "\n",
    "print(list_4)"
   ]
  },
  {
   "cell_type": "markdown",
   "id": "61c7f433",
   "metadata": {
    "id": "19e249c1",
    "outputId": "3f112ef8-1d30-434a-acd3-ebe0d31352ee"
   },
   "source": [
    "## We can extract a part of a list using slicing\n",
    "\n",
    "List_3[3:6]"
   ]
  },
  {
   "cell_type": "code",
   "execution_count": 13,
   "id": "9ef054e4",
   "metadata": {
    "id": "9ef054e4",
    "outputId": "92f57707-01a7-4602-dfe7-03d0fefb021b"
   },
   "outputs": [
    {
     "data": {
      "text/plain": [
       "['Zacrac', 2019, 2.5, ['mango', 'banana'], 'grade']"
      ]
     },
     "execution_count": 13,
     "metadata": {},
     "output_type": "execute_result"
    }
   ],
   "source": [
    "#we can clone a list\n",
    "new_list = list_3[:]\n",
    "new_list"
   ]
  },
  {
   "cell_type": "code",
   "execution_count": 21,
   "id": "361f2098",
   "metadata": {},
   "outputs": [
    {
     "name": "stdout",
     "output_type": "stream",
     "text": [
      "[25, 28, 31, 34, 37, 40, 43, 46, 49, 52]\n"
     ]
    }
   ],
   "source": [
    "new_list = [x+5 for x in range(20,50,3)]\n",
    "\n",
    "print(new_list)"
   ]
  },
  {
   "cell_type": "code",
   "execution_count": 29,
   "id": "69653838",
   "metadata": {},
   "outputs": [
    {
     "name": "stdout",
     "output_type": "stream",
     "text": [
      "[25, 31, 37, 43, 49]\n"
     ]
    }
   ],
   "source": [
    "div_3 = [x+5 for x in range(20,50,3) if x%2==0]\n",
    "\n",
    "print(div_3)"
   ]
  },
  {
   "cell_type": "markdown",
   "id": "dc576d0b",
   "metadata": {
    "id": "dc576d0b"
   },
   "source": [
    "### List Methods\n",
    "\n",
    "\n",
    "#### append()\n",
    "the append method adds an element to the back of the last element in the list.\n",
    "\n",
    "    Syntax:\n",
    "        append(element)\n",
    "        \n",
    " for exeample:"
   ]
  },
  {
   "cell_type": "code",
   "execution_count": 24,
   "id": "0ab32453",
   "metadata": {
    "id": "0ab32453",
    "outputId": "ae9da95a-4fbf-40e7-f90f-7e79091d5c76"
   },
   "outputs": [
    {
     "data": {
      "text/plain": [
       "['Zacrac', 2019, 2.5, ['mango', 'banana', 'fruits'], 'grade']"
      ]
     },
     "execution_count": 24,
     "metadata": {},
     "output_type": "execute_result"
    }
   ],
   "source": [
    "list_3[3].append(\"fruits\")\n",
    "list_3"
   ]
  },
  {
   "cell_type": "markdown",
   "id": "88d617a6",
   "metadata": {
    "id": "88d617a6"
   },
   "source": [
    "#### pop()\n",
    "Removes the last element in a list, by default it removes one elements if a parameter is not passed in.\n",
    "\n",
    "for example:"
   ]
  },
  {
   "cell_type": "code",
   "execution_count": 25,
   "id": "ddcf7746",
   "metadata": {
    "id": "ddcf7746",
    "outputId": "f40278c5-a72c-494d-82e8-20b84b389c44"
   },
   "outputs": [
    {
     "name": "stdout",
     "output_type": "stream",
     "text": [
      "['Zacrac', 2019, 2.5, ['mango', 'banana', 'fruits'], 'grade']\n",
      "grade\n",
      "['Zacrac', 2019, 2.5, ['mango', 'banana', 'fruits']]\n"
     ]
    }
   ],
   "source": [
    "print(list_3)\n",
    "print(list_3.pop())\n",
    "print(list_3)"
   ]
  },
  {
   "cell_type": "code",
   "execution_count": 30,
   "id": "2f001896",
   "metadata": {
    "id": "2f001896",
    "outputId": "917c3b0b-18f6-45dd-8bf3-f4526ce50c4f"
   },
   "outputs": [
    {
     "data": {
      "text/plain": [
       "2.5"
      ]
     },
     "execution_count": 30,
     "metadata": {},
     "output_type": "execute_result"
    }
   ],
   "source": [
    "# lets pop the item on the second element\n",
    "list_3.pop(2)"
   ]
  },
  {
   "cell_type": "markdown",
   "id": "a965b11c",
   "metadata": {
    "id": "a965b11c"
   },
   "source": [
    "#### Remove()\n",
    "\n",
    "Removes an item by value, and unlike pop, remove does not return any item\n",
    "\n",
    "for example"
   ]
  },
  {
   "cell_type": "code",
   "execution_count": 31,
   "id": "2036a07a",
   "metadata": {
    "id": "2036a07a",
    "outputId": "81f6a3c6-3aa5-4239-852a-d79a09afe76c"
   },
   "outputs": [
    {
     "name": "stdout",
     "output_type": "stream",
     "text": [
      "None\n",
      "[1, 3, 4, 5]\n"
     ]
    }
   ],
   "source": [
    "my_list = [1,2,3,4,5]\n",
    "print(my_list.remove(2))\n",
    "print(my_list)"
   ]
  },
  {
   "cell_type": "code",
   "execution_count": 36,
   "id": "49c73142",
   "metadata": {},
   "outputs": [
    {
     "name": "stdout",
     "output_type": "stream",
     "text": [
      "['Zacrac', 2019, 2.5, ['mango', 'banana', ['rice', 'yam', 2000, 1500]], 'grade']\n"
     ]
    }
   ],
   "source": [
    "print(list_4)"
   ]
  },
  {
   "cell_type": "code",
   "execution_count": 37,
   "id": "5cc1f38e",
   "metadata": {},
   "outputs": [
    {
     "name": "stdout",
     "output_type": "stream",
     "text": [
      "[2019, 2.5, ['mango', 'banana', ['rice', 'yam', 2000, 1500]], 'grade']\n"
     ]
    }
   ],
   "source": [
    "list_4.remove(\"Zacrac\")\n",
    "print(list_4)"
   ]
  },
  {
   "cell_type": "markdown",
   "id": "9014f1cc",
   "metadata": {
    "id": "9014f1cc"
   },
   "source": [
    "#### Index()\n",
    "Use to find the index position of a value"
   ]
  },
  {
   "cell_type": "code",
   "execution_count": 44,
   "id": "0dc297b0",
   "metadata": {},
   "outputs": [
    {
     "name": "stdout",
     "output_type": "stream",
     "text": [
      "1\n",
      "grade\n"
     ]
    }
   ],
   "source": [
    "print(list_4[3][2].index(\"yam\"))  #index\n",
    "\n",
    "print(list_4[4])    #indexing"
   ]
  },
  {
   "cell_type": "code",
   "execution_count": null,
   "id": "a9306554",
   "metadata": {
    "id": "a9306554",
    "outputId": "2537e141-9810-40e3-845f-fdef568b9164"
   },
   "outputs": [
    {
     "name": "stdout",
     "output_type": "stream",
     "text": [
      "1\n"
     ]
    }
   ],
   "source": [
    "my_list = [1,2,3,4,5]\n",
    "print(my_list.index(2))"
   ]
  },
  {
   "cell_type": "markdown",
   "id": "e89bb63f",
   "metadata": {
    "id": "e89bb63f"
   },
   "source": [
    "#### Insert()\n",
    "\n",
    "We use the insert method to add to a particular position in a list\n",
    "\n",
    "        Syntax:\n",
    "            insert(index,value)\n",
    "For example:"
   ]
  },
  {
   "cell_type": "code",
   "execution_count": 45,
   "id": "8a1514b8",
   "metadata": {
    "id": "8a1514b8",
    "outputId": "40c2574d-9271-4817-9d29-a33ff1d0621c"
   },
   "outputs": [
    {
     "name": "stdout",
     "output_type": "stream",
     "text": [
      "[1, 2, 3, 'New', 4, 5]\n"
     ]
    }
   ],
   "source": [
    "my_list = [1,2,3,4,5]\n",
    "my_list.insert(3,\"New\")\n",
    "print(my_list)"
   ]
  },
  {
   "cell_type": "code",
   "execution_count": 36,
   "id": "ba55a083",
   "metadata": {},
   "outputs": [
    {
     "data": {
      "text/plain": [
       "['Zacrac',\n",
       " 2019,\n",
       " 2.5,\n",
       " ['mango', 'banana', ['rice', 'cassava', 2000, 1500]],\n",
       " 'grade']"
      ]
     },
     "execution_count": 36,
     "metadata": {},
     "output_type": "execute_result"
    }
   ],
   "source": [
    "#list_4.insert(0, 'Zacrac')\n",
    "#list_4.remove('Zacrac')\n",
    "list_4"
   ]
  },
  {
   "cell_type": "markdown",
   "id": "71100ae3",
   "metadata": {
    "id": "71100ae3"
   },
   "source": [
    "#### clear ()\n",
    "\n",
    "we can remove all elements in a list using the clear method\n",
    "\n",
    "for example:"
   ]
  },
  {
   "cell_type": "code",
   "execution_count": 37,
   "id": "71b9ac29",
   "metadata": {
    "id": "71b9ac29",
    "outputId": "e7860c87-a267-4039-ab44-474dcd75575e"
   },
   "outputs": [
    {
     "data": {
      "text/plain": [
       "[]"
      ]
     },
     "execution_count": 37,
     "metadata": {},
     "output_type": "execute_result"
    }
   ],
   "source": [
    "my_list = [1,2,3,4,5]\n",
    "my_list.clear()\n",
    "my_list"
   ]
  },
  {
   "cell_type": "markdown",
   "id": "3fba350b",
   "metadata": {
    "id": "3fba350b"
   },
   "source": [
    "#### sort()\n",
    "\n",
    "Helps to sort the elements in our list.\n",
    "\n",
    "for example:"
   ]
  },
  {
   "cell_type": "code",
   "execution_count": 47,
   "id": "b3a7c27d",
   "metadata": {
    "id": "b3a7c27d",
    "outputId": "3db55519-305a-4118-c39c-6165d2f978fc"
   },
   "outputs": [
    {
     "data": {
      "text/plain": [
       "[100, 90, 20, 5, 3]"
      ]
     },
     "execution_count": 47,
     "metadata": {},
     "output_type": "execute_result"
    }
   ],
   "source": [
    "my_list = [90,3,5,20,100]\n",
    "my_list.sort(reverse = True)\n",
    "my_list"
   ]
  },
  {
   "cell_type": "markdown",
   "id": "49eb175b",
   "metadata": {
    "id": "49eb175b"
   },
   "source": [
    "#### extend()\n",
    "\n",
    "\n",
    "We can use the method extend to add new elements to the list"
   ]
  },
  {
   "cell_type": "code",
   "execution_count": null,
   "id": "054e83c3",
   "metadata": {
    "id": "054e83c3",
    "outputId": "51bf09d7-6acd-4de1-e4a3-36c73969c77d"
   },
   "outputs": [
    {
     "data": {
      "text/plain": [
       "[1, 2, 3, 4, 5, 6, 7, 8]"
      ]
     },
     "execution_count": 37,
     "metadata": {},
     "output_type": "execute_result"
    }
   ],
   "source": [
    "my_list = [1,2,3,4]\n",
    "my_list.extend([5,6,7,8])\n",
    "my_list"
   ]
  },
  {
   "cell_type": "markdown",
   "id": "b837fc3c",
   "metadata": {
    "id": "d1f079ed"
   },
   "source": [
    "#### copy()\n",
    "\n",
    "returns a copy of the list"
   ]
  },
  {
   "cell_type": "code",
   "execution_count": 42,
   "id": "6018f9d3",
   "metadata": {},
   "outputs": [],
   "source": [
    "copy_list = my_list.copy()"
   ]
  },
  {
   "cell_type": "code",
   "execution_count": 43,
   "id": "54d86978",
   "metadata": {},
   "outputs": [
    {
     "data": {
      "text/plain": [
       "[100, 90, 20, 5, 3]"
      ]
     },
     "execution_count": 43,
     "metadata": {},
     "output_type": "execute_result"
    }
   ],
   "source": [
    "copy_list"
   ]
  },
  {
   "cell_type": "markdown",
   "id": "efc5b197",
   "metadata": {},
   "source": [
    "#### join()\n",
    "\n",
    "Join combines strings in a list."
   ]
  },
  {
   "cell_type": "code",
   "execution_count": 46,
   "id": "54734694",
   "metadata": {},
   "outputs": [
    {
     "data": {
      "text/plain": [
       "['Have', 'a', 'great', 'day!']"
      ]
     },
     "execution_count": 46,
     "metadata": {},
     "output_type": "execute_result"
    }
   ],
   "source": [
    "msg = ['Have', 'a', 'great', 'day!']\n",
    "msg"
   ]
  },
  {
   "cell_type": "code",
   "execution_count": 48,
   "id": "817e9480",
   "metadata": {},
   "outputs": [
    {
     "name": "stdout",
     "output_type": "stream",
     "text": [
      "Have a great day!\n"
     ]
    }
   ],
   "source": [
    "msg_str = \" \".join(msg)\n",
    "print(msg_str)"
   ]
  },
  {
   "cell_type": "markdown",
   "id": "cfb8f531",
   "metadata": {},
   "source": [
    "### Loop Through a List\n",
    "\n",
    "You can loop through items in a list by using a **for** loop."
   ]
  },
  {
   "cell_type": "code",
   "execution_count": 56,
   "id": "174840ba",
   "metadata": {},
   "outputs": [
    {
     "name": "stdout",
     "output_type": "stream",
     "text": [
      "Have a great day! "
     ]
    }
   ],
   "source": [
    "# to loop through the items in msg list\n",
    "\n",
    "for item in msg:\n",
    "    print(item, end= \" \")"
   ]
  },
  {
   "cell_type": "code",
   "execution_count": 64,
   "id": "31c04113",
   "metadata": {},
   "outputs": [
    {
     "name": "stdout",
     "output_type": "stream",
     "text": [
      "I love BANANA! BANANA is my best fruit.\n",
      "I love CHERRY! CHERRY is my best fruit.\n",
      "I love ORANGE! ORANGE is my best fruit.\n"
     ]
    }
   ],
   "source": [
    "for item in fruits:\n",
    "    if len(item) == 6:\n",
    "        print(\"I love {0}! {0} is my best fruit.\".format(item.upper()))"
   ]
  },
  {
   "cell_type": "code",
   "execution_count": 65,
   "id": "6744da26",
   "metadata": {},
   "outputs": [
    {
     "name": "stdout",
     "output_type": "stream",
     "text": [
      "I love BANANA! BANANA is my best fruit.\n"
     ]
    }
   ],
   "source": [
    "for item in fruits:\n",
    "    if item.count(\"a\") >= 2:\n",
    "        print(\"I love {0}! {0} is my best fruit.\".format(item.upper()))"
   ]
  },
  {
   "cell_type": "markdown",
   "id": "b99a119c",
   "metadata": {},
   "source": [
    "### Loop through the index numbers of lists"
   ]
  },
  {
   "cell_type": "code",
   "execution_count": 73,
   "id": "c332c068",
   "metadata": {},
   "outputs": [
    {
     "name": "stdout",
     "output_type": "stream",
     "text": [
      "0 1 2 3 4 5 "
     ]
    }
   ],
   "source": [
    "for x in range(len(fruits)):\n",
    "    print(x, end= \" \")"
   ]
  },
  {
   "cell_type": "markdown",
   "id": "755d5a8c",
   "metadata": {},
   "source": [
    "### List Comprehension\n",
    "\n",
    "List comprehension is a faster way of creating a new list based on the values of an existing list."
   ]
  },
  {
   "cell_type": "code",
   "execution_count": 57,
   "id": "7adf6c14",
   "metadata": {},
   "outputs": [],
   "source": [
    "fruits = ['apple', 'banana', 'cherry', 'orange', 'mango', 'coconut']"
   ]
  },
  {
   "cell_type": "code",
   "execution_count": 77,
   "id": "62a77889",
   "metadata": {},
   "outputs": [
    {
     "name": "stdout",
     "output_type": "stream",
     "text": [
      "These fruits contain the letter A\n",
      "['banana', 'orange']\n"
     ]
    }
   ],
   "source": [
    "# without list comprehension\n",
    "\n",
    "a_fruits = []\n",
    "\n",
    "# write a for loop to check fruits with letter a\n",
    "\n",
    "for item in fruits:\n",
    "    if \"a\" in item and len(item) >=6:\n",
    "        a_fruits.append(item)\n",
    "        \n",
    "print(\"These fruits contain the letter A\")\n",
    "print(a_fruits)"
   ]
  },
  {
   "cell_type": "markdown",
   "id": "90201ba3",
   "metadata": {},
   "source": [
    "#### breakdown of list comprehension\n",
    "\n",
    "new_list = [|*action*|  |*for loop*|    |*condition*|]"
   ]
  },
  {
   "cell_type": "code",
   "execution_count": 79,
   "id": "a4d79d9b",
   "metadata": {},
   "outputs": [
    {
     "name": "stdout",
     "output_type": "stream",
     "text": [
      "['APPLE', 'BANANA', 'ORANGE', 'MANGO']\n"
     ]
    }
   ],
   "source": [
    "# with list comprehension\n",
    "\n",
    "lc_fruits = [item.upper() for item in fruits if \"a\" in item]\n",
    "\n",
    "print(lc_fruits)"
   ]
  }
 ],
 "metadata": {
  "colab": {
   "collapsed_sections": [],
   "provenance": []
  },
  "kernelspec": {
   "display_name": "Python 3 (ipykernel)",
   "language": "python",
   "name": "python3"
  },
  "language_info": {
   "codemirror_mode": {
    "name": "ipython",
    "version": 3
   },
   "file_extension": ".py",
   "mimetype": "text/x-python",
   "name": "python",
   "nbconvert_exporter": "python",
   "pygments_lexer": "ipython3",
   "version": "3.9.13"
  }
 },
 "nbformat": 4,
 "nbformat_minor": 5
}
