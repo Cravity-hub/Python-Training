{
 "cells": [
  {
   "cell_type": "markdown",
   "id": "25770c67",
   "metadata": {},
   "source": [
    "## Python's Built in data containers\n",
    "\n",
    "These are data types used to store sequence of data. \n",
    "\n",
    "1. lists\n",
    "2. tuples\n",
    "3. sets\n",
    "4. dictionaries"
   ]
  },
  {
   "cell_type": "code",
   "execution_count": 8,
   "id": "8a4f2cf4",
   "metadata": {},
   "outputs": [
    {
     "name": "stdout",
     "output_type": "stream",
     "text": [
      "Note: you may need to restart the kernel to use updated packages.\n"
     ]
    },
    {
     "name": "stderr",
     "output_type": "stream",
     "text": [
      "ERROR: You must give at least one requirement to install (see \"pip help install\")\n"
     ]
    }
   ],
   "source": [
    "pip install "
   ]
  },
  {
   "cell_type": "markdown",
   "id": "03ccd6c4",
   "metadata": {},
   "source": [
    "## Lists\n",
    "\n",
    "1. lists store any data type\n",
    "2. lists are mutable\n",
    "3. lists are indexed\n",
    "4. lists are ordered\n",
    "\n",
    "lists can be created using the list constructor or epmty suqare brackets []"
   ]
  },
  {
   "cell_type": "code",
   "execution_count": 4,
   "id": "b884337a",
   "metadata": {},
   "outputs": [
    {
     "name": "stdout",
     "output_type": "stream",
     "text": [
      "240 ns ± 36 ns per loop (mean ± std. dev. of 7 runs, 1000000 loops each)\n"
     ]
    }
   ],
   "source": [
    "\n",
    "\n",
    "empty_list = []\n",
    "\n",
    "my_list = list((2,3.5, False, 'Zacrac'))"
   ]
  },
  {
   "cell_type": "code",
   "execution_count": 5,
   "id": "1a1a930e",
   "metadata": {},
   "outputs": [
    {
     "data": {
      "text/plain": [
       "[2, 3, False, 'Zacrac']"
      ]
     },
     "execution_count": 5,
     "metadata": {},
     "output_type": "execute_result"
    }
   ],
   "source": [
    "my_list"
   ]
  },
  {
   "cell_type": "code",
   "execution_count": 15,
   "id": "da2cf664",
   "metadata": {},
   "outputs": [],
   "source": [
    "fruit_list = ['orange', 'mango', 'coconut', 'apple', 'pawpaw', 'banana']"
   ]
  },
  {
   "cell_type": "markdown",
   "id": "0155f15c",
   "metadata": {},
   "source": [
    "## List Methods"
   ]
  },
  {
   "cell_type": "markdown",
   "id": "e1d18f1c",
   "metadata": {},
   "source": [
    "### Append"
   ]
  },
  {
   "cell_type": "code",
   "execution_count": 16,
   "id": "55e0296a",
   "metadata": {},
   "outputs": [],
   "source": [
    "fruit_list.append(\"pineapple\")"
   ]
  },
  {
   "cell_type": "code",
   "execution_count": 17,
   "id": "09934599",
   "metadata": {},
   "outputs": [
    {
     "data": {
      "text/plain": [
       "['orange', 'mango', 'coconut', 'apple', 'pawpaw', 'banana', 'pineapple']"
      ]
     },
     "execution_count": 17,
     "metadata": {},
     "output_type": "execute_result"
    }
   ],
   "source": [
    "fruit_list"
   ]
  },
  {
   "cell_type": "markdown",
   "id": "22627a5f",
   "metadata": {},
   "source": [
    "## pop"
   ]
  },
  {
   "cell_type": "code",
   "execution_count": 18,
   "id": "0a302744",
   "metadata": {},
   "outputs": [
    {
     "data": {
      "text/plain": [
       "'pineapple'"
      ]
     },
     "execution_count": 18,
     "metadata": {},
     "output_type": "execute_result"
    }
   ],
   "source": [
    "fruit_list.pop()"
   ]
  },
  {
   "cell_type": "code",
   "execution_count": 19,
   "id": "f7f613a0",
   "metadata": {},
   "outputs": [
    {
     "data": {
      "text/plain": [
       "['orange', 'mango', 'coconut', 'apple', 'pawpaw', 'banana']"
      ]
     },
     "execution_count": 19,
     "metadata": {},
     "output_type": "execute_result"
    }
   ],
   "source": [
    "fruit_list"
   ]
  },
  {
   "cell_type": "markdown",
   "id": "9a9d0b19",
   "metadata": {},
   "source": [
    "### indexing and Slicing lists"
   ]
  },
  {
   "cell_type": "code",
   "execution_count": 20,
   "id": "91fbcf6f",
   "metadata": {},
   "outputs": [
    {
     "data": {
      "text/plain": [
       "'orange'"
      ]
     },
     "execution_count": 20,
     "metadata": {},
     "output_type": "execute_result"
    }
   ],
   "source": [
    "fruit_list[0]"
   ]
  },
  {
   "cell_type": "code",
   "execution_count": 22,
   "id": "318b47ed",
   "metadata": {},
   "outputs": [
    {
     "data": {
      "text/plain": [
       "'apple'"
      ]
     },
     "execution_count": 22,
     "metadata": {},
     "output_type": "execute_result"
    }
   ],
   "source": [
    "fruit_list[3]"
   ]
  },
  {
   "cell_type": "code",
   "execution_count": 24,
   "id": "c843d706",
   "metadata": {},
   "outputs": [
    {
     "data": {
      "text/plain": [
       "['mango', 'coconut', 'apple', 'pawpaw']"
      ]
     },
     "execution_count": 24,
     "metadata": {},
     "output_type": "execute_result"
    }
   ],
   "source": [
    "fruit_list[1:5]"
   ]
  },
  {
   "cell_type": "markdown",
   "id": "c815c706",
   "metadata": {},
   "source": [
    "### Join "
   ]
  },
  {
   "cell_type": "code",
   "execution_count": 27,
   "id": "6b19cff9",
   "metadata": {},
   "outputs": [
    {
     "data": {
      "text/plain": [
       "'orange and mango and coconut and apple and pawpaw and banana'"
      ]
     },
     "execution_count": 27,
     "metadata": {},
     "output_type": "execute_result"
    }
   ],
   "source": [
    "\" and \".join(fruit_list)"
   ]
  },
  {
   "cell_type": "code",
   "execution_count": null,
   "id": "c28dfa1f",
   "metadata": {},
   "outputs": [],
   "source": []
  }
 ],
 "metadata": {
  "kernelspec": {
   "display_name": "Python 3 (ipykernel)",
   "language": "python",
   "name": "python3"
  },
  "language_info": {
   "codemirror_mode": {
    "name": "ipython",
    "version": 3
   },
   "file_extension": ".py",
   "mimetype": "text/x-python",
   "name": "python",
   "nbconvert_exporter": "python",
   "pygments_lexer": "ipython3",
   "version": "3.9.13"
  }
 },
 "nbformat": 4,
 "nbformat_minor": 5
}
